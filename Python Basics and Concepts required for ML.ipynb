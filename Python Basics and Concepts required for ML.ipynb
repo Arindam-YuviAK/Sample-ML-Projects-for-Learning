{
 "cells": [
  {
   "cell_type": "markdown",
   "id": "84b9a1a8",
   "metadata": {},
   "source": [
    "# **Basic Things [Variables, DataTypes, eval()-function, help()]**"
   ]
  },
  {
   "cell_type": "code",
   "execution_count": 1,
   "id": "e0d0e447",
   "metadata": {},
   "outputs": [
    {
     "name": "stdout",
     "output_type": "stream",
     "text": [
      "<class 'int'>\n",
      "<class 'float'>\n",
      "<class 'str'>\n",
      "<class 'str'>\n",
      "<class 'bool'>\n",
      "<class 'str'>\n",
      "<class 'str'>\n",
      "<class 'int'>\n"
     ]
    }
   ],
   "source": [
    "# No need to define data type of variables in case of python, like we used to do in other languages\n",
    "\n",
    "x, y = 10, 1.12\n",
    "z = 'Single Quotes'\n",
    "a = \"Double Quotes\"\n",
    "b = True\n",
    "c = \"d\"\n",
    "d = 's'\n",
    "e = int(1.12)\n",
    "\n",
    "print (type(x), type(y), type(z), type(a), type(b), type(c), type(d), type(e), sep=\"\\n\")"
   ]
  },
  {
   "cell_type": "code",
   "execution_count": 2,
   "id": "028ed3b8",
   "metadata": {},
   "outputs": [
    {
     "name": "stdout",
     "output_type": "stream",
     "text": [
      "1)Result = 11.0\n",
      "2)Result = 30.0\n"
     ]
    }
   ],
   "source": [
    "# eval() function Evaluates a given argument and gives the output, the argument should be in String\n",
    "\n",
    "x = eval(\"10/2+3*2\")\n",
    "print(\"1)Result =\", x)\n",
    "\n",
    "y = \"10+5/2*8\"\n",
    "print(\"2)Result =\",eval(y))\n"
   ]
  },
  {
   "cell_type": "code",
   "execution_count": 4,
   "id": "c2d0076a",
   "metadata": {},
   "outputs": [
    {
     "name": "stdout",
     "output_type": "stream",
     "text": [
      "\n",
      "Welcome to Python 3.9's help utility!\n",
      "\n",
      "If this is your first time using Python, you should definitely check out\n",
      "the tutorial on the Internet at https://docs.python.org/3.9/tutorial/.\n",
      "\n",
      "Enter the name of any module, keyword, or topic to get help on writing\n",
      "Python programs and using Python modules.  To quit this help utility and\n",
      "return to the interpreter, just type \"quit\".\n",
      "\n",
      "To get a list of available modules, keywords, symbols, or topics, type\n",
      "\"modules\", \"keywords\", \"symbols\", or \"topics\".  Each module also comes\n",
      "with a one-line summary of what it does; to list the modules whose name\n",
      "or summary contain a given string such as \"spam\", type \"modules spam\".\n",
      "\n",
      "help> keywords\n",
      "\n",
      "Here is a list of the Python keywords.  Enter any keyword to get more help.\n",
      "\n",
      "False               break               for                 not\n",
      "None                class               from                or\n",
      "True                continue            global              pass\n",
      "__peg_parser__      def                 if                  raise\n",
      "and                 del                 import              return\n",
      "as                  elif                in                  try\n",
      "assert              else                is                  while\n",
      "async               except              lambda              with\n",
      "await               finally             nonlocal            yield\n",
      "\n",
      "help> \n",
      "\n",
      "You are now leaving help and returning to the Python interpreter.\n",
      "If you want to ask for help on a particular object directly from the\n",
      "interpreter, you can type \"help(object)\".  Executing \"help('string')\"\n",
      "has the same effect as typing a particular string at the help> prompt.\n"
     ]
    }
   ],
   "source": [
    "# help() function helps you get info on anything you require on python , just type help() in shell, you will bw guided accordingly\n",
    "\n",
    "help()"
   ]
  },
  {
   "cell_type": "markdown",
   "id": "96256255",
   "metadata": {},
   "source": [
    "# **Input and Printing Statements**\n",
    "\n"
   ]
  },
  {
   "cell_type": "code",
   "execution_count": 5,
   "id": "0078773b",
   "metadata": {},
   "outputs": [
    {
     "name": "stdout",
     "output_type": "stream",
     "text": [
      "Hello Guys! Welcome To The Class\n",
      "Let us Say :  143 is my Number\n",
      "Printing Sequence Type-1 = Text_1 --- Text_2\n",
      "Printing Sequence Type-2 = Text-1 --- Text-2\n"
     ]
    }
   ],
   "source": [
    "#Printing Statements -1\n",
    "a = \"Welcome To The Class\"\n",
    "print(\"Hello Guys!\", a)\n",
    "\n",
    "#Printing Statements -2\n",
    "b = 143\n",
    "print(\"Let us Say : \", end=\" \")\n",
    "print(b, 'is my Number')\n",
    "\n",
    "#Printing Statements -3\n",
    "print(\"Printing Sequence Type-1 = {} --- {}\".format(\"Text_1\",\"Text_2\"))\n",
    "\n",
    "#Printing Statements -4\n",
    "x = \"Text-1\"\n",
    "y = \"Text-2\"\n",
    "print(f\"Printing Sequence Type-2 = {x} --- {y}\")"
   ]
  },
  {
   "cell_type": "code",
   "execution_count": 6,
   "id": "7e962ccc",
   "metadata": {},
   "outputs": [
    {
     "name": "stdout",
     "output_type": "stream",
     "text": [
      "1)Enter Anything : Hellp py\n",
      "Input =  Hellp py ; Type : <class 'str'>\n",
      "\n",
      "2)Enter Any Number : 87\n",
      "Input =  87 ; Type : <class 'int'>\n"
     ]
    }
   ],
   "source": [
    "# By default Input is taken is String format, \n",
    "# so if we require input in any other format we need to change its type - by eval() or explicit conversion\n",
    "\n",
    "a = input(\"1)Enter Anything : \")\n",
    "print(\"Input = \", a, \"; Type :\", type(a))\n",
    "\n",
    "b = eval(input(\"\\n2)Enter Any Number : \"))\n",
    "print(\"Input = \", b, \"; Type :\", type(b))"
   ]
  },
  {
   "cell_type": "markdown",
   "id": "ed8814fd",
   "metadata": {},
   "source": [
    "# **Random Function**"
   ]
  },
  {
   "cell_type": "code",
   "execution_count": 7,
   "id": "f8fd4ca6",
   "metadata": {},
   "outputs": [
    {
     "name": "stdout",
     "output_type": "stream",
     "text": [
      "Choice 1 : 1\n",
      "Choice 2 : 2\n",
      "Choice 3 : 0.2646853835892383\n"
     ]
    }
   ],
   "source": [
    "# Lets understand by a Dice Game : Lets see what you get\n",
    "import random as rd\n",
    "choice = rd.randrange(1,6+1) # range is from 1 to 6\n",
    "choice2 = rd.randint(1,6) # range is from 1 to 6\n",
    "choice3 = rd.random() # gives any random number between 0 and 1 in float \n",
    "print(\"Choice 1 :\", choice)\n",
    "print(\"Choice 2 :\", choice2)\n",
    "print(\"Choice 3 :\", choice3)\n"
   ]
  },
  {
   "cell_type": "markdown",
   "id": "f71035f2",
   "metadata": {},
   "source": [
    "# **Set, List, Tuple, Dictionary**"
   ]
  },
  {
   "cell_type": "code",
   "execution_count": 8,
   "id": "80b69d9e",
   "metadata": {},
   "outputs": [
    {
     "name": "stdout",
     "output_type": "stream",
     "text": [
      "['1', 2, 'NAMES', 11, 1.2, 2, 654, 55.3, 'h', 'Hello']\n",
      "['NAMES', 1.2]\n",
      "['1', 2, 'NAMES', 11]\n",
      "[654, 55.3, 'h', 'Hello']\n",
      "[2, 654, 55.3]\n",
      "['1', 2, 'NAMES', 11, 1.2, 2, 654, 55.3, 'h', 'Hello', 'NEW']\n",
      "['1', 2, 'NAMES', 1.2, 2, 654, 55.3, 'h', 'Hello', 'NEW']\n",
      "['1', 2, 'NAMES', 1.2, 2, 654, 55.3, 'Hello', 'NEW']\n",
      "[[1, 2, 3], [4, 5], ['sdfgh']]\n"
     ]
    }
   ],
   "source": [
    "# List (Indexing : 0 onwards LHS, -1 onwards RHS)\n",
    "# Mutable, Different Data types allowed in same list\n",
    "\n",
    "LIST = ['1', 2, \"NAMES\", 11, 1.2, 2, 654, 55.3, 'h', 'Hello']\n",
    "print(LIST)\n",
    "print(LIST[2:6:2]) # index 2 to 5, jump=2\n",
    "print(LIST[:4]) # index 0 to 3\n",
    "print(LIST[6:]) # index 6 to last\n",
    "print(LIST[-5:-2]) # index reverse -5 to -3\n",
    "\n",
    "LIST.append(\"NEW\") # adding new element in list\n",
    "print(LIST)\n",
    "\n",
    "LIST.pop(3) # deleting element in list by index\n",
    "print(LIST)\n",
    "\n",
    "LIST.remove('h') # deleting element in list by item\n",
    "print(LIST)\n",
    "\n",
    "NestedList = [[1,2,3],[4,5],['sdfgh']]\n",
    "print(NestedList)"
   ]
  },
  {
   "cell_type": "code",
   "execution_count": 9,
   "id": "321d5440",
   "metadata": {},
   "outputs": [
    {
     "name": "stdout",
     "output_type": "stream",
     "text": [
      "<class 'set'>\n",
      "{'c', 'b', 'a'}\n",
      "{'c', 'b', 'a', 'd'}\n",
      "\n",
      "__Next__\n",
      "\n",
      "Normal Set\n",
      "{'c', 'b', 'a'}\n",
      "\n",
      "Frozen Set\n",
      "frozenset({'f', 'e', 'g'})\n",
      "\n",
      "__Next__\n",
      "\n"
     ]
    }
   ],
   "source": [
    "# Set are represented by { } (values enclosed in curly braces)\n",
    "\n",
    "var = {\"Geeks\", \"for\", \"Geeks\"}\n",
    "print(type(var))\n",
    "\n",
    "# typecasting list to set\n",
    "myset = set([\"a\", \"b\", \"c\"])\n",
    "print(myset)\n",
    "\n",
    "# Adding element to the set\n",
    "myset.add(\"d\")\n",
    "print(myset)\n",
    "\n",
    "print(\"\\n__Next__\\n\")\n",
    "\n",
    "# Python program to demonstrate differences\n",
    "# between normal and frozen set\n",
    "\n",
    "# Same as {\"a\", \"b\",\"c\"}\n",
    "normal_set = set([\"a\", \"b\",\"c\"])\n",
    "\n",
    "print(\"Normal Set\")\n",
    "print(normal_set)\n",
    "\n",
    "# A frozen set\n",
    "frozen_set = frozenset([\"e\", \"f\", \"g\"])\n",
    "\n",
    "print(\"\\nFrozen Set\")\n",
    "print(frozen_set) # Uncommenting this line would cause error as we are trying to add element to a frozen set : frozen_set.add(\"h\")\n",
    "\n",
    "print(\"\\n__Next__\\n\")\n",
    "\n",
    "\n"
   ]
  },
  {
   "cell_type": "code",
   "execution_count": 10,
   "id": "8298d6ca",
   "metadata": {},
   "outputs": [
    {
     "name": "stdout",
     "output_type": "stream",
     "text": [
      "('1', 2, 'NAMES', 11, 1.2, 2, 654, 55.3, 'h', 'Hello')\n",
      "('NAMES', 11)\n",
      "('1', 2, 'NAMES', 11)\n",
      "(654, 55.3, 'h', 'Hello')\n",
      "(2, 654, 55.3)\n"
     ]
    }
   ],
   "source": [
    "# Tuple (Indexing : 0 onwards LHS, -1 onwards RHS)\n",
    "# Imutable, Different Data types allowed in same Tuple\n",
    "\n",
    "TUP = ('1', 2, \"NAMES\", 11, 1.2, 2, 654, 55.3, 'h', 'Hello')\n",
    "print(TUP)\n",
    "print(TUP[2:4]) # index 2 to 3\n",
    "print(TUP[:4]) # index 0 to 3\n",
    "print(TUP[6:]) # index 6 to last\n",
    "print(TUP[-5:-2]) # index reverse -5 to -3\n"
   ]
  },
  {
   "cell_type": "code",
   "execution_count": 11,
   "id": "a69bdf95",
   "metadata": {},
   "outputs": [
    {
     "name": "stdout",
     "output_type": "stream",
     "text": [
      "{1: 'A', 2: 'B', 3: 'C'}\n",
      "dict_keys([1, 2, 3])\n",
      "B\n",
      "C\n",
      "{1: 'A', 3: 'C'}\n",
      "{1: 'A', 3: 'C', 4: 'NEW'}\n",
      "{1: [['Name', 'age', 21011], [1, 2, 334]], 2: [1, 3]}\n"
     ]
    }
   ],
   "source": [
    "# Dictionary (Key-Value Pair)\n",
    "\n",
    "Dt = {1:\"A\", 2:\"B\", 3:\"C\"}\n",
    "print(Dt)\n",
    "\n",
    "print(Dt.keys()) # get keys\n",
    "\n",
    "print(Dt[2]) # print value via key\n",
    "print(Dt.get(3))\n",
    "\n",
    "Dt.pop(2) # delete key\n",
    "print(Dt)\n",
    "\n",
    "Dt.update({4: \"NEW\"}) # add new key-pair value\n",
    "print(Dt)\n",
    "\n",
    "ND = {1:[[\"Name\",\"age\",21011],[1,2,334]],2:[1,3]}\n",
    "print(ND)"
   ]
  },
  {
   "cell_type": "markdown",
   "id": "0d785eba",
   "metadata": {},
   "source": [
    "# **Loops in Python**"
   ]
  },
  {
   "cell_type": "code",
   "execution_count": 14,
   "id": "5e90d038",
   "metadata": {},
   "outputs": [
    {
     "name": "stdout",
     "output_type": "stream",
     "text": [
      "1  2  3  4  5  6  7  8  9  \n",
      "__Next__\n",
      "1  3  5  7  9  \n",
      "__Next__\n",
      "1  2  NAMES  11  1.2  2  654  55.3  h  Hello  \n",
      "__Next__\n",
      "1  2  NAMES  11  1.2  2  654  55.3  h  Hello  "
     ]
    }
   ],
   "source": [
    "# for - Loop\n",
    "\n",
    "LIST = ['1', 2, \"NAMES\", 11, 1.2, 2, 654, 55.3, 'h', 'Hello']  # Considering this List for an example\n",
    "TUP = ('1', 2, \"NAMES\", 11, 1.2, 2, 654, 55.3, 'h', 'Hello')   # Considering this Tuple for an example\n",
    "\n",
    "for i in range(1, 10):\n",
    "  print(i, end=\"  \")\n",
    "\n",
    "print(\"\\n__Next__\")\n",
    "\n",
    "for i in range (1, 10, 2):\n",
    "  print(i, end=\"  \")\n",
    "\n",
    "print(\"\\n__Next__\")\n",
    "\n",
    "for i in LIST:\n",
    "  print(i, end=\"  \")\n",
    "\n",
    "print(\"\\n__Next__\")\n",
    "\n",
    "for i in TUP:\n",
    "  print(i, end=\"  \")"
   ]
  },
  {
   "cell_type": "code",
   "execution_count": 15,
   "id": "1ddba27b",
   "metadata": {},
   "outputs": [
    {
     "name": "stdout",
     "output_type": "stream",
     "text": [
      "1  2  3  4  5  6  7  8  9  10  \n",
      "__Next__\n",
      "2  4  6  8  10  12  14  16  18  20  -11  -12  -13  -14  -15  -16  -17  -18  -19  -20  "
     ]
    }
   ],
   "source": [
    "# while - Loop\n",
    "\n",
    "i=1\n",
    "while (i<=10):\n",
    "  print(i, end=\"  \")\n",
    "  i+=1\n",
    "\n",
    "print(\"\\n__Next__\")\n",
    "\n",
    "j=1\n",
    "while(True):\n",
    "  if(j<=10):\n",
    "    print(j*2, end=\"  \")\n",
    "  elif(j>10 and j<=20):\n",
    "    print(j*-1, end=\"  \")\n",
    "  else:\n",
    "    break\n",
    "  j+=1"
   ]
  },
  {
   "cell_type": "markdown",
   "id": "4bbd201e",
   "metadata": {},
   "source": [
    "# **File Management** \n"
   ]
  },
  {
   "cell_type": "code",
   "execution_count": 18,
   "id": "925ec77e",
   "metadata": {},
   "outputs": [
    {
     "name": "stdout",
     "output_type": "stream",
     "text": [
      "The Rise of Artificial Intelligence: Reshaping Our World\n",
      "\n",
      "\n",
      "\n",
      "In the ever-evolving landscape of technology, one field stands out as a true game-changer: Artificial Intelligence (AI). Once confined to the realms of science fiction, AI has rapidly transitioned into a transformative force, reshaping industries and revolutionizing the way we live and work.\n",
      "\n",
      "\n",
      "\n",
      "The impact of AI is already evident across various sectors. In healthcare, intelligent systems are aiding in disease diagnosis, drug discovery, and personalized treatment plans. According to a report by Accenture, AI applications in healthcare could potentially create an annual savings of $150 billion by 2026 for the U.S. healthcare economy alone.\n",
      "\n",
      "\n",
      "\n",
      "Education is another domain where AI is making significant strides. Adaptive learning platforms powered by AI algorithms can tailor educational content and teaching methods to individual students' needs and learning styles. A study by the Massachusetts Institute of Technology (MIT) revealed that students taught using AI-enabled personalized learning methods achieved a remarkable 16% improvement in test scores compared to traditional teaching methods.\n",
      "\n",
      "\n",
      "\n",
      "The field of finance and banking is also experiencing a seismic shift due to AI. Machine learning algorithms are being employed for fraud detection, risk assessment, and predictive analytics. JPMorgan Chase, a leading financial institution, has reported saving an astonishing 360,000 hours of human labor annually through the implementation of AI-powered contract analysis tools.\n",
      "\n",
      "\n",
      "\n",
      "AI's impact extends far beyond these sectors. In transportation, self-driving cars powered by AI are poised to revolutionize mobility, promising increased safety and efficiency. The global autonomous vehicle market is projected to reach a staggering $557 billion by 2026, according to a report by Allied Market Research.\n",
      "\n",
      "\n",
      "\n",
      "Despite these remarkable advancements, the rise of AI is not without its challenges. Ethical concerns surrounding privacy, bias, and job displacement are topics of ongoing debate. However, with responsible development and appropriate governance frameworks, AI holds the potential to address some of humanity's greatest challenges, from climate change to disease eradication.\n",
      "\n",
      "\n",
      "\n",
      "As we navigate this era of unprecedented technological disruption, one thing is certain: AI is not just a passing trend but a transformative force that will continue to reshape our world in ways we can scarcely imagine. Embracing AI responsibly and harnessing its potential will be crucial for individuals, businesses, and societies to thrive in the years to come.\n",
      "\n",
      "__Next__\n"
     ]
    }
   ],
   "source": [
    "# a file named \"New\", will be opened with the reading mode.\n",
    "file = open('New.txt', 'r')\n",
    "# This will print every line one by one in the file\n",
    "for each in file:\n",
    "    print (each)\n",
    "\n",
    "print(\"\\n__Next__\")\n",
    "\n"
   ]
  },
  {
   "cell_type": "code",
   "execution_count": 19,
   "id": "ee400dba",
   "metadata": {},
   "outputs": [
    {
     "name": "stdout",
     "output_type": "stream",
     "text": [
      "The Rise of Artificial Intelligence: Reshaping Our World\n",
      "\n",
      "In the ever-evolving landscape of technology, one field stands out as a true game-changer: Artificial Intelligence (AI). Once confined to the realms of science fiction, AI has rapidly transitioned into a transformative force, reshaping industries and revolutionizing the way we live and work.\n",
      "\n",
      "The impact of AI is already evident across various sectors. In healthcare, intelligent systems are aiding in disease diagnosis, drug discovery, and personalized treatment plans. According to a report by Accenture, AI applications in healthcare could potentially create an annual savings of $150 billion by 2026 for the U.S. healthcare economy alone.\n",
      "\n",
      "Education is another domain where AI is making significant strides. Adaptive learning platforms powered by AI algorithms can tailor educational content and teaching methods to individual students' needs and learning styles. A study by the Massachusetts Institute of Technology (MIT) revealed that students taught using AI-enabled personalized learning methods achieved a remarkable 16% improvement in test scores compared to traditional teaching methods.\n",
      "\n",
      "The field of finance and banking is also experiencing a seismic shift due to AI. Machine learning algorithms are being employed for fraud detection, risk assessment, and predictive analytics. JPMorgan Chase, a leading financial institution, has reported saving an astonishing 360,000 hours of human labor annually through the implementation of AI-powered contract analysis tools.\n",
      "\n",
      "AI's impact extends far beyond these sectors. In transportation, self-driving cars powered by AI are poised to revolutionize mobility, promising increased safety and efficiency. The global autonomous vehicle market is projected to reach a staggering $557 billion by 2026, according to a report by Allied Market Research.\n",
      "\n",
      "Despite these remarkable advancements, the rise of AI is not without its challenges. Ethical concerns surrounding privacy, bias, and job displacement are topics of ongoing debate. However, with responsible development and appropriate governance frameworks, AI holds the potential to address some of humanity's greatest challenges, from climate change to disease eradication.\n",
      "\n",
      "As we navigate this era of unprecedented technological disruption, one thing is certain: AI is not just a passing trend but a transformative force that will continue to reshape our world in ways we can scarcely imagine. Embracing AI responsibly and harnessing its potential will be crucial for individuals, businesses, and societies to thrive in the years to come.\n",
      "\n",
      "__Next__\n"
     ]
    }
   ],
   "source": [
    "# Python code to illustrate read() mode\n",
    "file = open(\"New.txt\", \"r\")\n",
    "print (file.read())\n",
    "\n",
    "print(\"\\n__Next__\")"
   ]
  },
  {
   "cell_type": "code",
   "execution_count": 20,
   "id": "3cda3a1a",
   "metadata": {},
   "outputs": [
    {
     "name": "stdout",
     "output_type": "stream",
     "text": [
      "\n",
      "__Next__\n"
     ]
    }
   ],
   "source": [
    "# Python code to create a file\n",
    "file = open('New2.txt','w')\n",
    "file.write(\"This is the write command\")\n",
    "file.write(\"It allows us to write in a particular file\")\n",
    "file.close()\n",
    "\n",
    "print(\"\\n__Next__\")"
   ]
  },
  {
   "cell_type": "code",
   "execution_count": 21,
   "id": "68b3f6a8",
   "metadata": {},
   "outputs": [
    {
     "name": "stdout",
     "output_type": "stream",
     "text": [
      "['The', 'Rise', 'of', 'Artificial', 'Intelligence:', 'Reshaping', 'Our', 'World']\n",
      "[]\n",
      "['In', 'the', 'ever-evolving', 'landscape', 'of', 'technology,', 'one', 'field', 'stands', 'out', 'as', 'a', 'true', 'game-changer:', 'Artificial', 'Intelligence', '(AI).', 'Once', 'confined', 'to', 'the', 'realms', 'of', 'science', 'fiction,', 'AI', 'has', 'rapidly', 'transitioned', 'into', 'a', 'transformative', 'force,', 'reshaping', 'industries', 'and', 'revolutionizing', 'the', 'way', 'we', 'live', 'and', 'work.']\n",
      "[]\n",
      "['The', 'impact', 'of', 'AI', 'is', 'already', 'evident', 'across', 'various', 'sectors.', 'In', 'healthcare,', 'intelligent', 'systems', 'are', 'aiding', 'in', 'disease', 'diagnosis,', 'drug', 'discovery,', 'and', 'personalized', 'treatment', 'plans.', 'According', 'to', 'a', 'report', 'by', 'Accenture,', 'AI', 'applications', 'in', 'healthcare', 'could', 'potentially', 'create', 'an', 'annual', 'savings', 'of', '$150', 'billion', 'by', '2026', 'for', 'the', 'U.S.', 'healthcare', 'economy', 'alone.']\n",
      "[]\n",
      "['Education', 'is', 'another', 'domain', 'where', 'AI', 'is', 'making', 'significant', 'strides.', 'Adaptive', 'learning', 'platforms', 'powered', 'by', 'AI', 'algorithms', 'can', 'tailor', 'educational', 'content', 'and', 'teaching', 'methods', 'to', 'individual', \"students'\", 'needs', 'and', 'learning', 'styles.', 'A', 'study', 'by', 'the', 'Massachusetts', 'Institute', 'of', 'Technology', '(MIT)', 'revealed', 'that', 'students', 'taught', 'using', 'AI-enabled', 'personalized', 'learning', 'methods', 'achieved', 'a', 'remarkable', '16%', 'improvement', 'in', 'test', 'scores', 'compared', 'to', 'traditional', 'teaching', 'methods.']\n",
      "[]\n",
      "['The', 'field', 'of', 'finance', 'and', 'banking', 'is', 'also', 'experiencing', 'a', 'seismic', 'shift', 'due', 'to', 'AI.', 'Machine', 'learning', 'algorithms', 'are', 'being', 'employed', 'for', 'fraud', 'detection,', 'risk', 'assessment,', 'and', 'predictive', 'analytics.', 'JPMorgan', 'Chase,', 'a', 'leading', 'financial', 'institution,', 'has', 'reported', 'saving', 'an', 'astonishing', '360,000', 'hours', 'of', 'human', 'labor', 'annually', 'through', 'the', 'implementation', 'of', 'AI-powered', 'contract', 'analysis', 'tools.']\n",
      "[]\n",
      "[\"AI's\", 'impact', 'extends', 'far', 'beyond', 'these', 'sectors.', 'In', 'transportation,', 'self-driving', 'cars', 'powered', 'by', 'AI', 'are', 'poised', 'to', 'revolutionize', 'mobility,', 'promising', 'increased', 'safety', 'and', 'efficiency.', 'The', 'global', 'autonomous', 'vehicle', 'market', 'is', 'projected', 'to', 'reach', 'a', 'staggering', '$557', 'billion', 'by', '2026,', 'according', 'to', 'a', 'report', 'by', 'Allied', 'Market', 'Research.']\n",
      "[]\n",
      "['Despite', 'these', 'remarkable', 'advancements,', 'the', 'rise', 'of', 'AI', 'is', 'not', 'without', 'its', 'challenges.', 'Ethical', 'concerns', 'surrounding', 'privacy,', 'bias,', 'and', 'job', 'displacement', 'are', 'topics', 'of', 'ongoing', 'debate.', 'However,', 'with', 'responsible', 'development', 'and', 'appropriate', 'governance', 'frameworks,', 'AI', 'holds', 'the', 'potential', 'to', 'address', 'some', 'of', \"humanity's\", 'greatest', 'challenges,', 'from', 'climate', 'change', 'to', 'disease', 'eradication.']\n",
      "[]\n",
      "['As', 'we', 'navigate', 'this', 'era', 'of', 'unprecedented', 'technological', 'disruption,', 'one', 'thing', 'is', 'certain:', 'AI', 'is', 'not', 'just', 'a', 'passing', 'trend', 'but', 'a', 'transformative', 'force', 'that', 'will', 'continue', 'to', 'reshape', 'our', 'world', 'in', 'ways', 'we', 'can', 'scarcely', 'imagine.', 'Embracing', 'AI', 'responsibly', 'and', 'harnessing', 'its', 'potential', 'will', 'be', 'crucial', 'for', 'individuals,', 'businesses,', 'and', 'societies', 'to', 'thrive', 'in', 'the', 'years', 'to', 'come.']\n"
     ]
    }
   ],
   "source": [
    "# Python code to illustrate split() function\n",
    "with open(\"New.txt\", \"r\") as file:\n",
    "    data = file.readlines()\n",
    "    for line in data:\n",
    "        word = line.split()\n",
    "        print (word)"
   ]
  },
  {
   "cell_type": "code",
   "execution_count": 23,
   "id": "5d9146cc",
   "metadata": {},
   "outputs": [
    {
     "name": "stdout",
     "output_type": "stream",
     "text": [
      "Welcome to The Classes! \n",
      "Welcome to This Room! \n",
      "Welcome to The World!\n",
      "['Welcome to The Classes! \\n', 'Welcome to This Room! \\n', 'Welcome to The World!']\n"
     ]
    }
   ],
   "source": [
    "# 'r' read mode, 'w' write mode\n",
    "\n",
    "f = open(\"test.txt\",\"w\") # opens a file in write mode, if file dosen't exist it creates the file\n",
    "\n",
    "f.write(\"Welcome to The Classes! \\n\") # writes the follwing contents into the file.\n",
    "f.write(\"Welcome to This Room! \\n\")\n",
    "f.write(\"Welcome to The World!\")\n",
    "\n",
    "f.close() # close the file after all your work (it's a good approach)\n",
    "\n",
    "f = open(\"test.txt\",\"r\") # opens a file in read mode\n",
    "print(f.read()) # reads the contents of the file\n",
    "f.close()\n",
    "\n",
    "f = open(\"test.txt\",\"r\")\n",
    "print(f.readlines()) # reads the contents of the file line by line, and stores in a list\n",
    "f.close()"
   ]
  },
  {
   "cell_type": "code",
   "execution_count": 24,
   "id": "6c0c55ae",
   "metadata": {},
   "outputs": [
    {
     "name": "stdout",
     "output_type": "stream",
     "text": [
      "['Welcome', 'to', 'The', 'Classes!']\n",
      "['Welcome', 'to', 'This', 'Room!']\n",
      "['Welcome', 'to', 'The', 'World!']\n"
     ]
    }
   ],
   "source": [
    "# Python code to illustrate split() function\n",
    "with open(\"test.txt\", \"r\") as file:\n",
    "    data = file.readlines()\n",
    "    for line in data:\n",
    "        word = line.split()\n",
    "        print (word)"
   ]
  },
  {
   "cell_type": "code",
   "execution_count": 25,
   "id": "a87210a2",
   "metadata": {},
   "outputs": [
    {
     "name": "stdout",
     "output_type": "stream",
     "text": [
      "Data_1\n",
      "Data_2\n",
      "Data_3\n",
      "Data_4\n"
     ]
    }
   ],
   "source": [
    "# for binary file formats (mostly required for saving and loading trained model file)\n",
    "# <just required to know how to save and load contents in a binary file>\n",
    "# (filename.extention) 'extention' can be anything of your choice, any type as you like (just for this kind of case)\n",
    "\n",
    "import pickle # module required for binary file handling\n",
    "\n",
    "model = [\"Data_1\", \"Data_2\", \"Data_3\", \"Data_4\"]\n",
    "\n",
    "filename = 'File_Binary.train'\n",
    "\n",
    "pickle.dump(model, open(filename,'wb')) #saving the file in binary file format\n",
    "loadMODEL = pickle.load(open('File_Binary.train','rb')) #loading the binary file\n",
    "\n",
    "for i in loadMODEL: #after loading the file printing its contents\n",
    "  print(i)"
   ]
  },
  {
   "cell_type": "markdown",
   "id": "27922b48",
   "metadata": {},
   "source": [
    "________________________\n",
    "________________________\n",
    "\n",
    "# **Functions**"
   ]
  },
  {
   "cell_type": "code",
   "execution_count": 26,
   "id": "676d8e4e",
   "metadata": {},
   "outputs": [
    {
     "name": "stdout",
     "output_type": "stream",
     "text": [
      "Hello\n"
     ]
    }
   ],
   "source": [
    "# def - keyword, is used to define a function\n",
    "\n",
    "def func(): # defining a function named 'func'\n",
    "    print(\"Hello\")\n",
    "\n",
    "func() # calling function 'func'"
   ]
  },
  {
   "cell_type": "code",
   "execution_count": 27,
   "id": "26f2429a",
   "metadata": {},
   "outputs": [
    {
     "name": "stdout",
     "output_type": "stream",
     "text": [
      "30\n",
      "13.5\n",
      "ABCdef\n",
      "3.7\n",
      "22\n"
     ]
    }
   ],
   "source": [
    "def sum(x,y): #prints the sum of the arguments (data type not required)\n",
    "    print(x+y)\n",
    "\n",
    "sum(10,20)\n",
    "sum(11,2.5)\n",
    "sum(\"ABC\",'def')\n",
    "sum(2.2,1.5)\n",
    "\n",
    "sum(y=10,x=12) # we can assign particular values to the function arguments in this format"
   ]
  },
  {
   "cell_type": "code",
   "execution_count": 28,
   "id": "115b7718",
   "metadata": {},
   "outputs": [
    {
     "name": "stdout",
     "output_type": "stream",
     "text": [
      "Hi\n",
      "Hi\n",
      "Hi\n",
      "Hi\n",
      "Hi\n"
     ]
    }
   ],
   "source": [
    "# sample of RECURSIVE Function\n",
    "def i_call_myself(x=0):\n",
    "    print(\"Hi\")\n",
    "    if(x==4):\n",
    "        return()\n",
    "    i_call_myself(x+1)\n",
    "\n",
    "i_call_myself()"
   ]
  },
  {
   "cell_type": "code",
   "execution_count": 29,
   "id": "03691c61",
   "metadata": {},
   "outputs": [
    {
     "name": "stdout",
     "output_type": "stream",
     "text": [
      "16\n"
     ]
    }
   ],
   "source": [
    "# Example of RECURSIVE Function\n",
    "def pow(x=2,y=5):\n",
    "  if(y>1):\n",
    "    return(x*pow(x,y-1))\n",
    "  else :\n",
    "    return(x)\n",
    "\n",
    "P = pow(2,4)\n",
    "print(P)"
   ]
  },
  {
   "cell_type": "code",
   "execution_count": 31,
   "id": "d1adb81e",
   "metadata": {},
   "outputs": [
    {
     "name": "stdout",
     "output_type": "stream",
     "text": [
      "10\n",
      "___Next___\n",
      "\n",
      "30\n",
      "20\n"
     ]
    }
   ],
   "source": [
    "# Concept of Scope of Variable (Inside and Outside a Function)\n",
    "# Note the Value of x : Outside Function and Inside Function\n",
    "\n",
    "# Case-1\n",
    "def scope():\n",
    "  x = 10\n",
    "  return x\n",
    "x = scope()\n",
    "print(x)\n",
    "\n",
    "print(\"___Next___\\n\")\n",
    "\n",
    "# Case-2\n",
    "def SCOPE():\n",
    "  x = 20\n",
    "  print(x)\n",
    "x = 30\n",
    "print(x)\n",
    "SCOPE()"
   ]
  },
  {
   "cell_type": "markdown",
   "id": "8cd7ae24",
   "metadata": {},
   "source": [
    "# **Concept of : `Class`**"
   ]
  },
  {
   "cell_type": "markdown",
   "id": "35138b18",
   "metadata": {},
   "source": [
    "The \\_\\_init__ function of the class is the constructor, whener an object is created this function is called.\n",
    "\n",
    "\n",
    "\\_\\_str__ is used to define the output whenever a print statement is called on the object\n",
    "\n",
    "\n",
    "All the attributes of the class regardless of the object have the same name, hence to clarify which object's attribute we are talking about we use a 'self' keyword used by all the methods of the class.\n",
    "\n"
   ]
  },
  {
   "cell_type": "code",
   "execution_count": 1,
   "id": "0c9c3c44",
   "metadata": {},
   "outputs": [],
   "source": [
    "class ABC:\n",
    "    name = \"\"       # Class attribute for name\n",
    "    age = 0         # Class attribute for age\n",
    "    breed = \"\"      # Class attribute for breed\n",
    "\n",
    "    # Constructor method (__init__): Initializes object attributes with provided values\n",
    "    def __init__(self, n, a, b):\n",
    "        self.name = n       # Instance attribute for name\n",
    "        self.age = a        # Instance attribute for age\n",
    "        self.breed = b      # Instance attribute for breed\n",
    "\n",
    "    # String representation method (__str__): Returns a string representation of the object\n",
    "    def __str__(self):\n",
    "        return \"Name: \" + self.name + \"\\nAge: \" + str(self.age)\n"
   ]
  },
  {
   "cell_type": "code",
   "execution_count": 2,
   "id": "7733ae29",
   "metadata": {},
   "outputs": [
    {
     "data": {
      "text/plain": [
       "<__main__.ABC at 0x193d87e9430>"
      ]
     },
     "execution_count": 2,
     "metadata": {},
     "output_type": "execute_result"
    }
   ],
   "source": [
    "#Creating an object of the class Kutta\n",
    "o1 = ABC(\"Jojo\",7,\"German\") #__init__ function is called here\n",
    "o1"
   ]
  },
  {
   "cell_type": "code",
   "execution_count": 3,
   "id": "a210a6e3",
   "metadata": {},
   "outputs": [
    {
     "name": "stdout",
     "output_type": "stream",
     "text": [
      "Name: Jojo\n",
      "Age: 7\n"
     ]
    }
   ],
   "source": [
    "print(o1) #__str__ function is called here"
   ]
  },
  {
   "cell_type": "code",
   "execution_count": 4,
   "id": "cc77375d",
   "metadata": {},
   "outputs": [],
   "source": [
    "class Point:\n",
    "    x = 0   # Class attribute for the x-coordinate\n",
    "    y = 0   # Class attribute for the y-coordinate\n",
    "    \n",
    "    # Constructor method (__init__): Initializes object attributes with provided values\n",
    "    def __init__(self, x, y):\n",
    "        self.x = x  # Instance attribute for the x-coordinate\n",
    "        self.y = y  # Instance attribute for the y-coordinate\n",
    "        \n",
    "    # String representation method (__str__): Returns a string representation of the object\n",
    "    def __str__(self):\n",
    "        return \"(\" + str(self.x) + \",\" + str(self.y) + \")\"\n",
    "    \n",
    "    # Method to calculate distance from the origin (0,0)\n",
    "    def dist(self):\n",
    "        return (self.x**2 + self.y**2)**0.5\n"
   ]
  },
  {
   "cell_type": "code",
   "execution_count": 6,
   "id": "bdf89dda",
   "metadata": {},
   "outputs": [
    {
     "name": "stdout",
     "output_type": "stream",
     "text": [
      "5.0\n",
      "6.4031242374328485\n"
     ]
    }
   ],
   "source": [
    "a = Point(3, 4)\n",
    "b = Point(4, 5)\n",
    "print(a.dist())  # Output will be the distance of point (3,4) from the origin (0,0)\n",
    "print(b.dist())  # Output will be the distance of point (4,5) from the origin (0,0)"
   ]
  }
 ],
 "metadata": {
  "kernelspec": {
   "display_name": "Python 3 (ipykernel)",
   "language": "python",
   "name": "python3"
  },
  "language_info": {
   "codemirror_mode": {
    "name": "ipython",
    "version": 3
   },
   "file_extension": ".py",
   "mimetype": "text/x-python",
   "name": "python",
   "nbconvert_exporter": "python",
   "pygments_lexer": "ipython3",
   "version": "3.9.7"
  }
 },
 "nbformat": 4,
 "nbformat_minor": 5
}
