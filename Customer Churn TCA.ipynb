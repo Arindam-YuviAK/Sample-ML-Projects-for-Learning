{
 "cells": [
  {
   "cell_type": "markdown",
   "id": "1f7291ed",
   "metadata": {},
   "source": [
    "# **Visualizations with : Seaborn | Matplotlib | Plotly**"
   ]
  },
  {
   "cell_type": "markdown",
   "id": "7317a70a",
   "metadata": {},
   "source": [
    "## Required Libraries"
   ]
  },
  {
   "cell_type": "code",
   "execution_count": 2,
   "id": "8d33f359",
   "metadata": {},
   "outputs": [],
   "source": [
    "# Import essential Python libraries\n",
    "\n",
    "# If NumPy, Pandas, Matplotlib, Seaborn, or Plotly are not installed, you can install them using pip\n",
    "\n",
    "import numpy as np  # Numerical computing library, useful for arrays and mathematical operations\n",
    "import pandas as pd  # Data manipulation and analysis library, particularly for working with DataFrames\n",
    "\n",
    "# Import visualization libraries\n",
    "import matplotlib.pyplot as plt  # Core plotting library for static visualizations\n",
    "\n",
    "# Ensures that plots are displayed inline within a Jupyter Notebook\n",
    "%matplotlib inline  \n",
    "\n",
    "import seaborn as sns  # Statistical data visualization library, built on top of Matplotlib, useful for complex plots\n",
    "\n",
    "import plotly.express as px  # High-level Plotly interface for interactive plots\n",
    "import plotly.graph_objects as go  # Lower-level interface for creating custom interactive plots\n",
    "\n",
    "# Now you can use Matplotlib, Seaborn, and Plotly for both static and interactive visualizations.\n"
   ]
  },
  {
   "cell_type": "markdown",
   "id": "43711e45",
   "metadata": {},
   "source": [
    "## Data Cleaning (Also Getting Rough Ideas on the Data)"
   ]
  },
  {
   "cell_type": "code",
   "execution_count": 3,
   "id": "73f305e8-81a5-45ec-a3e9-516a580f3c40",
   "metadata": {},
   "outputs": [
    {
     "data": {
      "text/html": [
       "<div>\n",
       "<style scoped>\n",
       "    .dataframe tbody tr th:only-of-type {\n",
       "        vertical-align: middle;\n",
       "    }\n",
       "\n",
       "    .dataframe tbody tr th {\n",
       "        vertical-align: top;\n",
       "    }\n",
       "\n",
       "    .dataframe thead th {\n",
       "        text-align: right;\n",
       "    }\n",
       "</style>\n",
       "<table border=\"1\" class=\"dataframe\">\n",
       "  <thead>\n",
       "    <tr style=\"text-align: right;\">\n",
       "      <th></th>\n",
       "      <th>customerID</th>\n",
       "      <th>gender</th>\n",
       "      <th>SeniorCitizen</th>\n",
       "      <th>Partner</th>\n",
       "      <th>Dependents</th>\n",
       "      <th>tenure</th>\n",
       "      <th>PhoneService</th>\n",
       "      <th>MultipleLines</th>\n",
       "      <th>InternetService</th>\n",
       "      <th>OnlineSecurity</th>\n",
       "      <th>...</th>\n",
       "      <th>DeviceProtection</th>\n",
       "      <th>TechSupport</th>\n",
       "      <th>StreamingTV</th>\n",
       "      <th>StreamingMovies</th>\n",
       "      <th>Contract</th>\n",
       "      <th>PaperlessBilling</th>\n",
       "      <th>PaymentMethod</th>\n",
       "      <th>MonthlyCharges</th>\n",
       "      <th>TotalCharges</th>\n",
       "      <th>Churn</th>\n",
       "    </tr>\n",
       "  </thead>\n",
       "  <tbody>\n",
       "    <tr>\n",
       "      <th>0</th>\n",
       "      <td>7590-VHVEG</td>\n",
       "      <td>Female</td>\n",
       "      <td>0</td>\n",
       "      <td>Yes</td>\n",
       "      <td>No</td>\n",
       "      <td>1</td>\n",
       "      <td>No</td>\n",
       "      <td>No phone service</td>\n",
       "      <td>DSL</td>\n",
       "      <td>No</td>\n",
       "      <td>...</td>\n",
       "      <td>No</td>\n",
       "      <td>No</td>\n",
       "      <td>No</td>\n",
       "      <td>No</td>\n",
       "      <td>Month-to-month</td>\n",
       "      <td>Yes</td>\n",
       "      <td>Electronic check</td>\n",
       "      <td>29.85</td>\n",
       "      <td>29.85</td>\n",
       "      <td>No</td>\n",
       "    </tr>\n",
       "    <tr>\n",
       "      <th>1</th>\n",
       "      <td>5575-GNVDE</td>\n",
       "      <td>Male</td>\n",
       "      <td>0</td>\n",
       "      <td>No</td>\n",
       "      <td>No</td>\n",
       "      <td>34</td>\n",
       "      <td>Yes</td>\n",
       "      <td>No</td>\n",
       "      <td>DSL</td>\n",
       "      <td>Yes</td>\n",
       "      <td>...</td>\n",
       "      <td>Yes</td>\n",
       "      <td>No</td>\n",
       "      <td>No</td>\n",
       "      <td>No</td>\n",
       "      <td>One year</td>\n",
       "      <td>No</td>\n",
       "      <td>Mailed check</td>\n",
       "      <td>56.95</td>\n",
       "      <td>1889.5</td>\n",
       "      <td>No</td>\n",
       "    </tr>\n",
       "    <tr>\n",
       "      <th>2</th>\n",
       "      <td>3668-QPYBK</td>\n",
       "      <td>Male</td>\n",
       "      <td>0</td>\n",
       "      <td>No</td>\n",
       "      <td>No</td>\n",
       "      <td>2</td>\n",
       "      <td>Yes</td>\n",
       "      <td>No</td>\n",
       "      <td>DSL</td>\n",
       "      <td>Yes</td>\n",
       "      <td>...</td>\n",
       "      <td>No</td>\n",
       "      <td>No</td>\n",
       "      <td>No</td>\n",
       "      <td>No</td>\n",
       "      <td>Month-to-month</td>\n",
       "      <td>Yes</td>\n",
       "      <td>Mailed check</td>\n",
       "      <td>53.85</td>\n",
       "      <td>108.15</td>\n",
       "      <td>Yes</td>\n",
       "    </tr>\n",
       "    <tr>\n",
       "      <th>3</th>\n",
       "      <td>7795-CFOCW</td>\n",
       "      <td>Male</td>\n",
       "      <td>0</td>\n",
       "      <td>No</td>\n",
       "      <td>No</td>\n",
       "      <td>45</td>\n",
       "      <td>No</td>\n",
       "      <td>No phone service</td>\n",
       "      <td>DSL</td>\n",
       "      <td>Yes</td>\n",
       "      <td>...</td>\n",
       "      <td>Yes</td>\n",
       "      <td>Yes</td>\n",
       "      <td>No</td>\n",
       "      <td>No</td>\n",
       "      <td>One year</td>\n",
       "      <td>No</td>\n",
       "      <td>Bank transfer (automatic)</td>\n",
       "      <td>42.30</td>\n",
       "      <td>1840.75</td>\n",
       "      <td>No</td>\n",
       "    </tr>\n",
       "    <tr>\n",
       "      <th>4</th>\n",
       "      <td>9237-HQITU</td>\n",
       "      <td>Female</td>\n",
       "      <td>0</td>\n",
       "      <td>No</td>\n",
       "      <td>No</td>\n",
       "      <td>2</td>\n",
       "      <td>Yes</td>\n",
       "      <td>No</td>\n",
       "      <td>Fiber optic</td>\n",
       "      <td>No</td>\n",
       "      <td>...</td>\n",
       "      <td>No</td>\n",
       "      <td>No</td>\n",
       "      <td>No</td>\n",
       "      <td>No</td>\n",
       "      <td>Month-to-month</td>\n",
       "      <td>Yes</td>\n",
       "      <td>Electronic check</td>\n",
       "      <td>70.70</td>\n",
       "      <td>151.65</td>\n",
       "      <td>Yes</td>\n",
       "    </tr>\n",
       "  </tbody>\n",
       "</table>\n",
       "<p>5 rows × 21 columns</p>\n",
       "</div>"
      ],
      "text/plain": [
       "   customerID  gender  SeniorCitizen Partner Dependents  tenure PhoneService  \\\n",
       "0  7590-VHVEG  Female              0     Yes         No       1           No   \n",
       "1  5575-GNVDE    Male              0      No         No      34          Yes   \n",
       "2  3668-QPYBK    Male              0      No         No       2          Yes   \n",
       "3  7795-CFOCW    Male              0      No         No      45           No   \n",
       "4  9237-HQITU  Female              0      No         No       2          Yes   \n",
       "\n",
       "      MultipleLines InternetService OnlineSecurity  ... DeviceProtection  \\\n",
       "0  No phone service             DSL             No  ...               No   \n",
       "1                No             DSL            Yes  ...              Yes   \n",
       "2                No             DSL            Yes  ...               No   \n",
       "3  No phone service             DSL            Yes  ...              Yes   \n",
       "4                No     Fiber optic             No  ...               No   \n",
       "\n",
       "  TechSupport StreamingTV StreamingMovies        Contract PaperlessBilling  \\\n",
       "0          No          No              No  Month-to-month              Yes   \n",
       "1          No          No              No        One year               No   \n",
       "2          No          No              No  Month-to-month              Yes   \n",
       "3         Yes          No              No        One year               No   \n",
       "4          No          No              No  Month-to-month              Yes   \n",
       "\n",
       "               PaymentMethod MonthlyCharges  TotalCharges Churn  \n",
       "0           Electronic check          29.85         29.85    No  \n",
       "1               Mailed check          56.95        1889.5    No  \n",
       "2               Mailed check          53.85        108.15   Yes  \n",
       "3  Bank transfer (automatic)          42.30       1840.75    No  \n",
       "4           Electronic check          70.70        151.65   Yes  \n",
       "\n",
       "[5 rows x 21 columns]"
      ]
     },
     "execution_count": 3,
     "metadata": {},
     "output_type": "execute_result"
    }
   ],
   "source": [
    "# Load the dataset\n",
    "df = pd.read_csv('Customer Churn.csv')\n",
    "\n",
    "# Display the first 5 rows of the dataset\n",
    "df.head()\n"
   ]
  },
  {
   "cell_type": "code",
   "execution_count": 29,
   "id": "a0a604f3",
   "metadata": {},
   "outputs": [
    {
     "name": "stdout",
     "output_type": "stream",
     "text": [
      "customerID\n",
      "gender\n",
      "SeniorCitizen\n",
      "Partner\n",
      "Dependents\n",
      "tenure\n",
      "PhoneService\n",
      "MultipleLines\n",
      "InternetService\n",
      "OnlineSecurity\n",
      "OnlineBackup\n",
      "DeviceProtection\n",
      "TechSupport\n",
      "StreamingTV\n",
      "StreamingMovies\n",
      "Contract\n",
      "PaperlessBilling\n",
      "PaymentMethod\n",
      "MonthlyCharges\n",
      "TotalCharges\n",
      "Churn\n"
     ]
    }
   ],
   "source": [
    "# Listing the columns in the dataset\n",
    "for i in (df.columns.values):\n",
    "    print(i)"
   ]
  },
  {
   "cell_type": "code",
   "execution_count": 4,
   "id": "4a79050d-fd12-41dc-b325-d178080c0b7c",
   "metadata": {},
   "outputs": [
    {
     "name": "stdout",
     "output_type": "stream",
     "text": [
      "<class 'pandas.core.frame.DataFrame'>\n",
      "RangeIndex: 7043 entries, 0 to 7042\n",
      "Data columns (total 21 columns):\n",
      " #   Column            Non-Null Count  Dtype  \n",
      "---  ------            --------------  -----  \n",
      " 0   customerID        7043 non-null   object \n",
      " 1   gender            7043 non-null   object \n",
      " 2   SeniorCitizen     7043 non-null   int64  \n",
      " 3   Partner           7043 non-null   object \n",
      " 4   Dependents        7043 non-null   object \n",
      " 5   tenure            7043 non-null   int64  \n",
      " 6   PhoneService      7043 non-null   object \n",
      " 7   MultipleLines     7043 non-null   object \n",
      " 8   InternetService   7043 non-null   object \n",
      " 9   OnlineSecurity    7043 non-null   object \n",
      " 10  OnlineBackup      7043 non-null   object \n",
      " 11  DeviceProtection  7043 non-null   object \n",
      " 12  TechSupport       7043 non-null   object \n",
      " 13  StreamingTV       7043 non-null   object \n",
      " 14  StreamingMovies   7043 non-null   object \n",
      " 15  Contract          7043 non-null   object \n",
      " 16  PaperlessBilling  7043 non-null   object \n",
      " 17  PaymentMethod     7043 non-null   object \n",
      " 18  MonthlyCharges    7043 non-null   float64\n",
      " 19  TotalCharges      7043 non-null   object \n",
      " 20  Churn             7043 non-null   object \n",
      "dtypes: float64(1), int64(2), object(18)\n",
      "memory usage: 1.1+ MB\n",
      "<class 'pandas.core.frame.DataFrame'>\n",
      "RangeIndex: 7043 entries, 0 to 7042\n",
      "Data columns (total 21 columns):\n",
      " #   Column            Non-Null Count  Dtype  \n",
      "---  ------            --------------  -----  \n",
      " 0   customerID        7043 non-null   object \n",
      " 1   gender            7043 non-null   object \n",
      " 2   SeniorCitizen     7043 non-null   int64  \n",
      " 3   Partner           7043 non-null   object \n",
      " 4   Dependents        7043 non-null   object \n",
      " 5   tenure            7043 non-null   int64  \n",
      " 6   PhoneService      7043 non-null   object \n",
      " 7   MultipleLines     7043 non-null   object \n",
      " 8   InternetService   7043 non-null   object \n",
      " 9   OnlineSecurity    7043 non-null   object \n",
      " 10  OnlineBackup      7043 non-null   object \n",
      " 11  DeviceProtection  7043 non-null   object \n",
      " 12  TechSupport       7043 non-null   object \n",
      " 13  StreamingTV       7043 non-null   object \n",
      " 14  StreamingMovies   7043 non-null   object \n",
      " 15  Contract          7043 non-null   object \n",
      " 16  PaperlessBilling  7043 non-null   object \n",
      " 17  PaymentMethod     7043 non-null   object \n",
      " 18  MonthlyCharges    7043 non-null   float64\n",
      " 19  TotalCharges      7043 non-null   object \n",
      " 20  Churn             7043 non-null   object \n",
      "dtypes: float64(1), int64(2), object(18)\n",
      "memory usage: 1.1+ MB\n"
     ]
    }
   ],
   "source": [
    "# Display dataset summary, including data types, non-null counts, and memory usage\n",
    "df.info()\n",
    "\n",
    "\n",
    "# Displaying the DataFrame's metadata\n",
    "df.info()\n",
    "\n",
    "# ------------------------------------------------\n",
    "# 📝 Explanation:\n",
    "# ------------------------------------------------\n",
    "# - `df.info()` provides an overview of the dataset, including:\n",
    "#   1️⃣ Number of **entries (rows)** in the dataset.\n",
    "#   2️⃣ Number of **columns**.\n",
    "#   3️⃣ **Column names** and their respective **data types** (int, float, object, etc.).\n",
    "#   4️⃣ Number of **non-null values** per column (helps identify missing data).\n",
    "#   5️⃣ The **memory usage** of the DataFrame (useful for performance optimization).\n",
    "#\n",
    "# 🔍 **Common Data Types in Pandas:**\n",
    "# - `int64` → Integer values (e.g., customer ID, order count).\n",
    "# - `float64` → Decimal values (e.g., revenue, percentage scores).\n",
    "# - `object` → Text data (e.g., customer names, categories).\n",
    "# - `bool` → Boolean values (True/False).\n",
    "# - `datetime64` → Date/time values (e.g., subscription date).\n",
    "#\n",
    "# 🛠 **How to Use This Output?**\n",
    "# ✅ Identify **missing values** (if non-null values < total rows).\n",
    "# ✅ Detect **incorrect data types** (e.g., Amount stored as `object` instead of `int`).\n",
    "# ✅ Check dataset **size** to optimize memory usage.\n",
    "#\n",
    "# 🚀 **Next Steps After `df.info()`:**\n",
    "# - Handle missing values: `df.isnull().sum()`\n",
    "# - Convert incorrect data types: `df['Amount'] = df['Amount'].astype(int)`\n",
    "# - Optimize memory: `df.astype({'Category': 'category'})`\n"
   ]
  },
  {
   "cell_type": "code",
   "execution_count": 5,
   "id": "3f78d626-26f6-4413-b767-32b4ce55638e",
   "metadata": {},
   "outputs": [
    {
     "name": "stdout",
     "output_type": "stream",
     "text": [
      "<class 'pandas.core.frame.DataFrame'>\n",
      "RangeIndex: 7043 entries, 0 to 7042\n",
      "Data columns (total 21 columns):\n",
      " #   Column            Non-Null Count  Dtype  \n",
      "---  ------            --------------  -----  \n",
      " 0   customerID        7043 non-null   object \n",
      " 1   gender            7043 non-null   object \n",
      " 2   SeniorCitizen     7043 non-null   int64  \n",
      " 3   Partner           7043 non-null   object \n",
      " 4   Dependents        7043 non-null   object \n",
      " 5   tenure            7043 non-null   int64  \n",
      " 6   PhoneService      7043 non-null   object \n",
      " 7   MultipleLines     7043 non-null   object \n",
      " 8   InternetService   7043 non-null   object \n",
      " 9   OnlineSecurity    7043 non-null   object \n",
      " 10  OnlineBackup      7043 non-null   object \n",
      " 11  DeviceProtection  7043 non-null   object \n",
      " 12  TechSupport       7043 non-null   object \n",
      " 13  StreamingTV       7043 non-null   object \n",
      " 14  StreamingMovies   7043 non-null   object \n",
      " 15  Contract          7043 non-null   object \n",
      " 16  PaperlessBilling  7043 non-null   object \n",
      " 17  PaymentMethod     7043 non-null   object \n",
      " 18  MonthlyCharges    7043 non-null   float64\n",
      " 19  TotalCharges      7043 non-null   float64\n",
      " 20  Churn             7043 non-null   object \n",
      "dtypes: float64(2), int64(2), object(17)\n",
      "memory usage: 1.1+ MB\n"
     ]
    }
   ],
   "source": [
    "# ------------------------------------------------\n",
    "# 📝 Step 1: Handling Blank Values in 'TotalCharges'\n",
    "# ------------------------------------------------\n",
    "df[\"TotalCharges\"] = df[\"TotalCharges\"].replace(\" \", \"0\")\n",
    "\n",
    "# 🔍 Why?\n",
    "# - In some datasets, blank or missing values are stored as **empty strings (\" \")** instead of NaN.\n",
    "# - Since 'TotalCharges' should be numerical, replacing these blanks ensures uniformity.\n",
    "# - The blank values indicate cases where **tenure is 0**, meaning no charges were recorded.\n",
    "\n",
    "# ------------------------------------------------\n",
    "# 📝 Step 2: Convert 'TotalCharges' to Float\n",
    "# ------------------------------------------------\n",
    "df[\"TotalCharges\"] = df[\"TotalCharges\"].astype(\"float\")\n",
    "\n",
    "# 🔍 Why?\n",
    "# - Initially, 'TotalCharges' might be stored as `object` (string), preventing mathematical operations.\n",
    "# - Converting it to `float` allows numerical analysis, such as:\n",
    "#   ✅ Summing total revenue\n",
    "#   ✅ Finding average charges per customer\n",
    "#   ✅ Identifying trends in customer payments\n",
    "\n",
    "# ------------------------------------------------\n",
    "# 📝 Step 3: Verify Data Types and Missing Values\n",
    "# ------------------------------------------------\n",
    "df.info()\n",
    "\n",
    "# 🔍 What This Shows:\n",
    "# - Confirms that 'TotalCharges' is now a `float64` column.\n",
    "# - Displays any remaining missing values.\n",
    "# - Helps ensure dataset integrity before analysis.\n"
   ]
  },
  {
   "cell_type": "code",
   "execution_count": 6,
   "id": "6b07062b-d7d5-4390-9008-8eaaead5430d",
   "metadata": {},
   "outputs": [
    {
     "data": {
      "text/plain": [
       "customerID          0\n",
       "gender              0\n",
       "SeniorCitizen       0\n",
       "Partner             0\n",
       "Dependents          0\n",
       "tenure              0\n",
       "PhoneService        0\n",
       "MultipleLines       0\n",
       "InternetService     0\n",
       "OnlineSecurity      0\n",
       "OnlineBackup        0\n",
       "DeviceProtection    0\n",
       "TechSupport         0\n",
       "StreamingTV         0\n",
       "StreamingMovies     0\n",
       "Contract            0\n",
       "PaperlessBilling    0\n",
       "PaymentMethod       0\n",
       "MonthlyCharges      0\n",
       "TotalCharges        0\n",
       "Churn               0\n",
       "dtype: int64"
      ]
     },
     "execution_count": 6,
     "metadata": {},
     "output_type": "execute_result"
    }
   ],
   "source": [
    "# ------------------------------------------------\n",
    "# 📝 Checking for Missing Values in the Dataset\n",
    "# ------------------------------------------------\n",
    "df.isnull().sum()\n",
    "\n",
    "# 🔍 What This Does:\n",
    "# - `df.isnull()` → Creates a DataFrame of the same shape as `df`, replacing:\n",
    "#   ✅ `NaN` (missing values) with `True`\n",
    "#   ✅ Non-missing values with `False`\n",
    "# - `.sum()` → Counts the number of `True` (missing) values **for each column**.\n",
    "\n",
    "# ------------------------------------------------\n",
    "# 📝 Why Is This Important?\n",
    "# ------------------------------------------------\n",
    "# ✅ Helps identify columns with missing data.\n",
    "# ✅ Guides data preprocessing decisions (e.g., filling missing values or dropping rows/columns).\n",
    "# ✅ Ensures clean data for analysis and machine learning models.\n",
    "\n",
    "# ------------------------------------------------\n",
    "# 🛠 Possible Next Steps:\n",
    "# ------------------------------------------------\n",
    "# 1️⃣ **Drop missing values** (if few): \n",
    "#    df.dropna(inplace=True)\n",
    "#\n",
    "# 2️⃣ **Fill missing values** (if necessary):\n",
    "#    - Replace with **mean** (for numerical data): df[\"Column\"].fillna(df[\"Column\"].mean(), inplace=True)\n",
    "#    - Replace with **mode** (for categorical data): df[\"Column\"].fillna(df[\"Column\"].mode()[0], inplace=True)\n",
    "#    - Replace with **zero or a fixed value**: df[\"Column\"].fillna(0, inplace=True)\n",
    "#\n",
    "# 3️⃣ **Check dataset again after handling missing values:**\n",
    "#    df.isnull().sum()\n"
   ]
  },
  {
   "cell_type": "code",
   "execution_count": 7,
   "id": "2d681f51-b1d6-4afe-8171-7c466d3b6326",
   "metadata": {},
   "outputs": [
    {
     "data": {
      "text/html": [
       "<div>\n",
       "<style scoped>\n",
       "    .dataframe tbody tr th:only-of-type {\n",
       "        vertical-align: middle;\n",
       "    }\n",
       "\n",
       "    .dataframe tbody tr th {\n",
       "        vertical-align: top;\n",
       "    }\n",
       "\n",
       "    .dataframe thead th {\n",
       "        text-align: right;\n",
       "    }\n",
       "</style>\n",
       "<table border=\"1\" class=\"dataframe\">\n",
       "  <thead>\n",
       "    <tr style=\"text-align: right;\">\n",
       "      <th></th>\n",
       "      <th>SeniorCitizen</th>\n",
       "      <th>tenure</th>\n",
       "      <th>MonthlyCharges</th>\n",
       "      <th>TotalCharges</th>\n",
       "    </tr>\n",
       "  </thead>\n",
       "  <tbody>\n",
       "    <tr>\n",
       "      <th>count</th>\n",
       "      <td>7043.000000</td>\n",
       "      <td>7043.000000</td>\n",
       "      <td>7043.000000</td>\n",
       "      <td>7043.000000</td>\n",
       "    </tr>\n",
       "    <tr>\n",
       "      <th>mean</th>\n",
       "      <td>0.162147</td>\n",
       "      <td>32.371149</td>\n",
       "      <td>64.761692</td>\n",
       "      <td>2279.734304</td>\n",
       "    </tr>\n",
       "    <tr>\n",
       "      <th>std</th>\n",
       "      <td>0.368612</td>\n",
       "      <td>24.559481</td>\n",
       "      <td>30.090047</td>\n",
       "      <td>2266.794470</td>\n",
       "    </tr>\n",
       "    <tr>\n",
       "      <th>min</th>\n",
       "      <td>0.000000</td>\n",
       "      <td>0.000000</td>\n",
       "      <td>18.250000</td>\n",
       "      <td>0.000000</td>\n",
       "    </tr>\n",
       "    <tr>\n",
       "      <th>25%</th>\n",
       "      <td>0.000000</td>\n",
       "      <td>9.000000</td>\n",
       "      <td>35.500000</td>\n",
       "      <td>398.550000</td>\n",
       "    </tr>\n",
       "    <tr>\n",
       "      <th>50%</th>\n",
       "      <td>0.000000</td>\n",
       "      <td>29.000000</td>\n",
       "      <td>70.350000</td>\n",
       "      <td>1394.550000</td>\n",
       "    </tr>\n",
       "    <tr>\n",
       "      <th>75%</th>\n",
       "      <td>0.000000</td>\n",
       "      <td>55.000000</td>\n",
       "      <td>89.850000</td>\n",
       "      <td>3786.600000</td>\n",
       "    </tr>\n",
       "    <tr>\n",
       "      <th>max</th>\n",
       "      <td>1.000000</td>\n",
       "      <td>72.000000</td>\n",
       "      <td>118.750000</td>\n",
       "      <td>8684.800000</td>\n",
       "    </tr>\n",
       "  </tbody>\n",
       "</table>\n",
       "</div>"
      ],
      "text/plain": [
       "       SeniorCitizen       tenure  MonthlyCharges  TotalCharges\n",
       "count    7043.000000  7043.000000     7043.000000   7043.000000\n",
       "mean        0.162147    32.371149       64.761692   2279.734304\n",
       "std         0.368612    24.559481       30.090047   2266.794470\n",
       "min         0.000000     0.000000       18.250000      0.000000\n",
       "25%         0.000000     9.000000       35.500000    398.550000\n",
       "50%         0.000000    29.000000       70.350000   1394.550000\n",
       "75%         0.000000    55.000000       89.850000   3786.600000\n",
       "max         1.000000    72.000000      118.750000   8684.800000"
      ]
     },
     "execution_count": 7,
     "metadata": {},
     "output_type": "execute_result"
    }
   ],
   "source": [
    "# ------------------------------------------------\n",
    "# 📝 Summary Statistics for Numerical Columns\n",
    "# ------------------------------------------------\n",
    "df.describe()\n",
    "\n",
    "# 🔍 What This Does:\n",
    "# - `describe()` provides key **statistical insights** for numerical columns.\n",
    "# - Includes:\n",
    "#   ✅ **count** → Number of non-null values.\n",
    "#   ✅ **mean** → Average value.\n",
    "#   ✅ **std (standard deviation)** → Spread of the data.\n",
    "#   ✅ **min & max** → Minimum and maximum values.\n",
    "#   ✅ **25%, 50%, 75% (quartiles)** → Percentile-based distribution.\n",
    "#\n",
    "# ------------------------------------------------\n",
    "# 📝 Why Is This Important?\n",
    "# ------------------------------------------------\n",
    "# ✅ **Detects outliers** → Unusually high or low values.\n",
    "# ✅ **Checks data distribution** → Symmetric, skewed, or missing key statistics.\n",
    "# ✅ **Identifies potential data issues** → Unexpected values or incorrect data types.\n",
    "# ✅ **Supports data preprocessing** → Normalization, scaling, and feature selection.\n",
    "\n",
    "# ------------------------------------------------\n",
    "# 🛠 Additional Insights:\n",
    "# ------------------------------------------------\n",
    "# 📌 **For categorical columns:** Use df.describe(include='object')\n",
    "# 📌 **For all columns (including categorical):** Use df.describe(include='all')\n",
    "# 📌 **To check unique values in a column:** df['Column'].nunique()\n",
    "\n",
    "# ------------------------------------------------\n",
    "# 🚀 Next Steps:\n",
    "# ------------------------------------------------\n",
    "# 1️⃣ Visualize data distribution (e.g., histograms, box plots)\n",
    "# 2️⃣ Identify & handle outliers\n",
    "# 3️⃣ Standardize or normalize data for analysis\n",
    "# 4️⃣ Proceed with exploratory data analysis (EDA)"
   ]
  },
  {
   "cell_type": "code",
   "execution_count": 11,
   "id": "46a8c72f-86c7-4fec-abea-7b356c2b417a",
   "metadata": {},
   "outputs": [
    {
     "data": {
      "text/plain": [
       "0"
      ]
     },
     "execution_count": 11,
     "metadata": {},
     "output_type": "execute_result"
    }
   ],
   "source": [
    "# ------------------------------------------------\n",
    "# 📝 Checking for Duplicate Customer IDs\n",
    "# ------------------------------------------------\n",
    "\n",
    "df[\"customerID\"].duplicated().sum()\n",
    "\n",
    "# 🔍 What This Does:\n",
    "# - `df[\"customerID\"].duplicated()` → Returns a Series of **True/False** values:\n",
    "#   ✅ `True` → If a duplicate exists (i.e., a repeated customer ID).\n",
    "#   ✅ `False` → If the value is unique.\n",
    "# - `.sum()` → Counts the number of `True` values (i.e., the number of duplicate customer IDs).\n",
    "\n",
    "# ------------------------------------------------\n",
    "# 📝 Why Is This Important?\n",
    "# ------------------------------------------------\n",
    "# ✅ Ensures data integrity → Customer IDs should be **unique**.\n",
    "# ✅ Detects **data entry errors** or **duplicate records**.\n",
    "# ✅ Prevents issues in customer-based analytics (e.g., wrong calculations of retention or churn rates).\n",
    "\n",
    "# ------------------------------------------------\n",
    "# 🛠 Possible Next Steps:\n",
    "# ------------------------------------------------\n",
    "# 1️⃣ **Find the actual duplicate rows:**\n",
    "#    df[df[\"customerID\"].duplicated(keep=False)]\n",
    "#\n",
    "# 2️⃣ **Remove duplicate customer IDs (if needed):**\n",
    "#    df.drop_duplicates(subset=\"customerID\", keep=\"first\", inplace=True)\n",
    "#\n",
    "# 3️⃣ **Verify again after removal:**\n",
    "#    df[\"customerID\"].duplicated().sum()\n"
   ]
  },
  {
   "cell_type": "code",
   "execution_count": 13,
   "id": "044acb3b-cd92-474c-bd3e-b03f96316536",
   "metadata": {},
   "outputs": [
    {
     "data": {
      "text/html": [
       "<div>\n",
       "<style scoped>\n",
       "    .dataframe tbody tr th:only-of-type {\n",
       "        vertical-align: middle;\n",
       "    }\n",
       "\n",
       "    .dataframe tbody tr th {\n",
       "        vertical-align: top;\n",
       "    }\n",
       "\n",
       "    .dataframe thead th {\n",
       "        text-align: right;\n",
       "    }\n",
       "</style>\n",
       "<table border=\"1\" class=\"dataframe\">\n",
       "  <thead>\n",
       "    <tr style=\"text-align: right;\">\n",
       "      <th></th>\n",
       "      <th>customerID</th>\n",
       "      <th>gender</th>\n",
       "      <th>SeniorCitizen</th>\n",
       "      <th>Partner</th>\n",
       "      <th>Dependents</th>\n",
       "      <th>tenure</th>\n",
       "      <th>PhoneService</th>\n",
       "      <th>MultipleLines</th>\n",
       "      <th>InternetService</th>\n",
       "      <th>OnlineSecurity</th>\n",
       "      <th>...</th>\n",
       "      <th>DeviceProtection</th>\n",
       "      <th>TechSupport</th>\n",
       "      <th>StreamingTV</th>\n",
       "      <th>StreamingMovies</th>\n",
       "      <th>Contract</th>\n",
       "      <th>PaperlessBilling</th>\n",
       "      <th>PaymentMethod</th>\n",
       "      <th>MonthlyCharges</th>\n",
       "      <th>TotalCharges</th>\n",
       "      <th>Churn</th>\n",
       "    </tr>\n",
       "  </thead>\n",
       "  <tbody>\n",
       "    <tr>\n",
       "      <th>0</th>\n",
       "      <td>7590-VHVEG</td>\n",
       "      <td>Female</td>\n",
       "      <td>no</td>\n",
       "      <td>Yes</td>\n",
       "      <td>No</td>\n",
       "      <td>1</td>\n",
       "      <td>No</td>\n",
       "      <td>No phone service</td>\n",
       "      <td>DSL</td>\n",
       "      <td>No</td>\n",
       "      <td>...</td>\n",
       "      <td>No</td>\n",
       "      <td>No</td>\n",
       "      <td>No</td>\n",
       "      <td>No</td>\n",
       "      <td>Month-to-month</td>\n",
       "      <td>Yes</td>\n",
       "      <td>Electronic check</td>\n",
       "      <td>29.85</td>\n",
       "      <td>29.85</td>\n",
       "      <td>No</td>\n",
       "    </tr>\n",
       "    <tr>\n",
       "      <th>1</th>\n",
       "      <td>5575-GNVDE</td>\n",
       "      <td>Male</td>\n",
       "      <td>no</td>\n",
       "      <td>No</td>\n",
       "      <td>No</td>\n",
       "      <td>34</td>\n",
       "      <td>Yes</td>\n",
       "      <td>No</td>\n",
       "      <td>DSL</td>\n",
       "      <td>Yes</td>\n",
       "      <td>...</td>\n",
       "      <td>Yes</td>\n",
       "      <td>No</td>\n",
       "      <td>No</td>\n",
       "      <td>No</td>\n",
       "      <td>One year</td>\n",
       "      <td>No</td>\n",
       "      <td>Mailed check</td>\n",
       "      <td>56.95</td>\n",
       "      <td>1889.50</td>\n",
       "      <td>No</td>\n",
       "    </tr>\n",
       "    <tr>\n",
       "      <th>2</th>\n",
       "      <td>3668-QPYBK</td>\n",
       "      <td>Male</td>\n",
       "      <td>no</td>\n",
       "      <td>No</td>\n",
       "      <td>No</td>\n",
       "      <td>2</td>\n",
       "      <td>Yes</td>\n",
       "      <td>No</td>\n",
       "      <td>DSL</td>\n",
       "      <td>Yes</td>\n",
       "      <td>...</td>\n",
       "      <td>No</td>\n",
       "      <td>No</td>\n",
       "      <td>No</td>\n",
       "      <td>No</td>\n",
       "      <td>Month-to-month</td>\n",
       "      <td>Yes</td>\n",
       "      <td>Mailed check</td>\n",
       "      <td>53.85</td>\n",
       "      <td>108.15</td>\n",
       "      <td>Yes</td>\n",
       "    </tr>\n",
       "    <tr>\n",
       "      <th>3</th>\n",
       "      <td>7795-CFOCW</td>\n",
       "      <td>Male</td>\n",
       "      <td>no</td>\n",
       "      <td>No</td>\n",
       "      <td>No</td>\n",
       "      <td>45</td>\n",
       "      <td>No</td>\n",
       "      <td>No phone service</td>\n",
       "      <td>DSL</td>\n",
       "      <td>Yes</td>\n",
       "      <td>...</td>\n",
       "      <td>Yes</td>\n",
       "      <td>Yes</td>\n",
       "      <td>No</td>\n",
       "      <td>No</td>\n",
       "      <td>One year</td>\n",
       "      <td>No</td>\n",
       "      <td>Bank transfer (automatic)</td>\n",
       "      <td>42.30</td>\n",
       "      <td>1840.75</td>\n",
       "      <td>No</td>\n",
       "    </tr>\n",
       "    <tr>\n",
       "      <th>4</th>\n",
       "      <td>9237-HQITU</td>\n",
       "      <td>Female</td>\n",
       "      <td>no</td>\n",
       "      <td>No</td>\n",
       "      <td>No</td>\n",
       "      <td>2</td>\n",
       "      <td>Yes</td>\n",
       "      <td>No</td>\n",
       "      <td>Fiber optic</td>\n",
       "      <td>No</td>\n",
       "      <td>...</td>\n",
       "      <td>No</td>\n",
       "      <td>No</td>\n",
       "      <td>No</td>\n",
       "      <td>No</td>\n",
       "      <td>Month-to-month</td>\n",
       "      <td>Yes</td>\n",
       "      <td>Electronic check</td>\n",
       "      <td>70.70</td>\n",
       "      <td>151.65</td>\n",
       "      <td>Yes</td>\n",
       "    </tr>\n",
       "  </tbody>\n",
       "</table>\n",
       "<p>5 rows × 21 columns</p>\n",
       "</div>"
      ],
      "text/plain": [
       "   customerID  gender SeniorCitizen Partner Dependents  tenure PhoneService  \\\n",
       "0  7590-VHVEG  Female            no     Yes         No       1           No   \n",
       "1  5575-GNVDE    Male            no      No         No      34          Yes   \n",
       "2  3668-QPYBK    Male            no      No         No       2          Yes   \n",
       "3  7795-CFOCW    Male            no      No         No      45           No   \n",
       "4  9237-HQITU  Female            no      No         No       2          Yes   \n",
       "\n",
       "      MultipleLines InternetService OnlineSecurity  ... DeviceProtection  \\\n",
       "0  No phone service             DSL             No  ...               No   \n",
       "1                No             DSL            Yes  ...              Yes   \n",
       "2                No             DSL            Yes  ...               No   \n",
       "3  No phone service             DSL            Yes  ...              Yes   \n",
       "4                No     Fiber optic             No  ...               No   \n",
       "\n",
       "  TechSupport StreamingTV StreamingMovies        Contract PaperlessBilling  \\\n",
       "0          No          No              No  Month-to-month              Yes   \n",
       "1          No          No              No        One year               No   \n",
       "2          No          No              No  Month-to-month              Yes   \n",
       "3         Yes          No              No        One year               No   \n",
       "4          No          No              No  Month-to-month              Yes   \n",
       "\n",
       "               PaymentMethod MonthlyCharges  TotalCharges  Churn  \n",
       "0           Electronic check          29.85         29.85     No  \n",
       "1               Mailed check          56.95       1889.50     No  \n",
       "2               Mailed check          53.85        108.15    Yes  \n",
       "3  Bank transfer (automatic)          42.30       1840.75     No  \n",
       "4           Electronic check          70.70        151.65    Yes  \n",
       "\n",
       "[5 rows x 21 columns]"
      ]
     },
     "execution_count": 13,
     "metadata": {},
     "output_type": "execute_result"
    }
   ],
   "source": [
    "# ------------------------------------------------\n",
    "# 📝 Step 1: Define a Function to Convert Values\n",
    "# ------------------------------------------------\n",
    "def conv(value):\n",
    "    if value == 1:\n",
    "        return \"yes\"  # Convert 1 to 'yes'\n",
    "    else:\n",
    "        return \"no\"   # Convert 0 to 'no'\n",
    "\n",
    "# ------------------------------------------------\n",
    "# 📝 Step 2: Apply the Function to the 'SeniorCitizen' Column\n",
    "# ------------------------------------------------\n",
    "df['SeniorCitizen'] = df[\"SeniorCitizen\"].apply(conv)\n",
    "\n",
    "df.head()\n",
    "\n",
    "# 🔍 What This Does:\n",
    "# - The `apply()` function applies `conv()` **to each value** in the 'SeniorCitizen' column.\n",
    "# - Converts:\n",
    "#   ✅ `1` → \"yes\"\n",
    "#   ✅ `0` → \"no\"\n",
    "# - Makes the column **easier to interpret** for analysis and visualization.\n",
    "\n",
    "# ------------------------------------------------\n",
    "# 📝 Why Is This Important?\n",
    "# ------------------------------------------------\n",
    "# ✅ Improves data readability.\n",
    "# ✅ Helps in visualizing senior citizen demographics.\n",
    "# ✅ Prepares data for categorical analysis (e.g., using bar charts or pivot tables).\n",
    "# ✅ Useful for **customer segmentation** and **churn analysis**.\n",
    "\n",
    "# ------------------------------------------------\n",
    "# 🚀 Next Steps:\n",
    "# ------------------------------------------------\n",
    "# 1️⃣ **Check the column transformation:**\n",
    "#    df['SeniorCitizen'].value_counts()\n",
    "#\n",
    "# 2️⃣ **Convert the column to a categorical data type** (if needed):\n",
    "#    df['SeniorCitizen'] = df['SeniorCitizen'].astype('category')\n",
    "#\n",
    "# 3️⃣ **Visualize senior citizen distribution:**\n",
    "#    sns.countplot(data=df, x='SeniorCitizen')\n",
    "#    plt.title('Senior Citizen Distribution')"
   ]
  },
  {
   "cell_type": "markdown",
   "id": "2da7076c",
   "metadata": {},
   "source": [
    "## Performing : Exploratory Data Analysis (EDA)\n",
    "\n",
    "\n",
    "```\n",
    "\n",
    "# -------------------------------------------\n",
    "# 📝 Exploratory Data Analysis (EDA) Overview:\n",
    "# -------------------------------------------\n",
    "# - EDA is the process of analyzing datasets to summarize their key characteristics \n",
    "#   using statistical and visualization techniques.\n",
    "# - It helps identify patterns, detect outliers, and understand relationships between variables.\n",
    "# - EDA is crucial before applying machine learning models to ensure data quality and relevance.\n",
    "\n",
    "# -------------------------------------------\n",
    "# 🔍 Key Steps in EDA:\n",
    "# -------------------------------------------\n",
    "# 1️⃣ **Data Collection**: Gathering raw data from various sources like databases, APIs, or CSV files.\n",
    "# 2️⃣ **Data Cleaning**: Handling missing values, removing duplicates, and correcting inconsistencies.\n",
    "# 3️⃣ **Data Types & Structure Check**: Verifying column data types (numerical, categorical, datetime).\n",
    "# 4️⃣ **Descriptive Statistics**: Using measures like mean, median, mode, variance, and standard deviation.\n",
    "# 5️⃣ **Data Visualization**: Creating plots (histograms, scatter plots, box plots) to understand distributions.\n",
    "# 6️⃣ **Correlation Analysis**: Checking relationships between numerical variables (using correlation matrix).\n",
    "# 7️⃣ **Feature Engineering**: Creating new relevant features to improve model performance.\n",
    "# 8️⃣ **Outlier Detection**: Identifying anomalies using box plots, IQR, or Z-score.\n",
    "# 9️⃣ **Data Transformation**: Scaling, normalizing, or encoding categorical variables.\n",
    "# 🔟 **Final Insights & Reporting**: Summarizing findings for decision-making.\n",
    "\n",
    "# -------------------------------------------\n",
    "# 📊 Key Performance Indicators (KPIs) in Data Analytics:\n",
    "# -------------------------------------------\n",
    "# - **KPIs** are measurable values that indicate the success of a business or data-driven objective.\n",
    "\n",
    "# 🔹 **Common KPIs in Business & Data Analytics:**\n",
    "# - **Customer-related KPIs**:\n",
    "#   - Customer Acquisition Cost (CAC): Cost to acquire a new customer.\n",
    "#   - Customer Lifetime Value (CLV): Predicted revenue from a customer over time.\n",
    "#   - Churn Rate: Percentage of customers who stop using a service.\n",
    "\n",
    "# - **Sales & Revenue KPIs**:\n",
    "#   - Revenue Growth Rate: Percentage increase in revenue over a period.\n",
    "#   - Conversion Rate: Percentage of users who take a desired action (e.g., purchase).\n",
    "#   - Average Order Value (AOV): Average value per order.\n",
    "\n",
    "# - **Operational KPIs**:\n",
    "#   - Inventory Turnover: Number of times inventory is sold and replaced.\n",
    "#   - Lead Time: Time taken from order placement to delivery.\n",
    "#   - First Call Resolution (FCR): Percentage of customer issues resolved in the first interaction.\n",
    "\n",
    "# - **Data & Model Performance KPIs**:\n",
    "#   - Accuracy: Correct predictions out of total predictions (for classification models).\n",
    "#   - Precision & Recall: Measures of model reliability (important in imbalanced datasets).\n",
    "#   - F1 Score: Harmonic mean of precision and recall.\n",
    "#   - Mean Absolute Error (MAE) & Mean Squared Error (MSE): Measures of error in regression models.\n",
    "\n",
    "# -------------------------------------------\n",
    "# 🔢 Other Key Terms in Data Analytics:\n",
    "# -------------------------------------------\n",
    "# - **Descriptive Analytics**: Summarizes past data to understand what happened.\n",
    "# - **Predictive Analytics**: Uses statistical models to predict future trends.\n",
    "# - **Prescriptive Analytics**: Suggests actions based on predictive insights.\n",
    "# - **Data Wrangling**: Cleaning and transforming raw data into a usable format.\n",
    "# - **Data Governance**: Policies to manage data quality, security, and compliance.\n",
    "# - **A/B Testing**: Comparing two versions of a variable (e.g., website layout) to determine effectiveness.\n",
    "# - **ETL (Extract, Transform, Load)**: Process of collecting, cleaning, and storing data in databases.\n",
    "\n",
    "\n",
    "```"
   ]
  },
  {
   "cell_type": "code",
   "execution_count": 14,
   "id": "007056d4-0eef-485c-923e-e3243031e6dc",
   "metadata": {},
   "outputs": [
    {
     "data": {
      "image/png": "[encoded data removed]",
      "text/plain": [
       "<Figure size 640x480 with 1 Axes>"
      ]
     },
     "metadata": {},
     "output_type": "display_data"
    },
    {
     "data": {
      "application/vnd.plotly.v1+json": {
       "config": {
        "plotlyServerURL": "https://plot.ly"
       },
       "data": [
        {
         "hovertemplate": "Churn=%{x}<br>Count=%{text}<extra></extra>",
         "legendgroup": "No",
         "marker": {
          "color": "#636EFA",
          "pattern": {
           "shape": ""
          }
         },
         "name": "No",
         "orientation": "v",
         "showlegend": true,
         "text": {
          "bdata": "AAAAAAA2tEA=",
          "dtype": "f8"
         },
         "textposition": "outside",
         "type": "bar",
         "x": [
          "No"
         ],
         "xaxis": "x",
         "y": {
          "bdata": "NhQ=",
          "dtype": "i2"
         },
         "yaxis": "y"
        },
        {
         "hovertemplate": "Churn=%{x}<br>Count=%{text}<extra></extra>",
         "legendgroup": "Yes",
         "marker": {
          "color": "#EF553B",
          "pattern": {
           "shape": ""
          }
         },
         "name": "Yes",
         "orientation": "v",
         "showlegend": true,
         "text": {
          "bdata": "AAAAAAA0nUA=",
          "dtype": "f8"
         },
         "textposition": "outside",
         "type": "bar",
         "x": [
          "Yes"
         ],
         "xaxis": "x",
         "y": {
          "bdata": "TQc=",
          "dtype": "i2"
         },
         "yaxis": "y"
        }
       ],
       "layout": {
        "barmode": "relative",
        "legend": {
         "title": {
          "text": "Churn"
         },
         "tracegroupgap": 0
        },
        "template": {
         "data": {
          "bar": [
           {
            "error_x": {
             "color": "#2a3f5f"
            },
            "error_y": {
             "color": "#2a3f5f"
            },
            "marker": {
             "line": {
              "color": "#E5ECF6",
              "width": 0.5
             },
             "pattern": {
              "fillmode": "overlay",
              "size": 10,
              "solidity": 0.2
             }
            },
            "type": "bar"
           }
          ],
          "barpolar": [
           {
            "marker": {
             "line": {
              "color": "#E5ECF6",
              "width": 0.5
             },
             "pattern": {
              "fillmode": "overlay",
              "size": 10,
              "solidity": 0.2
             }
            },
            "type": "barpolar"
           }
          ],
          "carpet": [
           {
            "aaxis": {
             "endlinecolor": "#2a3f5f",
             "gridcolor": "white",
             "linecolor": "white",
             "minorgridcolor": "white",
             "startlinecolor": "#2a3f5f"
            },
            "baxis": {
             "endlinecolor": "#2a3f5f",
             "gridcolor": "white",
             "linecolor": "white",
             "minorgridcolor": "white",
             "startlinecolor": "#2a3f5f"
            },
            "type": "carpet"
           }
          ],
          "choropleth": [
           {
            "colorbar": {
             "outlinewidth": 0,
             "ticks": ""
            },
            "type": "choropleth"
           }
          ],
          "contour": [
           {
            "colorbar": {
             "outlinewidth": 0,
             "ticks": ""
            },
            "colorscale": [
             [
              0,
              "#0d0887"
             ],
             [
              0.1111111111111111,
              "#46039f"
             ],
             [
              0.2222222222222222,
              "#7201a8"
             ],
             [
              0.3333333333333333,
              "#9c179e"
             ],
             [
              0.4444444444444444,
              "#bd3786"
             ],
             [
              0.5555555555555556,
              "#d8576b"
             ],
             [
              0.6666666666666666,
              "#ed7953"
             ],
             [
              0.7777777777777778,
              "#fb9f3a"
             ],
             [
              0.8888888888888888,
              "#fdca26"
             ],
             [
              1,
              "#f0f921"
             ]
            ],
            "type": "contour"
           }
          ],
          "contourcarpet": [
           {
            "colorbar": {
             "outlinewidth": 0,
             "ticks": ""
            },
            "type": "contourcarpet"
           }
          ],
          "heatmap": [
           {
            "colorbar": {
             "outlinewidth": 0,
             "ticks": ""
            },
            "colorscale": [
             [
              0,
              "#0d0887"
             ],
             [
              0.1111111111111111,
              "#46039f"
             ],
             [
              0.2222222222222222,
              "#7201a8"
             ],
             [
              0.3333333333333333,
              "#9c179e"
             ],
             [
              0.4444444444444444,
              "#bd3786"
             ],
             [
              0.5555555555555556,
              "#d8576b"
             ],
             [
              0.6666666666666666,
              "#ed7953"
             ],
             [
              0.7777777777777778,
              "#fb9f3a"
             ],
             [
              0.8888888888888888,
              "#fdca26"
             ],
             [
              1,
              "#f0f921"
             ]
            ],
            "type": "heatmap"
           }
          ],
          "histogram": [
           {
            "marker": {
             "pattern": {
              "fillmode": "overlay",
              "size": 10,
              "solidity": 0.2
             }
            },
            "type": "histogram"
           }
          ],
          "histogram2d": [
           {
            "colorbar": {
             "outlinewidth": 0,
             "ticks": ""
            },
            "colorscale": [
             [
              0,
              "#0d0887"
             ],
             [
              0.1111111111111111,
              "#46039f"
             ],
             [
              0.2222222222222222,
              "#7201a8"
             ],
             [
              0.3333333333333333,
              "#9c179e"
             ],
             [
              0.4444444444444444,
              "#bd3786"
             ],
             [
              0.5555555555555556,
              "#d8576b"
             ],
             [
              0.6666666666666666,
              "#ed7953"
             ],
             [
              0.7777777777777778,
              "#fb9f3a"
             ],
             [
              0.8888888888888888,
              "#fdca26"
             ],
             [
              1,
              "#f0f921"
             ]
            ],
            "type": "histogram2d"
           }
          ],
          "histogram2dcontour": [
           {
            "colorbar": {
             "outlinewidth": 0,
             "ticks": ""
            },
            "colorscale": [
             [
              0,
              "#0d0887"
             ],
             [
              0.1111111111111111,
              "#46039f"
             ],
             [
              0.2222222222222222,
              "#7201a8"
             ],
             [
              0.3333333333333333,
              "#9c179e"
             ],
             [
              0.4444444444444444,
              "#bd3786"
             ],
             [
              0.5555555555555556,
              "#d8576b"
             ],
             [
              0.6666666666666666,
              "#ed7953"
             ],
             [
              0.7777777777777778,
              "#fb9f3a"
             ],
             [
              0.8888888888888888,
              "#fdca26"
             ],
             [
              1,
              "#f0f921"
             ]
            ],
            "type": "histogram2dcontour"
           }
          ],
          "mesh3d": [
           {
            "colorbar": {
             "outlinewidth": 0,
             "ticks": ""
            },
            "type": "mesh3d"
           }
          ],
          "parcoords": [
           {
            "line": {
             "colorbar": {
              "outlinewidth": 0,
              "ticks": ""
             }
            },
            "type": "parcoords"
           }
          ],
          "pie": [
           {
            "automargin": true,
            "type": "pie"
           }
          ],
          "scatter": [
           {
            "fillpattern": {
             "fillmode": "overlay",
             "size": 10,
             "solidity": 0.2
            },
            "type": "scatter"
           }
          ],
          "scatter3d": [
           {
            "line": {
             "colorbar": {
              "outlinewidth": 0,
              "ticks": ""
             }
            },
            "marker": {
             "colorbar": {
              "outlinewidth": 0,
              "ticks": ""
             }
            },
            "type": "scatter3d"
           }
          ],
          "scattercarpet": [
           {
            "marker": {
             "colorbar": {
              "outlinewidth": 0,
              "ticks": ""
             }
            },
            "type": "scattercarpet"
           }
          ],
          "scattergeo": [
           {
            "marker": {
             "colorbar": {
              "outlinewidth": 0,
              "ticks": ""
             }
            },
            "type": "scattergeo"
           }
          ],
          "scattergl": [
           {
            "marker": {
             "colorbar": {
              "outlinewidth": 0,
              "ticks": ""
             }
            },
            "type": "scattergl"
           }
          ],
          "scattermap": [
           {
            "marker": {
             "colorbar": {
              "outlinewidth": 0,
              "ticks": ""
             }
            },
            "type": "scattermap"
           }
          ],
          "scattermapbox": [
           {
            "marker": {
             "colorbar": {
              "outlinewidth": 0,
              "ticks": ""
             }
            },
            "type": "scattermapbox"
           }
          ],
          "scatterpolar": [
           {
            "marker": {
             "colorbar": {
              "outlinewidth": 0,
              "ticks": ""
             }
            },
            "type": "scatterpolar"
           }
          ],
          "scatterpolargl": [
           {
            "marker": {
             "colorbar": {
              "outlinewidth": 0,
              "ticks": ""
             }
            },
            "type": "scatterpolargl"
           }
          ],
          "scatterternary": [
           {
            "marker": {
             "colorbar": {
              "outlinewidth": 0,
              "ticks": ""
             }
            },
            "type": "scatterternary"
           }
          ],
          "surface": [
           {
            "colorbar": {
             "outlinewidth": 0,
             "ticks": ""
            },
            "colorscale": [
             [
              0,
              "#0d0887"
             ],
             [
              0.1111111111111111,
              "#46039f"
             ],
             [
              0.2222222222222222,
              "#7201a8"
             ],
             [
              0.3333333333333333,
              "#9c179e"
             ],
             [
              0.4444444444444444,
              "#bd3786"
             ],
             [
              0.5555555555555556,
              "#d8576b"
             ],
             [
              0.6666666666666666,
              "#ed7953"
             ],
             [
              0.7777777777777778,
              "#fb9f3a"
             ],
             [
              0.8888888888888888,
              "#fdca26"
             ],
             [
              1,
              "#f0f921"
             ]
            ],
            "type": "surface"
           }
          ],
          "table": [
           {
            "cells": {
             "fill": {
              "color": "#EBF0F8"
             },
             "line": {
              "color": "white"
             }
            },
            "header": {
             "fill": {
              "color": "#C8D4E3"
             },
             "line": {
              "color": "white"
             }
            },
            "type": "table"
           }
          ]
         },
         "layout": {
          "annotationdefaults": {
           "arrowcolor": "#2a3f5f",
           "arrowhead": 0,
           "arrowwidth": 1
          },
          "autotypenumbers": "strict",
          "coloraxis": {
           "colorbar": {
            "outlinewidth": 0,
            "ticks": ""
           }
          },
          "colorscale": {
           "diverging": [
            [
             0,
             "#8e0152"
            ],
            [
             0.1,
             "#c51b7d"
            ],
            [
             0.2,
             "#de77ae"
            ],
            [
             0.3,
             "#f1b6da"
            ],
            [
             0.4,
             "#fde0ef"
            ],
            [
             0.5,
             "#f7f7f7"
            ],
            [
             0.6,
             "#e6f5d0"
            ],
            [
             0.7,
             "#b8e186"
            ],
            [
             0.8,
             "#7fbc41"
            ],
            [
             0.9,
             "#4d9221"
            ],
            [
             1,
             "#276419"
            ]
           ],
           "sequential": [
            [
             0,
             "#0d0887"
            ],
            [
             0.1111111111111111,
             "#46039f"
            ],
            [
             0.2222222222222222,
             "#7201a8"
            ],
            [
             0.3333333333333333,
             "#9c179e"
            ],
            [
             0.4444444444444444,
             "#bd3786"
            ],
            [
             0.5555555555555556,
             "#d8576b"
            ],
            [
             0.6666666666666666,
             "#ed7953"
            ],
            [
             0.7777777777777778,
             "#fb9f3a"
            ],
            [
             0.8888888888888888,
             "#fdca26"
            ],
            [
             1,
             "#f0f921"
            ]
           ],
           "sequentialminus": [
            [
             0,
             "#0d0887"
            ],
            [
             0.1111111111111111,
             "#46039f"
            ],
            [
             0.2222222222222222,
             "#7201a8"
            ],
            [
             0.3333333333333333,
             "#9c179e"
            ],
            [
             0.4444444444444444,
             "#bd3786"
            ],
            [
             0.5555555555555556,
             "#d8576b"
            ],
            [
             0.6666666666666666,
             "#ed7953"
            ],
            [
             0.7777777777777778,
             "#fb9f3a"
            ],
            [
             0.8888888888888888,
             "#fdca26"
            ],
            [
             1,
             "#f0f921"
            ]
           ]
          },
          "colorway": [
           "#636efa",
           "#EF553B",
           "#00cc96",
           "#ab63fa",
           "#FFA15A",
           "#19d3f3",
           "#FF6692",
           "#B6E880",
           "#FF97FF",
           "#FECB52"
          ],
          "font": {
           "color": "#2a3f5f"
          },
          "geo": {
           "bgcolor": "white",
           "lakecolor": "white",
           "landcolor": "#E5ECF6",
           "showlakes": true,
           "showland": true,
           "subunitcolor": "white"
          },
          "hoverlabel": {
           "align": "left"
          },
          "hovermode": "closest",
          "mapbox": {
           "style": "light"
          },
          "paper_bgcolor": "white",
          "plot_bgcolor": "#E5ECF6",
          "polar": {
           "angularaxis": {
            "gridcolor": "white",
            "linecolor": "white",
            "ticks": ""
           },
           "bgcolor": "#E5ECF6",
           "radialaxis": {
            "gridcolor": "white",
            "linecolor": "white",
            "ticks": ""
           }
          },
          "scene": {
           "xaxis": {
            "backgroundcolor": "#E5ECF6",
            "gridcolor": "white",
            "gridwidth": 2,
            "linecolor": "white",
            "showbackground": true,
            "ticks": "",
            "zerolinecolor": "white"
           },
           "yaxis": {
            "backgroundcolor": "#E5ECF6",
            "gridcolor": "white",
            "gridwidth": 2,
            "linecolor": "white",
            "showbackground": true,
            "ticks": "",
            "zerolinecolor": "white"
           },
           "zaxis": {
            "backgroundcolor": "#E5ECF6",
            "gridcolor": "white",
            "gridwidth": 2,
            "linecolor": "white",
            "showbackground": true,
            "ticks": "",
            "zerolinecolor": "white"
           }
          },
          "shapedefaults": {
           "line": {
            "color": "#2a3f5f"
           }
          },
          "ternary": {
           "aaxis": {
            "gridcolor": "white",
            "linecolor": "white",
            "ticks": ""
           },
           "baxis": {
            "gridcolor": "white",
            "linecolor": "white",
            "ticks": ""
           },
           "bgcolor": "#E5ECF6",
           "caxis": {
            "gridcolor": "white",
            "linecolor": "white",
            "ticks": ""
           }
          },
          "title": {
           "x": 0.05
          },
          "xaxis": {
           "automargin": true,
           "gridcolor": "white",
           "linecolor": "white",
           "ticks": "",
           "title": {
            "standoff": 15
           },
           "zerolinecolor": "white",
           "zerolinewidth": 2
          },
          "yaxis": {
           "automargin": true,
           "gridcolor": "white",
           "linecolor": "white",
           "ticks": "",
           "title": {
            "standoff": 15
           },
           "zerolinecolor": "white",
           "zerolinewidth": 2
          }
         }
        },
        "title": {
         "text": "Count of Customers by Churn"
        },
        "xaxis": {
         "anchor": "y",
         "categoryarray": [
          "No",
          "Yes"
         ],
         "categoryorder": "array",
         "domain": [
          0,
          1
         ],
         "title": {
          "text": "Churn"
         }
        },
        "yaxis": {
         "anchor": "x",
         "domain": [
          0,
          1
         ],
         "title": {
          "text": "Count"
         }
        }
       }
      }
     },
     "metadata": {},
     "output_type": "display_data"
    }
   ],
   "source": [
    "# ------------------------------------------------\n",
    "# 📝 Seaborn: Countplot for Customer Churn\n",
    "# ------------------------------------------------\n",
    "ax = sns.countplot(x='Churn', data=df)  # Create a count plot for the 'Churn' column\n",
    "\n",
    "ax.bar_label(ax.containers[0])  # Add labels on top of bars to show exact counts\n",
    "plt.title(\"Count of Customers by Churn\")  # Set the plot title\n",
    "plt.show()  # Display the plot\n",
    "\n",
    "# ------------------------------------------------\n",
    "# 📝 Explanation:\n",
    "# ------------------------------------------------\n",
    "# ✅ `sns.countplot(x='Churn', data=df)`: \n",
    "#    - Creates a **bar chart** showing the count of customers who churned vs. those who stayed.\n",
    "#    - 'Churn' is a categorical variable (Yes/No), so countplot is ideal.\n",
    "#\n",
    "# ✅ `ax.bar_label(ax.containers[0])`: \n",
    "#    - Adds **labels** (counts) on top of each bar for better readability.\n",
    "#\n",
    "# ✅ `plt.title(\"Count of Customers by Churn\")`: \n",
    "#    - Sets a **title** to clearly indicate the purpose of the chart.\n",
    "#\n",
    "# ✅ `plt.show()`: \n",
    "#    - Displays the chart.\n",
    "\n",
    "# ------------------------------------------------\n",
    "# 🚀 Next Step: Interactive Plotly Version\n",
    "# ------------------------------------------------\n",
    "\n",
    "# ------------------------------------------------\n",
    "# 📝 Plotly: Interactive Countplot for Customer Churn\n",
    "# ------------------------------------------------\n",
    "fig = px.bar(df['Churn'].value_counts().reset_index(), \n",
    "             x='index',  # The churn categories (Yes/No)\n",
    "             y='Churn',   # The count of each category\n",
    "             text='Churn',  # Display the count as text on bars\n",
    "             color='index',  # Color bars based on churn categories\n",
    "             title=\"Count of Customers by Churn\",  # Chart title\n",
    "             labels={'index': 'Churn', 'Churn': 'Count'},  # Axis labels\n",
    "             color_discrete_sequence=['#636EFA', '#EF553B'])  # Custom colors\n",
    "\n",
    "fig.update_traces(textposition='outside')  # Place labels outside the bars\n",
    "fig.update_layout(xaxis_title=\"Churn\", yaxis_title=\"Count\")  # Label axes\n",
    "\n",
    "fig.show()  # Display the interactive chart\n",
    "\n",
    "# ------------------------------------------------\n",
    "# 📝 Explanation:\n",
    "# ------------------------------------------------\n",
    "# ✅ `df['Churn'].value_counts().reset_index()`: \n",
    "#    - Counts occurrences of each 'Churn' category and resets the index for proper formatting.\n",
    "#\n",
    "# ✅ `px.bar(...)`: \n",
    "#    - Creates a **bar chart** using Plotly.\n",
    "#    - `x='index'`: Represents the 'Yes' and 'No' churn categories.\n",
    "#    - `y='Churn'`: Represents the **count** of each category.\n",
    "#    - `text='Churn'`: Displays count values directly on the bars.\n",
    "#    - `color='index'`: Uses different colors for 'Yes' and 'No' for better visualization.\n",
    "#    - `title=\"Count of Customers by Churn\"`: Sets the title.\n",
    "#    - `labels={'index': 'Churn', 'Churn': 'Count'}`: Renames axes for clarity.\n",
    "#\n",
    "# ✅ `fig.update_traces(textposition='outside')`: \n",
    "#    - Moves count labels **outside** the bars for better readability.\n",
    "#\n",
    "# ✅ `fig.update_layout(...)`: \n",
    "#    - Adjusts axis labels for better clarity.\n",
    "#\n",
    "# ✅ `fig.show()`: \n",
    "#    - Displays the interactive Plotly chart.\n",
    "#\n",
    "# ------------------------------------------------\n",
    "# 🚀 Why Use Plotly?\n",
    "# ------------------------------------------------\n",
    "# ✅ Interactive (hover effects, zooming, dynamic resizing)\n",
    "# ✅ Easier to interpret when exploring large datasets\n",
    "# ✅ Provides clear insights into customer churn trends\n"
   ]
  },
  {
   "cell_type": "code",
   "execution_count": 15,
   "id": "fcb2c132-3121-4189-962d-2517ebe1fb42",
   "metadata": {},
   "outputs": [
    {
     "data": {
      "image/png": "[encoded data removed]",
      "text/plain": [
       "<Figure size 300x400 with 1 Axes>"
      ]
     },
     "metadata": {},
     "output_type": "display_data"
    },
    {
     "data": {
      "application/vnd.plotly.v1+json": {
       "config": {
        "plotlyServerURL": "https://plot.ly"
       },
       "data": [
        {
         "customdata": [
          [
           "No"
          ],
          [
           "Yes"
          ]
         ],
         "domain": {
          "x": [
           0,
           1
          ],
          "y": [
           0,
           1
          ]
         },
         "hole": 0.3,
         "hovertemplate": "label=%{label}<br>value=%{value}<br>color=%{customdata[0]}<extra></extra>",
         "labels": [
          "No",
          "Yes"
         ],
         "legendgroup": "",
         "marker": {
          "colors": [
           "#EF553B",
           "#636EFA"
          ]
         },
         "name": "",
         "showlegend": true,
         "textinfo": "percent+label",
         "type": "pie",
         "values": {
          "bdata": "NhRNBw==",
          "dtype": "i2"
         }
        }
       ],
       "layout": {
        "legend": {
         "tracegroupgap": 0
        },
        "piecolorway": [
         "#EF553B",
         "#636EFA"
        ],
        "template": {
         "data": {
          "bar": [
           {
            "error_x": {
             "color": "#2a3f5f"
            },
            "error_y": {
             "color": "#2a3f5f"
            },
            "marker": {
             "line": {
              "color": "#E5ECF6",
              "width": 0.5
             },
             "pattern": {
              "fillmode": "overlay",
              "size": 10,
              "solidity": 0.2
             }
            },
            "type": "bar"
           }
          ],
          "barpolar": [
           {
            "marker": {
             "line": {
              "color": "#E5ECF6",
              "width": 0.5
             },
             "pattern": {
              "fillmode": "overlay",
              "size": 10,
              "solidity": 0.2
             }
            },
            "type": "barpolar"
           }
          ],
          "carpet": [
           {
            "aaxis": {
             "endlinecolor": "#2a3f5f",
             "gridcolor": "white",
             "linecolor": "white",
             "minorgridcolor": "white",
             "startlinecolor": "#2a3f5f"
            },
            "baxis": {
             "endlinecolor": "#2a3f5f",
             "gridcolor": "white",
             "linecolor": "white",
             "minorgridcolor": "white",
             "startlinecolor": "#2a3f5f"
            },
            "type": "carpet"
           }
          ],
          "choropleth": [
           {
            "colorbar": {
             "outlinewidth": 0,
             "ticks": ""
            },
            "type": "choropleth"
           }
          ],
          "contour": [
           {
            "colorbar": {
             "outlinewidth": 0,
             "ticks": ""
            },
            "colorscale": [
             [
              0,
              "#0d0887"
             ],
             [
              0.1111111111111111,
              "#46039f"
             ],
             [
              0.2222222222222222,
              "#7201a8"
             ],
             [
              0.3333333333333333,
              "#9c179e"
             ],
             [
              0.4444444444444444,
              "#bd3786"
             ],
             [
              0.5555555555555556,
              "#d8576b"
             ],
             [
              0.6666666666666666,
              "#ed7953"
             ],
             [
              0.7777777777777778,
              "#fb9f3a"
             ],
             [
              0.8888888888888888,
              "#fdca26"
             ],
             [
              1,
              "#f0f921"
             ]
            ],
            "type": "contour"
           }
          ],
          "contourcarpet": [
           {
            "colorbar": {
             "outlinewidth": 0,
             "ticks": ""
            },
            "type": "contourcarpet"
           }
          ],
          "heatmap": [
           {
            "colorbar": {
             "outlinewidth": 0,
             "ticks": ""
            },
            "colorscale": [
             [
              0,
              "#0d0887"
             ],
             [
              0.1111111111111111,
              "#46039f"
             ],
             [
              0.2222222222222222,
              "#7201a8"
             ],
             [
              0.3333333333333333,
              "#9c179e"
             ],
             [
              0.4444444444444444,
              "#bd3786"
             ],
             [
              0.5555555555555556,
              "#d8576b"
             ],
             [
              0.6666666666666666,
              "#ed7953"
             ],
             [
              0.7777777777777778,
              "#fb9f3a"
             ],
             [
              0.8888888888888888,
              "#fdca26"
             ],
             [
              1,
              "#f0f921"
             ]
            ],
            "type": "heatmap"
           }
          ],
          "histogram": [
           {
            "marker": {
             "pattern": {
              "fillmode": "overlay",
              "size": 10,
              "solidity": 0.2
             }
            },
            "type": "histogram"
           }
          ],
          "histogram2d": [
           {
            "colorbar": {
             "outlinewidth": 0,
             "ticks": ""
            },
            "colorscale": [
             [
              0,
              "#0d0887"
             ],
             [
              0.1111111111111111,
              "#46039f"
             ],
             [
              0.2222222222222222,
              "#7201a8"
             ],
             [
              0.3333333333333333,
              "#9c179e"
             ],
             [
              0.4444444444444444,
              "#bd3786"
             ],
             [
              0.5555555555555556,
              "#d8576b"
             ],
             [
              0.6666666666666666,
              "#ed7953"
             ],
             [
              0.7777777777777778,
              "#fb9f3a"
             ],
             [
              0.8888888888888888,
              "#fdca26"
             ],
             [
              1,
              "#f0f921"
             ]
            ],
            "type": "histogram2d"
           }
          ],
          "histogram2dcontour": [
           {
            "colorbar": {
             "outlinewidth": 0,
             "ticks": ""
            },
            "colorscale": [
             [
              0,
              "#0d0887"
             ],
             [
              0.1111111111111111,
              "#46039f"
             ],
             [
              0.2222222222222222,
              "#7201a8"
             ],
             [
              0.3333333333333333,
              "#9c179e"
             ],
             [
              0.4444444444444444,
              "#bd3786"
             ],
             [
              0.5555555555555556,
              "#d8576b"
             ],
             [
              0.6666666666666666,
              "#ed7953"
             ],
             [
              0.7777777777777778,
              "#fb9f3a"
             ],
             [
              0.8888888888888888,
              "#fdca26"
             ],
             [
              1,
              "#f0f921"
             ]
            ],
            "type": "histogram2dcontour"
           }
          ],
          "mesh3d": [
           {
            "colorbar": {
             "outlinewidth": 0,
             "ticks": ""
            },
            "type": "mesh3d"
           }
          ],
          "parcoords": [
           {
            "line": {
             "colorbar": {
              "outlinewidth": 0,
              "ticks": ""
             }
            },
            "type": "parcoords"
           }
          ],
          "pie": [
           {
            "automargin": true,
            "type": "pie"
           }
          ],
          "scatter": [
           {
            "fillpattern": {
             "fillmode": "overlay",
             "size": 10,
             "solidity": 0.2
            },
            "type": "scatter"
           }
          ],
          "scatter3d": [
           {
            "line": {
             "colorbar": {
              "outlinewidth": 0,
              "ticks": ""
             }
            },
            "marker": {
             "colorbar": {
              "outlinewidth": 0,
              "ticks": ""
             }
            },
            "type": "scatter3d"
           }
          ],
          "scattercarpet": [
           {
            "marker": {
             "colorbar": {
              "outlinewidth": 0,
              "ticks": ""
             }
            },
            "type": "scattercarpet"
           }
          ],
          "scattergeo": [
           {
            "marker": {
             "colorbar": {
              "outlinewidth": 0,
              "ticks": ""
             }
            },
            "type": "scattergeo"
           }
          ],
          "scattergl": [
           {
            "marker": {
             "colorbar": {
              "outlinewidth": 0,
              "ticks": ""
             }
            },
            "type": "scattergl"
           }
          ],
          "scattermap": [
           {
            "marker": {
             "colorbar": {
              "outlinewidth": 0,
              "ticks": ""
             }
            },
            "type": "scattermap"
           }
          ],
          "scattermapbox": [
           {
            "marker": {
             "colorbar": {
              "outlinewidth": 0,
              "ticks": ""
             }
            },
            "type": "scattermapbox"
           }
          ],
          "scatterpolar": [
           {
            "marker": {
             "colorbar": {
              "outlinewidth": 0,
              "ticks": ""
             }
            },
            "type": "scatterpolar"
           }
          ],
          "scatterpolargl": [
           {
            "marker": {
             "colorbar": {
              "outlinewidth": 0,
              "ticks": ""
             }
            },
            "type": "scatterpolargl"
           }
          ],
          "scatterternary": [
           {
            "marker": {
             "colorbar": {
              "outlinewidth": 0,
              "ticks": ""
             }
            },
            "type": "scatterternary"
           }
          ],
          "surface": [
           {
            "colorbar": {
             "outlinewidth": 0,
             "ticks": ""
            },
            "colorscale": [
             [
              0,
              "#0d0887"
             ],
             [
              0.1111111111111111,
              "#46039f"
             ],
             [
              0.2222222222222222,
              "#7201a8"
             ],
             [
              0.3333333333333333,
              "#9c179e"
             ],
             [
              0.4444444444444444,
              "#bd3786"
             ],
             [
              0.5555555555555556,
              "#d8576b"
             ],
             [
              0.6666666666666666,
              "#ed7953"
             ],
             [
              0.7777777777777778,
              "#fb9f3a"
             ],
             [
              0.8888888888888888,
              "#fdca26"
             ],
             [
              1,
              "#f0f921"
             ]
            ],
            "type": "surface"
           }
          ],
          "table": [
           {
            "cells": {
             "fill": {
              "color": "#EBF0F8"
             },
             "line": {
              "color": "white"
             }
            },
            "header": {
             "fill": {
              "color": "#C8D4E3"
             },
             "line": {
              "color": "white"
             }
            },
            "type": "table"
           }
          ]
         },
         "layout": {
          "annotationdefaults": {
           "arrowcolor": "#2a3f5f",
           "arrowhead": 0,
           "arrowwidth": 1
          },
          "autotypenumbers": "strict",
          "coloraxis": {
           "colorbar": {
            "outlinewidth": 0,
            "ticks": ""
           }
          },
          "colorscale": {
           "diverging": [
            [
             0,
             "#8e0152"
            ],
            [
             0.1,
             "#c51b7d"
            ],
            [
             0.2,
             "#de77ae"
            ],
            [
             0.3,
             "#f1b6da"
            ],
            [
             0.4,
             "#fde0ef"
            ],
            [
             0.5,
             "#f7f7f7"
            ],
            [
             0.6,
             "#e6f5d0"
            ],
            [
             0.7,
             "#b8e186"
            ],
            [
             0.8,
             "#7fbc41"
            ],
            [
             0.9,
             "#4d9221"
            ],
            [
             1,
             "#276419"
            ]
           ],
           "sequential": [
            [
             0,
             "#0d0887"
            ],
            [
             0.1111111111111111,
             "#46039f"
            ],
            [
             0.2222222222222222,
             "#7201a8"
            ],
            [
             0.3333333333333333,
             "#9c179e"
            ],
            [
             0.4444444444444444,
             "#bd3786"
            ],
            [
             0.5555555555555556,
             "#d8576b"
            ],
            [
             0.6666666666666666,
             "#ed7953"
            ],
            [
             0.7777777777777778,
             "#fb9f3a"
            ],
            [
             0.8888888888888888,
             "#fdca26"
            ],
            [
             1,
             "#f0f921"
            ]
           ],
           "sequentialminus": [
            [
             0,
             "#0d0887"
            ],
            [
             0.1111111111111111,
             "#46039f"
            ],
            [
             0.2222222222222222,
             "#7201a8"
            ],
            [
             0.3333333333333333,
             "#9c179e"
            ],
            [
             0.4444444444444444,
             "#bd3786"
            ],
            [
             0.5555555555555556,
             "#d8576b"
            ],
            [
             0.6666666666666666,
             "#ed7953"
            ],
            [
             0.7777777777777778,
             "#fb9f3a"
            ],
            [
             0.8888888888888888,
             "#fdca26"
            ],
            [
             1,
             "#f0f921"
            ]
           ]
          },
          "colorway": [
           "#636efa",
           "#EF553B",
           "#00cc96",
           "#ab63fa",
           "#FFA15A",
           "#19d3f3",
           "#FF6692",
           "#B6E880",
           "#FF97FF",
           "#FECB52"
          ],
          "font": {
           "color": "#2a3f5f"
          },
          "geo": {
           "bgcolor": "white",
           "lakecolor": "white",
           "landcolor": "#E5ECF6",
           "showlakes": true,
           "showland": true,
           "subunitcolor": "white"
          },
          "hoverlabel": {
           "align": "left"
          },
          "hovermode": "closest",
          "mapbox": {
           "style": "light"
          },
          "paper_bgcolor": "white",
          "plot_bgcolor": "#E5ECF6",
          "polar": {
           "angularaxis": {
            "gridcolor": "white",
            "linecolor": "white",
            "ticks": ""
           },
           "bgcolor": "#E5ECF6",
           "radialaxis": {
            "gridcolor": "white",
            "linecolor": "white",
            "ticks": ""
           }
          },
          "scene": {
           "xaxis": {
            "backgroundcolor": "#E5ECF6",
            "gridcolor": "white",
            "gridwidth": 2,
            "linecolor": "white",
            "showbackground": true,
            "ticks": "",
            "zerolinecolor": "white"
           },
           "yaxis": {
            "backgroundcolor": "#E5ECF6",
            "gridcolor": "white",
            "gridwidth": 2,
            "linecolor": "white",
            "showbackground": true,
            "ticks": "",
            "zerolinecolor": "white"
           },
           "zaxis": {
            "backgroundcolor": "#E5ECF6",
            "gridcolor": "white",
            "gridwidth": 2,
            "linecolor": "white",
            "showbackground": true,
            "ticks": "",
            "zerolinecolor": "white"
           }
          },
          "shapedefaults": {
           "line": {
            "color": "#2a3f5f"
           }
          },
          "ternary": {
           "aaxis": {
            "gridcolor": "white",
            "linecolor": "white",
            "ticks": ""
           },
           "baxis": {
            "gridcolor": "white",
            "linecolor": "white",
            "ticks": ""
           },
           "bgcolor": "#E5ECF6",
           "caxis": {
            "gridcolor": "white",
            "linecolor": "white",
            "ticks": ""
           }
          },
          "title": {
           "x": 0.05
          },
          "xaxis": {
           "automargin": true,
           "gridcolor": "white",
           "linecolor": "white",
           "ticks": "",
           "title": {
            "standoff": 15
           },
           "zerolinecolor": "white",
           "zerolinewidth": 2
          },
          "yaxis": {
           "automargin": true,
           "gridcolor": "white",
           "linecolor": "white",
           "ticks": "",
           "title": {
            "standoff": 15
           },
           "zerolinecolor": "white",
           "zerolinewidth": 2
          }
         }
        },
        "title": {
         "text": "Percentage of Churned Customers"
        }
       }
      }
     },
     "metadata": {},
     "output_type": "display_data"
    }
   ],
   "source": [
    "# ------------------------------------------------\n",
    "# 📝 Seaborn/Matplotlib: Pie Chart for Churn Percentage\n",
    "# ------------------------------------------------\n",
    "plt.figure(figsize=(3,4))  # Set the figure size to 3x4 inches\n",
    "\n",
    "# Group by 'Churn' and count occurrences\n",
    "gb = df.groupby(\"Churn\").agg({'Churn': \"count\"})\n",
    "\n",
    "# Create a pie chart\n",
    "plt.pie(gb['Churn'], \n",
    "        labels=gb.index,  # Labels for each category (Yes/No)\n",
    "        autopct=\"%1.2f%%\")  # Display percentage values with 2 decimal places\n",
    "\n",
    "# Set the title of the pie chart\n",
    "plt.title(\"Percentage of Churned Customers\", fontsize=10)\n",
    "\n",
    "# Display the pie chart\n",
    "plt.show()\n",
    "\n",
    "# ------------------------------------------------\n",
    "# 📝 Explanation:\n",
    "# ------------------------------------------------\n",
    "# ✅ `df.groupby(\"Churn\").agg({'Churn': \"count\"})`: \n",
    "#    - Groups data by 'Churn' and counts the number of customers in each category.\n",
    "#\n",
    "# ✅ `plt.pie(...)`: \n",
    "#    - Creates a pie chart from the grouped data.\n",
    "#    - `labels=gb.index`: Uses 'Yes' and 'No' as labels.\n",
    "#    - `autopct=\"%1.2f%%\"`: Displays percentage values with **two decimal places**.\n",
    "#\n",
    "# ✅ `plt.title(\"Percentage of Churned Customers\", fontsize=10)`: \n",
    "#    - Sets the title of the pie chart with font size 10.\n",
    "#\n",
    "# ✅ `plt.show()`: \n",
    "#    - Displays the chart.\n",
    "\n",
    "# ------------------------------------------------\n",
    "# 🚀 Next Step: Interactive Plotly Version\n",
    "# ------------------------------------------------\n",
    "\n",
    "# ------------------------------------------------\n",
    "# 📝 Plotly: Interactive Pie Chart for Churn Percentage\n",
    "# ------------------------------------------------\n",
    "fig = px.pie(values=gb['Churn'],  # Pie chart values (customer count)\n",
    "             names=gb.index,  # Labels ('Yes' and 'No')\n",
    "             title=\"Percentage of Churned Customers\",  # Chart title\n",
    "             hole=0.3,  # Creates a donut-style chart (set to 0 for a full pie)\n",
    "             color=gb.index,  # Different colors for 'Yes' and 'No'\n",
    "             color_discrete_sequence=['#EF553B', '#636EFA'])  # Custom colors\n",
    "\n",
    "fig.update_traces(textinfo='percent+label')  # Show both labels and percentage\n",
    "\n",
    "fig.show()  # Display the interactive chart\n",
    "\n",
    "# ------------------------------------------------\n",
    "# 📝 Explanation:\n",
    "# ------------------------------------------------\n",
    "# ✅ `px.pie(...)`: \n",
    "#    - Creates an **interactive pie chart** using Plotly.\n",
    "#    - `values=gb['Churn']`: Uses customer count as pie segment size.\n",
    "#    - `names=gb.index`: Labels each segment as 'Yes' or 'No'.\n",
    "#    - `title=\"Percentage of Churned Customers\"`: Sets the title.\n",
    "#    - `hole=0.3`: Creates a **donut chart** (optional, set to 0 for a full pie).\n",
    "#    - `color=gb.index`: Assigns different colors to each segment.\n",
    "#    - `color_discrete_sequence=['#EF553B', '#636EFA']`: Custom colors for better readability.\n",
    "#\n",
    "# ✅ `fig.update_traces(textinfo='percent+label')`: \n",
    "#    - Displays both **percentage values** and **labels** on the chart.\n",
    "#\n",
    "# ✅ `fig.show()`: \n",
    "#    - Displays the interactive chart.\n",
    "\n",
    "# ------------------------------------------------\n",
    "# 🚀 Why Use Plotly?\n",
    "# ------------------------------------------------\n",
    "# ✅ Interactive (hover effects, zooming, detailed tooltips)\n",
    "# ✅ Easier to interpret with labels and colors\n",
    "# ✅ Better for presentations and dashboards\n"
   ]
  },
  {
   "cell_type": "markdown",
   "id": "313477df-b289-4b6a-9607-e5d21251dd3d",
   "metadata": {},
   "source": [
    "From the given pie chart we can conclude that 26.54% of our customers have churned out. \n",
    "Not let's explore the reason behind it"
   ]
  },
  {
   "cell_type": "code",
   "execution_count": 18,
   "id": "5f483a8e-21c2-41d5-a054-dc2e2931e0ae",
   "metadata": {},
   "outputs": [
    {
     "data": {
      "image/png": "[encoded data removed]",
      "text/plain": [
       "<Figure size 300x300 with 1 Axes>"
      ]
     },
     "metadata": {},
     "output_type": "display_data"
    },
    {
     "data": {
      "application/vnd.plotly.v1+json": {
       "config": {
        "plotlyServerURL": "https://plot.ly"
       },
       "data": [
        {
         "alignmentgroup": "True",
         "hovertemplate": "Churn=No<br>gender=%{x}<br>Count=%{y}<extra></extra>",
         "legendgroup": "No",
         "marker": {
          "color": "#636EFA",
          "pattern": {
           "shape": ""
          }
         },
         "name": "No",
         "offsetgroup": "No",
         "orientation": "v",
         "showlegend": true,
         "textposition": "auto",
         "type": "bar",
         "x": [
          "Female",
          "Male"
         ],
         "xaxis": "x",
         "y": {
          "bdata": "9QlBCg==",
          "dtype": "i2"
         },
         "yaxis": "y"
        },
        {
         "alignmentgroup": "True",
         "hovertemplate": "Churn=Yes<br>gender=%{x}<br>Count=%{y}<extra></extra>",
         "legendgroup": "Yes",
         "marker": {
          "color": "#EF553B",
          "pattern": {
           "shape": ""
          }
         },
         "name": "Yes",
         "offsetgroup": "Yes",
         "orientation": "v",
         "showlegend": true,
         "textposition": "auto",
         "type": "bar",
         "x": [
          "Female",
          "Male"
         ],
         "xaxis": "x",
         "y": {
          "bdata": "qwOiAw==",
          "dtype": "i2"
         },
         "yaxis": "y"
        }
       ],
       "layout": {
        "barmode": "group",
        "legend": {
         "title": {
          "text": "Churn"
         },
         "tracegroupgap": 0
        },
        "template": {
         "data": {
          "bar": [
           {
            "error_x": {
             "color": "#2a3f5f"
            },
            "error_y": {
             "color": "#2a3f5f"
            },
            "marker": {
             "line": {
              "color": "#E5ECF6",
              "width": 0.5
             },
             "pattern": {
              "fillmode": "overlay",
              "size": 10,
              "solidity": 0.2
             }
            },
            "type": "bar"
           }
          ],
          "barpolar": [
           {
            "marker": {
             "line": {
              "color": "#E5ECF6",
              "width": 0.5
             },
             "pattern": {
              "fillmode": "overlay",
              "size": 10,
              "solidity": 0.2
             }
            },
            "type": "barpolar"
           }
          ],
          "carpet": [
           {
            "aaxis": {
             "endlinecolor": "#2a3f5f",
             "gridcolor": "white",
             "linecolor": "white",
             "minorgridcolor": "white",
             "startlinecolor": "#2a3f5f"
            },
            "baxis": {
             "endlinecolor": "#2a3f5f",
             "gridcolor": "white",
             "linecolor": "white",
             "minorgridcolor": "white",
             "startlinecolor": "#2a3f5f"
            },
            "type": "carpet"
           }
          ],
          "choropleth": [
           {
            "colorbar": {
             "outlinewidth": 0,
             "ticks": ""
            },
            "type": "choropleth"
           }
          ],
          "contour": [
           {
            "colorbar": {
             "outlinewidth": 0,
             "ticks": ""
            },
            "colorscale": [
             [
              0,
              "#0d0887"
             ],
             [
              0.1111111111111111,
              "#46039f"
             ],
             [
              0.2222222222222222,
              "#7201a8"
             ],
             [
              0.3333333333333333,
              "#9c179e"
             ],
             [
              0.4444444444444444,
              "#bd3786"
             ],
             [
              0.5555555555555556,
              "#d8576b"
             ],
             [
              0.6666666666666666,
              "#ed7953"
             ],
             [
              0.7777777777777778,
              "#fb9f3a"
             ],
             [
              0.8888888888888888,
              "#fdca26"
             ],
             [
              1,
              "#f0f921"
             ]
            ],
            "type": "contour"
           }
          ],
          "contourcarpet": [
           {
            "colorbar": {
             "outlinewidth": 0,
             "ticks": ""
            },
            "type": "contourcarpet"
           }
          ],
          "heatmap": [
           {
            "colorbar": {
             "outlinewidth": 0,
             "ticks": ""
            },
            "colorscale": [
             [
              0,
              "#0d0887"
             ],
             [
              0.1111111111111111,
              "#46039f"
             ],
             [
              0.2222222222222222,
              "#7201a8"
             ],
             [
              0.3333333333333333,
              "#9c179e"
             ],
             [
              0.4444444444444444,
              "#bd3786"
             ],
             [
              0.5555555555555556,
              "#d8576b"
             ],
             [
              0.6666666666666666,
              "#ed7953"
             ],
             [
              0.7777777777777778,
              "#fb9f3a"
             ],
             [
              0.8888888888888888,
              "#fdca26"
             ],
             [
              1,
              "#f0f921"
             ]
            ],
            "type": "heatmap"
           }
          ],
          "histogram": [
           {
            "marker": {
             "pattern": {
              "fillmode": "overlay",
              "size": 10,
              "solidity": 0.2
             }
            },
            "type": "histogram"
           }
          ],
          "histogram2d": [
           {
            "colorbar": {
             "outlinewidth": 0,
             "ticks": ""
            },
            "colorscale": [
             [
              0,
              "#0d0887"
             ],
             [
              0.1111111111111111,
              "#46039f"
             ],
             [
              0.2222222222222222,
              "#7201a8"
             ],
             [
              0.3333333333333333,
              "#9c179e"
             ],
             [
              0.4444444444444444,
              "#bd3786"
             ],
             [
              0.5555555555555556,
              "#d8576b"
             ],
             [
              0.6666666666666666,
              "#ed7953"
             ],
             [
              0.7777777777777778,
              "#fb9f3a"
             ],
             [
              0.8888888888888888,
              "#fdca26"
             ],
             [
              1,
              "#f0f921"
             ]
            ],
            "type": "histogram2d"
           }
          ],
          "histogram2dcontour": [
           {
            "colorbar": {
             "outlinewidth": 0,
             "ticks": ""
            },
            "colorscale": [
             [
              0,
              "#0d0887"
             ],
             [
              0.1111111111111111,
              "#46039f"
             ],
             [
              0.2222222222222222,
              "#7201a8"
             ],
             [
              0.3333333333333333,
              "#9c179e"
             ],
             [
              0.4444444444444444,
              "#bd3786"
             ],
             [
              0.5555555555555556,
              "#d8576b"
             ],
             [
              0.6666666666666666,
              "#ed7953"
             ],
             [
              0.7777777777777778,
              "#fb9f3a"
             ],
             [
              0.8888888888888888,
              "#fdca26"
             ],
             [
              1,
              "#f0f921"
             ]
            ],
            "type": "histogram2dcontour"
           }
          ],
          "mesh3d": [
           {
            "colorbar": {
             "outlinewidth": 0,
             "ticks": ""
            },
            "type": "mesh3d"
           }
          ],
          "parcoords": [
           {
            "line": {
             "colorbar": {
              "outlinewidth": 0,
              "ticks": ""
             }
            },
            "type": "parcoords"
           }
          ],
          "pie": [
           {
            "automargin": true,
            "type": "pie"
           }
          ],
          "scatter": [
           {
            "fillpattern": {
             "fillmode": "overlay",
             "size": 10,
             "solidity": 0.2
            },
            "type": "scatter"
           }
          ],
          "scatter3d": [
           {
            "line": {
             "colorbar": {
              "outlinewidth": 0,
              "ticks": ""
             }
            },
            "marker": {
             "colorbar": {
              "outlinewidth": 0,
              "ticks": ""
             }
            },
            "type": "scatter3d"
           }
          ],
          "scattercarpet": [
           {
            "marker": {
             "colorbar": {
              "outlinewidth": 0,
              "ticks": ""
             }
            },
            "type": "scattercarpet"
           }
          ],
          "scattergeo": [
           {
            "marker": {
             "colorbar": {
              "outlinewidth": 0,
              "ticks": ""
             }
            },
            "type": "scattergeo"
           }
          ],
          "scattergl": [
           {
            "marker": {
             "colorbar": {
              "outlinewidth": 0,
              "ticks": ""
             }
            },
            "type": "scattergl"
           }
          ],
          "scattermap": [
           {
            "marker": {
             "colorbar": {
              "outlinewidth": 0,
              "ticks": ""
             }
            },
            "type": "scattermap"
           }
          ],
          "scattermapbox": [
           {
            "marker": {
             "colorbar": {
              "outlinewidth": 0,
              "ticks": ""
             }
            },
            "type": "scattermapbox"
           }
          ],
          "scatterpolar": [
           {
            "marker": {
             "colorbar": {
              "outlinewidth": 0,
              "ticks": ""
             }
            },
            "type": "scatterpolar"
           }
          ],
          "scatterpolargl": [
           {
            "marker": {
             "colorbar": {
              "outlinewidth": 0,
              "ticks": ""
             }
            },
            "type": "scatterpolargl"
           }
          ],
          "scatterternary": [
           {
            "marker": {
             "colorbar": {
              "outlinewidth": 0,
              "ticks": ""
             }
            },
            "type": "scatterternary"
           }
          ],
          "surface": [
           {
            "colorbar": {
             "outlinewidth": 0,
             "ticks": ""
            },
            "colorscale": [
             [
              0,
              "#0d0887"
             ],
             [
              0.1111111111111111,
              "#46039f"
             ],
             [
              0.2222222222222222,
              "#7201a8"
             ],
             [
              0.3333333333333333,
              "#9c179e"
             ],
             [
              0.4444444444444444,
              "#bd3786"
             ],
             [
              0.5555555555555556,
              "#d8576b"
             ],
             [
              0.6666666666666666,
              "#ed7953"
             ],
             [
              0.7777777777777778,
              "#fb9f3a"
             ],
             [
              0.8888888888888888,
              "#fdca26"
             ],
             [
              1,
              "#f0f921"
             ]
            ],
            "type": "surface"
           }
          ],
          "table": [
           {
            "cells": {
             "fill": {
              "color": "#EBF0F8"
             },
             "line": {
              "color": "white"
             }
            },
            "header": {
             "fill": {
              "color": "#C8D4E3"
             },
             "line": {
              "color": "white"
             }
            },
            "type": "table"
           }
          ]
         },
         "layout": {
          "annotationdefaults": {
           "arrowcolor": "#2a3f5f",
           "arrowhead": 0,
           "arrowwidth": 1
          },
          "autotypenumbers": "strict",
          "coloraxis": {
           "colorbar": {
            "outlinewidth": 0,
            "ticks": ""
           }
          },
          "colorscale": {
           "diverging": [
            [
             0,
             "#8e0152"
            ],
            [
             0.1,
             "#c51b7d"
            ],
            [
             0.2,
             "#de77ae"
            ],
            [
             0.3,
             "#f1b6da"
            ],
            [
             0.4,
             "#fde0ef"
            ],
            [
             0.5,
             "#f7f7f7"
            ],
            [
             0.6,
             "#e6f5d0"
            ],
            [
             0.7,
             "#b8e186"
            ],
            [
             0.8,
             "#7fbc41"
            ],
            [
             0.9,
             "#4d9221"
            ],
            [
             1,
             "#276419"
            ]
           ],
           "sequential": [
            [
             0,
             "#0d0887"
            ],
            [
             0.1111111111111111,
             "#46039f"
            ],
            [
             0.2222222222222222,
             "#7201a8"
            ],
            [
             0.3333333333333333,
             "#9c179e"
            ],
            [
             0.4444444444444444,
             "#bd3786"
            ],
            [
             0.5555555555555556,
             "#d8576b"
            ],
            [
             0.6666666666666666,
             "#ed7953"
            ],
            [
             0.7777777777777778,
             "#fb9f3a"
            ],
            [
             0.8888888888888888,
             "#fdca26"
            ],
            [
             1,
             "#f0f921"
            ]
           ],
           "sequentialminus": [
            [
             0,
             "#0d0887"
            ],
            [
             0.1111111111111111,
             "#46039f"
            ],
            [
             0.2222222222222222,
             "#7201a8"
            ],
            [
             0.3333333333333333,
             "#9c179e"
            ],
            [
             0.4444444444444444,
             "#bd3786"
            ],
            [
             0.5555555555555556,
             "#d8576b"
            ],
            [
             0.6666666666666666,
             "#ed7953"
            ],
            [
             0.7777777777777778,
             "#fb9f3a"
            ],
            [
             0.8888888888888888,
             "#fdca26"
            ],
            [
             1,
             "#f0f921"
            ]
           ]
          },
          "colorway": [
           "#636efa",
           "#EF553B",
           "#00cc96",
           "#ab63fa",
           "#FFA15A",
           "#19d3f3",
           "#FF6692",
           "#B6E880",
           "#FF97FF",
           "#FECB52"
          ],
          "font": {
           "color": "#2a3f5f"
          },
          "geo": {
           "bgcolor": "white",
           "lakecolor": "white",
           "landcolor": "#E5ECF6",
           "showlakes": true,
           "showland": true,
           "subunitcolor": "white"
          },
          "hoverlabel": {
           "align": "left"
          },
          "hovermode": "closest",
          "mapbox": {
           "style": "light"
          },
          "paper_bgcolor": "white",
          "plot_bgcolor": "#E5ECF6",
          "polar": {
           "angularaxis": {
            "gridcolor": "white",
            "linecolor": "white",
            "ticks": ""
           },
           "bgcolor": "#E5ECF6",
           "radialaxis": {
            "gridcolor": "white",
            "linecolor": "white",
            "ticks": ""
           }
          },
          "scene": {
           "xaxis": {
            "backgroundcolor": "#E5ECF6",
            "gridcolor": "white",
            "gridwidth": 2,
            "linecolor": "white",
            "showbackground": true,
            "ticks": "",
            "zerolinecolor": "white"
           },
           "yaxis": {
            "backgroundcolor": "#E5ECF6",
            "gridcolor": "white",
            "gridwidth": 2,
            "linecolor": "white",
            "showbackground": true,
            "ticks": "",
            "zerolinecolor": "white"
           },
           "zaxis": {
            "backgroundcolor": "#E5ECF6",
            "gridcolor": "white",
            "gridwidth": 2,
            "linecolor": "white",
            "showbackground": true,
            "ticks": "",
            "zerolinecolor": "white"
           }
          },
          "shapedefaults": {
           "line": {
            "color": "#2a3f5f"
           }
          },
          "ternary": {
           "aaxis": {
            "gridcolor": "white",
            "linecolor": "white",
            "ticks": ""
           },
           "baxis": {
            "gridcolor": "white",
            "linecolor": "white",
            "ticks": ""
           },
           "bgcolor": "#E5ECF6",
           "caxis": {
            "gridcolor": "white",
            "linecolor": "white",
            "ticks": ""
           }
          },
          "title": {
           "x": 0.05
          },
          "xaxis": {
           "automargin": true,
           "gridcolor": "white",
           "linecolor": "white",
           "ticks": "",
           "title": {
            "standoff": 15
           },
           "zerolinecolor": "white",
           "zerolinewidth": 2
          },
          "yaxis": {
           "automargin": true,
           "gridcolor": "white",
           "linecolor": "white",
           "ticks": "",
           "title": {
            "standoff": 15
           },
           "zerolinecolor": "white",
           "zerolinewidth": 2
          }
         }
        },
        "title": {
         "text": "Churn by Gender"
        },
        "xaxis": {
         "anchor": "y",
         "domain": [
          0,
          1
         ],
         "title": {
          "text": "Gender"
         }
        },
        "yaxis": {
         "anchor": "x",
         "domain": [
          0,
          1
         ],
         "title": {
          "text": "Count"
         }
        }
       }
      }
     },
     "metadata": {},
     "output_type": "display_data"
    }
   ],
   "source": [
    "# ------------------------------------------------\n",
    "# 📝 Seaborn/Matplotlib: Countplot for Churn by Gender\n",
    "# ------------------------------------------------\n",
    "plt.figure(figsize=(3,3))  # Set the figure size to 3x3 inches\n",
    "\n",
    "# Create a countplot with 'gender' on the x-axis and Churn differentiation using hue\n",
    "sns.countplot(x=\"gender\", data=df, hue=\"Churn\")\n",
    "\n",
    "# Set the title of the plot\n",
    "plt.title(\"Churn by Gender\")\n",
    "\n",
    "# Display the plot\n",
    "plt.show()\n",
    "\n",
    "# ------------------------------------------------\n",
    "# 📝 Explanation:\n",
    "# ------------------------------------------------\n",
    "# ✅ `plt.figure(figsize=(3,3))`: \n",
    "#    - Defines the figure size (3x3 inches) for better readability.\n",
    "#\n",
    "# ✅ `sns.countplot(x=\"gender\", data=df, hue=\"Churn\")`: \n",
    "#    - Creates a bar chart where the **x-axis represents gender (Male/Female)**.\n",
    "#    - The **y-axis represents the count of customers** in each gender category.\n",
    "#    - The `hue=\"Churn\"` argument splits each gender category into **Churned (Yes/No)**.\n",
    "#\n",
    "# ✅ `plt.title(\"Churn by Gender\")`: \n",
    "#    - Sets the title of the plot.\n",
    "#\n",
    "# ✅ `plt.show()`: \n",
    "#    - Displays the visualization.\n",
    "\n",
    "# ------------------------------------------------\n",
    "# 🚀 Next Step: Interactive Plotly Version\n",
    "# ------------------------------------------------\n",
    "\n",
    "# ------------------------------------------------\n",
    "# 📝 Plotly: Interactive Bar Chart for Churn by Gender\n",
    "# ------------------------------------------------\n",
    "fig = px.bar(df.groupby([\"gender\", \"Churn\"]).size().reset_index(name=\"Count\"),  \n",
    "             x=\"gender\",  \n",
    "             y=\"Count\",  \n",
    "             color=\"Churn\",  \n",
    "             title=\"Churn by Gender\",  \n",
    "             barmode=\"group\",  # Groups the bars side by side\n",
    "             color_discrete_sequence=['#636EFA', '#EF553B'])  # Custom colors\n",
    "\n",
    "fig.update_layout(xaxis_title=\"Gender\", yaxis_title=\"Count\")  # Axis labels\n",
    "fig.show()  # Display the interactive chart\n",
    "\n",
    "# ------------------------------------------------\n",
    "# 📝 Explanation:\n",
    "# ------------------------------------------------\n",
    "# ✅ `df.groupby([\"gender\", \"Churn\"]).size().reset_index(name=\"Count\")`: \n",
    "#    - Groups data by **Gender** and **Churn status**.\n",
    "#    - Counts the number of occurrences in each category.\n",
    "#\n",
    "# ✅ `px.bar(...)`: \n",
    "#    - Creates an **interactive bar chart** using Plotly.\n",
    "#    - `x=\"gender\"`: Puts gender categories (Male/Female) on the x-axis.\n",
    "#    - `y=\"Count\"`: Puts the count of customers on the y-axis.\n",
    "#    - `color=\"Churn\"`: Differentiates Churn (Yes/No) using colors.\n",
    "#    - `barmode=\"group\"`: Places bars **side by side** for easy comparison.\n",
    "#    - `color_discrete_sequence=['#636EFA', '#EF553B']`: Custom colors for clarity.\n",
    "#\n",
    "# ✅ `fig.update_layout(...)`: \n",
    "#    - Adds axis labels for better readability.\n",
    "#\n",
    "# ✅ `fig.show()`: \n",
    "#    - Displays the interactive bar chart.\n",
    "\n",
    "# ------------------------------------------------\n",
    "# 🚀 Why Use Plotly?\n",
    "# ------------------------------------------------\n",
    "# ✅ Interactive: Hover effects, tooltips, zooming, panning.\n",
    "# ✅ Clear comparison of Churned vs Non-Churned for each gender.\n",
    "# ✅ Useful for presentations and business analytics.\n"
   ]
  },
  {
   "cell_type": "code",
   "execution_count": 21,
   "id": "97f91301-a8ca-483c-a689-2852691495f1",
   "metadata": {},
   "outputs": [
    {
     "data": {
      "image/png": "[encoded data removed]",
      "text/plain": [
       "<Figure size 400x400 with 1 Axes>"
      ]
     },
     "metadata": {},
     "output_type": "display_data"
    },
    {
     "data": {
      "application/vnd.plotly.v1+json": {
       "config": {
        "plotlyServerURL": "https://plot.ly"
       },
       "data": [
        {
         "hovertemplate": "SeniorCitizen=%{x}<br>Count=%{y}<extra></extra>",
         "legendgroup": "no",
         "marker": {
          "color": "#636EFA",
          "pattern": {
           "shape": ""
          }
         },
         "name": "no",
         "orientation": "v",
         "showlegend": true,
         "textposition": "auto",
         "type": "bar",
         "x": [
          "no"
         ],
         "xaxis": "x",
         "y": {
          "bdata": "gxs=",
          "dtype": "i2"
         },
         "yaxis": "y"
        }
       ],
       "layout": {
        "barmode": "relative",
        "legend": {
         "title": {
          "text": "SeniorCitizen"
         },
         "tracegroupgap": 0
        },
        "template": {
         "data": {
          "bar": [
           {
            "error_x": {
             "color": "#2a3f5f"
            },
            "error_y": {
             "color": "#2a3f5f"
            },
            "marker": {
             "line": {
              "color": "#E5ECF6",
              "width": 0.5
             },
             "pattern": {
              "fillmode": "overlay",
              "size": 10,
              "solidity": 0.2
             }
            },
            "type": "bar"
           }
          ],
          "barpolar": [
           {
            "marker": {
             "line": {
              "color": "#E5ECF6",
              "width": 0.5
             },
             "pattern": {
              "fillmode": "overlay",
              "size": 10,
              "solidity": 0.2
             }
            },
            "type": "barpolar"
           }
          ],
          "carpet": [
           {
            "aaxis": {
             "endlinecolor": "#2a3f5f",
             "gridcolor": "white",
             "linecolor": "white",
             "minorgridcolor": "white",
             "startlinecolor": "#2a3f5f"
            },
            "baxis": {
             "endlinecolor": "#2a3f5f",
             "gridcolor": "white",
             "linecolor": "white",
             "minorgridcolor": "white",
             "startlinecolor": "#2a3f5f"
            },
            "type": "carpet"
           }
          ],
          "choropleth": [
           {
            "colorbar": {
             "outlinewidth": 0,
             "ticks": ""
            },
            "type": "choropleth"
           }
          ],
          "contour": [
           {
            "colorbar": {
             "outlinewidth": 0,
             "ticks": ""
            },
            "colorscale": [
             [
              0,
              "#0d0887"
             ],
             [
              0.1111111111111111,
              "#46039f"
             ],
             [
              0.2222222222222222,
              "#7201a8"
             ],
             [
              0.3333333333333333,
              "#9c179e"
             ],
             [
              0.4444444444444444,
              "#bd3786"
             ],
             [
              0.5555555555555556,
              "#d8576b"
             ],
             [
              0.6666666666666666,
              "#ed7953"
             ],
             [
              0.7777777777777778,
              "#fb9f3a"
             ],
             [
              0.8888888888888888,
              "#fdca26"
             ],
             [
              1,
              "#f0f921"
             ]
            ],
            "type": "contour"
           }
          ],
          "contourcarpet": [
           {
            "colorbar": {
             "outlinewidth": 0,
             "ticks": ""
            },
            "type": "contourcarpet"
           }
          ],
          "heatmap": [
           {
            "colorbar": {
             "outlinewidth": 0,
             "ticks": ""
            },
            "colorscale": [
             [
              0,
              "#0d0887"
             ],
             [
              0.1111111111111111,
              "#46039f"
             ],
             [
              0.2222222222222222,
              "#7201a8"
             ],
             [
              0.3333333333333333,
              "#9c179e"
             ],
             [
              0.4444444444444444,
              "#bd3786"
             ],
             [
              0.5555555555555556,
              "#d8576b"
             ],
             [
              0.6666666666666666,
              "#ed7953"
             ],
             [
              0.7777777777777778,
              "#fb9f3a"
             ],
             [
              0.8888888888888888,
              "#fdca26"
             ],
             [
              1,
              "#f0f921"
             ]
            ],
            "type": "heatmap"
           }
          ],
          "histogram": [
           {
            "marker": {
             "pattern": {
              "fillmode": "overlay",
              "size": 10,
              "solidity": 0.2
             }
            },
            "type": "histogram"
           }
          ],
          "histogram2d": [
           {
            "colorbar": {
             "outlinewidth": 0,
             "ticks": ""
            },
            "colorscale": [
             [
              0,
              "#0d0887"
             ],
             [
              0.1111111111111111,
              "#46039f"
             ],
             [
              0.2222222222222222,
              "#7201a8"
             ],
             [
              0.3333333333333333,
              "#9c179e"
             ],
             [
              0.4444444444444444,
              "#bd3786"
             ],
             [
              0.5555555555555556,
              "#d8576b"
             ],
             [
              0.6666666666666666,
              "#ed7953"
             ],
             [
              0.7777777777777778,
              "#fb9f3a"
             ],
             [
              0.8888888888888888,
              "#fdca26"
             ],
             [
              1,
              "#f0f921"
             ]
            ],
            "type": "histogram2d"
           }
          ],
          "histogram2dcontour": [
           {
            "colorbar": {
             "outlinewidth": 0,
             "ticks": ""
            },
            "colorscale": [
             [
              0,
              "#0d0887"
             ],
             [
              0.1111111111111111,
              "#46039f"
             ],
             [
              0.2222222222222222,
              "#7201a8"
             ],
             [
              0.3333333333333333,
              "#9c179e"
             ],
             [
              0.4444444444444444,
              "#bd3786"
             ],
             [
              0.5555555555555556,
              "#d8576b"
             ],
             [
              0.6666666666666666,
              "#ed7953"
             ],
             [
              0.7777777777777778,
              "#fb9f3a"
             ],
             [
              0.8888888888888888,
              "#fdca26"
             ],
             [
              1,
              "#f0f921"
             ]
            ],
            "type": "histogram2dcontour"
           }
          ],
          "mesh3d": [
           {
            "colorbar": {
             "outlinewidth": 0,
             "ticks": ""
            },
            "type": "mesh3d"
           }
          ],
          "parcoords": [
           {
            "line": {
             "colorbar": {
              "outlinewidth": 0,
              "ticks": ""
             }
            },
            "type": "parcoords"
           }
          ],
          "pie": [
           {
            "automargin": true,
            "type": "pie"
           }
          ],
          "scatter": [
           {
            "fillpattern": {
             "fillmode": "overlay",
             "size": 10,
             "solidity": 0.2
            },
            "type": "scatter"
           }
          ],
          "scatter3d": [
           {
            "line": {
             "colorbar": {
              "outlinewidth": 0,
              "ticks": ""
             }
            },
            "marker": {
             "colorbar": {
              "outlinewidth": 0,
              "ticks": ""
             }
            },
            "type": "scatter3d"
           }
          ],
          "scattercarpet": [
           {
            "marker": {
             "colorbar": {
              "outlinewidth": 0,
              "ticks": ""
             }
            },
            "type": "scattercarpet"
           }
          ],
          "scattergeo": [
           {
            "marker": {
             "colorbar": {
              "outlinewidth": 0,
              "ticks": ""
             }
            },
            "type": "scattergeo"
           }
          ],
          "scattergl": [
           {
            "marker": {
             "colorbar": {
              "outlinewidth": 0,
              "ticks": ""
             }
            },
            "type": "scattergl"
           }
          ],
          "scattermap": [
           {
            "marker": {
             "colorbar": {
              "outlinewidth": 0,
              "ticks": ""
             }
            },
            "type": "scattermap"
           }
          ],
          "scattermapbox": [
           {
            "marker": {
             "colorbar": {
              "outlinewidth": 0,
              "ticks": ""
             }
            },
            "type": "scattermapbox"
           }
          ],
          "scatterpolar": [
           {
            "marker": {
             "colorbar": {
              "outlinewidth": 0,
              "ticks": ""
             }
            },
            "type": "scatterpolar"
           }
          ],
          "scatterpolargl": [
           {
            "marker": {
             "colorbar": {
              "outlinewidth": 0,
              "ticks": ""
             }
            },
            "type": "scatterpolargl"
           }
          ],
          "scatterternary": [
           {
            "marker": {
             "colorbar": {
              "outlinewidth": 0,
              "ticks": ""
             }
            },
            "type": "scatterternary"
           }
          ],
          "surface": [
           {
            "colorbar": {
             "outlinewidth": 0,
             "ticks": ""
            },
            "colorscale": [
             [
              0,
              "#0d0887"
             ],
             [
              0.1111111111111111,
              "#46039f"
             ],
             [
              0.2222222222222222,
              "#7201a8"
             ],
             [
              0.3333333333333333,
              "#9c179e"
             ],
             [
              0.4444444444444444,
              "#bd3786"
             ],
             [
              0.5555555555555556,
              "#d8576b"
             ],
             [
              0.6666666666666666,
              "#ed7953"
             ],
             [
              0.7777777777777778,
              "#fb9f3a"
             ],
             [
              0.8888888888888888,
              "#fdca26"
             ],
             [
              1,
              "#f0f921"
             ]
            ],
            "type": "surface"
           }
          ],
          "table": [
           {
            "cells": {
             "fill": {
              "color": "#EBF0F8"
             },
             "line": {
              "color": "white"
             }
            },
            "header": {
             "fill": {
              "color": "#C8D4E3"
             },
             "line": {
              "color": "white"
             }
            },
            "type": "table"
           }
          ]
         },
         "layout": {
          "annotationdefaults": {
           "arrowcolor": "#2a3f5f",
           "arrowhead": 0,
           "arrowwidth": 1
          },
          "autotypenumbers": "strict",
          "coloraxis": {
           "colorbar": {
            "outlinewidth": 0,
            "ticks": ""
           }
          },
          "colorscale": {
           "diverging": [
            [
             0,
             "#8e0152"
            ],
            [
             0.1,
             "#c51b7d"
            ],
            [
             0.2,
             "#de77ae"
            ],
            [
             0.3,
             "#f1b6da"
            ],
            [
             0.4,
             "#fde0ef"
            ],
            [
             0.5,
             "#f7f7f7"
            ],
            [
             0.6,
             "#e6f5d0"
            ],
            [
             0.7,
             "#b8e186"
            ],
            [
             0.8,
             "#7fbc41"
            ],
            [
             0.9,
             "#4d9221"
            ],
            [
             1,
             "#276419"
            ]
           ],
           "sequential": [
            [
             0,
             "#0d0887"
            ],
            [
             0.1111111111111111,
             "#46039f"
            ],
            [
             0.2222222222222222,
             "#7201a8"
            ],
            [
             0.3333333333333333,
             "#9c179e"
            ],
            [
             0.4444444444444444,
             "#bd3786"
            ],
            [
             0.5555555555555556,
             "#d8576b"
            ],
            [
             0.6666666666666666,
             "#ed7953"
            ],
            [
             0.7777777777777778,
             "#fb9f3a"
            ],
            [
             0.8888888888888888,
             "#fdca26"
            ],
            [
             1,
             "#f0f921"
            ]
           ],
           "sequentialminus": [
            [
             0,
             "#0d0887"
            ],
            [
             0.1111111111111111,
             "#46039f"
            ],
            [
             0.2222222222222222,
             "#7201a8"
            ],
            [
             0.3333333333333333,
             "#9c179e"
            ],
            [
             0.4444444444444444,
             "#bd3786"
            ],
            [
             0.5555555555555556,
             "#d8576b"
            ],
            [
             0.6666666666666666,
             "#ed7953"
            ],
            [
             0.7777777777777778,
             "#fb9f3a"
            ],
            [
             0.8888888888888888,
             "#fdca26"
            ],
            [
             1,
             "#f0f921"
            ]
           ]
          },
          "colorway": [
           "#636efa",
           "#EF553B",
           "#00cc96",
           "#ab63fa",
           "#FFA15A",
           "#19d3f3",
           "#FF6692",
           "#B6E880",
           "#FF97FF",
           "#FECB52"
          ],
          "font": {
           "color": "#2a3f5f"
          },
          "geo": {
           "bgcolor": "white",
           "lakecolor": "white",
           "landcolor": "#E5ECF6",
           "showlakes": true,
           "showland": true,
           "subunitcolor": "white"
          },
          "hoverlabel": {
           "align": "left"
          },
          "hovermode": "closest",
          "mapbox": {
           "style": "light"
          },
          "paper_bgcolor": "white",
          "plot_bgcolor": "#E5ECF6",
          "polar": {
           "angularaxis": {
            "gridcolor": "white",
            "linecolor": "white",
            "ticks": ""
           },
           "bgcolor": "#E5ECF6",
           "radialaxis": {
            "gridcolor": "white",
            "linecolor": "white",
            "ticks": ""
           }
          },
          "scene": {
           "xaxis": {
            "backgroundcolor": "#E5ECF6",
            "gridcolor": "white",
            "gridwidth": 2,
            "linecolor": "white",
            "showbackground": true,
            "ticks": "",
            "zerolinecolor": "white"
           },
           "yaxis": {
            "backgroundcolor": "#E5ECF6",
            "gridcolor": "white",
            "gridwidth": 2,
            "linecolor": "white",
            "showbackground": true,
            "ticks": "",
            "zerolinecolor": "white"
           },
           "zaxis": {
            "backgroundcolor": "#E5ECF6",
            "gridcolor": "white",
            "gridwidth": 2,
            "linecolor": "white",
            "showbackground": true,
            "ticks": "",
            "zerolinecolor": "white"
           }
          },
          "shapedefaults": {
           "line": {
            "color": "#2a3f5f"
           }
          },
          "ternary": {
           "aaxis": {
            "gridcolor": "white",
            "linecolor": "white",
            "ticks": ""
           },
           "baxis": {
            "gridcolor": "white",
            "linecolor": "white",
            "ticks": ""
           },
           "bgcolor": "#E5ECF6",
           "caxis": {
            "gridcolor": "white",
            "linecolor": "white",
            "ticks": ""
           }
          },
          "title": {
           "x": 0.05
          },
          "xaxis": {
           "automargin": true,
           "gridcolor": "white",
           "linecolor": "white",
           "ticks": "",
           "title": {
            "standoff": 15
           },
           "zerolinecolor": "white",
           "zerolinewidth": 2
          },
          "yaxis": {
           "automargin": true,
           "gridcolor": "white",
           "linecolor": "white",
           "ticks": "",
           "title": {
            "standoff": 15
           },
           "zerolinecolor": "white",
           "zerolinewidth": 2
          }
         }
        },
        "title": {
         "text": "Count of Customers by Senior Citizen"
        },
        "xaxis": {
         "anchor": "y",
         "categoryarray": [
          "no"
         ],
         "categoryorder": "array",
         "domain": [
          0,
          1
         ],
         "title": {
          "text": "Senior Citizen (Yes/No)"
         }
        },
        "yaxis": {
         "anchor": "x",
         "domain": [
          0,
          1
         ],
         "title": {
          "text": "Count"
         }
        }
       }
      }
     },
     "metadata": {},
     "output_type": "display_data"
    }
   ],
   "source": [
    "# ------------------------------------------------\n",
    "# 📝 Seaborn/Matplotlib: Countplot for Senior Citizens\n",
    "# ------------------------------------------------\n",
    "plt.figure(figsize=(4,4))  # Set the figure size to 4x4 inches\n",
    "\n",
    "# Create a countplot for the SeniorCitizen column\n",
    "ax = sns.countplot(x=\"SeniorCitizen\", data=df)\n",
    "\n",
    "# Label bars with their respective counts\n",
    "ax.bar_label(ax.containers[0])\n",
    "\n",
    "# Set the title of the plot\n",
    "plt.title(\"Count of Customers by Senior Citizen\")\n",
    "\n",
    "# Display the plot\n",
    "plt.show()\n",
    "\n",
    "# ------------------------------------------------\n",
    "# 📝 Explanation:\n",
    "# ------------------------------------------------\n",
    "# ✅ `plt.figure(figsize=(4,4))`: \n",
    "#    - Sets the figure size to **4x4 inches** for better readability.\n",
    "#\n",
    "# ✅ `sns.countplot(x=\"SeniorCitizen\", data=df)`: \n",
    "#    - Creates a **bar chart** where:\n",
    "#      - The **x-axis represents whether a customer is a senior citizen ('Yes' or 'No')**.\n",
    "#      - The **y-axis represents the count of customers** in each category.\n",
    "#\n",
    "# ✅ `ax.bar_label(ax.containers[0])`: \n",
    "#    - Adds labels on top of the bars to display the exact count.\n",
    "#\n",
    "# ✅ `plt.title(\"Count of Customers by Senior Citizen\")`: \n",
    "#    - Sets the title for the plot.\n",
    "#\n",
    "# ✅ `plt.show()`: \n",
    "#    - Displays the visualization.\n",
    "\n",
    "# ------------------------------------------------\n",
    "# 🚀 Next Step: Interactive Plotly Version\n",
    "# ------------------------------------------------\n",
    "\n",
    "# ------------------------------------------------\n",
    "# 📝 Plotly: Interactive Bar Chart for Senior Citizen Count\n",
    "# ------------------------------------------------\n",
    "fig = px.bar(df.groupby(\"SeniorCitizen\").size().reset_index(name=\"Count\"),  \n",
    "             x=\"SeniorCitizen\",  \n",
    "             y=\"Count\",  \n",
    "             title=\"Count of Customers by Senior Citizen\",  \n",
    "             color=\"SeniorCitizen\",  \n",
    "             color_discrete_sequence=['#636EFA', '#EF553B'])  # Custom colors\n",
    "\n",
    "fig.update_layout(xaxis_title=\"Senior Citizen (Yes/No)\", yaxis_title=\"Count\")  # Axis labels\n",
    "fig.show()  # Display the interactive chart\n",
    "\n",
    "# ------------------------------------------------\n",
    "# 📝 Explanation:\n",
    "# ------------------------------------------------\n",
    "# ✅ `df.groupby(\"SeniorCitizen\").size().reset_index(name=\"Count\")`: \n",
    "#    - Groups data by **SeniorCitizen** category ('Yes' or 'No').\n",
    "#    - Counts the number of customers in each category.\n",
    "#\n",
    "# ✅ `px.bar(...)`: \n",
    "#    - Creates an **interactive bar chart** using Plotly.\n",
    "#    - `x=\"SeniorCitizen\"`: Puts **SeniorCitizen categories (Yes/No)** on the x-axis.\n",
    "#    - `y=\"Count\"`: Displays the **customer count** on the y-axis.\n",
    "#    - `color=\"SeniorCitizen\"`: Uses different colors for **'Yes' and 'No'**.\n",
    "#    - `color_discrete_sequence=['#636EFA', '#EF553B']`: Defines custom colors.\n",
    "#\n",
    "# ✅ `fig.update_layout(...)`: \n",
    "#    - Adds axis labels for better understanding.\n",
    "#\n",
    "# ✅ `fig.show()`: \n",
    "#    - Displays the interactive bar chart.\n",
    "\n",
    "# ------------------------------------------------\n",
    "# 🚀 Why Use Plotly?\n",
    "# ------------------------------------------------\n",
    "# ✅ Interactive: Hover tooltips, zooming, and filtering.\n",
    "# ✅ Clearly differentiates **Senior Citizens vs Non-Senior Citizens**.\n",
    "# ✅ Useful for business insights and dashboard reporting.\n"
   ]
  },
  {
   "cell_type": "code",
   "execution_count": 24,
   "id": "24784c2d-2e11-40fe-9519-2b4e515ffc82",
   "metadata": {},
   "outputs": [
    {
     "data": {
      "image/png": "[encoded data removed]",
      "text/plain": [
       "<Figure size 400x400 with 1 Axes>"
      ]
     },
     "metadata": {},
     "output_type": "display_data"
    },
    {
     "data": {
      "application/vnd.plotly.v1+json": {
       "config": {
        "plotlyServerURL": "https://plot.ly"
       },
       "data": [
        {
         "hovertemplate": "variable=No<br>Senior Citizen=%{x}<br>Percentage (%)=%{y}<extra></extra>",
         "legendgroup": "No",
         "marker": {
          "color": "#1f77b4",
          "pattern": {
           "shape": ""
          }
         },
         "name": "No",
         "orientation": "v",
         "showlegend": true,
         "textposition": "auto",
         "texttemplate": "%{y:.1f%%}",
         "type": "bar",
         "x": [
          "no"
         ],
         "xaxis": "x",
         "y": {
          "bdata": "6u7xAKJdUkA=",
          "dtype": "f8"
         },
         "yaxis": "y"
        },
        {
         "hovertemplate": "variable=Yes<br>Senior Citizen=%{x}<br>Percentage (%)=%{y}<extra></extra>",
         "legendgroup": "Yes",
         "marker": {
          "color": "#ff7f0e",
          "pattern": {
           "shape": ""
          }
         },
         "name": "Yes",
         "orientation": "v",
         "showlegend": true,
         "textposition": "auto",
         "texttemplate": "%{y:.1f%%}",
         "type": "bar",
         "x": [
          "no"
         ],
         "xaxis": "x",
         "y": {
          "bdata": "VkQ4/HeJOkA=",
          "dtype": "f8"
         },
         "yaxis": "y"
        }
       ],
       "layout": {
        "bargap": 0.1,
        "barmode": "stack",
        "legend": {
         "title": {
          "text": "Churn"
         },
         "tracegroupgap": 0
        },
        "template": {
         "data": {
          "bar": [
           {
            "error_x": {
             "color": "#2a3f5f"
            },
            "error_y": {
             "color": "#2a3f5f"
            },
            "marker": {
             "line": {
              "color": "#E5ECF6",
              "width": 0.5
             },
             "pattern": {
              "fillmode": "overlay",
              "size": 10,
              "solidity": 0.2
             }
            },
            "type": "bar"
           }
          ],
          "barpolar": [
           {
            "marker": {
             "line": {
              "color": "#E5ECF6",
              "width": 0.5
             },
             "pattern": {
              "fillmode": "overlay",
              "size": 10,
              "solidity": 0.2
             }
            },
            "type": "barpolar"
           }
          ],
          "carpet": [
           {
            "aaxis": {
             "endlinecolor": "#2a3f5f",
             "gridcolor": "white",
             "linecolor": "white",
             "minorgridcolor": "white",
             "startlinecolor": "#2a3f5f"
            },
            "baxis": {
             "endlinecolor": "#2a3f5f",
             "gridcolor": "white",
             "linecolor": "white",
             "minorgridcolor": "white",
             "startlinecolor": "#2a3f5f"
            },
            "type": "carpet"
           }
          ],
          "choropleth": [
           {
            "colorbar": {
             "outlinewidth": 0,
             "ticks": ""
            },
            "type": "choropleth"
           }
          ],
          "contour": [
           {
            "colorbar": {
             "outlinewidth": 0,
             "ticks": ""
            },
            "colorscale": [
             [
              0,
              "#0d0887"
             ],
             [
              0.1111111111111111,
              "#46039f"
             ],
             [
              0.2222222222222222,
              "#7201a8"
             ],
             [
              0.3333333333333333,
              "#9c179e"
             ],
             [
              0.4444444444444444,
              "#bd3786"
             ],
             [
              0.5555555555555556,
              "#d8576b"
             ],
             [
              0.6666666666666666,
              "#ed7953"
             ],
             [
              0.7777777777777778,
              "#fb9f3a"
             ],
             [
              0.8888888888888888,
              "#fdca26"
             ],
             [
              1,
              "#f0f921"
             ]
            ],
            "type": "contour"
           }
          ],
          "contourcarpet": [
           {
            "colorbar": {
             "outlinewidth": 0,
             "ticks": ""
            },
            "type": "contourcarpet"
           }
          ],
          "heatmap": [
           {
            "colorbar": {
             "outlinewidth": 0,
             "ticks": ""
            },
            "colorscale": [
             [
              0,
              "#0d0887"
             ],
             [
              0.1111111111111111,
              "#46039f"
             ],
             [
              0.2222222222222222,
              "#7201a8"
             ],
             [
              0.3333333333333333,
              "#9c179e"
             ],
             [
              0.4444444444444444,
              "#bd3786"
             ],
             [
              0.5555555555555556,
              "#d8576b"
             ],
             [
              0.6666666666666666,
              "#ed7953"
             ],
             [
              0.7777777777777778,
              "#fb9f3a"
             ],
             [
              0.8888888888888888,
              "#fdca26"
             ],
             [
              1,
              "#f0f921"
             ]
            ],
            "type": "heatmap"
           }
          ],
          "histogram": [
           {
            "marker": {
             "pattern": {
              "fillmode": "overlay",
              "size": 10,
              "solidity": 0.2
             }
            },
            "type": "histogram"
           }
          ],
          "histogram2d": [
           {
            "colorbar": {
             "outlinewidth": 0,
             "ticks": ""
            },
            "colorscale": [
             [
              0,
              "#0d0887"
             ],
             [
              0.1111111111111111,
              "#46039f"
             ],
             [
              0.2222222222222222,
              "#7201a8"
             ],
             [
              0.3333333333333333,
              "#9c179e"
             ],
             [
              0.4444444444444444,
              "#bd3786"
             ],
             [
              0.5555555555555556,
              "#d8576b"
             ],
             [
              0.6666666666666666,
              "#ed7953"
             ],
             [
              0.7777777777777778,
              "#fb9f3a"
             ],
             [
              0.8888888888888888,
              "#fdca26"
             ],
             [
              1,
              "#f0f921"
             ]
            ],
            "type": "histogram2d"
           }
          ],
          "histogram2dcontour": [
           {
            "colorbar": {
             "outlinewidth": 0,
             "ticks": ""
            },
            "colorscale": [
             [
              0,
              "#0d0887"
             ],
             [
              0.1111111111111111,
              "#46039f"
             ],
             [
              0.2222222222222222,
              "#7201a8"
             ],
             [
              0.3333333333333333,
              "#9c179e"
             ],
             [
              0.4444444444444444,
              "#bd3786"
             ],
             [
              0.5555555555555556,
              "#d8576b"
             ],
             [
              0.6666666666666666,
              "#ed7953"
             ],
             [
              0.7777777777777778,
              "#fb9f3a"
             ],
             [
              0.8888888888888888,
              "#fdca26"
             ],
             [
              1,
              "#f0f921"
             ]
            ],
            "type": "histogram2dcontour"
           }
          ],
          "mesh3d": [
           {
            "colorbar": {
             "outlinewidth": 0,
             "ticks": ""
            },
            "type": "mesh3d"
           }
          ],
          "parcoords": [
           {
            "line": {
             "colorbar": {
              "outlinewidth": 0,
              "ticks": ""
             }
            },
            "type": "parcoords"
           }
          ],
          "pie": [
           {
            "automargin": true,
            "type": "pie"
           }
          ],
          "scatter": [
           {
            "fillpattern": {
             "fillmode": "overlay",
             "size": 10,
             "solidity": 0.2
            },
            "type": "scatter"
           }
          ],
          "scatter3d": [
           {
            "line": {
             "colorbar": {
              "outlinewidth": 0,
              "ticks": ""
             }
            },
            "marker": {
             "colorbar": {
              "outlinewidth": 0,
              "ticks": ""
             }
            },
            "type": "scatter3d"
           }
          ],
          "scattercarpet": [
           {
            "marker": {
             "colorbar": {
              "outlinewidth": 0,
              "ticks": ""
             }
            },
            "type": "scattercarpet"
           }
          ],
          "scattergeo": [
           {
            "marker": {
             "colorbar": {
              "outlinewidth": 0,
              "ticks": ""
             }
            },
            "type": "scattergeo"
           }
          ],
          "scattergl": [
           {
            "marker": {
             "colorbar": {
              "outlinewidth": 0,
              "ticks": ""
             }
            },
            "type": "scattergl"
           }
          ],
          "scattermap": [
           {
            "marker": {
             "colorbar": {
              "outlinewidth": 0,
              "ticks": ""
             }
            },
            "type": "scattermap"
           }
          ],
          "scattermapbox": [
           {
            "marker": {
             "colorbar": {
              "outlinewidth": 0,
              "ticks": ""
             }
            },
            "type": "scattermapbox"
           }
          ],
          "scatterpolar": [
           {
            "marker": {
             "colorbar": {
              "outlinewidth": 0,
              "ticks": ""
             }
            },
            "type": "scatterpolar"
           }
          ],
          "scatterpolargl": [
           {
            "marker": {
             "colorbar": {
              "outlinewidth": 0,
              "ticks": ""
             }
            },
            "type": "scatterpolargl"
           }
          ],
          "scatterternary": [
           {
            "marker": {
             "colorbar": {
              "outlinewidth": 0,
              "ticks": ""
             }
            },
            "type": "scatterternary"
           }
          ],
          "surface": [
           {
            "colorbar": {
             "outlinewidth": 0,
             "ticks": ""
            },
            "colorscale": [
             [
              0,
              "#0d0887"
             ],
             [
              0.1111111111111111,
              "#46039f"
             ],
             [
              0.2222222222222222,
              "#7201a8"
             ],
             [
              0.3333333333333333,
              "#9c179e"
             ],
             [
              0.4444444444444444,
              "#bd3786"
             ],
             [
              0.5555555555555556,
              "#d8576b"
             ],
             [
              0.6666666666666666,
              "#ed7953"
             ],
             [
              0.7777777777777778,
              "#fb9f3a"
             ],
             [
              0.8888888888888888,
              "#fdca26"
             ],
             [
              1,
              "#f0f921"
             ]
            ],
            "type": "surface"
           }
          ],
          "table": [
           {
            "cells": {
             "fill": {
              "color": "#EBF0F8"
             },
             "line": {
              "color": "white"
             }
            },
            "header": {
             "fill": {
              "color": "#C8D4E3"
             },
             "line": {
              "color": "white"
             }
            },
            "type": "table"
           }
          ]
         },
         "layout": {
          "annotationdefaults": {
           "arrowcolor": "#2a3f5f",
           "arrowhead": 0,
           "arrowwidth": 1
          },
          "autotypenumbers": "strict",
          "coloraxis": {
           "colorbar": {
            "outlinewidth": 0,
            "ticks": ""
           }
          },
          "colorscale": {
           "diverging": [
            [
             0,
             "#8e0152"
            ],
            [
             0.1,
             "#c51b7d"
            ],
            [
             0.2,
             "#de77ae"
            ],
            [
             0.3,
             "#f1b6da"
            ],
            [
             0.4,
             "#fde0ef"
            ],
            [
             0.5,
             "#f7f7f7"
            ],
            [
             0.6,
             "#e6f5d0"
            ],
            [
             0.7,
             "#b8e186"
            ],
            [
             0.8,
             "#7fbc41"
            ],
            [
             0.9,
             "#4d9221"
            ],
            [
             1,
             "#276419"
            ]
           ],
           "sequential": [
            [
             0,
             "#0d0887"
            ],
            [
             0.1111111111111111,
             "#46039f"
            ],
            [
             0.2222222222222222,
             "#7201a8"
            ],
            [
             0.3333333333333333,
             "#9c179e"
            ],
            [
             0.4444444444444444,
             "#bd3786"
            ],
            [
             0.5555555555555556,
             "#d8576b"
            ],
            [
             0.6666666666666666,
             "#ed7953"
            ],
            [
             0.7777777777777778,
             "#fb9f3a"
            ],
            [
             0.8888888888888888,
             "#fdca26"
            ],
            [
             1,
             "#f0f921"
            ]
           ],
           "sequentialminus": [
            [
             0,
             "#0d0887"
            ],
            [
             0.1111111111111111,
             "#46039f"
            ],
            [
             0.2222222222222222,
             "#7201a8"
            ],
            [
             0.3333333333333333,
             "#9c179e"
            ],
            [
             0.4444444444444444,
             "#bd3786"
            ],
            [
             0.5555555555555556,
             "#d8576b"
            ],
            [
             0.6666666666666666,
             "#ed7953"
            ],
            [
             0.7777777777777778,
             "#fb9f3a"
            ],
            [
             0.8888888888888888,
             "#fdca26"
            ],
            [
             1,
             "#f0f921"
            ]
           ]
          },
          "colorway": [
           "#636efa",
           "#EF553B",
           "#00cc96",
           "#ab63fa",
           "#FFA15A",
           "#19d3f3",
           "#FF6692",
           "#B6E880",
           "#FF97FF",
           "#FECB52"
          ],
          "font": {
           "color": "#2a3f5f"
          },
          "geo": {
           "bgcolor": "white",
           "lakecolor": "white",
           "landcolor": "#E5ECF6",
           "showlakes": true,
           "showland": true,
           "subunitcolor": "white"
          },
          "hoverlabel": {
           "align": "left"
          },
          "hovermode": "closest",
          "mapbox": {
           "style": "light"
          },
          "paper_bgcolor": "white",
          "plot_bgcolor": "#E5ECF6",
          "polar": {
           "angularaxis": {
            "gridcolor": "white",
            "linecolor": "white",
            "ticks": ""
           },
           "bgcolor": "#E5ECF6",
           "radialaxis": {
            "gridcolor": "white",
            "linecolor": "white",
            "ticks": ""
           }
          },
          "scene": {
           "xaxis": {
            "backgroundcolor": "#E5ECF6",
            "gridcolor": "white",
            "gridwidth": 2,
            "linecolor": "white",
            "showbackground": true,
            "ticks": "",
            "zerolinecolor": "white"
           },
           "yaxis": {
            "backgroundcolor": "#E5ECF6",
            "gridcolor": "white",
            "gridwidth": 2,
            "linecolor": "white",
            "showbackground": true,
            "ticks": "",
            "zerolinecolor": "white"
           },
           "zaxis": {
            "backgroundcolor": "#E5ECF6",
            "gridcolor": "white",
            "gridwidth": 2,
            "linecolor": "white",
            "showbackground": true,
            "ticks": "",
            "zerolinecolor": "white"
           }
          },
          "shapedefaults": {
           "line": {
            "color": "#2a3f5f"
           }
          },
          "ternary": {
           "aaxis": {
            "gridcolor": "white",
            "linecolor": "white",
            "ticks": ""
           },
           "baxis": {
            "gridcolor": "white",
            "linecolor": "white",
            "ticks": ""
           },
           "bgcolor": "#E5ECF6",
           "caxis": {
            "gridcolor": "white",
            "linecolor": "white",
            "ticks": ""
           }
          },
          "title": {
           "x": 0.05
          },
          "xaxis": {
           "automargin": true,
           "gridcolor": "white",
           "linecolor": "white",
           "ticks": "",
           "title": {
            "standoff": 15
           },
           "zerolinecolor": "white",
           "zerolinewidth": 2
          },
          "yaxis": {
           "automargin": true,
           "gridcolor": "white",
           "linecolor": "white",
           "ticks": "",
           "title": {
            "standoff": 15
           },
           "zerolinecolor": "white",
           "zerolinewidth": 2
          }
         }
        },
        "title": {
         "text": "Churn by Senior Citizen (Stacked Bar Chart)"
        },
        "xaxis": {
         "anchor": "y",
         "domain": [
          0,
          1
         ],
         "title": {
          "text": "Senior Citizen"
         }
        },
        "yaxis": {
         "anchor": "x",
         "domain": [
          0,
          1
         ],
         "title": {
          "text": "Percentage (%)"
         }
        }
       }
      }
     },
     "metadata": {},
     "output_type": "display_data"
    }
   ],
   "source": [
    "# ------------------------------------------------\n",
    "# 📝 Seaborn/Matplotlib: Stacked Bar Chart for Churn by Senior Citizen\n",
    "# ------------------------------------------------\n",
    "\n",
    "# Calculate the percentage of Churn for Senior Citizens\n",
    "total_counts = df.groupby('SeniorCitizen')['Churn'].value_counts(normalize=True).unstack() * 100\n",
    "\n",
    "# Create a figure and axis with a fixed size for better visualization\n",
    "fig, ax = plt.subplots(figsize=(4, 4))\n",
    "\n",
    "# Create a stacked bar chart\n",
    "total_counts.plot(kind='bar', stacked=True, ax=ax, color=['#1f77b4', '#ff7f0e'])  # Colors: Blue and Orange\n",
    "\n",
    "# Add percentage labels on the bars\n",
    "for p in ax.patches:\n",
    "    width, height = p.get_width(), p.get_height()\n",
    "    x, y = p.get_xy()\n",
    "    ax.text(x + width / 2, y + height / 2, f'{height:.1f}%', ha='center', va='center')\n",
    "\n",
    "# Title and labels\n",
    "plt.title('Churn by Senior Citizen (Stacked Bar Chart)')\n",
    "plt.xlabel('Senior Citizen')\n",
    "plt.ylabel('Percentage (%)')\n",
    "plt.xticks(rotation=0)\n",
    "plt.legend(title='Churn', bbox_to_anchor=(0.9, 0.9))  # Customize legend position\n",
    "\n",
    "# Show the plot\n",
    "plt.show()\n",
    "\n",
    "# ------------------------------------------------\n",
    "# 📝 Explanation:\n",
    "# ------------------------------------------------\n",
    "# ✅ `df.groupby('SeniorCitizen')['Churn'].value_counts(normalize=True).unstack() * 100`: \n",
    "#    - Groups data by **SeniorCitizen**.\n",
    "#    - Counts the proportion of churn (`normalize=True`) and converts it to percentages (`* 100`).\n",
    "#\n",
    "# ✅ `total_counts.plot(kind='bar', stacked=True, ax=ax, color=['#1f77b4', '#ff7f0e'])`: \n",
    "#    - Creates a **stacked bar chart**.\n",
    "#    - Uses two colors to differentiate **Churned vs Not Churned customers**.\n",
    "#\n",
    "# ✅ `ax.text(x + width / 2, y + height / 2, f'{height:.1f}%', ha='center', va='center')`: \n",
    "#    - Adds percentage values inside the bars.\n",
    "#\n",
    "# ✅ `plt.legend(title='Churn', bbox_to_anchor=(0.9, 0.9))`: \n",
    "#    - Adds a legend to differentiate churn labels.\n",
    "\n",
    "# ------------------------------------------------\n",
    "# 🚀 Next Step: Interactive Plotly Version\n",
    "# ------------------------------------------------\n",
    "\n",
    "# ------------------------------------------------\n",
    "# 📝 Plotly: Interactive Stacked Bar Chart for Churn by Senior Citizen\n",
    "# ------------------------------------------------\n",
    "fig = px.bar(\n",
    "    total_counts.reset_index(),\n",
    "    x=\"SeniorCitizen\",\n",
    "    y=[\"No\", \"Yes\"],  # 'No' and 'Yes' represent Churn categories\n",
    "    title=\"Churn by Senior Citizen (Stacked Bar Chart)\",\n",
    "    labels={\"value\": \"Percentage (%)\", \"SeniorCitizen\": \"Senior Citizen\"},\n",
    "    barmode=\"stack\",\n",
    "    text_auto=\".1f%%\",  # Display percentages\n",
    "    color_discrete_sequence=[\"#1f77b4\", \"#ff7f0e\"]  # Set colors\n",
    ")\n",
    "\n",
    "# Update layout for better visualization\n",
    "fig.update_layout(\n",
    "    yaxis_title=\"Percentage (%)\",\n",
    "    xaxis_title=\"Senior Citizen\",\n",
    "    legend_title=\"Churn\",\n",
    "    bargap=0.1  # Reduce gap between bars\n",
    ")\n",
    "\n",
    "# Show interactive visualization\n",
    "fig.show()\n",
    "\n",
    "# ------------------------------------------------\n",
    "# 📝 Explanation:\n",
    "# ------------------------------------------------\n",
    "# ✅ `px.bar(...)`:\n",
    "#    - Creates an **interactive stacked bar chart** using Plotly.\n",
    "#    - `x=\"SeniorCitizen\"`: Puts **Senior Citizen categories** on the x-axis.\n",
    "#    - `y=[\"No\", \"Yes\"]`: Uses **Churn categories** as the stacked values.\n",
    "#    - `barmode=\"stack\"`: Ensures bars are **stacked on top of each other**.\n",
    "#    - `text_auto=\".1f%%\"`: Displays **percentage values** on bars.\n",
    "#    - `color_discrete_sequence=[\"#1f77b4\", \"#ff7f0e\"]`: Defines **custom colors**.\n",
    "#\n",
    "# ✅ `fig.update_layout(...)`:\n",
    "#    - Customizes **axis titles, legend title, and bar spacing**.\n",
    "#\n",
    "# ✅ `fig.show()`: \n",
    "#    - Displays the **interactive Plotly chart**.\n",
    "#\n",
    "# ------------------------------------------------\n",
    "# 🚀 Why Use Plotly?\n",
    "# ------------------------------------------------\n",
    "# ✅ **Hover Tooltips**: See exact values by hovering over bars.\n",
    "# ✅ **Interactive Features**: Click legend items to filter data.\n",
    "# ✅ **Clearer Insights**: Makes it easier to analyze customer churn trends.\n"
   ]
  },
  {
   "cell_type": "markdown",
   "id": "961e108e-a54e-4b4c-8c9b-07f1f63651e1",
   "metadata": {},
   "source": [
    "comparative a greater pecentage of people in senior citizen category have churned"
   ]
  },
  {
   "cell_type": "code",
   "execution_count": 25,
   "id": "7545e7a1-b155-4768-b280-339cbd4e4437",
   "metadata": {},
   "outputs": [
    {
     "data": {
      "image/png": "[encoded data removed]",
      "text/plain": [
       "<Figure size 900x400 with 1 Axes>"
      ]
     },
     "metadata": {},
     "output_type": "display_data"
    },
    {
     "data": {
      "application/vnd.plotly.v1+json": {
       "config": {
        "plotlyServerURL": "https://plot.ly"
       },
       "data": [
        {
         "bingroup": "x",
         "hovertemplate": "Churn=No<br>Tenure (Months)=%{x}<br>count=%{y}<extra></extra>",
         "legendgroup": "No",
         "marker": {
          "color": "#3498DB",
          "opacity": 0.7,
          "pattern": {
           "shape": ""
          }
         },
         "name": "No",
         "nbinsx": 72,
         "orientation": "v",
         "showlegend": true,
         "type": "histogram",
         "x": {
          "bdata": "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",
          "dtype": "i1"
         },
         "xaxis": "x",
         "yaxis": "y"
        },
        {
         "bingroup": "x",
         "hovertemplate": "Churn=Yes<br>Tenure (Months)=%{x}<br>count=%{y}<extra></extra>",
         "legendgroup": "Yes",
         "marker": {
          "color": "#FF5733",
          "opacity": 0.7,
          "pattern": {
           "shape": ""
          }
         },
         "name": "Yes",
         "nbinsx": 72,
         "orientation": "v",
         "showlegend": true,
         "type": "histogram",
         "x": {
          "bdata": "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",
          "dtype": "i1"
         },
         "xaxis": "x",
         "yaxis": "y"
        }
       ],
       "layout": {
        "bargap": 0.05,
        "barmode": "overlay",
        "legend": {
         "title": {
          "text": "Churn"
         },
         "tracegroupgap": 0
        },
        "template": {
         "data": {
          "bar": [
           {
            "error_x": {
             "color": "#2a3f5f"
            },
            "error_y": {
             "color": "#2a3f5f"
            },
            "marker": {
             "line": {
              "color": "#E5ECF6",
              "width": 0.5
             },
             "pattern": {
              "fillmode": "overlay",
              "size": 10,
              "solidity": 0.2
             }
            },
            "type": "bar"
           }
          ],
          "barpolar": [
           {
            "marker": {
             "line": {
              "color": "#E5ECF6",
              "width": 0.5
             },
             "pattern": {
              "fillmode": "overlay",
              "size": 10,
              "solidity": 0.2
             }
            },
            "type": "barpolar"
           }
          ],
          "carpet": [
           {
            "aaxis": {
             "endlinecolor": "#2a3f5f",
             "gridcolor": "white",
             "linecolor": "white",
             "minorgridcolor": "white",
             "startlinecolor": "#2a3f5f"
            },
            "baxis": {
             "endlinecolor": "#2a3f5f",
             "gridcolor": "white",
             "linecolor": "white",
             "minorgridcolor": "white",
             "startlinecolor": "#2a3f5f"
            },
            "type": "carpet"
           }
          ],
          "choropleth": [
           {
            "colorbar": {
             "outlinewidth": 0,
             "ticks": ""
            },
            "type": "choropleth"
           }
          ],
          "contour": [
           {
            "colorbar": {
             "outlinewidth": 0,
             "ticks": ""
            },
            "colorscale": [
             [
              0,
              "#0d0887"
             ],
             [
              0.1111111111111111,
              "#46039f"
             ],
             [
              0.2222222222222222,
              "#7201a8"
             ],
             [
              0.3333333333333333,
              "#9c179e"
             ],
             [
              0.4444444444444444,
              "#bd3786"
             ],
             [
              0.5555555555555556,
              "#d8576b"
             ],
             [
              0.6666666666666666,
              "#ed7953"
             ],
             [
              0.7777777777777778,
              "#fb9f3a"
             ],
             [
              0.8888888888888888,
              "#fdca26"
             ],
             [
              1,
              "#f0f921"
             ]
            ],
            "type": "contour"
           }
          ],
          "contourcarpet": [
           {
            "colorbar": {
             "outlinewidth": 0,
             "ticks": ""
            },
            "type": "contourcarpet"
           }
          ],
          "heatmap": [
           {
            "colorbar": {
             "outlinewidth": 0,
             "ticks": ""
            },
            "colorscale": [
             [
              0,
              "#0d0887"
             ],
             [
              0.1111111111111111,
              "#46039f"
             ],
             [
              0.2222222222222222,
              "#7201a8"
             ],
             [
              0.3333333333333333,
              "#9c179e"
             ],
             [
              0.4444444444444444,
              "#bd3786"
             ],
             [
              0.5555555555555556,
              "#d8576b"
             ],
             [
              0.6666666666666666,
              "#ed7953"
             ],
             [
              0.7777777777777778,
              "#fb9f3a"
             ],
             [
              0.8888888888888888,
              "#fdca26"
             ],
             [
              1,
              "#f0f921"
             ]
            ],
            "type": "heatmap"
           }
          ],
          "histogram": [
           {
            "marker": {
             "pattern": {
              "fillmode": "overlay",
              "size": 10,
              "solidity": 0.2
             }
            },
            "type": "histogram"
           }
          ],
          "histogram2d": [
           {
            "colorbar": {
             "outlinewidth": 0,
             "ticks": ""
            },
            "colorscale": [
             [
              0,
              "#0d0887"
             ],
             [
              0.1111111111111111,
              "#46039f"
             ],
             [
              0.2222222222222222,
              "#7201a8"
             ],
             [
              0.3333333333333333,
              "#9c179e"
             ],
             [
              0.4444444444444444,
              "#bd3786"
             ],
             [
              0.5555555555555556,
              "#d8576b"
             ],
             [
              0.6666666666666666,
              "#ed7953"
             ],
             [
              0.7777777777777778,
              "#fb9f3a"
             ],
             [
              0.8888888888888888,
              "#fdca26"
             ],
             [
              1,
              "#f0f921"
             ]
            ],
            "type": "histogram2d"
           }
          ],
          "histogram2dcontour": [
           {
            "colorbar": {
             "outlinewidth": 0,
             "ticks": ""
            },
            "colorscale": [
             [
              0,
              "#0d0887"
             ],
             [
              0.1111111111111111,
              "#46039f"
             ],
             [
              0.2222222222222222,
              "#7201a8"
             ],
             [
              0.3333333333333333,
              "#9c179e"
             ],
             [
              0.4444444444444444,
              "#bd3786"
             ],
             [
              0.5555555555555556,
              "#d8576b"
             ],
             [
              0.6666666666666666,
              "#ed7953"
             ],
             [
              0.7777777777777778,
              "#fb9f3a"
             ],
             [
              0.8888888888888888,
              "#fdca26"
             ],
             [
              1,
              "#f0f921"
             ]
            ],
            "type": "histogram2dcontour"
           }
          ],
          "mesh3d": [
           {
            "colorbar": {
             "outlinewidth": 0,
             "ticks": ""
            },
            "type": "mesh3d"
           }
          ],
          "parcoords": [
           {
            "line": {
             "colorbar": {
              "outlinewidth": 0,
              "ticks": ""
             }
            },
            "type": "parcoords"
           }
          ],
          "pie": [
           {
            "automargin": true,
            "type": "pie"
           }
          ],
          "scatter": [
           {
            "fillpattern": {
             "fillmode": "overlay",
             "size": 10,
             "solidity": 0.2
            },
            "type": "scatter"
           }
          ],
          "scatter3d": [
           {
            "line": {
             "colorbar": {
              "outlinewidth": 0,
              "ticks": ""
             }
            },
            "marker": {
             "colorbar": {
              "outlinewidth": 0,
              "ticks": ""
             }
            },
            "type": "scatter3d"
           }
          ],
          "scattercarpet": [
           {
            "marker": {
             "colorbar": {
              "outlinewidth": 0,
              "ticks": ""
             }
            },
            "type": "scattercarpet"
           }
          ],
          "scattergeo": [
           {
            "marker": {
             "colorbar": {
              "outlinewidth": 0,
              "ticks": ""
             }
            },
            "type": "scattergeo"
           }
          ],
          "scattergl": [
           {
            "marker": {
             "colorbar": {
              "outlinewidth": 0,
              "ticks": ""
             }
            },
            "type": "scattergl"
           }
          ],
          "scattermap": [
           {
            "marker": {
             "colorbar": {
              "outlinewidth": 0,
              "ticks": ""
             }
            },
            "type": "scattermap"
           }
          ],
          "scattermapbox": [
           {
            "marker": {
             "colorbar": {
              "outlinewidth": 0,
              "ticks": ""
             }
            },
            "type": "scattermapbox"
           }
          ],
          "scatterpolar": [
           {
            "marker": {
             "colorbar": {
              "outlinewidth": 0,
              "ticks": ""
             }
            },
            "type": "scatterpolar"
           }
          ],
          "scatterpolargl": [
           {
            "marker": {
             "colorbar": {
              "outlinewidth": 0,
              "ticks": ""
             }
            },
            "type": "scatterpolargl"
           }
          ],
          "scatterternary": [
           {
            "marker": {
             "colorbar": {
              "outlinewidth": 0,
              "ticks": ""
             }
            },
            "type": "scatterternary"
           }
          ],
          "surface": [
           {
            "colorbar": {
             "outlinewidth": 0,
             "ticks": ""
            },
            "colorscale": [
             [
              0,
              "#0d0887"
             ],
             [
              0.1111111111111111,
              "#46039f"
             ],
             [
              0.2222222222222222,
              "#7201a8"
             ],
             [
              0.3333333333333333,
              "#9c179e"
             ],
             [
              0.4444444444444444,
              "#bd3786"
             ],
             [
              0.5555555555555556,
              "#d8576b"
             ],
             [
              0.6666666666666666,
              "#ed7953"
             ],
             [
              0.7777777777777778,
              "#fb9f3a"
             ],
             [
              0.8888888888888888,
              "#fdca26"
             ],
             [
              1,
              "#f0f921"
             ]
            ],
            "type": "surface"
           }
          ],
          "table": [
           {
            "cells": {
             "fill": {
              "color": "#EBF0F8"
             },
             "line": {
              "color": "white"
             }
            },
            "header": {
             "fill": {
              "color": "#C8D4E3"
             },
             "line": {
              "color": "white"
             }
            },
            "type": "table"
           }
          ]
         },
         "layout": {
          "annotationdefaults": {
           "arrowcolor": "#2a3f5f",
           "arrowhead": 0,
           "arrowwidth": 1
          },
          "autotypenumbers": "strict",
          "coloraxis": {
           "colorbar": {
            "outlinewidth": 0,
            "ticks": ""
           }
          },
          "colorscale": {
           "diverging": [
            [
             0,
             "#8e0152"
            ],
            [
             0.1,
             "#c51b7d"
            ],
            [
             0.2,
             "#de77ae"
            ],
            [
             0.3,
             "#f1b6da"
            ],
            [
             0.4,
             "#fde0ef"
            ],
            [
             0.5,
             "#f7f7f7"
            ],
            [
             0.6,
             "#e6f5d0"
            ],
            [
             0.7,
             "#b8e186"
            ],
            [
             0.8,
             "#7fbc41"
            ],
            [
             0.9,
             "#4d9221"
            ],
            [
             1,
             "#276419"
            ]
           ],
           "sequential": [
            [
             0,
             "#0d0887"
            ],
            [
             0.1111111111111111,
             "#46039f"
            ],
            [
             0.2222222222222222,
             "#7201a8"
            ],
            [
             0.3333333333333333,
             "#9c179e"
            ],
            [
             0.4444444444444444,
             "#bd3786"
            ],
            [
             0.5555555555555556,
             "#d8576b"
            ],
            [
             0.6666666666666666,
             "#ed7953"
            ],
            [
             0.7777777777777778,
             "#fb9f3a"
            ],
            [
             0.8888888888888888,
             "#fdca26"
            ],
            [
             1,
             "#f0f921"
            ]
           ],
           "sequentialminus": [
            [
             0,
             "#0d0887"
            ],
            [
             0.1111111111111111,
             "#46039f"
            ],
            [
             0.2222222222222222,
             "#7201a8"
            ],
            [
             0.3333333333333333,
             "#9c179e"
            ],
            [
             0.4444444444444444,
             "#bd3786"
            ],
            [
             0.5555555555555556,
             "#d8576b"
            ],
            [
             0.6666666666666666,
             "#ed7953"
            ],
            [
             0.7777777777777778,
             "#fb9f3a"
            ],
            [
             0.8888888888888888,
             "#fdca26"
            ],
            [
             1,
             "#f0f921"
            ]
           ]
          },
          "colorway": [
           "#636efa",
           "#EF553B",
           "#00cc96",
           "#ab63fa",
           "#FFA15A",
           "#19d3f3",
           "#FF6692",
           "#B6E880",
           "#FF97FF",
           "#FECB52"
          ],
          "font": {
           "color": "#2a3f5f"
          },
          "geo": {
           "bgcolor": "white",
           "lakecolor": "white",
           "landcolor": "#E5ECF6",
           "showlakes": true,
           "showland": true,
           "subunitcolor": "white"
          },
          "hoverlabel": {
           "align": "left"
          },
          "hovermode": "closest",
          "mapbox": {
           "style": "light"
          },
          "paper_bgcolor": "white",
          "plot_bgcolor": "#E5ECF6",
          "polar": {
           "angularaxis": {
            "gridcolor": "white",
            "linecolor": "white",
            "ticks": ""
           },
           "bgcolor": "#E5ECF6",
           "radialaxis": {
            "gridcolor": "white",
            "linecolor": "white",
            "ticks": ""
           }
          },
          "scene": {
           "xaxis": {
            "backgroundcolor": "#E5ECF6",
            "gridcolor": "white",
            "gridwidth": 2,
            "linecolor": "white",
            "showbackground": true,
            "ticks": "",
            "zerolinecolor": "white"
           },
           "yaxis": {
            "backgroundcolor": "#E5ECF6",
            "gridcolor": "white",
            "gridwidth": 2,
            "linecolor": "white",
            "showbackground": true,
            "ticks": "",
            "zerolinecolor": "white"
           },
           "zaxis": {
            "backgroundcolor": "#E5ECF6",
            "gridcolor": "white",
            "gridwidth": 2,
            "linecolor": "white",
            "showbackground": true,
            "ticks": "",
            "zerolinecolor": "white"
           }
          },
          "shapedefaults": {
           "line": {
            "color": "#2a3f5f"
           }
          },
          "ternary": {
           "aaxis": {
            "gridcolor": "white",
            "linecolor": "white",
            "ticks": ""
           },
           "baxis": {
            "gridcolor": "white",
            "linecolor": "white",
            "ticks": ""
           },
           "bgcolor": "#E5ECF6",
           "caxis": {
            "gridcolor": "white",
            "linecolor": "white",
            "ticks": ""
           }
          },
          "title": {
           "x": 0.05
          },
          "xaxis": {
           "automargin": true,
           "gridcolor": "white",
           "linecolor": "white",
           "ticks": "",
           "title": {
            "standoff": 15
           },
           "zerolinecolor": "white",
           "zerolinewidth": 2
          },
          "yaxis": {
           "automargin": true,
           "gridcolor": "white",
           "linecolor": "white",
           "ticks": "",
           "title": {
            "standoff": 15
           },
           "zerolinecolor": "white",
           "zerolinewidth": 2
          }
         }
        },
        "title": {
         "text": "Tenure Distribution by Churn"
        },
        "xaxis": {
         "anchor": "y",
         "domain": [
          0,
          1
         ],
         "title": {
          "text": "Tenure (Months)"
         }
        },
        "yaxis": {
         "anchor": "x",
         "domain": [
          0,
          1
         ],
         "title": {
          "text": "Number of Customers"
         }
        }
       }
      }
     },
     "metadata": {},
     "output_type": "display_data"
    }
   ],
   "source": [
    "# ------------------------------------------------\n",
    "# 📝 Seaborn/Matplotlib: Histogram for Tenure Distribution by Churn\n",
    "# ------------------------------------------------\n",
    "\n",
    "# Create a histogram to visualize the distribution of \"tenure\"\n",
    "plt.figure(figsize=(9, 4))  # Set figure size for better visualization\n",
    "sns.histplot(x=\"tenure\", data=df, bins=72, hue=\"Churn\", kde=True)  # Use 72 bins and add hue for Churn\n",
    "\n",
    "# Show the plot\n",
    "plt.show()\n",
    "\n",
    "# ------------------------------------------------\n",
    "# 📝 Explanation:\n",
    "# ------------------------------------------------\n",
    "# ✅ `sns.histplot(x=\"tenure\", data=df, bins=72, hue=\"Churn\", kde=True)`: \n",
    "#    - **x=\"tenure\"**: Tenure (customer duration in months) is plotted on the x-axis.\n",
    "#    - **bins=72**: Divides the tenure range into 72 segments for better granularity.\n",
    "#    - **hue=\"Churn\"**: Colors the bars based on the **Churn** column (Yes/No).\n",
    "#    - **kde=True**: Adds a **KDE (Kernel Density Estimate)** curve for smooth distribution analysis.\n",
    "#\n",
    "# ✅ `plt.figure(figsize=(9,4))`: \n",
    "#    - Adjusts the figure size to **improve visibility**.\n",
    "\n",
    "# ------------------------------------------------\n",
    "# 🚀 Next Step: Interactive Plotly Version\n",
    "# ------------------------------------------------\n",
    "\n",
    "# ------------------------------------------------\n",
    "# 📝 Plotly: Interactive Histogram for Tenure Distribution by Churn\n",
    "# ------------------------------------------------\n",
    "fig = px.histogram(\n",
    "    df,\n",
    "    x=\"tenure\",\n",
    "    color=\"Churn\",\n",
    "    nbins=72,  # Same bin count as Seaborn\n",
    "    title=\"Tenure Distribution by Churn\",\n",
    "    labels={\"tenure\": \"Tenure (Months)\", \"count\": \"Number of Customers\"},\n",
    "    barmode=\"overlay\",  # Overlapping bars for better comparison\n",
    "    opacity=0.7,  # Slight transparency to differentiate overlapping bars\n",
    "    color_discrete_map={\"Yes\": \"#FF5733\", \"No\": \"#3498DB\"}  # Define custom colors\n",
    ")\n",
    "\n",
    "# Update layout for better visualization\n",
    "fig.update_layout(\n",
    "    xaxis_title=\"Tenure (Months)\",\n",
    "    yaxis_title=\"Number of Customers\",\n",
    "    legend_title=\"Churn\",\n",
    "    bargap=0.05  # Reduce gaps between bars\n",
    ")\n",
    "\n",
    "# Show interactive visualization\n",
    "fig.show()\n",
    "\n",
    "# ------------------------------------------------\n",
    "# 📝 Explanation:\n",
    "# ------------------------------------------------\n",
    "# ✅ `px.histogram(...)`:\n",
    "#    - Creates an **interactive histogram** using Plotly.\n",
    "#    - `x=\"tenure\"`: Puts **tenure in months** on the x-axis.\n",
    "#    - `color=\"Churn\"`: Uses **Churn categories** for different colors.\n",
    "#    - `nbins=72`: Ensures a **consistent bin count** with the Seaborn version.\n",
    "#    - `barmode=\"overlay\"`: Overlaps bars to **compare distributions better**.\n",
    "#    - `opacity=0.7`: Makes bars **semi-transparent** for visibility.\n",
    "#    - `color_discrete_map={\"Yes\": \"#FF5733\", \"No\": \"#3498DB\"}`:\n",
    "#      - **Yes (Churned Customers)** → Orange-Red (#FF5733)\n",
    "#      - **No (Non-Churned Customers)** → Blue (#3498DB)\n",
    "#\n",
    "# ✅ `fig.update_layout(...)`:\n",
    "#    - Customizes **axis labels, legend, and bar gaps**.\n",
    "#\n",
    "# ✅ `fig.show()`: \n",
    "#    - Displays the **interactive Plotly chart**.\n",
    "\n",
    "# ------------------------------------------------\n",
    "# 🚀 Why Use Plotly?\n",
    "# ------------------------------------------------\n",
    "# ✅ **Hover Tooltips**: See exact values by hovering over bars.\n",
    "# ✅ **Interactive Filtering**: Click legend items to filter churned vs non-churned customers.\n",
    "# ✅ **Smooth Visualization**: Helps in analyzing customer tenure trends easily.\n"
   ]
  },
  {
   "cell_type": "markdown",
   "id": "1cdf4ee2-48f8-4ff9-96a3-537d31d02b1c",
   "metadata": {},
   "source": [
    "people who have used our services for a long time have stayed and people who have used our sevices \n",
    "\n",
    "1 or 2 months  have churned"
   ]
  },
  {
   "cell_type": "code",
   "execution_count": 26,
   "id": "5f5934bc-eb9d-4a93-9216-2d441a557cb8",
   "metadata": {},
   "outputs": [
    {
     "data": {
      "image/png": "[encoded data removed]",
      "text/plain": [
       "<Figure size 400x400 with 1 Axes>"
      ]
     },
     "metadata": {},
     "output_type": "display_data"
    },
    {
     "data": {
      "application/vnd.plotly.v1+json": {
       "config": {
        "plotlyServerURL": "https://plot.ly"
       },
       "data": [
        {
         "alignmentgroup": "True",
         "bingroup": "x",
         "hovertemplate": "Churn=No<br>Contract Type=%{x}<br>count=%{y}<extra></extra>",
         "legendgroup": "No",
         "marker": {
          "color": "#3498DB",
          "pattern": {
           "shape": ""
          }
         },
         "name": "No",
         "offsetgroup": "No",
         "orientation": "v",
         "showlegend": true,
         "texttemplate": "%{value}",
         "type": "histogram",
         "x": [
          "Month-to-month",
          "One year",
          "One year",
          "Month-to-month",
          "Month-to-month",
          "One year",
          "Month-to-month",
          "Two year",
          "One year",
          "Month-to-month",
          "Two year",
          "One year",
          "Two year",
          "Month-to-month",
          "One year",
          "Two year",
          "Month-to-month",
          "Month-to-month",
          "Two year",
          "Two year",
          "Month-to-month",
          "One year",
          "Month-to-month",
          "Month-to-month",
          "Two year",
          "Month-to-month",
          "One year",
          "Two year",
          "One year",
          "Two year",
          "Month-to-month",
          "Month-to-month",
          "Month-to-month",
          "Two year",
          "Two year",
          "Month-to-month",
          "Month-to-month",
          "One year",
          "One year",
          "One year",
          "Two year",
          "Two year",
          "Month-to-month",
          "Month-to-month",
          "Two year",
          "One year",
          "Month-to-month",
          "One year",
          "Two year",
          "Two year",
          "Month-to-month",
          "Month-to-month",
          "One year",
          "Two year",
          "Two year",
          "Month-to-month",
          "One year",
          "One year",
          "Month-to-month",
          "Month-to-month",
          "One year",
          "Month-to-month",
          "Month-to-month",
          "Two year",
          "Month-to-month",
          "One year",
          "Two year",
          "Two year",
          "Month-to-month",
          "Month-to-month",
          "Month-to-month",
          "Two year",
          "Month-to-month",
          "Two year",
          "One year",
          "Two year",
          "Month-to-month",
          "Month-to-month",
          "One year",
          "One year",
          "Month-to-month",
          "One year",
          "One year",
          "One year",
          "Two year",
          "One year",
          "Month-to-month",
          "Two year",
          "Month-to-month",
          "Two year",
          "Two year",
          "Month-to-month",
          "One year",
          "Month-to-month",
          "Month-to-month",
          "Month-to-month",
          "Two year",
          "Two year",
          "Month-to-month",
          "One year",
          "Month-to-month",
          "Two year",
          "Two year",
          "Month-to-month",
          "Two year",
          "Two year",
          "Two year",
          "Two year",
          "One year",
          "Two year",
          "Two year",
          "One year",
          "One year",
          "Month-to-month",
          "Month-to-month",
          "One year",
          "Two year",
          "Month-to-month",
          "Month-to-month",
          "Month-to-month",
          "One year",
          "Two year",
          "Two year",
          "Month-to-month",
          "Month-to-month",
          "Two year",
          "One year",
          "Two year",
          "Two year",
          "Month-to-month",
          "One year",
          "Two year",
          "One year",
          "Month-to-month",
          "Month-to-month",
          "One year",
          "Month-to-month",
          "One year",
          "Month-to-month",
          "Month-to-month",
          "One year",
          "Month-to-month",
          "One year",
          "Two year",
          "Two year",
          "Two year",
          "Month-to-month",
          "Two year",
          "Month-to-month",
          "Two year",
          "Month-to-month",
          "One year",
          "Month-to-month",
          "Two year",
          "Month-to-month",
          "Month-to-month",
          "One year",
          "Two year",
          "One year",
          "Month-to-month",
          "Two year",
          "One year",
          "Month-to-month",
          "Month-to-month",
          "Two year",
          "Two year",
          "Two year",
          "Month-to-month",
          "Two year",
          "One year",
          "One year",
          "One year",
          "One year",
          "Month-to-month",
          "Two year",
          "Two year",
          "Month-to-month",
          "Two year",
          "Month-to-month",
          "Two year",
          "Month-to-month",
          "Two year",
          "Two year",
          "Two year",
          "One year",
          "Month-to-month",
          "Month-to-month",
          "Month-to-month",
          "One year",
          "One year",
          "One year",
          "One year",
          "Month-to-month",
          "Two year",
          "Two year",
          "One year",
          "Month-to-month",
          "Month-to-month",
          "Two year",
          "One year",
          "Two year",
          "Two year",
          "Month-to-month",
          "Two year",
          "Two year",
          "Month-to-month",
          "Month-to-month",
          "Month-to-month",
          "Month-to-month",
          "Month-to-month",
          "Month-to-month",
          "Month-to-month",
          "Month-to-month",
          "One year",
          "Month-to-month",
          "One year",
          "One year",
          "Month-to-month",
          "Month-to-month",
          "Month-to-month",
          "Two year",
          "Month-to-month",
          "Month-to-month",
          "One year",
          "Month-to-month",
          "Two year",
          "Month-to-month",
          "Two year",
          "Two year",
          "Month-to-month",
          "One year",
          "Month-to-month",
          "Month-to-month",
          "Two year",
          "Month-to-month",
          "One year",
          "Two year",
          "Month-to-month",
          "Two year",
          "Month-to-month",
          "One year",
          "Two year",
          "Month-to-month",
          "Month-to-month",
          "Month-to-month",
          "Month-to-month",
          "Two year",
          "One year",
          "One year",
          "Two year",
          "Month-to-month",
          "Month-to-month",
          "Two year",
          "Month-to-month",
          "One year",
          "One year",
          "Month-to-month",
          "Two year",
          "Month-to-month",
          "One year",
          "Two year",
          "One year",
          "Month-to-month",
          "Month-to-month",
          "Two year",
          "One year",
          "Month-to-month",
          "Two year",
          "One year",
          "Two year",
          "Month-to-month",
          "Month-to-month",
          "Month-to-month",
          "One year",
          "Two year",
          "One year",
          "Two year",
          "One year",
          "Month-to-month",
          "One year",
          "Month-to-month",
          "Two year",
          "One year",
          "One year",
          "Two year",
          "Two year",
          "One year",
          "Month-to-month",
          "Month-to-month",
          "Month-to-month",
          "Month-to-month",
          "Month-to-month",
          "Month-to-month",
          "Month-to-month",
          "Two year",
          "Month-to-month",
          "Month-to-month",
          "One year",
          "One year",
          "One year",
          "One year",
          "Two year",
          "Two year",
          "One year",
          "Month-to-month",
          "One year",
          "Month-to-month",
          "Month-to-month",
          "Month-to-month",
          "Month-to-month",
          "Two year",
          "Two year",
          "Month-to-month",
          "Month-to-month",
          "One year",
          "One year",
          "Month-to-month",
          "Month-to-month",
          "One year",
          "Month-to-month",
          "Month-to-month",
          "One year",
          "Two year",
          "Month-to-month",
          "Two year",
          "Month-to-month",
          "One year",
          "Two year",
          "Month-to-month",
          "Month-to-month",
          "Month-to-month",
          "Month-to-month",
          "One year",
          "Month-to-month",
          "Month-to-month",
          "Two year",
          "Month-to-month",
          "Two year",
          "One year",
          "Month-to-month",
          "Month-to-month",
          "Two year",
          "Month-to-month",
          "One year",
          "Two year",
          "Month-to-month",
          "Month-to-month",
          "Month-to-month",
          "Month-to-month",
          "Two year",
          "Two year",
          "Two year",
          "One year",
          "Two year",
          "One year",
          "Month-to-month",
          "Month-to-month",
          "Month-to-month",
          "Month-to-month",
          "Two year",
          "Month-to-month",
          "One year",
          "Two year",
          "Month-to-month",
          "Two year",
          "Two year",
          "Two year",
          "Month-to-month",
          "One year",
          "Month-to-month",
          "Month-to-month",
          "Two year",
          "One year",
          "Two year",
          "One year",
          "Month-to-month",
          "Two year",
          "Month-to-month",
          "Month-to-month",
          "One year",
          "Month-to-month",
          "Month-to-month",
          "Month-to-month",
          "One year",
          "Month-to-month",
          "Month-to-month",
          "One year",
          "Month-to-month",
          "Month-to-month",
          "One year",
          "Two year",
          "One year",
          "Two year",
          "Two year",
          "Two year",
          "Two year",
          "Month-to-month",
          "One year",
          "Month-to-month",
          "Month-to-month",
          "One year",
          "One year",
          "Two year",
          "Two year",
          "Month-to-month",
          "Month-to-month",
          "One year",
          "One year",
          "One year",
          "Month-to-month",
          "Two year",
          "Two year",
          "Two year",
          "Two year",
          "One year",
          "Month-to-month",
          "One year",
          "Month-to-month",
          "Month-to-month",
          "One year",
          "Month-to-month",
          "Month-to-month",
          "Two year",
          "Month-to-month",
          "Two year",
          "One year",
          "Two year",
          "One year",
          "Two year",
          "Two year",
          "One year",
          "Month-to-month",
          "Two year",
          "One year",
          "Month-to-month",
          "Month-to-month",
          "Month-to-month",
          "Month-to-month",
          "Month-to-month",
          "Two year",
          "One year",
          "Two year",
          "Two year",
          "Two year",
          "One year",
          "Two year",
          "Month-to-month",
          "Month-to-month",
          "Two year",
          "Month-to-month",
          "One year",
          "Two year",
          "Month-to-month",
          "One year",
          "One year",
          "Two year",
          "One year",
          "Two year",
          "Two year",
          "One year",
          "Two year",
          "Two year",
          "One year",
          "Two year",
          "Month-to-month",
          "Month-to-month",
          "One year",
          "Month-to-month",
          "Month-to-month",
          "Month-to-month",
          "One year",
          "One year",
          "Two year",
          "Month-to-month",
          "Month-to-month",
          "One year",
          "Two year",
          "Month-to-month",
          "Two year",
          "One year",
          "One year",
          "Two year",
          "Two year",
          "Two year",
          "One year",
          "Month-to-month",
          "One year",
          "Month-to-month",
          "Two year",
          "Month-to-month",
          "Month-to-month",
          "Two year",
          "One year",
          "Month-to-month",
          "Month-to-month",
          "Month-to-month",
          "Two year",
          "Two year",
          "Month-to-month",
          "Month-to-month",
          "Two year",
          "One year",
          "Two year",
          "Month-to-month",
          "Two year",
          "One year",
          "Month-to-month",
          "Month-to-month",
          "Two year",
          "Month-to-month",
          "One year",
          "Month-to-month",
          "Month-to-month",
          "One year",
          "One year",
          "Month-to-month",
          "Month-to-month",
          "One year",
          "One year",
          "One year",
          "Month-to-month",
          "Two year",
          "One year",
          "Two year",
          "Two year",
          "Month-to-month",
          "Month-to-month",
          "Month-to-month",
          "Month-to-month",
          "Two year",
          "One year",
          "Month-to-month",
          "Month-to-month",
          "Month-to-month",
          "Two year",
          "Month-to-month",
          "Two year",
          "Month-to-month",
          "Two year",
          "Month-to-month",
          "Month-to-month",
          "Month-to-month",
          "One year",
          "Two year",
          "Month-to-month",
          "Two year",
          "Month-to-month",
          "Two year",
          "Month-to-month",
          "Month-to-month",
          "Two year",
          "Month-to-month",
          "Month-to-month",
          "One year",
          "Two year",
          "Month-to-month",
          "Two year",
          "Two year",
          "Month-to-month",
          "Two year",
          "Month-to-month",
          "Two year",
          "Two year",
          "Month-to-month",
          "Two year",
          "One year",
          "Month-to-month",
          "Two year",
          "Month-to-month",
          "Two year",
          "Month-to-month",
          "Two year",
          "Month-to-month",
          "Two year",
          "Month-to-month",
          "Two year",
          "Two year",
          "Month-to-month",
          "Month-to-month",
          "One year",
          "Month-to-month",
          "One year",
          "Month-to-month",
          "Two year",
          "Month-to-month",
          "One year",
          "Two year",
          "Month-to-month",
          "Month-to-month",
          "One year",
          "Two year",
          "Month-to-month",
          "One year",
          "Two year",
          "Two year",
          "One year",
          "Two year",
          "Two year",
          "Month-to-month",
          "Month-to-month",
          "One year",
          "Month-to-month",
          "Month-to-month",
          "Two year",
          "Two year",
          "Two year",
          "Two year",
          "Month-to-month",
          "Two year",
          "Two year",
          "One year",
          "Month-to-month",
          "Month-to-month",
          "One year",
          "Two year",
          "Month-to-month",
          "Two year",
          "One year",
          "Month-to-month",
          "Two year",
          "Month-to-month",
          "Month-to-month",
          "Two year",
          "One year",
          "Month-to-month",
          "Month-to-month",
          "One year",
          "Month-to-month",
          "Two year",
          "Two year",
          "Month-to-month",
          "One year",
          "Two year",
          "One year",
          "Two year",
          "Two year",
          "Two year",
          "Two year",
          "Month-to-month",
          "Month-to-month",
          "Two year",
          "Two year",
          "One year",
          "Two year",
          "One year",
          "Two year",
          "Two year",
          "Month-to-month",
          "Two year",
          "Two year",
          "One year",
          "Two year",
          "Two year",
          "Month-to-month",
          "One year",
          "One year",
          "Month-to-month",
          "One year",
          "One year",
          "One year",
          "Month-to-month",
          "Month-to-month",
          "One year",
          "One year",
          "Month-to-month",
          "Month-to-month",
          "One year",
          "Month-to-month",
          "Two year",
          "Two year",
          "Month-to-month",
          "Month-to-month",
          "One year",
          "Two year",
          "Month-to-month",
          "One year",
          "Month-to-month",
          "Two year",
          "Month-to-month",
          "One year",
          "One year",
          "Two year",
          "Month-to-month",
          "Two year",
          "Month-to-month",
          "One year",
          "One year",
          "Month-to-month",
          "Month-to-month",
          "One year",
          "Month-to-month",
          "Month-to-month",
          "Two year",
          "One year",
          "Month-to-month",
          "Two year",
          "Two year",
          "One year",
          "Month-to-month",
          "Two year",
          "One year",
          "Month-to-month",
          "One year",
          "Month-to-month",
          "Month-to-month",
          "Two year",
          "Month-to-month",
          "Month-to-month",
          "Month-to-month",
          "Two year",
          "Month-to-month",
          "Month-to-month",
          "Month-to-month",
          "Month-to-month",
          "Two year",
          "Month-to-month",
          "Month-to-month",
          "Month-to-month",
          "Month-to-month",
          "One year",
          "Month-to-month",
          "Two year",
          "Month-to-month",
          "Two year",
          "Month-to-month",
          "Two year",
          "Two year",
          "Month-to-month",
          "One year",
          "Month-to-month",
          "Two year",
          "One year",
          "Two year",
          "Month-to-month",
          "Month-to-month",
          "Month-to-month",
          "One year",
          "Two year",
          "Two year",
          "Two year",
          "Two year",
          "Two year",
          "Two year",
          "Month-to-month",
          "Month-to-month",
          "Two year",
          "Month-to-month",
          "One year",
          "One year",
          "Month-to-month",
          "Two year",
          "Month-to-month",
          "Month-to-month",
          "Two year",
          "One year",
          "Month-to-month",
          "Month-to-month",
          "Month-to-month",
          "One year",
          "Month-to-month",
          "Month-to-month",
          "Month-to-month",
          "Two year",
          "One year",
          "Month-to-month",
          "Month-to-month",
          "Two year",
          "Two year",
          "Two year",
          "Two year",
          "Month-to-month",
          "One year",
          "One year",
          "Month-to-month",
          "One year",
          "Month-to-month",
          "One year",
          "Month-to-month",
          "One year",
          "Month-to-month",
          "One year",
          "One year",
          "One year",
          "Two year",
          "Month-to-month",
          "Month-to-month",
          "One year",
          "Two year",
          "Month-to-month",
          "One year",
          "Two year",
          "Month-to-month",
          "Month-to-month",
          "One year",
          "Two year",
          "Month-to-month",
          "Two year",
          "Month-to-month",
          "Two year",
          "One year",
          "Month-to-month",
          "Month-to-month",
          "One year",
          "One year",
          "Two year",
          "Two year",
          "One year",
          "Month-to-month",
          "Month-to-month",
          "One year",
          "Month-to-month",
          "Month-to-month",
          "Month-to-month",
          "One year",
          "One year",
          "Month-to-month",
          "Two year",
          "Two year",
          "Two year",
          "Month-to-month",
          "Two year",
          "Two year",
          "Month-to-month",
          "Two year",
          "One year",
          "Two year",
          "Month-to-month",
          "Two year",
          "Month-to-month",
          "One year",
          "One year",
          "Month-to-month",
          "One year",
          "Month-to-month",
          "Month-to-month",
          "Two year",
          "Month-to-month",
          "Month-to-month",
          "Two year",
          "Two year",
          "Two year",
          "Month-to-month",
          "One year",
          "Two year",
          "Month-to-month",
          "Month-to-month",
          "Month-to-month",
          "Month-to-month",
          "One year",
          "Month-to-month",
          "Month-to-month",
          "Month-to-month",
          "Month-to-month",
          "One year",
          "Two year",
          "Two year",
          "Two year",
          "One year",
          "Month-to-month",
          "Month-to-month",
          "One year",
          "Two year",
          "One year",
          "Month-to-month",
          "One year",
          "One year",
          "One year",
          "Two year",
          "Month-to-month",
          "One year",
          "Month-to-month",
          "Two year",
          "Month-to-month",
          "Two year",
          "Month-to-month",
          "One year",
          "Month-to-month",
          "One year",
          "Two year",
          "One year",
          "Month-to-month",
          "One year",
          "Two year",
          "Two year",
          "Month-to-month",
          "Month-to-month",
          "Two year",
          "Month-to-month",
          "Two year",
          "Month-to-month",
          "One year",
          "Month-to-month",
          "Two year",
          "Month-to-month",
          "Month-to-month",
          "Month-to-month",
          "One year",
          "Month-to-month",
          "Two year",
          "Two year",
          "One year",
          "Month-to-month",
          "Month-to-month",
          "Month-to-month",
          "Two year",
          "Two year",
          "One year",
          "Month-to-month",
          "Two year",
          "Month-to-month",
          "Month-to-month",
          "Two year",
          "One year",
          "One year",
          "One year",
          "Month-to-month",
          "Month-to-month",
          "Month-to-month",
          "Month-to-month",
          "Month-to-month",
          "Month-to-month",
          "One year",
          "Two year",
          "Month-to-month",
          "Two year",
          "Two year",
          "One year",
          "Two year",
          "Month-to-month",
          "Month-to-month",
          "Month-to-month",
          "Two year",
          "One year",
          "Month-to-month",
          "Two year",
          "Two year",
          "Two year",
          "One year",
          "Month-to-month",
          "Month-to-month",
          "Two year",
          "Two year",
          "Two year",
          "Two year",
          "One year",
          "One year",
          "Two year",
          "One year",
          "Month-to-month",
          "Two year",
          "Two year",
          "One year",
          "Month-to-month",
          "Two year",
          "One year",
          "Two year",
          "Two year",
          "Two year",
          "Two year",
          "Month-to-month",
          "Month-to-month",
          "One year",
          "Two year",
          "Two year",
          "Two year",
          "Two year",
          "Month-to-month",
          "One year",
          "One year",
          "One year",
          "Two year",
          "Month-to-month",
          "Month-to-month",
          "Month-to-month",
          "One year",
          "One year",
          "Month-to-month",
          "Two year",
          "One year",
          "Month-to-month",
          "Two year",
          "One year",
          "Month-to-month",
          "Two year",
          "One year",
          "Month-to-month",
          "Two year",
          "Two year",
          "Two year",
          "One year",
          "Month-to-month",
          "One year",
          "Two year",
          "Month-to-month",
          "Two year",
          "Month-to-month",
          "Two year",
          "One year",
          "Month-to-month",
          "Month-to-month",
          "Month-to-month",
          "Month-to-month",
          "Two year",
          "Two year",
          "Month-to-month",
          "One year",
          "Month-to-month",
          "Two year",
          "Month-to-month",
          "Month-to-month",
          "Two year",
          "Two year",
          "Two year",
          "Month-to-month",
          "Two year",
          "One year",
          "Month-to-month",
          "One year",
          "Two year",
          "Two year",
          "Two year",
          "Month-to-month",
          "Two year",
          "Month-to-month",
          "One year",
          "Month-to-month",
          "One year",
          "Month-to-month",
          "Month-to-month",
          "One year",
          "Month-to-month",
          "Month-to-month",
          "Two year",
          "Two year",
          "Two year",
          "One year",
          "Month-to-month",
          "Month-to-month",
          "Two year",
          "Month-to-month",
          "One year",
          "Two year",
          "Month-to-month",
          "Month-to-month",
          "Two year",
          "Month-to-month",
          "Two year",
          "One year",
          "Month-to-month",
          "One year",
          "Month-to-month",
          "Two year",
          "One year",
          "One year",
          "Month-to-month",
          "Month-to-month",
          "Month-to-month",
          "Month-to-month",
          "One year",
          "One year",
          "One year",
          "One year",
          "Month-to-month",
          "Two year",
          "Month-to-month",
          "Month-to-month",
          "Month-to-month",
          "Month-to-month",
          "Month-to-month",
          "Month-to-month",
          "Month-to-month",
          "Month-to-month",
          "Month-to-month",
          "Two year",
          "One year",
          "Two year",
          "Month-to-month",
          "One year",
          "Month-to-month",
          "Month-to-month",
          "Month-to-month",
          "One year",
          "One year",
          "Month-to-month",
          "Month-to-month",
          "Month-to-month",
          "Two year",
          "Month-to-month",
          "One year",
          "One year",
          "Two year",
          "Month-to-month",
          "One year",
          "Two year",
          "One year",
          "Month-to-month",
          "One year",
          "One year",
          "Month-to-month",
          "Month-to-month",
          "Month-to-month",
          "Month-to-month",
          "Month-to-month",
          "Month-to-month",
          "Month-to-month",
          "Two year",
          "One year",
          "One year",
          "Month-to-month",
          "Two year",
          "Two year",
          "Month-to-month",
          "Two year",
          "Two year",
          "Month-to-month",
          "Two year",
          "One year",
          "Month-to-month",
          "One year",
          "Month-to-month",
          "Month-to-month",
          "One year",
          "Month-to-month",
          "Month-to-month",
          "Month-to-month",
          "Month-to-month",
          "Two year",
          "Month-to-month",
          "Two year",
          "Month-to-month",
          "Month-to-month",
          "Two year",
          "Month-to-month",
          "Two year",
          "Two year",
          "Month-to-month",
          "Month-to-month",
          "Two year",
          "Two year",
          "Month-to-month",
          "Two year",
          "Two year",
          "Month-to-month",
          "Month-to-month",
          "Two year",
          "Two year",
          "Month-to-month",
          "Month-to-month",
          "Month-to-month",
          "Month-to-month",
          "One year",
          "Month-to-month",
          "Month-to-month",
          "Month-to-month",
          "Two year",
          "Month-to-month",
          "Month-to-month",
          "Month-to-month",
          "Two year",
          "Month-to-month",
          "One year",
          "One year",
          "One year",
          "One year",
          "Month-to-month",
          "One year",
          "Month-to-month",
          "Two year",
          "One year",
          "Two year",
          "Two year",
          "One year",
          "Month-to-month",
          "Two year",
          "Month-to-month",
          "Month-to-month",
          "Two year",
          "Month-to-month",
          "Two year",
          "Two year",
          "Two year",
          "One year",
          "One year",
          "Two year",
          "Two year",
          "One year",
          "One year",
          "Two year",
          "Two year",
          "Month-to-month",
          "Two year",
          "One year",
          "Two year",
          "Month-to-month",
          "Two year",
          "Month-to-month",
          "One year",
          "Two year",
          "Month-to-month",
          "Month-to-month",
          "Month-to-month",
          "Two year",
          "Month-to-month",
          "Month-to-month",
          "Two year",
          "One year",
          "One year",
          "One year",
          "Two year",
          "One year",
          "Two year",
          "Month-to-month",
          "Month-to-month",
          "One year",
          "Month-to-month",
          "Month-to-month",
          "Month-to-month",
          "Two year",
          "One year",
          "Month-to-month",
          "Month-to-month",
          "Two year",
          "Month-to-month",
          "Month-to-month",
          "Month-to-month",
          "Two year",
          "One year",
          "Month-to-month",
          "Month-to-month",
          "One year",
          "Two year",
          "Two year",
          "Month-to-month",
          "Two year",
          "One year",
          "Month-to-month",
          "One year",
          "Two year",
          "Two year",
          "Two year",
          "Month-to-month",
          "Month-to-month",
          "One year",
          "Two year",
          "Month-to-month",
          "Month-to-month",
          "Two year",
          "One year",
          "Two year",
          "One year",
          "Two year",
          "Two year",
          "One year",
          "Two year",
          "Month-to-month",
          "Month-to-month",
          "Two year",
          "Month-to-month",
          "Two year",
          "Month-to-month",
          "Two year",
          "One year",
          "Month-to-month",
          "One year",
          "Two year",
          "Month-to-month",
          "Two year",
          "One year",
          "Month-to-month",
          "Month-to-month",
          "One year",
          "Two year",
          "Month-to-month",
          "Month-to-month",
          "Month-to-month",
          "Month-to-month",
          "Two year",
          "One year",
          "One year",
          "Month-to-month",
          "Two year",
          "Month-to-month",
          "One year",
          "Month-to-month",
          "Month-to-month",
          "Two year",
          "One year",
          "Two year",
          "Two year",
          "Two year",
          "Month-to-month",
          "Two year",
          "One year",
          "Two year",
          "One year",
          "Month-to-month",
          "One year",
          "Two year",
          "Two year",
          "Month-to-month",
          "One year",
          "Two year",
          "Month-to-month",
          "Month-to-month",
          "Two year",
          "One year",
          "One year",
          "Two year",
          "One year",
          "Month-to-month",
          "Two year",
          "Month-to-month",
          "Two year",
          "Two year",
          "Month-to-month",
          "Two year",
          "Month-to-month",
          "One year",
          "Month-to-month",
          "Two year",
          "One year",
          "Two year",
          "Month-to-month",
          "One year",
          "Month-to-month",
          "Two year",
          "Two year",
          "Month-to-month",
          "Two year",
          "One year",
          "Month-to-month",
          "Month-to-month",
          "Two year",
          "Two year",
          "Month-to-month",
          "Two year",
          "Two year",
          "One year",
          "Month-to-month",
          "One year",
          "Month-to-month",
          "Two year",
          "Two year",
          "Month-to-month",
          "Two year",
          "Month-to-month",
          "Two year",
          "Month-to-month",
          "Two year",
          "Month-to-month",
          "Month-to-month",
          "Month-to-month",
          "One year",
          "Month-to-month",
          "Two year",
          "Month-to-month",
          "Month-to-month",
          "Month-to-month",
          "Month-to-month",
          "Two year",
          "One year",
          "Month-to-month",
          "Two year",
          "One year",
          "One year",
          "One year",
          "Two year",
          "One year",
          "Month-to-month",
          "Two year",
          "Two year",
          "Two year",
          "Month-to-month",
          "One year",
          "One year",
          "One year",
          "One year",
          "Month-to-month",
          "Two year",
          "Month-to-month",
          "Month-to-month",
          "Two year",
          "Two year",
          "Two year",
          "Two year",
          "One year",
          "Two year",
          "Month-to-month",
          "Month-to-month",
          "Month-to-month",
          "One year",
          "Month-to-month",
          "Two year",
          "One year",
          "Month-to-month",
          "Month-to-month",
          "Month-to-month",
          "Month-to-month",
          "Two year",
          "Month-to-month",
          "Month-to-month",
          "Two year",
          "One year",
          "Two year",
          "Month-to-month",
          "One year",
          "One year",
          "Month-to-month",
          "Two year",
          "One year",
          "Month-to-month",
          "Two year",
          "One year",
          "One year",
          "Month-to-month",
          "Month-to-month",
          "Two year",
          "Month-to-month",
          "Month-to-month",
          "Two year",
          "Month-to-month",
          "Two year",
          "Month-to-month",
          "Two year",
          "Month-to-month",
          "Month-to-month",
          "One year",
          "Month-to-month",
          "One year",
          "One year",
          "One year",
          "Two year",
          "Month-to-month",
          "Month-to-month",
          "One year",
          "Month-to-month",
          "Two year",
          "Month-to-month",
          "Two year",
          "Month-to-month",
          "One year",
          "Two year",
          "Month-to-month",
          "Month-to-month",
          "Month-to-month",
          "Two year",
          "Month-to-month",
          "Month-to-month",
          "Month-to-month",
          "Month-to-month",
          "One year",
          "One year",
          "Month-to-month",
          "One year",
          "Month-to-month",
          "One year",
          "Two year",
          "One year",
          "Month-to-month",
          "Two year",
          "Two year",
          "Month-to-month",
          "Two year",
          "Two year",
          "Month-to-month",
          "Month-to-month",
          "One year",
          "Two year",
          "Two year",
          "One year",
          "Month-to-month",
          "One year",
          "Two year",
          "Two year",
          "Month-to-month",
          "Month-to-month",
          "Two year",
          "Two year",
          "Month-to-month",
          "One year",
          "Month-to-month",
          "Month-to-month",
          "Two year",
          "One year",
          "Two year",
          "Month-to-month",
          "One year",
          "Two year",
          "One year",
          "One year",
          "Two year",
          "Month-to-month",
          "Month-to-month",
          "One year",
          "Month-to-month",
          "Month-to-month",
          "Month-to-month",
          "Two year",
          "Two year",
          "Month-to-month",
          "Month-to-month",
          "One year",
          "Two year",
          "Month-to-month",
          "Month-to-month",
          "Month-to-month",
          "Two year",
          "Two year",
          "Month-to-month",
          "Month-to-month",
          "Month-to-month",
          "Two year",
          "Month-to-month",
          "Two year",
          "Two year",
          "One year",
          "One year",
          "Month-to-month",
          "Two year",
          "One year",
          "Month-to-month",
          "Two year",
          "One year",
          "Month-to-month",
          "Month-to-month",
          "One year",
          "One year",
          "Month-to-month",
          "Two year",
          "Month-to-month",
          "Month-to-month",
          "One year",
          "Two year",
          "Month-to-month",
          "Two year",
          "Two year",
          "Month-to-month",
          "Month-to-month",
          "Month-to-month",
          "Month-to-month",
          "Month-to-month",
          "One year",
          "Month-to-month",
          "Month-to-month",
          "One year",
          "Month-to-month",
          "Month-to-month",
          "Two year",
          "Month-to-month",
          "Two year",
          "One year",
          "One year",
          "Month-to-month",
          "Two year",
          "Two year",
          "Month-to-month",
          "One year",
          "Two year",
          "Month-to-month",
          "One year",
          "Month-to-month",
          "Two year",
          "Month-to-month",
          "Month-to-month",
          "Two year",
          "One year",
          "Month-to-month",
          "Month-to-month",
          "Month-to-month",
          "Two year",
          "Two year",
          "Month-to-month",
          "Month-to-month",
          "One year",
          "Two year",
          "Month-to-month",
          "Month-to-month",
          "One year",
          "Month-to-month",
          "Month-to-month",
          "One year",
          "Month-to-month",
          "Two year",
          "Month-to-month",
          "Month-to-month",
          "Two year",
          "One year",
          "Two year",
          "Two year",
          "Two year",
          "Month-to-month",
          "Two year",
          "One year",
          "One year",
          "Two year",
          "One year",
          "Month-to-month",
          "Month-to-month",
          "Month-to-month",
          "One year",
          "Two year",
          "Two year",
          "Two year",
          "One year",
          "Two year",
          "One year",
          "Two year",
          "Month-to-month",
          "Two year",
          "Two year",
          "Month-to-month",
          "Two year",
          "Two year",
          "Two year",
          "One year",
          "One year",
          "Month-to-month",
          "Month-to-month",
          "One year",
          "Two year",
          "One year",
          "One year",
          "One year",
          "One year",
          "Month-to-month",
          "Two year",
          "One year",
          "One year",
          "Two year",
          "Two year",
          "Month-to-month",
          "Two year",
          "Two year",
          "Month-to-month",
          "Two year",
          "Two year",
          "Month-to-month",
          "One year",
          "Two year",
          "One year",
          "Two year",
          "Month-to-month",
          "Two year",
          "Two year",
          "Month-to-month",
          "Two year",
          "One year",
          "Month-to-month",
          "One year",
          "Month-to-month",
          "Two year",
          "Two year",
          "Two year",
          "One year",
          "Month-to-month",
          "Two year",
          "Two year",
          "Month-to-month",
          "Month-to-month",
          "One year",
          "Month-to-month",
          "One year",
          "Two year",
          "Two year",
          "Month-to-month",
          "One year",
          "One year",
          "One year",
          "Two year",
          "Month-to-month",
          "Two year",
          "One year",
          "Two year",
          "Two year",
          "Month-to-month",
          "Month-to-month",
          "One year",
          "Month-to-month",
          "Month-to-month",
          "Two year",
          "Month-to-month",
          "Month-to-month",
          "Month-to-month",
          "Month-to-month",
          "Two year",
          "Two year",
          "Two year",
          "Month-to-month",
          "Two year",
          "Two year",
          "Month-to-month",
          "Two year",
          "One year",
          "Month-to-month",
          "Month-to-month",
          "One year",
          "One year",
          "Two year",
          "Two year",
          "Month-to-month",
          "One year",
          "One year",
          "Two year",
          "One year",
          "Month-to-month",
          "Two year",
          "Two year",
          "Month-to-month",
          "Two year",
          "Month-to-month",
          "Two year",
          "Month-to-month",
          "One year",
          "Month-to-month",
          "Month-to-month",
          "One year",
          "Month-to-month",
          "One year",
          "One year",
          "Month-to-month",
          "Month-to-month",
          "Month-to-month",
          "Two year",
          "One year",
          "Two year",
          "Month-to-month",
          "Month-to-month",
          "Two year",
          "Month-to-month",
          "Two year",
          "One year",
          "Month-to-month",
          "Two year",
          "Month-to-month",
          "Two year",
          "Month-to-month",
          "Month-to-month",
          "Two year",
          "Two year",
          "Month-to-month",
          "One year",
          "One year",
          "Month-to-month",
          "Two year",
          "Month-to-month",
          "Month-to-month",
          "Month-to-month",
          "Month-to-month",
          "Two year",
          "Two year",
          "Two year",
          "Month-to-month",
          "Two year",
          "One year",
          "Month-to-month",
          "Two year",
          "One year",
          "Month-to-month",
          "Month-to-month",
          "One year",
          "One year",
          "Month-to-month",
          "Month-to-month",
          "Month-to-month",
          "Month-to-month",
          "Month-to-month",
          "Month-to-month",
          "One year",
          "One year",
          "Month-to-month",
          "Month-to-month",
          "One year",
          "One year",
          "One year",
          "Month-to-month",
          "Month-to-month",
          "Month-to-month",
          "Month-to-month",
          "Month-to-month",
          "One year",
          "One year",
          "Two year",
          "One year",
          "Month-to-month",
          "Two year",
          "Two year",
          "One year",
          "One year",
          "Month-to-month",
          "Month-to-month",
          "One year",
          "Month-to-month",
          "Month-to-month",
          "Month-to-month",
          "One year",
          "Month-to-month",
          "Month-to-month",
          "One year",
          "Two year",
          "One year",
          "One year",
          "Month-to-month",
          "Month-to-month",
          "Month-to-month",
          "Month-to-month",
          "One year",
          "Month-to-month",
          "Month-to-month",
          "Two year",
          "Month-to-month",
          "Month-to-month",
          "Month-to-month",
          "Two year",
          "Month-to-month",
          "Two year",
          "Two year",
          "One year",
          "Two year",
          "Month-to-month",
          "Two year",
          "One year",
          "Month-to-month",
          "Month-to-month",
          "Two year",
          "One year",
          "One year",
          "Two year",
          "Two year",
          "Month-to-month",
          "Month-to-month",
          "Two year",
          "Two year",
          "Month-to-month",
          "Month-to-month",
          "Two year",
          "Two year",
          "Month-to-month",
          "Month-to-month",
          "One year",
          "Month-to-month",
          "One year",
          "Two year",
          "Month-to-month",
          "Month-to-month",
          "One year",
          "Two year",
          "Month-to-month",
          "Month-to-month",
          "One year",
          "One year",
          "Two year",
          "One year",
          "One year",
          "One year",
          "Two year",
          "Two year",
          "Two year",
          "Two year",
          "One year",
          "One year",
          "Two year",
          "Two year",
          "Month-to-month",
          "Month-to-month",
          "Two year",
          "One year",
          "Two year",
          "Two year",
          "Two year",
          "Month-to-month",
          "Two year",
          "One year",
          "Two year",
          "One year",
          "Two year",
          "Two year",
          "Two year",
          "Two year",
          "Two year",
          "Two year",
          "One year",
          "One year",
          "One year",
          "Month-to-month",
          "Two year",
          "Month-to-month",
          "Month-to-month",
          "Two year",
          "Month-to-month",
          "One year",
          "Month-to-month",
          "Month-to-month",
          "Month-to-month",
          "Month-to-month",
          "Month-to-month",
          "One year",
          "Two year",
          "Two year",
          "Two year",
          "Two year",
          "Two year",
          "Two year",
          "Two year",
          "Two year",
          "Two year",
          "Month-to-month",
          "Month-to-month",
          "Two year",
          "Month-to-month",
          "Month-to-month",
          "Month-to-month",
          "Two year",
          "Month-to-month",
          "Two year",
          "Month-to-month",
          "One year",
          "Month-to-month",
          "Month-to-month",
          "Month-to-month",
          "Month-to-month",
          "Two year",
          "Two year",
          "Two year",
          "One year",
          "One year",
          "Month-to-month",
          "Two year",
          "Month-to-month",
          "Two year",
          "One year",
          "Two year",
          "Month-to-month",
          "Two year",
          "Month-to-month",
          "Month-to-month",
          "Two year",
          "One year",
          "Month-to-month",
          "Two year",
          "One year",
          "Month-to-month",
          "Month-to-month",
          "Month-to-month",
          "One year",
          "Two year",
          "Month-to-month",
          "Two year",
          "Two year",
          "One year",
          "Two year",
          "Two year",
          "Two year",
          "Month-to-month",
          "Month-to-month",
          "Month-to-month",
          "Two year",
          "Month-to-month",
          "Month-to-month",
          "Two year",
          "Month-to-month",
          "Month-to-month",
          "Two year",
          "One year",
          "Month-to-month",
          "Two year",
          "Two year",
          "Month-to-month",
          "Two year",
          "One year",
          "One year",
          "One year",
          "Two year",
          "Two year",
          "One year",
          "Month-to-month",
          "One year",
          "Month-to-month",
          "Two year",
          "One year",
          "One year",
          "Two year",
          "Two year",
          "One year",
          "Two year",
          "Month-to-month",
          "Two year",
          "One year",
          "Month-to-month",
          "Two year",
          "Month-to-month",
          "One year",
          "Two year",
          "Two year",
          "Month-to-month",
          "Month-to-month",
          "Month-to-month",
          "One year",
          "Month-to-month",
          "One year",
          "Two year",
          "Month-to-month",
          "One year",
          "Month-to-month",
          "Month-to-month",
          "Two year",
          "Month-to-month",
          "Month-to-month",
          "Two year",
          "Two year",
          "Two year",
          "Two year",
          "Month-to-month",
          "One year",
          "Month-to-month",
          "Two year",
          "One year",
          "One year",
          "Month-to-month",
          "Month-to-month",
          "Month-to-month",
          "Month-to-month",
          "Month-to-month",
          "Month-to-month",
          "One year",
          "Two year",
          "One year",
          "Two year",
          "Two year",
          "Two year",
          "Two year",
          "Month-to-month",
          "One year",
          "One year",
          "Month-to-month",
          "Month-to-month",
          "Month-to-month",
          "One year",
          "Month-to-month",
          "Month-to-month",
          "One year",
          "Two year",
          "Month-to-month",
          "Month-to-month",
          "Month-to-month",
          "One year",
          "Month-to-month",
          "One year",
          "Month-to-month",
          "Two year",
          "Month-to-month",
          "Month-to-month",
          "Month-to-month",
          "One year",
          "Month-to-month",
          "Two year",
          "Month-to-month",
          "Two year",
          "One year",
          "Two year",
          "One year",
          "Month-to-month",
          "Two year",
          "Month-to-month",
          "Month-to-month",
          "Month-to-month",
          "Month-to-month",
          "One year",
          "Month-to-month",
          "One year",
          "Two year",
          "Two year",
          "Two year",
          "One year",
          "Month-to-month",
          "Month-to-month",
          "One year",
          "Two year",
          "Two year",
          "Two year",
          "Two year",
          "Two year",
          "Month-to-month",
          "One year",
          "Two year",
          "Two year",
          "Month-to-month",
          "One year",
          "Month-to-month",
          "Two year",
          "Two year",
          "One year",
          "Two year",
          "One year",
          "One year",
          "Month-to-month",
          "Two year",
          "Two year",
          "Month-to-month",
          "Month-to-month",
          "Month-to-month",
          "Two year",
          "Month-to-month",
          "Month-to-month",
          "Month-to-month",
          "One year",
          "Month-to-month",
          "Month-to-month",
          "Two year",
          "Two year",
          "One year",
          "One year",
          "Two year",
          "Month-to-month",
          "Two year",
          "Month-to-month",
          "Two year",
          "Month-to-month",
          "Month-to-month",
          "Month-to-month",
          "Two year",
          "Month-to-month",
          "One year",
          "Month-to-month",
          "Two year",
          "Two year",
          "Two year",
          "One year",
          "Month-to-month",
          "Month-to-month",
          "One year",
          "Month-to-month",
          "Two year",
          "Two year",
          "Two year",
          "Month-to-month",
          "One year",
          "Month-to-month",
          "One year",
          "One year",
          "Two year",
          "Two year",
          "Two year",
          "Two year",
          "Month-to-month",
          "Month-to-month",
          "One year",
          "Month-to-month",
          "One year",
          "Two year",
          "Month-to-month",
          "Two year",
          "One year",
          "Two year",
          "Month-to-month",
          "Two year",
          "Month-to-month",
          "Two year",
          "Two year",
          "Month-to-month",
          "One year",
          "Two year",
          "Month-to-month",
          "Two year",
          "One year",
          "Two year",
          "Month-to-month",
          "Two year",
          "Two year",
          "Month-to-month",
          "Two year",
          "Month-to-month",
          "One year",
          "One year",
          "Two year",
          "Two year",
          "Two year",
          "Month-to-month",
          "Month-to-month",
          "Month-to-month",
          "Month-to-month",
          "One year",
          "Month-to-month",
          "One year",
          "Month-to-month",
          "Month-to-month",
          "Month-to-month",
          "Month-to-month",
          "Month-to-month",
          "Month-to-month",
          "One year",
          "One year",
          "Month-to-month",
          "Two year",
          "Month-to-month",
          "Two year",
          "Two year",
          "Two year",
          "Month-to-month",
          "Month-to-month",
          "Month-to-month",
          "Month-to-month",
          "One year",
          "Two year",
          "Two year",
          "One year",
          "Two year",
          "One year",
          "Two year",
          "Two year",
          "Two year",
          "Two year",
          "Month-to-month",
          "Month-to-month",
          "Month-to-month",
          "One year",
          "Two year",
          "Month-to-month",
          "Month-to-month",
          "Month-to-month",
          "Month-to-month",
          "Month-to-month",
          "One year",
          "Month-to-month",
          "One year",
          "Month-to-month",
          "Month-to-month",
          "Two year",
          "Two year",
          "One year",
          "Month-to-month",
          "Two year",
          "One year",
          "Two year",
          "One year",
          "Month-to-month",
          "Month-to-month",
          "Two year",
          "Month-to-month",
          "Two year",
          "Month-to-month",
          "Two year",
          "Two year",
          "Month-to-month",
          "One year",
          "One year",
          "One year",
          "Two year",
          "Month-to-month",
          "One year",
          "One year",
          "Month-to-month",
          "Two year",
          "Month-to-month",
          "Two year",
          "One year",
          "Two year",
          "One year",
          "Two year",
          "One year",
          "Month-to-month",
          "Month-to-month",
          "Month-to-month",
          "Month-to-month",
          "Month-to-month",
          "One year",
          "Month-to-month",
          "Month-to-month",
          "Two year",
          "One year",
          "Two year",
          "Month-to-month",
          "One year",
          "Two year",
          "Month-to-month",
          "One year",
          "One year",
          "One year",
          "Month-to-month",
          "Two year",
          "Two year",
          "One year",
          "One year",
          "One year",
          "Month-to-month",
          "Two year",
          "Month-to-month",
          "One year",
          "Month-to-month",
          "Month-to-month",
          "Month-to-month",
          "Month-to-month",
          "Two year",
          "Two year",
          "One year",
          "Two year",
          "Month-to-month",
          "Two year",
          "Month-to-month",
          "Month-to-month",
          "One year",
          "One year",
          "One year",
          "Two year",
          "One year",
          "Month-to-month",
          "Two year",
          "Month-to-month",
          "Month-to-month",
          "Month-to-month",
          "One year",
          "One year",
          "Two year",
          "Month-to-month",
          "One year",
          "Month-to-month",
          "One year",
          "Month-to-month",
          "Month-to-month",
          "Month-to-month",
          "Month-to-month",
          "Month-to-month",
          "Month-to-month",
          "Month-to-month",
          "Month-to-month",
          "One year",
          "Month-to-month",
          "Month-to-month",
          "One year",
          "Month-to-month",
          "Month-to-month",
          "Two year",
          "One year",
          "Month-to-month",
          "Month-to-month",
          "Month-to-month",
          "One year",
          "Month-to-month",
          "Two year",
          "One year",
          "One year",
          "One year",
          "Two year",
          "One year",
          "One year",
          "Two year",
          "Two year",
          "Two year",
          "Month-to-month",
          "Two year",
          "Two year",
          "Two year",
          "Two year",
          "Month-to-month",
          "Month-to-month",
          "Two year",
          "Month-to-month",
          "Two year",
          "Two year",
          "Month-to-month",
          "One year",
          "One year",
          "Two year",
          "Two year",
          "Month-to-month",
          "Two year",
          "One year",
          "Two year",
          "Month-to-month",
          "Month-to-month",
          "One year",
          "One year",
          "One year",
          "Month-to-month",
          "One year",
          "One year",
          "Month-to-month",
          "Month-to-month",
          "One year",
          "Two year",
          "Two year",
          "Month-to-month",
          "Month-to-month",
          "Month-to-month",
          "Month-to-month",
          "Month-to-month",
          "Month-to-month",
          "One year",
          "Two year",
          "Month-to-month",
          "One year",
          "Month-to-month",
          "Two year",
          "One year",
          "Month-to-month",
          "Two year",
          "Two year",
          "Month-to-month",
          "Two year",
          "Month-to-month",
          "Month-to-month",
          "Two year",
          "Month-to-month",
          "One year",
          "One year",
          "Month-to-month",
          "Month-to-month",
          "One year",
          "One year",
          "Month-to-month",
          "Month-to-month",
          "Month-to-month",
          "Two year",
          "Month-to-month",
          "Month-to-month",
          "Two year",
          "One year",
          "One year",
          "One year",
          "Month-to-month",
          "Month-to-month",
          "Two year",
          "One year",
          "Two year",
          "One year",
          "Two year",
          "Two year",
          "One year",
          "One year",
          "Month-to-month",
          "Two year",
          "Two year",
          "Month-to-month",
          "Month-to-month",
          "Month-to-month",
          "Month-to-month",
          "Month-to-month",
          "Two year",
          "Month-to-month",
          "Two year",
          "Month-to-month",
          "One year",
          "One year",
          "Two year",
          "Month-to-month",
          "Month-to-month",
          "Two year",
          "Two year",
          "One year",
          "Month-to-month",
          "Month-to-month",
          "Month-to-month",
          "One year",
          "One year",
          "One year",
          "One year",
          "Month-to-month",
          "Two year",
          "Month-to-month",
          "Month-to-month",
          "One year",
          "Month-to-month",
          "Month-to-month",
          "Two year",
          "Two year",
          "Month-to-month",
          "Two year",
          "Month-to-month",
          "Two year",
          "Month-to-month",
          "One year",
          "One year",
          "One year",
          "Month-to-month",
          "Two year",
          "One year",
          "Month-to-month",
          "One year",
          "Two year",
          "Month-to-month",
          "Month-to-month",
          "Month-to-month",
          "Two year",
          "Two year",
          "One year",
          "Two year",
          "One year",
          "Month-to-month",
          "Month-to-month",
          "Month-to-month",
          "Two year",
          "Month-to-month",
          "Two year",
          "Two year",
          "Month-to-month",
          "One year",
          "Two year",
          "One year",
          "Month-to-month",
          "Month-to-month",
          "Month-to-month",
          "One year",
          "Month-to-month",
          "One year",
          "Two year",
          "One year",
          "Month-to-month",
          "One year",
          "Two year",
          "One year",
          "Two year",
          "Month-to-month",
          "Two year",
          "Month-to-month",
          "One year",
          "Month-to-month",
          "One year",
          "Two year",
          "Two year",
          "Two year",
          "Month-to-month",
          "Two year",
          "Month-to-month",
          "Month-to-month",
          "Month-to-month",
          "Two year",
          "Month-to-month",
          "Two year",
          "Two year",
          "One year",
          "Month-to-month",
          "One year",
          "One year",
          "Two year",
          "One year",
          "One year",
          "Month-to-month",
          "One year",
          "One year",
          "Two year",
          "One year",
          "Month-to-month",
          "One year",
          "One year",
          "One year",
          "One year",
          "One year",
          "One year",
          "One year",
          "One year",
          "Month-to-month",
          "One year",
          "Month-to-month",
          "Two year",
          "Month-to-month",
          "Two year",
          "Month-to-month",
          "Month-to-month",
          "Month-to-month",
          "Month-to-month",
          "Month-to-month",
          "Two year",
          "Month-to-month",
          "Month-to-month",
          "Month-to-month",
          "One year",
          "Month-to-month",
          "Month-to-month",
          "One year",
          "One year",
          "Month-to-month",
          "One year",
          "Two year",
          "Month-to-month",
          "Month-to-month",
          "Month-to-month",
          "Month-to-month",
          "One year",
          "Two year",
          "Month-to-month",
          "One year",
          "One year",
          "Month-to-month",
          "Month-to-month",
          "Month-to-month",
          "Month-to-month",
          "One year",
          "Two year",
          "One year",
          "One year",
          "Two year",
          "Month-to-month",
          "Month-to-month",
          "Month-to-month",
          "Two year",
          "Month-to-month",
          "Month-to-month",
          "Two year",
          "One year",
          "Month-to-month",
          "Two year",
          "Month-to-month",
          "Month-to-month",
          "Month-to-month",
          "Month-to-month",
          "One year",
          "One year",
          "Two year",
          "Month-to-month",
          "Month-to-month",
          "One year",
          "One year",
          "Two year",
          "Month-to-month",
          "One year",
          "Two year",
          "Two year",
          "Month-to-month",
          "One year",
          "Two year",
          "Month-to-month",
          "Two year",
          "Two year",
          "One year",
          "Two year",
          "Two year",
          "Two year",
          "Month-to-month",
          "One year",
          "Month-to-month",
          "One year",
          "Two year",
          "Month-to-month",
          "Month-to-month",
          "One year",
          "One year",
          "Month-to-month",
          "One year",
          "Two year",
          "Month-to-month",
          "Month-to-month",
          "Month-to-month",
          "Month-to-month",
          "Month-to-month",
          "One year",
          "Month-to-month",
          "Month-to-month",
          "Two year",
          "Month-to-month",
          "One year",
          "Month-to-month",
          "One year",
          "Month-to-month",
          "Month-to-month",
          "One year",
          "Month-to-month",
          "Month-to-month",
          "Month-to-month",
          "Month-to-month",
          "Month-to-month",
          "Month-to-month",
          "Month-to-month",
          "Month-to-month",
          "One year",
          "One year",
          "One year",
          "Two year",
          "Month-to-month",
          "One year",
          "Two year",
          "One year",
          "Month-to-month",
          "Two year",
          "Month-to-month",
          "Two year",
          "Month-to-month",
          "Month-to-month",
          "Two year",
          "Month-to-month",
          "One year",
          "Month-to-month",
          "Two year",
          "Month-to-month",
          "Month-to-month",
          "Two year",
          "Two year",
          "Month-to-month",
          "One year",
          "Two year",
          "Month-to-month",
          "One year",
          "Two year",
          "Month-to-month",
          "One year",
          "Month-to-month",
          "One year",
          "Two year",
          "Two year",
          "Two year",
          "Two year",
          "Month-to-month",
          "Month-to-month",
          "Two year",
          "Two year",
          "Month-to-month",
          "One year",
          "One year",
          "One year",
          "Month-to-month",
          "Month-to-month",
          "Two year",
          "Two year",
          "One year",
          "Month-to-month",
          "Month-to-month",
          "Month-to-month",
          "One year",
          "Month-to-month",
          "Month-to-month",
          "Two year",
          "Month-to-month",
          "One year",
          "Month-to-month",
          "One year",
          "Month-to-month",
          "One year",
          "Month-to-month",
          "Month-to-month",
          "Month-to-month",
          "One year",
          "Two year",
          "One year",
          "One year",
          "Two year",
          "Month-to-month",
          "Two year",
          "Two year",
          "Month-to-month",
          "One year",
          "One year",
          "One year",
          "Two year",
          "Month-to-month",
          "Month-to-month",
          "Month-to-month",
          "One year",
          "Month-to-month",
          "One year",
          "Month-to-month",
          "One year",
          "One year",
          "Two year",
          "Month-to-month",
          "Two year",
          "Two year",
          "Two year",
          "Month-to-month",
          "One year",
          "Month-to-month",
          "One year",
          "Month-to-month",
          "Two year",
          "Month-to-month",
          "One year",
          "Month-to-month",
          "Two year",
          "One year",
          "Month-to-month",
          "Two year",
          "Month-to-month",
          "Month-to-month",
          "Two year",
          "Month-to-month",
          "Month-to-month",
          "Two year",
          "Month-to-month",
          "One year",
          "Month-to-month",
          "Two year",
          "Month-to-month",
          "Month-to-month",
          "Two year",
          "One year",
          "One year",
          "Two year",
          "Month-to-month",
          "Two year",
          "One year",
          "Month-to-month",
          "Month-to-month",
          "Month-to-month",
          "Month-to-month",
          "Month-to-month",
          "Month-to-month",
          "Month-to-month",
          "Month-to-month",
          "Month-to-month",
          "One year",
          "Month-to-month",
          "Two year",
          "Month-to-month",
          "Month-to-month",
          "Month-to-month",
          "Month-to-month",
          "One year",
          "Month-to-month",
          "Month-to-month",
          "One year",
          "Two year",
          "Two year",
          "Two year",
          "Two year",
          "Two year",
          "One year",
          "Month-to-month",
          "Month-to-month",
          "Two year",
          "Month-to-month",
          "Two year",
          "Two year",
          "One year",
          "Two year",
          "One year",
          "Month-to-month",
          "One year",
          "One year",
          "Month-to-month",
          "Month-to-month",
          "Two year",
          "Month-to-month",
          "Month-to-month",
          "Month-to-month",
          "Month-to-month",
          "Two year",
          "Two year",
          "Month-to-month",
          "Month-to-month",
          "Month-to-month",
          "Month-to-month",
          "Month-to-month",
          "Month-to-month",
          "One year",
          "One year",
          "Month-to-month",
          "Two year",
          "Two year",
          "Month-to-month",
          "Month-to-month",
          "Two year",
          "Two year",
          "One year",
          "One year",
          "Month-to-month",
          "Two year",
          "Month-to-month",
          "Month-to-month",
          "Two year",
          "One year",
          "Two year",
          "Month-to-month",
          "Month-to-month",
          "Month-to-month",
          "Month-to-month",
          "One year",
          "One year",
          "One year",
          "Month-to-month",
          "Month-to-month",
          "Two year",
          "Two year",
          "One year",
          "Two year",
          "One year",
          "Month-to-month",
          "One year",
          "Two year",
          "Month-to-month",
          "Month-to-month",
          "Month-to-month",
          "Month-to-month",
          "Two year",
          "Two year",
          "Two year",
          "Two year",
          "One year",
          "One year",
          "Month-to-month",
          "Two year",
          "Month-to-month",
          "Month-to-month",
          "One year",
          "Month-to-month",
          "Month-to-month",
          "One year",
          "One year",
          "Month-to-month",
          "Month-to-month",
          "One year",
          "Two year",
          "Month-to-month",
          "Month-to-month",
          "Month-to-month",
          "Month-to-month",
          "Month-to-month",
          "Month-to-month",
          "One year",
          "Month-to-month",
          "One year",
          "Month-to-month",
          "Two year",
          "Two year",
          "Month-to-month",
          "Month-to-month",
          "Two year",
          "One year",
          "Month-to-month",
          "Month-to-month",
          "Two year",
          "Two year",
          "One year",
          "Two year",
          "One year",
          "Two year",
          "Month-to-month",
          "One year",
          "Month-to-month",
          "One year",
          "One year",
          "Two year",
          "Month-to-month",
          "Two year",
          "Month-to-month",
          "Two year",
          "Two year",
          "Month-to-month",
          "Two year",
          "One year",
          "Month-to-month",
          "Month-to-month",
          "Two year",
          "Two year",
          "Two year",
          "Two year",
          "Month-to-month",
          "Month-to-month",
          "Two year",
          "Two year",
          "Two year",
          "Two year",
          "Two year",
          "Two year",
          "One year",
          "Two year",
          "Month-to-month",
          "Two year",
          "Month-to-month",
          "Month-to-month",
          "One year",
          "Month-to-month",
          "One year",
          "One year",
          "Two year",
          "Month-to-month",
          "One year",
          "Month-to-month",
          "Two year",
          "Two year",
          "Two year",
          "Month-to-month",
          "Two year",
          "Month-to-month",
          "One year",
          "Month-to-month",
          "Month-to-month",
          "Month-to-month",
          "Two year",
          "Two year",
          "Month-to-month",
          "One year",
          "Two year",
          "Month-to-month",
          "Two year",
          "Two year",
          "Month-to-month",
          "Two year",
          "Two year",
          "One year",
          "Month-to-month",
          "Two year",
          "Month-to-month",
          "Month-to-month",
          "Two year",
          "Two year",
          "Two year",
          "Month-to-month",
          "Month-to-month",
          "One year",
          "Two year",
          "One year",
          "Two year",
          "Month-to-month",
          "Month-to-month",
          "Month-to-month",
          "Month-to-month",
          "Two year",
          "Month-to-month",
          "Month-to-month",
          "Two year",
          "One year",
          "Two year",
          "Month-to-month",
          "Month-to-month",
          "Month-to-month",
          "Month-to-month",
          "Month-to-month",
          "Month-to-month",
          "Month-to-month",
          "Month-to-month",
          "Month-to-month",
          "Month-to-month",
          "Two year",
          "Month-to-month",
          "Month-to-month",
          "Two year",
          "Month-to-month",
          "Two year",
          "Two year",
          "One year",
          "Two year",
          "One year",
          "Month-to-month",
          "One year",
          "Two year",
          "One year",
          "One year",
          "Two year",
          "Month-to-month",
          "One year",
          "One year",
          "One year",
          "Month-to-month",
          "Month-to-month",
          "Month-to-month",
          "Month-to-month",
          "Two year",
          "Month-to-month",
          "Month-to-month",
          "Month-to-month",
          "Month-to-month",
          "Two year",
          "One year",
          "Month-to-month",
          "Month-to-month",
          "Month-to-month",
          "One year",
          "Month-to-month",
          "Month-to-month",
          "Two year",
          "Month-to-month",
          "Month-to-month",
          "Month-to-month",
          "Two year",
          "One year",
          "Two year",
          "Month-to-month",
          "Month-to-month",
          "Two year",
          "Month-to-month",
          "One year",
          "Month-to-month",
          "Two year",
          "One year",
          "Two year",
          "Month-to-month",
          "One year",
          "One year",
          "Two year",
          "Two year",
          "Month-to-month",
          "Month-to-month",
          "One year",
          "One year",
          "Month-to-month",
          "Two year",
          "Month-to-month",
          "Month-to-month",
          "Month-to-month",
          "Month-to-month",
          "Two year",
          "Two year",
          "One year",
          "Month-to-month",
          "One year",
          "Month-to-month",
          "Two year",
          "Month-to-month",
          "Two year",
          "Month-to-month",
          "Two year",
          "Two year",
          "Two year",
          "One year",
          "One year",
          "Month-to-month",
          "Two year",
          "Two year",
          "Month-to-month",
          "One year",
          "Month-to-month",
          "One year",
          "Two year",
          "Two year",
          "Month-to-month",
          "Month-to-month",
          "One year",
          "One year",
          "Month-to-month",
          "One year",
          "Month-to-month",
          "Two year",
          "Month-to-month",
          "Two year",
          "Two year",
          "Two year",
          "Two year",
          "One year",
          "One year",
          "Month-to-month",
          "One year",
          "One year",
          "Month-to-month",
          "Month-to-month",
          "Two year",
          "Two year",
          "Two year",
          "Two year",
          "Month-to-month",
          "One year",
          "One year",
          "Two year",
          "Month-to-month",
          "Month-to-month",
          "Two year",
          "Month-to-month",
          "One year",
          "One year",
          "Two year",
          "Month-to-month",
          "Two year",
          "One year",
          "Two year",
          "One year",
          "One year",
          "Month-to-month",
          "Month-to-month",
          "One year",
          "Month-to-month",
          "Two year",
          "Month-to-month",
          "One year",
          "Month-to-month",
          "Month-to-month",
          "Two year",
          "Month-to-month",
          "Two year",
          "Two year",
          "One year",
          "One year",
          "Two year",
          "Month-to-month",
          "Month-to-month",
          "One year",
          "Two year",
          "One year",
          "Two year",
          "One year",
          "Two year",
          "Month-to-month",
          "Month-to-month",
          "Month-to-month",
          "Two year",
          "Two year",
          "Month-to-month",
          "Two year",
          "One year",
          "One year",
          "One year",
          "One year",
          "Month-to-month",
          "Month-to-month",
          "Month-to-month",
          "Month-to-month",
          "Month-to-month",
          "Month-to-month",
          "Two year",
          "Two year",
          "Month-to-month",
          "Month-to-month",
          "Month-to-month",
          "Two year",
          "Month-to-month",
          "Month-to-month",
          "One year",
          "Month-to-month",
          "Two year",
          "Two year",
          "One year",
          "Month-to-month",
          "Two year",
          "Month-to-month",
          "Month-to-month",
          "Month-to-month",
          "Two year",
          "Month-to-month",
          "Month-to-month",
          "Month-to-month",
          "One year",
          "Month-to-month",
          "Month-to-month",
          "One year",
          "One year",
          "Month-to-month",
          "Two year",
          "Two year",
          "Month-to-month",
          "One year",
          "One year",
          "One year",
          "Month-to-month",
          "One year",
          "Two year",
          "One year",
          "One year",
          "Month-to-month",
          "One year",
          "Two year",
          "Two year",
          "Month-to-month",
          "One year",
          "One year",
          "Month-to-month",
          "Two year",
          "Month-to-month",
          "Month-to-month",
          "Month-to-month",
          "Month-to-month",
          "Month-to-month",
          "Two year",
          "Two year",
          "Month-to-month",
          "Month-to-month",
          "Month-to-month",
          "Month-to-month",
          "Month-to-month",
          "Month-to-month",
          "Month-to-month",
          "Two year",
          "Two year",
          "Month-to-month",
          "Month-to-month",
          "One year",
          "Month-to-month",
          "Two year",
          "Month-to-month",
          "Month-to-month",
          "One year",
          "Month-to-month",
          "One year",
          "Month-to-month",
          "Month-to-month",
          "One year",
          "Two year",
          "Two year",
          "Month-to-month",
          "Month-to-month",
          "Two year",
          "Month-to-month",
          "Month-to-month",
          "Month-to-month",
          "Month-to-month",
          "Two year",
          "Two year",
          "Two year",
          "Two year",
          "Two year",
          "Month-to-month",
          "Two year",
          "Month-to-month",
          "Two year",
          "Month-to-month",
          "Two year",
          "Month-to-month",
          "Two year",
          "Month-to-month",
          "Month-to-month",
          "Month-to-month",
          "One year",
          "One year",
          "One year",
          "Month-to-month",
          "Two year",
          "Month-to-month",
          "Two year",
          "Month-to-month",
          "One year",
          "Month-to-month",
          "Two year",
          "Month-to-month",
          "Two year",
          "Month-to-month",
          "Two year",
          "Month-to-month",
          "One year",
          "One year",
          "One year",
          "Month-to-month",
          "Two year",
          "Two year",
          "Month-to-month",
          "Two year",
          "One year",
          "One year",
          "One year",
          "Two year",
          "One year",
          "Two year",
          "Two year",
          "Month-to-month",
          "Month-to-month",
          "Month-to-month",
          "One year",
          "Two year",
          "Month-to-month",
          "Month-to-month",
          "Two year",
          "One year",
          "Month-to-month",
          "One year",
          "Month-to-month",
          "Month-to-month",
          "Month-to-month",
          "Month-to-month",
          "Month-to-month",
          "Two year",
          "Two year",
          "Month-to-month",
          "Month-to-month",
          "Month-to-month",
          "Month-to-month",
          "One year",
          "Month-to-month",
          "Month-to-month",
          "Month-to-month",
          "Two year",
          "Month-to-month",
          "Month-to-month",
          "Two year",
          "Month-to-month",
          "Two year",
          "One year",
          "Month-to-month",
          "One year",
          "Month-to-month",
          "Two year",
          "One year",
          "One year",
          "Month-to-month",
          "One year",
          "Month-to-month",
          "Month-to-month",
          "Month-to-month",
          "Two year",
          "One year",
          "Month-to-month",
          "Month-to-month",
          "One year",
          "Month-to-month",
          "Month-to-month",
          "Two year",
          "Two year",
          "Two year",
          "Two year",
          "Two year",
          "Two year",
          "Month-to-month",
          "Month-to-month",
          "Two year",
          "Two year",
          "Month-to-month",
          "One year",
          "Month-to-month",
          "Two year",
          "One year",
          "Month-to-month",
          "One year",
          "Two year",
          "Month-to-month",
          "Two year",
          "Month-to-month",
          "Month-to-month",
          "Two year",
          "Two year",
          "Month-to-month",
          "Two year",
          "One year",
          "Two year",
          "Two year",
          "Month-to-month",
          "Two year",
          "Month-to-month",
          "Month-to-month",
          "Month-to-month",
          "Two year",
          "Month-to-month",
          "Month-to-month",
          "Month-to-month",
          "Month-to-month",
          "Month-to-month",
          "One year",
          "Month-to-month",
          "Month-to-month",
          "Month-to-month",
          "Two year",
          "Month-to-month",
          "Two year",
          "One year",
          "One year",
          "Month-to-month",
          "Month-to-month",
          "Month-to-month",
          "Month-to-month",
          "Month-to-month",
          "Month-to-month",
          "Month-to-month",
          "Two year",
          "Month-to-month",
          "One year",
          "One year",
          "One year",
          "Month-to-month",
          "Month-to-month",
          "Month-to-month",
          "Two year",
          "Two year",
          "Month-to-month",
          "Two year",
          "Month-to-month",
          "Month-to-month",
          "Month-to-month",
          "Two year",
          "Month-to-month",
          "Month-to-month",
          "One year",
          "Month-to-month",
          "Two year",
          "Month-to-month",
          "Month-to-month",
          "Two year",
          "Two year",
          "Month-to-month",
          "Month-to-month",
          "Month-to-month",
          "Month-to-month",
          "Two year",
          "Month-to-month",
          "One year",
          "Two year",
          "Month-to-month",
          "Two year",
          "Month-to-month",
          "Month-to-month",
          "One year",
          "Month-to-month",
          "Month-to-month",
          "One year",
          "Two year",
          "Month-to-month",
          "Two year",
          "One year",
          "One year",
          "One year",
          "Two year",
          "Two year",
          "Two year",
          "One year",
          "One year",
          "One year",
          "One year",
          "One year",
          "Two year",
          "Two year",
          "Two year",
          "Two year",
          "Month-to-month",
          "One year",
          "Two year",
          "Month-to-month",
          "One year",
          "Two year",
          "Two year",
          "Month-to-month",
          "Month-to-month",
          "Two year",
          "Two year",
          "Two year",
          "Month-to-month",
          "One year",
          "One year",
          "One year",
          "One year",
          "Two year",
          "Month-to-month",
          "Month-to-month",
          "Two year",
          "One year",
          "Two year",
          "Month-to-month",
          "Month-to-month",
          "Two year",
          "Two year",
          "One year",
          "Two year",
          "One year",
          "One year",
          "One year",
          "One year",
          "Month-to-month",
          "Month-to-month",
          "Two year",
          "Month-to-month",
          "Month-to-month",
          "Two year",
          "Month-to-month",
          "One year",
          "Month-to-month",
          "Two year",
          "Month-to-month",
          "Two year",
          "Month-to-month",
          "Month-to-month",
          "One year",
          "Month-to-month",
          "One year",
          "Two year",
          "Month-to-month",
          "Month-to-month",
          "Two year",
          "Month-to-month",
          "Month-to-month",
          "One year",
          "Two year",
          "One year",
          "Two year",
          "Two year",
          "Month-to-month",
          "Month-to-month",
          "One year",
          "Month-to-month",
          "One year",
          "Two year",
          "One year",
          "Two year",
          "One year",
          "Month-to-month",
          "Month-to-month",
          "Month-to-month",
          "Two year",
          "One year",
          "One year",
          "One year",
          "Two year",
          "Month-to-month",
          "Month-to-month",
          "One year",
          "Month-to-month",
          "Month-to-month",
          "Two year",
          "One year",
          "Two year",
          "Month-to-month",
          "One year",
          "One year",
          "Two year",
          "One year",
          "One year",
          "Two year",
          "Month-to-month",
          "One year",
          "Two year",
          "Two year",
          "One year",
          "Two year",
          "One year",
          "Month-to-month",
          "Month-to-month",
          "Month-to-month",
          "Month-to-month",
          "One year",
          "One year",
          "Two year",
          "Month-to-month",
          "One year",
          "Month-to-month",
          "One year",
          "Two year",
          "Month-to-month",
          "Two year",
          "Month-to-month",
          "Two year",
          "One year",
          "Month-to-month",
          "One year",
          "One year",
          "Month-to-month",
          "Month-to-month",
          "Month-to-month",
          "One year",
          "Month-to-month",
          "Month-to-month",
          "Month-to-month",
          "Month-to-month",
          "Month-to-month",
          "Two year",
          "Two year",
          "Two year",
          "Two year",
          "Two year",
          "Two year",
          "Two year",
          "Month-to-month",
          "Month-to-month",
          "Month-to-month",
          "Two year",
          "Two year",
          "Two year",
          "Month-to-month",
          "Month-to-month",
          "Month-to-month",
          "One year",
          "Two year",
          "Two year",
          "One year",
          "Month-to-month",
          "Month-to-month",
          "One year",
          "Month-to-month",
          "Two year",
          "One year",
          "Month-to-month",
          "One year",
          "Month-to-month",
          "Month-to-month",
          "Two year",
          "Month-to-month",
          "Two year",
          "Month-to-month",
          "Month-to-month",
          "Month-to-month",
          "Two year",
          "Month-to-month",
          "Month-to-month",
          "Month-to-month",
          "Month-to-month",
          "Two year",
          "Month-to-month",
          "Two year",
          "Month-to-month",
          "One year",
          "Month-to-month",
          "Two year",
          "Month-to-month",
          "Two year",
          "Two year",
          "One year",
          "Two year",
          "One year",
          "Month-to-month",
          "Two year",
          "Month-to-month",
          "Two year",
          "One year",
          "Month-to-month",
          "Month-to-month",
          "Month-to-month",
          "Two year",
          "Two year",
          "One year",
          "Two year",
          "Month-to-month",
          "Two year",
          "Month-to-month",
          "Month-to-month",
          "Two year",
          "One year",
          "Two year",
          "Month-to-month",
          "Month-to-month",
          "Month-to-month",
          "Month-to-month",
          "Month-to-month",
          "One year",
          "Two year",
          "Month-to-month",
          "Two year",
          "One year",
          "Two year",
          "Two year",
          "Month-to-month",
          "One year",
          "Two year",
          "Month-to-month",
          "Month-to-month",
          "Month-to-month",
          "Month-to-month",
          "One year",
          "Month-to-month",
          "One year",
          "Month-to-month",
          "One year",
          "One year",
          "Month-to-month",
          "Month-to-month",
          "Month-to-month",
          "Month-to-month",
          "One year",
          "Month-to-month",
          "Month-to-month",
          "Month-to-month",
          "One year",
          "Two year",
          "Two year",
          "Month-to-month",
          "Month-to-month",
          "Month-to-month",
          "One year",
          "One year",
          "Two year",
          "Month-to-month",
          "Two year",
          "Month-to-month",
          "Month-to-month",
          "One year",
          "One year",
          "Month-to-month",
          "Two year",
          "One year",
          "Month-to-month",
          "Two year",
          "Two year",
          "One year",
          "Month-to-month",
          "One year",
          "Month-to-month",
          "Month-to-month",
          "Two year",
          "Month-to-month",
          "Month-to-month",
          "Two year",
          "One year",
          "One year",
          "Two year",
          "Month-to-month",
          "Month-to-month",
          "Two year",
          "One year",
          "Two year",
          "Month-to-month",
          "Month-to-month",
          "Month-to-month",
          "Two year",
          "Month-to-month",
          "Two year",
          "Month-to-month",
          "Two year",
          "Two year",
          "Month-to-month",
          "Month-to-month",
          "One year",
          "Month-to-month",
          "Two year",
          "Month-to-month",
          "Month-to-month",
          "Month-to-month",
          "One year",
          "Month-to-month",
          "Month-to-month",
          "Month-to-month",
          "Two year",
          "Two year",
          "Month-to-month",
          "Month-to-month",
          "One year",
          "One year",
          "Month-to-month",
          "One year",
          "Month-to-month",
          "Month-to-month",
          "Two year",
          "Two year",
          "Month-to-month",
          "Month-to-month",
          "Two year",
          "Month-to-month",
          "One year",
          "One year",
          "Two year",
          "Two year",
          "Month-to-month",
          "Month-to-month",
          "Month-to-month",
          "Month-to-month",
          "Month-to-month",
          "Month-to-month",
          "One year",
          "Two year",
          "One year",
          "Month-to-month",
          "Month-to-month",
          "Two year",
          "Month-to-month",
          "One year",
          "Month-to-month",
          "One year",
          "Two year",
          "Two year",
          "One year",
          "Two year",
          "One year",
          "Month-to-month",
          "Month-to-month",
          "Month-to-month",
          "Month-to-month",
          "Two year",
          "Two year",
          "Two year",
          "Two year",
          "One year",
          "Two year",
          "One year",
          "One year",
          "One year",
          "Two year",
          "Month-to-month",
          "Month-to-month",
          "Month-to-month",
          "Two year",
          "Month-to-month",
          "Two year",
          "Two year",
          "Month-to-month",
          "Month-to-month",
          "One year",
          "Month-to-month",
          "One year",
          "One year",
          "Month-to-month",
          "Two year",
          "One year",
          "One year",
          "Month-to-month",
          "Month-to-month",
          "Month-to-month",
          "Two year",
          "Month-to-month",
          "One year",
          "Month-to-month",
          "One year",
          "Month-to-month",
          "One year",
          "One year",
          "Two year",
          "One year",
          "One year",
          "Month-to-month",
          "Two year",
          "Two year",
          "Two year",
          "Month-to-month",
          "Month-to-month",
          "One year",
          "Two year",
          "Month-to-month",
          "Month-to-month",
          "Month-to-month",
          "Two year",
          "One year",
          "Month-to-month",
          "One year",
          "One year",
          "One year",
          "One year",
          "Two year",
          "Month-to-month",
          "Month-to-month",
          "Two year",
          "One year",
          "One year",
          "Month-to-month",
          "Two year",
          "One year",
          "Two year",
          "Month-to-month",
          "Two year",
          "Month-to-month",
          "One year",
          "Two year",
          "One year",
          "One year",
          "One year",
          "Two year",
          "Month-to-month",
          "One year",
          "Two year",
          "Month-to-month",
          "Month-to-month",
          "Month-to-month",
          "Month-to-month",
          "Two year",
          "Month-to-month",
          "Two year",
          "Two year",
          "Month-to-month",
          "Month-to-month",
          "Two year",
          "One year",
          "Two year",
          "Two year",
          "Two year",
          "One year",
          "Month-to-month",
          "One year",
          "One year",
          "One year",
          "Two year",
          "One year",
          "Two year",
          "One year",
          "One year",
          "Month-to-month",
          "Month-to-month",
          "Two year",
          "Month-to-month",
          "One year",
          "Two year",
          "Two year",
          "Two year",
          "Two year",
          "One year",
          "Two year",
          "Two year",
          "Month-to-month",
          "Month-to-month",
          "Month-to-month",
          "Month-to-month",
          "One year",
          "Two year",
          "Month-to-month",
          "One year",
          "Two year",
          "Two year",
          "Two year",
          "Two year",
          "Two year",
          "Month-to-month",
          "Month-to-month",
          "Month-to-month",
          "Two year",
          "One year",
          "Month-to-month",
          "Two year",
          "One year",
          "One year",
          "Month-to-month",
          "Month-to-month",
          "Month-to-month",
          "Month-to-month",
          "One year",
          "Two year",
          "Month-to-month",
          "One year",
          "Month-to-month",
          "One year",
          "Month-to-month",
          "Two year",
          "Two year",
          "Month-to-month",
          "One year",
          "One year",
          "Two year",
          "Two year",
          "Two year",
          "Two year",
          "One year",
          "Month-to-month",
          "Month-to-month",
          "One year",
          "Two year",
          "Month-to-month",
          "Two year",
          "Two year",
          "Two year",
          "Two year",
          "Two year",
          "Month-to-month",
          "Two year",
          "Month-to-month",
          "Two year",
          "One year",
          "One year",
          "Month-to-month",
          "One year",
          "Month-to-month",
          "Month-to-month",
          "Two year",
          "Month-to-month",
          "Month-to-month",
          "Two year",
          "Month-to-month",
          "One year",
          "Two year",
          "One year",
          "One year",
          "Two year",
          "Month-to-month",
          "Month-to-month",
          "Month-to-month",
          "Two year",
          "Two year",
          "One year",
          "Two year",
          "One year",
          "One year",
          "One year",
          "Month-to-month",
          "Two year",
          "Month-to-month",
          "Month-to-month",
          "Month-to-month",
          "Month-to-month",
          "Two year",
          "Two year",
          "Month-to-month",
          "Month-to-month",
          "Two year",
          "Month-to-month",
          "Two year",
          "One year",
          "One year",
          "Month-to-month",
          "Month-to-month",
          "Month-to-month",
          "Two year",
          "Two year",
          "Two year",
          "Month-to-month",
          "One year",
          "One year",
          "Month-to-month",
          "One year",
          "Two year",
          "Month-to-month",
          "Two year",
          "Month-to-month",
          "Two year",
          "Month-to-month",
          "Two year",
          "One year",
          "Month-to-month",
          "One year",
          "Month-to-month",
          "Month-to-month",
          "Two year",
          "One year",
          "One year",
          "One year",
          "One year",
          "Month-to-month",
          "One year",
          "One year",
          "Two year",
          "Month-to-month",
          "Month-to-month",
          "Two year",
          "Two year",
          "One year",
          "Two year",
          "Month-to-month",
          "Month-to-month",
          "Month-to-month",
          "Two year",
          "One year",
          "Month-to-month",
          "One year",
          "Two year",
          "Two year",
          "Month-to-month",
          "Two year",
          "Month-to-month",
          "Month-to-month",
          "Month-to-month",
          "Month-to-month",
          "Month-to-month",
          "Two year",
          "Two year",
          "One year",
          "Month-to-month",
          "Month-to-month",
          "One year",
          "Two year",
          "Month-to-month",
          "One year",
          "One year",
          "Two year",
          "One year",
          "Two year",
          "One year",
          "One year",
          "Month-to-month",
          "Two year",
          "One year",
          "Month-to-month",
          "Month-to-month",
          "Two year",
          "One year",
          "One year",
          "Two year",
          "Month-to-month",
          "Month-to-month",
          "One year",
          "One year",
          "Month-to-month",
          "One year",
          "Two year",
          "One year",
          "Month-to-month",
          "Month-to-month",
          "Month-to-month",
          "One year",
          "Two year",
          "Month-to-month",
          "Month-to-month",
          "Month-to-month",
          "Month-to-month",
          "Month-to-month",
          "Month-to-month",
          "Two year",
          "Month-to-month",
          "Month-to-month",
          "One year",
          "Month-to-month",
          "One year",
          "One year",
          "One year",
          "Month-to-month",
          "One year",
          "Month-to-month",
          "One year",
          "Month-to-month",
          "Two year",
          "Two year",
          "Month-to-month",
          "Month-to-month",
          "Month-to-month",
          "Two year",
          "One year",
          "Month-to-month",
          "Month-to-month",
          "Month-to-month",
          "One year",
          "Month-to-month",
          "Month-to-month",
          "One year",
          "Two year",
          "One year",
          "One year",
          "Two year",
          "Month-to-month",
          "Month-to-month",
          "One year",
          "One year",
          "Month-to-month",
          "Two year",
          "One year",
          "Two year",
          "Month-to-month",
          "Two year",
          "One year",
          "Month-to-month",
          "Two year",
          "One year",
          "Two year",
          "Month-to-month",
          "Month-to-month",
          "Month-to-month",
          "Two year",
          "Month-to-month",
          "Month-to-month",
          "Month-to-month",
          "Month-to-month",
          "One year",
          "Two year",
          "Month-to-month",
          "Two year",
          "Month-to-month",
          "Two year",
          "Two year",
          "One year",
          "Two year",
          "Month-to-month",
          "Two year",
          "Two year",
          "Two year",
          "Month-to-month",
          "Two year",
          "Month-to-month",
          "Month-to-month",
          "Two year",
          "Two year",
          "Two year",
          "Month-to-month",
          "Month-to-month",
          "Two year",
          "Two year",
          "Two year",
          "Two year",
          "One year",
          "Two year",
          "One year",
          "Month-to-month",
          "One year",
          "Two year",
          "Two year",
          "Month-to-month",
          "Month-to-month",
          "Month-to-month",
          "Two year",
          "Month-to-month",
          "One year",
          "Month-to-month",
          "Two year",
          "Month-to-month",
          "Month-to-month",
          "Two year",
          "One year",
          "Two year",
          "One year",
          "Two year",
          "One year",
          "Month-to-month",
          "Two year",
          "Month-to-month",
          "Month-to-month",
          "Two year",
          "Two year",
          "Two year",
          "Month-to-month",
          "One year",
          "Month-to-month",
          "Month-to-month",
          "Two year",
          "Two year",
          "Month-to-month",
          "Two year",
          "Month-to-month",
          "Month-to-month",
          "Month-to-month",
          "Two year",
          "Month-to-month",
          "Two year",
          "Month-to-month",
          "Month-to-month",
          "Month-to-month",
          "Month-to-month",
          "Two year",
          "Month-to-month",
          "Two year",
          "Two year",
          "Month-to-month",
          "Two year",
          "Two year",
          "Month-to-month",
          "Month-to-month",
          "Two year",
          "Two year",
          "One year",
          "One year",
          "Month-to-month",
          "Month-to-month",
          "Two year",
          "Month-to-month",
          "Two year",
          "One year",
          "One year",
          "Month-to-month",
          "Month-to-month",
          "Two year",
          "One year",
          "Month-to-month",
          "Month-to-month",
          "Month-to-month",
          "One year",
          "Month-to-month",
          "One year",
          "Month-to-month",
          "Month-to-month",
          "One year",
          "Two year",
          "Two year",
          "One year",
          "One year",
          "Month-to-month",
          "Month-to-month",
          "Month-to-month",
          "One year",
          "Two year",
          "Two year",
          "Month-to-month",
          "Two year",
          "Month-to-month",
          "Month-to-month",
          "Two year",
          "Month-to-month",
          "One year",
          "Month-to-month",
          "Two year",
          "One year",
          "Two year",
          "One year",
          "Two year",
          "Month-to-month",
          "One year",
          "Two year",
          "Month-to-month",
          "Month-to-month",
          "Two year",
          "Month-to-month",
          "Two year",
          "Month-to-month",
          "Two year",
          "Two year",
          "One year",
          "Month-to-month",
          "Month-to-month",
          "Two year",
          "One year",
          "Month-to-month",
          "Month-to-month",
          "One year",
          "Month-to-month",
          "Month-to-month",
          "One year",
          "Month-to-month",
          "Two year",
          "Two year",
          "Month-to-month",
          "Two year",
          "Two year",
          "Month-to-month",
          "One year",
          "Two year",
          "Month-to-month",
          "Two year",
          "One year",
          "Month-to-month",
          "Two year",
          "Two year",
          "Month-to-month",
          "Two year",
          "Month-to-month",
          "Two year",
          "Month-to-month",
          "Month-to-month",
          "One year",
          "Month-to-month",
          "Month-to-month",
          "Two year",
          "Month-to-month",
          "Month-to-month",
          "Month-to-month",
          "Month-to-month",
          "Month-to-month",
          "Month-to-month",
          "Two year",
          "Month-to-month",
          "Two year",
          "One year",
          "Month-to-month",
          "Month-to-month",
          "One year",
          "Month-to-month",
          "One year",
          "Month-to-month",
          "Month-to-month",
          "Two year",
          "Two year",
          "Month-to-month",
          "Month-to-month",
          "Two year",
          "Month-to-month",
          "Two year",
          "One year",
          "Two year",
          "One year",
          "Month-to-month",
          "One year",
          "Month-to-month",
          "Two year",
          "Two year",
          "Month-to-month",
          "Month-to-month",
          "Two year",
          "Two year",
          "Month-to-month",
          "Two year",
          "Two year",
          "One year",
          "Month-to-month",
          "Two year",
          "One year",
          "One year",
          "Month-to-month",
          "One year",
          "One year",
          "Two year",
          "Month-to-month",
          "One year",
          "One year",
          "Month-to-month",
          "Month-to-month",
          "Two year",
          "One year",
          "One year",
          "Month-to-month",
          "Month-to-month",
          "Two year",
          "Month-to-month",
          "Month-to-month",
          "Two year",
          "Month-to-month",
          "Month-to-month",
          "One year",
          "One year",
          "Month-to-month",
          "Month-to-month",
          "One year",
          "Month-to-month",
          "One year",
          "Month-to-month",
          "Month-to-month",
          "Two year",
          "Month-to-month",
          "Month-to-month",
          "Two year",
          "Two year",
          "Month-to-month",
          "One year",
          "Month-to-month",
          "Month-to-month",
          "One year",
          "Month-to-month",
          "Month-to-month",
          "Month-to-month",
          "Two year",
          "Two year",
          "One year",
          "One year",
          "Two year",
          "Two year",
          "Month-to-month",
          "One year",
          "One year",
          "One year",
          "Two year",
          "One year",
          "Month-to-month",
          "Month-to-month",
          "Two year",
          "Month-to-month",
          "Two year",
          "One year",
          "Two year",
          "Two year",
          "Two year",
          "Two year",
          "Month-to-month",
          "Month-to-month",
          "Two year",
          "One year",
          "Two year",
          "Two year",
          "Two year",
          "Month-to-month",
          "One year",
          "Month-to-month",
          "Month-to-month",
          "Month-to-month",
          "Month-to-month",
          "Month-to-month",
          "One year",
          "Month-to-month",
          "Month-to-month",
          "Two year",
          "One year",
          "Two year",
          "Two year",
          "One year",
          "Month-to-month",
          "Two year",
          "One year",
          "One year",
          "One year",
          "One year",
          "Month-to-month",
          "Month-to-month",
          "Two year",
          "Month-to-month",
          "Month-to-month",
          "Month-to-month",
          "Two year",
          "Two year",
          "Month-to-month",
          "Month-to-month",
          "Month-to-month",
          "One year",
          "Month-to-month",
          "Two year",
          "One year",
          "Two year",
          "One year",
          "Month-to-month",
          "Two year",
          "Two year",
          "Month-to-month",
          "Month-to-month",
          "One year",
          "One year",
          "Month-to-month",
          "Two year",
          "Month-to-month",
          "Two year",
          "Month-to-month",
          "Month-to-month",
          "Month-to-month",
          "Month-to-month",
          "Month-to-month",
          "One year",
          "Two year",
          "Two year",
          "One year",
          "Two year",
          "One year",
          "Month-to-month",
          "One year",
          "Two year",
          "Month-to-month",
          "Two year",
          "Month-to-month",
          "Month-to-month",
          "One year",
          "One year",
          "Two year",
          "Two year",
          "Two year",
          "Month-to-month",
          "One year",
          "Month-to-month",
          "Month-to-month",
          "Two year",
          "One year",
          "One year",
          "One year",
          "Two year",
          "Two year",
          "Two year",
          "One year",
          "One year",
          "Two year",
          "One year",
          "Month-to-month",
          "One year",
          "Two year",
          "Two year",
          "One year",
          "Two year",
          "Month-to-month",
          "Month-to-month",
          "Two year",
          "Month-to-month",
          "Month-to-month",
          "Two year",
          "Two year",
          "Two year",
          "Month-to-month",
          "One year",
          "Two year",
          "Two year",
          "Two year",
          "Month-to-month",
          "Two year",
          "Month-to-month",
          "Month-to-month",
          "Month-to-month",
          "Two year",
          "One year",
          "Month-to-month",
          "Two year",
          "Two year",
          "Two year",
          "One year",
          "One year",
          "Two year",
          "Month-to-month",
          "One year",
          "Month-to-month",
          "Two year",
          "One year",
          "One year",
          "One year",
          "Two year",
          "One year",
          "Two year",
          "Month-to-month",
          "One year",
          "One year",
          "Two year",
          "Month-to-month",
          "One year",
          "Month-to-month",
          "Month-to-month",
          "One year",
          "One year",
          "Two year",
          "Two year",
          "One year",
          "One year",
          "Month-to-month",
          "Two year",
          "Two year",
          "Month-to-month",
          "Two year",
          "One year",
          "Month-to-month",
          "Month-to-month",
          "Two year",
          "One year",
          "One year",
          "Month-to-month",
          "Two year",
          "Two year",
          "Month-to-month",
          "Month-to-month",
          "One year",
          "One year",
          "Month-to-month",
          "Two year",
          "One year",
          "Two year",
          "Two year",
          "Month-to-month",
          "One year",
          "Two year",
          "Two year",
          "Month-to-month",
          "Month-to-month",
          "One year",
          "Month-to-month",
          "Month-to-month",
          "Month-to-month",
          "One year",
          "Month-to-month",
          "Month-to-month",
          "Month-to-month",
          "Two year",
          "Month-to-month",
          "Month-to-month",
          "Month-to-month",
          "One year",
          "Two year",
          "One year",
          "Two year",
          "Month-to-month",
          "Month-to-month",
          "Month-to-month",
          "Month-to-month",
          "Two year",
          "Two year",
          "Two year",
          "Two year",
          "Two year",
          "Two year",
          "Month-to-month",
          "Two year",
          "Two year",
          "Month-to-month",
          "Month-to-month",
          "One year",
          "Two year",
          "One year",
          "Two year",
          "Month-to-month",
          "Two year",
          "One year",
          "One year",
          "Month-to-month",
          "Month-to-month",
          "One year",
          "Month-to-month",
          "One year",
          "Month-to-month",
          "Two year",
          "Two year",
          "Two year",
          "Two year",
          "One year",
          "Month-to-month",
          "One year",
          "One year",
          "One year",
          "Month-to-month",
          "Two year",
          "Two year",
          "One year",
          "Two year",
          "One year",
          "Month-to-month",
          "One year",
          "Two year",
          "One year",
          "Two year",
          "One year",
          "One year",
          "Two year",
          "One year",
          "Month-to-month",
          "Two year",
          "Month-to-month",
          "Two year",
          "Two year",
          "Two year",
          "Two year",
          "Month-to-month",
          "Month-to-month",
          "Month-to-month",
          "One year",
          "Month-to-month",
          "Month-to-month",
          "One year",
          "One year",
          "Month-to-month",
          "Two year",
          "One year",
          "Month-to-month",
          "Month-to-month",
          "Month-to-month",
          "Two year",
          "One year",
          "Month-to-month",
          "Month-to-month",
          "Month-to-month",
          "One year",
          "Month-to-month",
          "Two year",
          "Month-to-month",
          "Month-to-month",
          "One year",
          "Two year",
          "One year",
          "One year",
          "One year",
          "Two year",
          "Month-to-month",
          "One year",
          "Two year",
          "Two year",
          "Month-to-month",
          "Month-to-month",
          "Month-to-month",
          "One year",
          "Month-to-month",
          "Two year",
          "One year",
          "Two year",
          "One year",
          "Month-to-month",
          "Month-to-month",
          "Month-to-month",
          "Two year",
          "One year",
          "Month-to-month",
          "One year",
          "Two year",
          "Two year",
          "Two year",
          "Month-to-month",
          "Month-to-month",
          "Two year",
          "Month-to-month",
          "One year",
          "Two year",
          "Month-to-month",
          "One year",
          "Two year",
          "Two year",
          "One year",
          "Month-to-month",
          "One year",
          "Month-to-month",
          "One year",
          "Month-to-month",
          "Month-to-month",
          "One year",
          "Two year",
          "One year",
          "Month-to-month",
          "Two year",
          "Month-to-month",
          "One year",
          "Two year",
          "One year",
          "One year",
          "Month-to-month",
          "Month-to-month",
          "One year",
          "Month-to-month",
          "Month-to-month",
          "Month-to-month",
          "Two year",
          "Month-to-month",
          "Two year",
          "Two year",
          "Month-to-month",
          "One year",
          "Two year",
          "One year",
          "Month-to-month",
          "Month-to-month",
          "Month-to-month",
          "Two year",
          "One year",
          "Two year",
          "One year",
          "One year",
          "Two year",
          "One year",
          "Two year",
          "One year",
          "Two year",
          "Month-to-month",
          "Two year",
          "Two year",
          "One year",
          "Month-to-month",
          "Two year",
          "One year",
          "Two year",
          "Two year",
          "Month-to-month",
          "Month-to-month",
          "Month-to-month",
          "Month-to-month",
          "One year",
          "Month-to-month",
          "Two year",
          "Month-to-month",
          "One year",
          "Month-to-month",
          "Month-to-month",
          "Two year",
          "Two year",
          "One year",
          "One year",
          "Two year",
          "Month-to-month",
          "Month-to-month",
          "One year",
          "One year",
          "One year",
          "Two year",
          "One year",
          "One year",
          "Month-to-month",
          "Month-to-month",
          "One year",
          "Month-to-month",
          "One year",
          "Two year",
          "Month-to-month",
          "Month-to-month",
          "Month-to-month",
          "Month-to-month",
          "Two year",
          "Month-to-month",
          "Two year",
          "Two year",
          "One year",
          "Two year",
          "Two year",
          "One year",
          "Month-to-month",
          "One year",
          "Month-to-month",
          "Month-to-month",
          "Month-to-month",
          "Month-to-month",
          "Two year",
          "Two year",
          "Two year",
          "Month-to-month",
          "Month-to-month",
          "One year",
          "Month-to-month",
          "Month-to-month",
          "Two year",
          "Two year",
          "Two year",
          "One year",
          "One year",
          "Month-to-month",
          "Two year",
          "Two year",
          "One year",
          "Two year",
          "One year",
          "Month-to-month",
          "Month-to-month",
          "Two year",
          "Two year",
          "Month-to-month",
          "One year",
          "One year",
          "Two year",
          "Two year",
          "One year",
          "Month-to-month",
          "One year",
          "Month-to-month",
          "Month-to-month",
          "Two year",
          "One year",
          "One year",
          "Month-to-month",
          "Month-to-month",
          "Month-to-month",
          "Month-to-month",
          "Month-to-month",
          "Two year",
          "Two year",
          "Two year",
          "One year",
          "Two year",
          "Month-to-month",
          "Month-to-month",
          "Two year",
          "Two year",
          "One year",
          "Two year",
          "Month-to-month",
          "Month-to-month",
          "Two year",
          "Two year",
          "Two year",
          "Month-to-month",
          "Month-to-month",
          "Two year",
          "Month-to-month",
          "One year",
          "One year",
          "One year",
          "One year",
          "Two year",
          "Two year",
          "One year",
          "Two year",
          "Month-to-month",
          "Month-to-month",
          "Month-to-month",
          "One year",
          "Month-to-month",
          "One year",
          "Two year",
          "One year",
          "Month-to-month",
          "Two year",
          "Two year",
          "Month-to-month",
          "Month-to-month",
          "Month-to-month",
          "Two year",
          "Two year",
          "Month-to-month",
          "Two year",
          "Month-to-month",
          "Month-to-month",
          "Month-to-month",
          "Two year",
          "Month-to-month",
          "Month-to-month",
          "Month-to-month",
          "Two year",
          "Two year",
          "Two year",
          "Month-to-month",
          "Month-to-month",
          "Month-to-month",
          "Two year",
          "One year",
          "Month-to-month",
          "One year",
          "Month-to-month",
          "One year",
          "Two year",
          "Two year",
          "Two year",
          "Month-to-month",
          "Month-to-month",
          "Two year",
          "Two year",
          "Two year",
          "Month-to-month",
          "Month-to-month",
          "Month-to-month",
          "Month-to-month",
          "Month-to-month",
          "Two year",
          "Two year",
          "Two year",
          "Two year",
          "Month-to-month",
          "Two year",
          "One year",
          "Month-to-month",
          "Month-to-month",
          "Month-to-month",
          "One year",
          "Month-to-month",
          "Month-to-month",
          "Month-to-month",
          "Month-to-month",
          "Month-to-month",
          "Two year",
          "Two year",
          "Month-to-month",
          "Month-to-month",
          "One year",
          "Two year",
          "Month-to-month",
          "Two year",
          "One year",
          "Two year",
          "Two year",
          "Month-to-month",
          "Month-to-month",
          "One year",
          "Two year",
          "Month-to-month",
          "Two year",
          "One year",
          "Month-to-month",
          "Two year",
          "Month-to-month",
          "One year",
          "Month-to-month",
          "Two year",
          "Month-to-month",
          "Month-to-month",
          "One year",
          "Month-to-month",
          "One year",
          "Two year",
          "Month-to-month",
          "One year",
          "One year",
          "One year",
          "One year",
          "One year",
          "Month-to-month",
          "Month-to-month",
          "Two year",
          "Month-to-month",
          "Two year",
          "Two year",
          "Month-to-month",
          "One year",
          "Two year",
          "Two year",
          "Two year",
          "Month-to-month",
          "Two year",
          "Month-to-month",
          "Month-to-month",
          "One year",
          "One year",
          "Month-to-month",
          "One year",
          "Month-to-month",
          "One year",
          "Month-to-month",
          "Two year",
          "Two year",
          "Month-to-month",
          "Two year",
          "One year",
          "Two year",
          "One year",
          "Two year",
          "Month-to-month",
          "Month-to-month",
          "One year",
          "One year",
          "One year",
          "Month-to-month",
          "Two year",
          "Month-to-month",
          "Month-to-month",
          "Two year",
          "Month-to-month",
          "Two year",
          "One year",
          "Month-to-month",
          "Month-to-month",
          "One year",
          "Month-to-month",
          "One year",
          "One year",
          "One year",
          "Two year",
          "Two year",
          "Month-to-month",
          "Two year",
          "Month-to-month",
          "Month-to-month",
          "Two year",
          "Month-to-month",
          "Month-to-month",
          "One year",
          "One year",
          "Month-to-month",
          "One year",
          "Month-to-month",
          "One year",
          "One year",
          "Two year",
          "Month-to-month",
          "Month-to-month",
          "One year",
          "Two year",
          "Month-to-month",
          "Month-to-month",
          "One year",
          "Two year",
          "Two year",
          "Month-to-month",
          "Month-to-month",
          "Month-to-month",
          "Month-to-month",
          "Two year",
          "Two year",
          "Month-to-month",
          "One year",
          "Month-to-month",
          "Month-to-month",
          "Month-to-month",
          "Month-to-month",
          "Two year",
          "Month-to-month",
          "Month-to-month",
          "One year",
          "Month-to-month",
          "Month-to-month",
          "One year",
          "Two year",
          "One year",
          "One year",
          "Month-to-month",
          "Two year"
         ],
         "xaxis": "x",
         "yaxis": "y"
        },
        {
         "alignmentgroup": "True",
         "bingroup": "x",
         "hovertemplate": "Churn=Yes<br>Contract Type=%{x}<br>count=%{y}<extra></extra>",
         "legendgroup": "Yes",
         "marker": {
          "color": "#FF5733",
          "pattern": {
           "shape": ""
          }
         },
         "name": "Yes",
         "offsetgroup": "Yes",
         "orientation": "v",
         "showlegend": true,
         "texttemplate": "%{value}",
         "type": "histogram",
         "x": [
          "Month-to-month",
          "Month-to-month",
          "Month-to-month",
          "Month-to-month",
          "Month-to-month",
          "Month-to-month",
          "Month-to-month",
          "Month-to-month",
          "Month-to-month",
          "Month-to-month",
          "Month-to-month",
          "Month-to-month",
          "Month-to-month",
          "Month-to-month",
          "Month-to-month",
          "Month-to-month",
          "Month-to-month",
          "Month-to-month",
          "Month-to-month",
          "Month-to-month",
          "Month-to-month",
          "Month-to-month",
          "Month-to-month",
          "Month-to-month",
          "Two year",
          "Month-to-month",
          "Month-to-month",
          "Month-to-month",
          "Month-to-month",
          "Month-to-month",
          "Month-to-month",
          "Month-to-month",
          "Month-to-month",
          "Month-to-month",
          "Month-to-month",
          "Month-to-month",
          "Month-to-month",
          "Month-to-month",
          "Month-to-month",
          "Month-to-month",
          "Month-to-month",
          "One year",
          "Month-to-month",
          "Month-to-month",
          "Month-to-month",
          "Month-to-month",
          "Month-to-month",
          "Month-to-month",
          "Month-to-month",
          "Month-to-month",
          "Month-to-month",
          "Month-to-month",
          "Month-to-month",
          "Month-to-month",
          "Month-to-month",
          "Month-to-month",
          "Month-to-month",
          "Month-to-month",
          "Month-to-month",
          "Month-to-month",
          "Month-to-month",
          "Month-to-month",
          "Month-to-month",
          "Month-to-month",
          "Month-to-month",
          "Two year",
          "Month-to-month",
          "Month-to-month",
          "Month-to-month",
          "Month-to-month",
          "Month-to-month",
          "Month-to-month",
          "Month-to-month",
          "Month-to-month",
          "Month-to-month",
          "Month-to-month",
          "Month-to-month",
          "Month-to-month",
          "Month-to-month",
          "Month-to-month",
          "One year",
          "Month-to-month",
          "One year",
          "Month-to-month",
          "Month-to-month",
          "Month-to-month",
          "One year",
          "Two year",
          "Month-to-month",
          "Month-to-month",
          "Month-to-month",
          "Month-to-month",
          "Month-to-month",
          "Month-to-month",
          "Month-to-month",
          "Month-to-month",
          "Month-to-month",
          "Month-to-month",
          "Month-to-month",
          "Month-to-month",
          "Month-to-month",
          "Month-to-month",
          "Month-to-month",
          "Month-to-month",
          "Month-to-month",
          "Month-to-month",
          "Month-to-month",
          "Month-to-month",
          "Month-to-month",
          "Month-to-month",
          "Month-to-month",
          "Month-to-month",
          "Month-to-month",
          "Month-to-month",
          "Month-to-month",
          "Month-to-month",
          "Month-to-month",
          "Month-to-month",
          "Month-to-month",
          "Month-to-month",
          "Month-to-month",
          "Month-to-month",
          "Month-to-month",
          "Month-to-month",
          "Month-to-month",
          "One year",
          "Month-to-month",
          "Month-to-month",
          "Month-to-month",
          "Month-to-month",
          "Month-to-month",
          "Month-to-month",
          "Month-to-month",
          "Month-to-month",
          "Month-to-month",
          "Month-to-month",
          "Month-to-month",
          "Month-to-month",
          "Month-to-month",
          "Month-to-month",
          "Month-to-month",
          "Month-to-month",
          "One year",
          "Month-to-month",
          "Month-to-month",
          "Month-to-month",
          "Month-to-month",
          "Month-to-month",
          "Month-to-month",
          "Month-to-month",
          "Month-to-month",
          "Month-to-month",
          "Month-to-month",
          "Month-to-month",
          "Month-to-month",
          "One year",
          "Month-to-month",
          "Month-to-month",
          "Month-to-month",
          "Month-to-month",
          "Month-to-month",
          "Month-to-month",
          "Month-to-month",
          "Month-to-month",
          "Month-to-month",
          "One year",
          "Month-to-month",
          "Month-to-month",
          "Month-to-month",
          "Month-to-month",
          "Month-to-month",
          "Month-to-month",
          "Month-to-month",
          "Month-to-month",
          "Month-to-month",
          "Month-to-month",
          "Month-to-month",
          "Month-to-month",
          "Month-to-month",
          "Month-to-month",
          "Month-to-month",
          "Month-to-month",
          "Month-to-month",
          "Month-to-month",
          "Month-to-month",
          "Month-to-month",
          "Month-to-month",
          "Month-to-month",
          "Month-to-month",
          "Month-to-month",
          "Month-to-month",
          "One year",
          "Month-to-month",
          "Month-to-month",
          "Month-to-month",
          "One year",
          "One year",
          "Month-to-month",
          "Month-to-month",
          "Month-to-month",
          "Month-to-month",
          "One year",
          "Two year",
          "Month-to-month",
          "Month-to-month",
          "Month-to-month",
          "Month-to-month",
          "One year",
          "One year",
          "Month-to-month",
          "Month-to-month",
          "One year",
          "One year",
          "Month-to-month",
          "One year",
          "Month-to-month",
          "Month-to-month",
          "Month-to-month",
          "Month-to-month",
          "Month-to-month",
          "One year",
          "Month-to-month",
          "Month-to-month",
          "Month-to-month",
          "Month-to-month",
          "Month-to-month",
          "Month-to-month",
          "Month-to-month",
          "Month-to-month",
          "Month-to-month",
          "Month-to-month",
          "Month-to-month",
          "Month-to-month",
          "Month-to-month",
          "Month-to-month",
          "Month-to-month",
          "Month-to-month",
          "Month-to-month",
          "Month-to-month",
          "Month-to-month",
          "Month-to-month",
          "Month-to-month",
          "Month-to-month",
          "Month-to-month",
          "Month-to-month",
          "Month-to-month",
          "Month-to-month",
          "Month-to-month",
          "Two year",
          "Month-to-month",
          "One year",
          "Month-to-month",
          "Month-to-month",
          "Month-to-month",
          "Month-to-month",
          "Month-to-month",
          "Month-to-month",
          "Month-to-month",
          "Month-to-month",
          "Month-to-month",
          "Month-to-month",
          "Month-to-month",
          "One year",
          "Month-to-month",
          "Month-to-month",
          "Month-to-month",
          "Month-to-month",
          "Month-to-month",
          "Month-to-month",
          "Month-to-month",
          "Month-to-month",
          "Month-to-month",
          "Month-to-month",
          "Month-to-month",
          "Month-to-month",
          "Month-to-month",
          "Month-to-month",
          "Month-to-month",
          "Month-to-month",
          "Month-to-month",
          "Month-to-month",
          "Month-to-month",
          "Month-to-month",
          "Month-to-month",
          "Month-to-month",
          "Month-to-month",
          "Month-to-month",
          "Month-to-month",
          "One year",
          "Month-to-month",
          "Month-to-month",
          "Month-to-month",
          "One year",
          "Month-to-month",
          "Month-to-month",
          "Month-to-month",
          "Month-to-month",
          "Month-to-month",
          "Month-to-month",
          "Month-to-month",
          "Month-to-month",
          "Month-to-month",
          "Month-to-month",
          "One year",
          "Month-to-month",
          "Month-to-month",
          "Month-to-month",
          "Month-to-month",
          "Month-to-month",
          "Month-to-month",
          "One year",
          "Month-to-month",
          "Month-to-month",
          "Month-to-month",
          "Month-to-month",
          "Month-to-month",
          "Month-to-month",
          "Month-to-month",
          "Month-to-month",
          "Month-to-month",
          "Month-to-month",
          "Month-to-month",
          "Month-to-month",
          "Month-to-month",
          "Month-to-month",
          "Month-to-month",
          "Month-to-month",
          "Month-to-month",
          "Month-to-month",
          "Month-to-month",
          "Month-to-month",
          "One year",
          "Month-to-month",
          "One year",
          "Month-to-month",
          "Month-to-month",
          "Month-to-month",
          "Month-to-month",
          "Month-to-month",
          "One year",
          "Month-to-month",
          "Month-to-month",
          "Month-to-month",
          "Month-to-month",
          "One year",
          "Month-to-month",
          "Month-to-month",
          "Month-to-month",
          "One year",
          "Month-to-month",
          "Month-to-month",
          "Month-to-month",
          "Month-to-month",
          "Month-to-month",
          "Month-to-month",
          "Month-to-month",
          "Month-to-month",
          "Month-to-month",
          "Month-to-month",
          "Month-to-month",
          "Month-to-month",
          "Month-to-month",
          "Month-to-month",
          "Month-to-month",
          "One year",
          "Month-to-month",
          "Month-to-month",
          "Month-to-month",
          "One year",
          "One year",
          "Month-to-month",
          "Month-to-month",
          "Month-to-month",
          "Month-to-month",
          "Month-to-month",
          "Month-to-month",
          "Month-to-month",
          "Month-to-month",
          "Month-to-month",
          "Month-to-month",
          "Month-to-month",
          "Month-to-month",
          "Month-to-month",
          "Month-to-month",
          "Month-to-month",
          "Month-to-month",
          "Month-to-month",
          "Month-to-month",
          "Month-to-month",
          "One year",
          "Month-to-month",
          "Month-to-month",
          "Month-to-month",
          "Month-to-month",
          "One year",
          "Month-to-month",
          "Month-to-month",
          "Month-to-month",
          "Month-to-month",
          "Month-to-month",
          "Month-to-month",
          "Month-to-month",
          "Month-to-month",
          "Month-to-month",
          "Month-to-month",
          "One year",
          "Month-to-month",
          "One year",
          "Month-to-month",
          "Month-to-month",
          "Month-to-month",
          "Month-to-month",
          "Month-to-month",
          "Month-to-month",
          "One year",
          "Month-to-month",
          "Month-to-month",
          "Month-to-month",
          "Month-to-month",
          "Month-to-month",
          "Month-to-month",
          "Month-to-month",
          "Month-to-month",
          "One year",
          "Month-to-month",
          "Month-to-month",
          "One year",
          "Month-to-month",
          "Month-to-month",
          "One year",
          "Month-to-month",
          "Month-to-month",
          "Month-to-month",
          "Month-to-month",
          "Month-to-month",
          "Month-to-month",
          "Month-to-month",
          "Month-to-month",
          "Month-to-month",
          "Month-to-month",
          "Month-to-month",
          "Month-to-month",
          "Month-to-month",
          "Month-to-month",
          "Month-to-month",
          "Month-to-month",
          "Month-to-month",
          "One year",
          "Month-to-month",
          "Month-to-month",
          "Month-to-month",
          "Month-to-month",
          "Month-to-month",
          "Month-to-month",
          "Month-to-month",
          "Month-to-month",
          "Month-to-month",
          "Month-to-month",
          "Month-to-month",
          "Month-to-month",
          "Month-to-month",
          "Month-to-month",
          "Month-to-month",
          "One year",
          "Month-to-month",
          "Month-to-month",
          "Month-to-month",
          "Month-to-month",
          "Month-to-month",
          "Month-to-month",
          "Month-to-month",
          "Month-to-month",
          "Month-to-month",
          "Month-to-month",
          "Month-to-month",
          "Month-to-month",
          "Month-to-month",
          "Month-to-month",
          "Month-to-month",
          "Month-to-month",
          "Two year",
          "Month-to-month",
          "Month-to-month",
          "Month-to-month",
          "Month-to-month",
          "Month-to-month",
          "Month-to-month",
          "Month-to-month",
          "Month-to-month",
          "Month-to-month",
          "Month-to-month",
          "Month-to-month",
          "Month-to-month",
          "Month-to-month",
          "Month-to-month",
          "Month-to-month",
          "Month-to-month",
          "Month-to-month",
          "Month-to-month",
          "Month-to-month",
          "Month-to-month",
          "Month-to-month",
          "Month-to-month",
          "Month-to-month",
          "Month-to-month",
          "Month-to-month",
          "Month-to-month",
          "Month-to-month",
          "Month-to-month",
          "Month-to-month",
          "Month-to-month",
          "Month-to-month",
          "One year",
          "Month-to-month",
          "Month-to-month",
          "Month-to-month",
          "Month-to-month",
          "Month-to-month",
          "Month-to-month",
          "Month-to-month",
          "One year",
          "Month-to-month",
          "Month-to-month",
          "Month-to-month",
          "Month-to-month",
          "Month-to-month",
          "Two year",
          "Month-to-month",
          "One year",
          "Month-to-month",
          "Month-to-month",
          "Month-to-month",
          "Month-to-month",
          "Month-to-month",
          "Month-to-month",
          "Month-to-month",
          "One year",
          "Month-to-month",
          "One year",
          "Month-to-month",
          "Month-to-month",
          "Month-to-month",
          "Month-to-month",
          "Month-to-month",
          "Month-to-month",
          "Month-to-month",
          "Month-to-month",
          "Month-to-month",
          "Month-to-month",
          "Month-to-month",
          "Month-to-month",
          "Month-to-month",
          "Month-to-month",
          "Month-to-month",
          "Month-to-month",
          "Month-to-month",
          "Month-to-month",
          "Month-to-month",
          "Month-to-month",
          "One year",
          "Month-to-month",
          "Month-to-month",
          "Month-to-month",
          "Month-to-month",
          "One year",
          "Month-to-month",
          "One year",
          "Month-to-month",
          "Month-to-month",
          "Month-to-month",
          "Month-to-month",
          "Month-to-month",
          "Month-to-month",
          "Month-to-month",
          "Month-to-month",
          "Month-to-month",
          "Month-to-month",
          "Month-to-month",
          "Month-to-month",
          "Month-to-month",
          "Month-to-month",
          "One year",
          "Month-to-month",
          "Month-to-month",
          "Month-to-month",
          "Month-to-month",
          "Month-to-month",
          "Month-to-month",
          "Month-to-month",
          "One year",
          "Month-to-month",
          "Month-to-month",
          "Month-to-month",
          "Month-to-month",
          "Month-to-month",
          "Month-to-month",
          "Month-to-month",
          "Month-to-month",
          "Month-to-month",
          "Month-to-month",
          "Month-to-month",
          "Month-to-month",
          "Month-to-month",
          "Month-to-month",
          "Two year",
          "Month-to-month",
          "Month-to-month",
          "Month-to-month",
          "Month-to-month",
          "One year",
          "One year",
          "Month-to-month",
          "Month-to-month",
          "Month-to-month",
          "Month-to-month",
          "One year",
          "Month-to-month",
          "Month-to-month",
          "Month-to-month",
          "Month-to-month",
          "Month-to-month",
          "Month-to-month",
          "One year",
          "Month-to-month",
          "Month-to-month",
          "Month-to-month",
          "Month-to-month",
          "One year",
          "Month-to-month",
          "Two year",
          "Month-to-month",
          "Month-to-month",
          "Month-to-month",
          "Month-to-month",
          "Month-to-month",
          "Month-to-month",
          "Month-to-month",
          "Month-to-month",
          "One year",
          "Month-to-month",
          "Month-to-month",
          "Month-to-month",
          "Month-to-month",
          "Month-to-month",
          "Month-to-month",
          "Month-to-month",
          "Month-to-month",
          "Month-to-month",
          "Month-to-month",
          "Month-to-month",
          "Month-to-month",
          "Month-to-month",
          "Month-to-month",
          "Month-to-month",
          "Month-to-month",
          "Month-to-month",
          "Month-to-month",
          "Month-to-month",
          "Month-to-month",
          "Month-to-month",
          "One year",
          "One year",
          "Month-to-month",
          "Month-to-month",
          "Month-to-month",
          "One year",
          "Month-to-month",
          "Month-to-month",
          "Month-to-month",
          "Month-to-month",
          "Month-to-month",
          "Month-to-month",
          "Month-to-month",
          "Month-to-month",
          "Month-to-month",
          "Month-to-month",
          "Month-to-month",
          "Month-to-month",
          "Month-to-month",
          "One year",
          "Month-to-month",
          "Month-to-month",
          "Month-to-month",
          "Month-to-month",
          "Month-to-month",
          "Month-to-month",
          "One year",
          "Month-to-month",
          "Month-to-month",
          "Month-to-month",
          "Month-to-month",
          "Month-to-month",
          "Month-to-month",
          "Month-to-month",
          "Month-to-month",
          "Month-to-month",
          "Month-to-month",
          "Month-to-month",
          "Month-to-month",
          "Month-to-month",
          "Month-to-month",
          "Month-to-month",
          "Month-to-month",
          "Month-to-month",
          "Month-to-month",
          "Month-to-month",
          "Month-to-month",
          "Month-to-month",
          "Month-to-month",
          "One year",
          "Month-to-month",
          "Month-to-month",
          "Month-to-month",
          "Month-to-month",
          "Month-to-month",
          "Month-to-month",
          "Month-to-month",
          "Month-to-month",
          "Month-to-month",
          "Month-to-month",
          "Month-to-month",
          "Month-to-month",
          "Month-to-month",
          "Month-to-month",
          "One year",
          "Month-to-month",
          "Month-to-month",
          "One year",
          "Month-to-month",
          "Two year",
          "Month-to-month",
          "Month-to-month",
          "Month-to-month",
          "Month-to-month",
          "One year",
          "One year",
          "Month-to-month",
          "Month-to-month",
          "Month-to-month",
          "Month-to-month",
          "Month-to-month",
          "Month-to-month",
          "Month-to-month",
          "Month-to-month",
          "Month-to-month",
          "Month-to-month",
          "Month-to-month",
          "Month-to-month",
          "Month-to-month",
          "Month-to-month",
          "Month-to-month",
          "Month-to-month",
          "Month-to-month",
          "Month-to-month",
          "Month-to-month",
          "Month-to-month",
          "Month-to-month",
          "One year",
          "Month-to-month",
          "Month-to-month",
          "Month-to-month",
          "Month-to-month",
          "Month-to-month",
          "Month-to-month",
          "Month-to-month",
          "Month-to-month",
          "Month-to-month",
          "Month-to-month",
          "Month-to-month",
          "Month-to-month",
          "Month-to-month",
          "Month-to-month",
          "Month-to-month",
          "Month-to-month",
          "Month-to-month",
          "Month-to-month",
          "Month-to-month",
          "Month-to-month",
          "Month-to-month",
          "Month-to-month",
          "Month-to-month",
          "Month-to-month",
          "Month-to-month",
          "Month-to-month",
          "Month-to-month",
          "Month-to-month",
          "Month-to-month",
          "Month-to-month",
          "Month-to-month",
          "One year",
          "Month-to-month",
          "Month-to-month",
          "Month-to-month",
          "Two year",
          "Month-to-month",
          "Month-to-month",
          "Month-to-month",
          "Month-to-month",
          "Month-to-month",
          "Month-to-month",
          "Month-to-month",
          "One year",
          "Month-to-month",
          "Month-to-month",
          "Month-to-month",
          "Month-to-month",
          "Month-to-month",
          "Month-to-month",
          "Month-to-month",
          "Month-to-month",
          "Month-to-month",
          "Month-to-month",
          "Month-to-month",
          "Month-to-month",
          "Month-to-month",
          "Two year",
          "Month-to-month",
          "Month-to-month",
          "Month-to-month",
          "Month-to-month",
          "Month-to-month",
          "Month-to-month",
          "Month-to-month",
          "Month-to-month",
          "Month-to-month",
          "Month-to-month",
          "Month-to-month",
          "Month-to-month",
          "Month-to-month",
          "Month-to-month",
          "Month-to-month",
          "Month-to-month",
          "Month-to-month",
          "Month-to-month",
          "Month-to-month",
          "Month-to-month",
          "Month-to-month",
          "One year",
          "Month-to-month",
          "Month-to-month",
          "Month-to-month",
          "Month-to-month",
          "Month-to-month",
          "One year",
          "Month-to-month",
          "Month-to-month",
          "Month-to-month",
          "Month-to-month",
          "Month-to-month",
          "Month-to-month",
          "Month-to-month",
          "Month-to-month",
          "Month-to-month",
          "Month-to-month",
          "Month-to-month",
          "Month-to-month",
          "Month-to-month",
          "One year",
          "Month-to-month",
          "Month-to-month",
          "One year",
          "Month-to-month",
          "Month-to-month",
          "Month-to-month",
          "Month-to-month",
          "Month-to-month",
          "Month-to-month",
          "One year",
          "Month-to-month",
          "Month-to-month",
          "Month-to-month",
          "Month-to-month",
          "Month-to-month",
          "Month-to-month",
          "Month-to-month",
          "Month-to-month",
          "Month-to-month",
          "Month-to-month",
          "Month-to-month",
          "Month-to-month",
          "Month-to-month",
          "Month-to-month",
          "Month-to-month",
          "Month-to-month",
          "Month-to-month",
          "Month-to-month",
          "Month-to-month",
          "Month-to-month",
          "Month-to-month",
          "Month-to-month",
          "Month-to-month",
          "Month-to-month",
          "Month-to-month",
          "Month-to-month",
          "One year",
          "Month-to-month",
          "Month-to-month",
          "Month-to-month",
          "Month-to-month",
          "Month-to-month",
          "Month-to-month",
          "Two year",
          "Month-to-month",
          "Month-to-month",
          "Month-to-month",
          "Month-to-month",
          "Month-to-month",
          "Month-to-month",
          "Month-to-month",
          "Month-to-month",
          "Month-to-month",
          "Month-to-month",
          "Month-to-month",
          "Month-to-month",
          "Month-to-month",
          "Month-to-month",
          "One year",
          "Month-to-month",
          "Month-to-month",
          "Month-to-month",
          "Month-to-month",
          "Month-to-month",
          "Month-to-month",
          "One year",
          "Month-to-month",
          "Month-to-month",
          "Month-to-month",
          "Month-to-month",
          "Month-to-month",
          "Month-to-month",
          "Month-to-month",
          "Month-to-month",
          "Month-to-month",
          "One year",
          "Month-to-month",
          "Month-to-month",
          "Month-to-month",
          "Month-to-month",
          "Month-to-month",
          "Month-to-month",
          "Month-to-month",
          "Month-to-month",
          "Month-to-month",
          "Month-to-month",
          "Month-to-month",
          "Month-to-month",
          "Month-to-month",
          "Month-to-month",
          "Month-to-month",
          "Month-to-month",
          "Month-to-month",
          "Month-to-month",
          "Month-to-month",
          "Month-to-month",
          "Month-to-month",
          "Month-to-month",
          "Month-to-month",
          "Month-to-month",
          "One year",
          "Month-to-month",
          "Month-to-month",
          "Month-to-month",
          "Month-to-month",
          "Month-to-month",
          "Month-to-month",
          "Month-to-month",
          "One year",
          "Month-to-month",
          "Month-to-month",
          "Two year",
          "Month-to-month",
          "Month-to-month",
          "Month-to-month",
          "Month-to-month",
          "Month-to-month",
          "Month-to-month",
          "Month-to-month",
          "Month-to-month",
          "Month-to-month",
          "Month-to-month",
          "Month-to-month",
          "Month-to-month",
          "Month-to-month",
          "Month-to-month",
          "Month-to-month",
          "Month-to-month",
          "Month-to-month",
          "Month-to-month",
          "Month-to-month",
          "Month-to-month",
          "Month-to-month",
          "Month-to-month",
          "Month-to-month",
          "Month-to-month",
          "Two year",
          "Month-to-month",
          "Month-to-month",
          "Two year",
          "One year",
          "Month-to-month",
          "Month-to-month",
          "Month-to-month",
          "Month-to-month",
          "Two year",
          "Month-to-month",
          "Month-to-month",
          "Month-to-month",
          "Month-to-month",
          "Month-to-month",
          "Month-to-month",
          "One year",
          "One year",
          "One year",
          "Month-to-month",
          "Month-to-month",
          "One year",
          "Month-to-month",
          "Two year",
          "Month-to-month",
          "Month-to-month",
          "Month-to-month",
          "One year",
          "One year",
          "Month-to-month",
          "Month-to-month",
          "Month-to-month",
          "One year",
          "Month-to-month",
          "Month-to-month",
          "Month-to-month",
          "Month-to-month",
          "Month-to-month",
          "Month-to-month",
          "Month-to-month",
          "Month-to-month",
          "One year",
          "Month-to-month",
          "Month-to-month",
          "Month-to-month",
          "Month-to-month",
          "Month-to-month",
          "Month-to-month",
          "Month-to-month",
          "Month-to-month",
          "Month-to-month",
          "Month-to-month",
          "Month-to-month",
          "Two year",
          "Month-to-month",
          "Month-to-month",
          "Month-to-month",
          "Month-to-month",
          "Month-to-month",
          "Month-to-month",
          "One year",
          "Month-to-month",
          "Month-to-month",
          "Month-to-month",
          "Month-to-month",
          "Month-to-month",
          "Month-to-month",
          "Month-to-month",
          "Month-to-month",
          "Month-to-month",
          "Month-to-month",
          "Month-to-month",
          "Month-to-month",
          "Month-to-month",
          "Month-to-month",
          "Month-to-month",
          "Month-to-month",
          "Month-to-month",
          "Month-to-month",
          "One year",
          "Month-to-month",
          "One year",
          "Month-to-month",
          "Month-to-month",
          "Month-to-month",
          "Month-to-month",
          "Month-to-month",
          "Month-to-month",
          "Month-to-month",
          "Month-to-month",
          "Month-to-month",
          "Month-to-month",
          "Month-to-month",
          "Month-to-month",
          "One year",
          "Month-to-month",
          "Month-to-month",
          "Two year",
          "Month-to-month",
          "Month-to-month",
          "Month-to-month",
          "Month-to-month",
          "Month-to-month",
          "Month-to-month",
          "Month-to-month",
          "Month-to-month",
          "Month-to-month",
          "One year",
          "Month-to-month",
          "Month-to-month",
          "Month-to-month",
          "Month-to-month",
          "Month-to-month",
          "Month-to-month",
          "Month-to-month",
          "Month-to-month",
          "Month-to-month",
          "Month-to-month",
          "Month-to-month",
          "Month-to-month",
          "One year",
          "One year",
          "Month-to-month",
          "Month-to-month",
          "Month-to-month",
          "One year",
          "Month-to-month",
          "Two year",
          "Month-to-month",
          "Month-to-month",
          "One year",
          "Month-to-month",
          "Month-to-month",
          "Month-to-month",
          "Month-to-month",
          "Month-to-month",
          "Month-to-month",
          "Month-to-month",
          "Month-to-month",
          "Month-to-month",
          "One year",
          "Month-to-month",
          "Month-to-month",
          "Month-to-month",
          "Month-to-month",
          "Month-to-month",
          "Month-to-month",
          "Month-to-month",
          "Month-to-month",
          "Month-to-month",
          "Month-to-month",
          "Month-to-month",
          "Month-to-month",
          "Two year",
          "Month-to-month",
          "Month-to-month",
          "Month-to-month",
          "Month-to-month",
          "Month-to-month",
          "Month-to-month",
          "Month-to-month",
          "One year",
          "Month-to-month",
          "Month-to-month",
          "Month-to-month",
          "Month-to-month",
          "Month-to-month",
          "Month-to-month",
          "Month-to-month",
          "Month-to-month",
          "Month-to-month",
          "Month-to-month",
          "Month-to-month",
          "Month-to-month",
          "Month-to-month",
          "Month-to-month",
          "Month-to-month",
          "Month-to-month",
          "Month-to-month",
          "Month-to-month",
          "Month-to-month",
          "Month-to-month",
          "Month-to-month",
          "Month-to-month",
          "Month-to-month",
          "Month-to-month",
          "Month-to-month",
          "Month-to-month",
          "Two year",
          "Month-to-month",
          "Month-to-month",
          "Month-to-month",
          "Month-to-month",
          "Two year",
          "Month-to-month",
          "Month-to-month",
          "Month-to-month",
          "Month-to-month",
          "Month-to-month",
          "Two year",
          "Month-to-month",
          "Month-to-month",
          "Month-to-month",
          "Month-to-month",
          "Month-to-month",
          "Month-to-month",
          "Month-to-month",
          "Month-to-month",
          "Month-to-month",
          "Month-to-month",
          "Month-to-month",
          "Month-to-month",
          "One year",
          "Month-to-month",
          "Month-to-month",
          "Month-to-month",
          "Month-to-month",
          "Month-to-month",
          "Month-to-month",
          "Month-to-month",
          "Two year",
          "Month-to-month",
          "Month-to-month",
          "Month-to-month",
          "Month-to-month",
          "Month-to-month",
          "Month-to-month",
          "Month-to-month",
          "Month-to-month",
          "One year",
          "Month-to-month",
          "Month-to-month",
          "Month-to-month",
          "Month-to-month",
          "One year",
          "Month-to-month",
          "Month-to-month",
          "Two year",
          "Month-to-month",
          "Month-to-month",
          "Month-to-month",
          "Month-to-month",
          "Month-to-month",
          "Month-to-month",
          "One year",
          "Month-to-month",
          "Month-to-month",
          "Month-to-month",
          "Month-to-month",
          "Month-to-month",
          "Month-to-month",
          "Month-to-month",
          "Month-to-month",
          "Month-to-month",
          "Month-to-month",
          "One year",
          "Month-to-month",
          "Month-to-month",
          "Month-to-month",
          "One year",
          "One year",
          "Month-to-month",
          "Month-to-month",
          "Month-to-month",
          "Month-to-month",
          "Month-to-month",
          "One year",
          "Two year",
          "Month-to-month",
          "Month-to-month",
          "Month-to-month",
          "Month-to-month",
          "Month-to-month",
          "Month-to-month",
          "Month-to-month",
          "Month-to-month",
          "Month-to-month",
          "Month-to-month",
          "Month-to-month",
          "Month-to-month",
          "Month-to-month",
          "Month-to-month",
          "Month-to-month",
          "Month-to-month",
          "Month-to-month",
          "Month-to-month",
          "Month-to-month",
          "Month-to-month",
          "Month-to-month",
          "Month-to-month",
          "Month-to-month",
          "One year",
          "Month-to-month",
          "Month-to-month",
          "Month-to-month",
          "Month-to-month",
          "Month-to-month",
          "Month-to-month",
          "Month-to-month",
          "Month-to-month",
          "Month-to-month",
          "Month-to-month",
          "Month-to-month",
          "Month-to-month",
          "Month-to-month",
          "Month-to-month",
          "Month-to-month",
          "Month-to-month",
          "Month-to-month",
          "Month-to-month",
          "Month-to-month",
          "Month-to-month",
          "Month-to-month",
          "One year",
          "Month-to-month",
          "One year",
          "Month-to-month",
          "Month-to-month",
          "Month-to-month",
          "Month-to-month",
          "Month-to-month",
          "One year",
          "Month-to-month",
          "Month-to-month",
          "Month-to-month",
          "Month-to-month",
          "Month-to-month",
          "Month-to-month",
          "Month-to-month",
          "Month-to-month",
          "Month-to-month",
          "Month-to-month",
          "Two year",
          "Month-to-month",
          "Month-to-month",
          "Month-to-month",
          "Month-to-month",
          "Month-to-month",
          "One year",
          "One year",
          "One year",
          "Month-to-month",
          "Month-to-month",
          "Month-to-month",
          "Month-to-month",
          "Month-to-month",
          "One year",
          "Month-to-month",
          "Month-to-month",
          "Month-to-month",
          "One year",
          "Month-to-month",
          "Month-to-month",
          "One year",
          "Month-to-month",
          "Month-to-month",
          "Month-to-month",
          "Month-to-month",
          "Month-to-month",
          "Month-to-month",
          "Month-to-month",
          "Month-to-month",
          "Month-to-month",
          "Month-to-month",
          "Month-to-month",
          "Month-to-month",
          "Month-to-month",
          "Month-to-month",
          "Month-to-month",
          "One year",
          "Month-to-month",
          "Month-to-month",
          "Month-to-month",
          "One year",
          "One year",
          "Month-to-month",
          "Month-to-month",
          "Month-to-month",
          "Month-to-month",
          "Month-to-month",
          "Month-to-month",
          "Two year",
          "Month-to-month",
          "One year",
          "Month-to-month",
          "Month-to-month",
          "Month-to-month",
          "Month-to-month",
          "Month-to-month",
          "Month-to-month",
          "Month-to-month",
          "Month-to-month",
          "Month-to-month",
          "Month-to-month",
          "Month-to-month",
          "Month-to-month",
          "Month-to-month",
          "Month-to-month",
          "Month-to-month",
          "Month-to-month",
          "Month-to-month",
          "Month-to-month",
          "Month-to-month",
          "Month-to-month",
          "Two year",
          "Month-to-month",
          "Month-to-month",
          "Month-to-month",
          "One year",
          "Month-to-month",
          "Month-to-month",
          "Month-to-month",
          "Month-to-month",
          "One year",
          "Month-to-month",
          "Month-to-month",
          "Month-to-month",
          "Month-to-month",
          "Month-to-month",
          "Month-to-month",
          "Month-to-month",
          "Month-to-month",
          "Month-to-month",
          "Month-to-month",
          "Month-to-month",
          "Month-to-month",
          "Month-to-month",
          "One year",
          "Month-to-month",
          "Month-to-month",
          "Month-to-month",
          "Month-to-month",
          "Month-to-month",
          "Month-to-month",
          "Month-to-month",
          "Two year",
          "Month-to-month",
          "Month-to-month",
          "Month-to-month",
          "Month-to-month",
          "Month-to-month",
          "Month-to-month",
          "Month-to-month",
          "Month-to-month",
          "Month-to-month",
          "Month-to-month",
          "One year",
          "Month-to-month",
          "Month-to-month",
          "Month-to-month",
          "Month-to-month",
          "One year",
          "Month-to-month",
          "Month-to-month",
          "Month-to-month",
          "One year",
          "Month-to-month",
          "Month-to-month",
          "Month-to-month",
          "Month-to-month",
          "Month-to-month",
          "Month-to-month",
          "Month-to-month",
          "Two year",
          "Month-to-month",
          "Month-to-month",
          "Month-to-month",
          "Month-to-month",
          "Month-to-month",
          "Month-to-month",
          "Month-to-month",
          "Month-to-month",
          "Month-to-month",
          "Two year",
          "Two year",
          "Month-to-month",
          "Month-to-month",
          "Month-to-month",
          "Month-to-month",
          "Two year",
          "Month-to-month",
          "Month-to-month",
          "Month-to-month",
          "Month-to-month",
          "Month-to-month",
          "Month-to-month",
          "Month-to-month",
          "Month-to-month",
          "Month-to-month",
          "Month-to-month",
          "Month-to-month",
          "Month-to-month",
          "Month-to-month",
          "Month-to-month",
          "Month-to-month",
          "Month-to-month",
          "Month-to-month",
          "Month-to-month",
          "Month-to-month",
          "Month-to-month",
          "Month-to-month",
          "Month-to-month",
          "Month-to-month",
          "Month-to-month",
          "Month-to-month",
          "Month-to-month",
          "Month-to-month",
          "Month-to-month",
          "Month-to-month",
          "Month-to-month",
          "One year",
          "Month-to-month",
          "Month-to-month",
          "One year",
          "Month-to-month",
          "Month-to-month",
          "Month-to-month",
          "Month-to-month",
          "Month-to-month",
          "Month-to-month",
          "Month-to-month",
          "Month-to-month",
          "Month-to-month",
          "Month-to-month",
          "Month-to-month",
          "Month-to-month",
          "Month-to-month",
          "Month-to-month",
          "Month-to-month",
          "One year",
          "One year",
          "Month-to-month",
          "Month-to-month",
          "Month-to-month",
          "Month-to-month",
          "Month-to-month",
          "Month-to-month",
          "Month-to-month",
          "Month-to-month",
          "Month-to-month",
          "Month-to-month",
          "Month-to-month",
          "Month-to-month",
          "Month-to-month",
          "Month-to-month",
          "Month-to-month",
          "Month-to-month",
          "One year",
          "Month-to-month",
          "Month-to-month",
          "Month-to-month",
          "Month-to-month",
          "Month-to-month",
          "Month-to-month",
          "Month-to-month",
          "Month-to-month",
          "Month-to-month",
          "Month-to-month",
          "Month-to-month",
          "One year",
          "Month-to-month",
          "One year",
          "Month-to-month",
          "One year",
          "Month-to-month",
          "Month-to-month",
          "Month-to-month",
          "Month-to-month",
          "Month-to-month",
          "Month-to-month",
          "Month-to-month",
          "Month-to-month",
          "Month-to-month",
          "Month-to-month",
          "Month-to-month",
          "Month-to-month",
          "Month-to-month",
          "Month-to-month",
          "One year",
          "Two year",
          "Month-to-month",
          "Month-to-month",
          "Month-to-month",
          "Month-to-month",
          "One year",
          "Month-to-month",
          "Month-to-month",
          "Month-to-month",
          "Month-to-month",
          "Month-to-month",
          "One year",
          "Month-to-month",
          "Month-to-month",
          "Month-to-month",
          "Month-to-month",
          "One year",
          "Month-to-month",
          "Month-to-month",
          "Month-to-month",
          "Month-to-month",
          "Month-to-month",
          "One year",
          "Two year",
          "Month-to-month",
          "Month-to-month",
          "Month-to-month",
          "Month-to-month",
          "Month-to-month",
          "Month-to-month",
          "Month-to-month",
          "Month-to-month",
          "Month-to-month",
          "Month-to-month",
          "Month-to-month",
          "Month-to-month",
          "Month-to-month",
          "Month-to-month",
          "Month-to-month",
          "Month-to-month",
          "One year",
          "Month-to-month",
          "Month-to-month",
          "Month-to-month",
          "Month-to-month",
          "Month-to-month",
          "Month-to-month",
          "Month-to-month",
          "Month-to-month",
          "Month-to-month",
          "Month-to-month",
          "Month-to-month",
          "Month-to-month",
          "Month-to-month",
          "Month-to-month",
          "Month-to-month",
          "Month-to-month",
          "Month-to-month",
          "Month-to-month",
          "Month-to-month",
          "Month-to-month",
          "One year",
          "Month-to-month",
          "Month-to-month",
          "Month-to-month",
          "Month-to-month",
          "One year",
          "Month-to-month",
          "Month-to-month",
          "Month-to-month",
          "Month-to-month",
          "Month-to-month",
          "Month-to-month",
          "Month-to-month",
          "Month-to-month",
          "Month-to-month",
          "Month-to-month",
          "Month-to-month",
          "Month-to-month",
          "Month-to-month",
          "Month-to-month",
          "Month-to-month",
          "Month-to-month",
          "Month-to-month",
          "Month-to-month",
          "Month-to-month",
          "Month-to-month",
          "Month-to-month",
          "Two year",
          "Two year",
          "Month-to-month",
          "Month-to-month",
          "Month-to-month",
          "Month-to-month",
          "One year",
          "Month-to-month",
          "Month-to-month",
          "Month-to-month",
          "Month-to-month",
          "Month-to-month",
          "One year",
          "Month-to-month",
          "Month-to-month",
          "Month-to-month",
          "Month-to-month",
          "Month-to-month",
          "One year",
          "Month-to-month",
          "Month-to-month",
          "Month-to-month",
          "Month-to-month",
          "Month-to-month",
          "Month-to-month",
          "Month-to-month",
          "Month-to-month",
          "Month-to-month",
          "Month-to-month",
          "One year",
          "Two year",
          "Month-to-month",
          "Two year",
          "Month-to-month",
          "Month-to-month",
          "Two year",
          "Month-to-month",
          "Month-to-month",
          "Month-to-month",
          "One year",
          "One year",
          "Month-to-month",
          "Month-to-month",
          "Month-to-month",
          "Month-to-month",
          "Month-to-month",
          "Month-to-month",
          "Month-to-month",
          "Month-to-month",
          "Month-to-month",
          "Month-to-month",
          "Month-to-month",
          "Month-to-month",
          "Month-to-month",
          "Month-to-month",
          "Month-to-month",
          "Month-to-month",
          "Month-to-month",
          "Month-to-month",
          "Month-to-month",
          "Month-to-month",
          "Month-to-month",
          "Month-to-month",
          "Month-to-month",
          "One year",
          "Month-to-month",
          "Month-to-month",
          "One year",
          "One year",
          "Month-to-month",
          "Month-to-month",
          "Month-to-month",
          "Month-to-month",
          "Month-to-month",
          "Month-to-month",
          "Month-to-month",
          "Month-to-month",
          "Month-to-month",
          "Month-to-month",
          "Month-to-month",
          "Month-to-month",
          "Month-to-month",
          "Month-to-month",
          "Month-to-month",
          "Month-to-month",
          "Month-to-month",
          "One year",
          "Month-to-month",
          "Month-to-month",
          "One year",
          "Month-to-month",
          "Month-to-month",
          "Month-to-month",
          "Month-to-month",
          "Month-to-month",
          "Month-to-month",
          "Month-to-month",
          "Month-to-month",
          "Month-to-month",
          "Month-to-month",
          "Month-to-month",
          "Month-to-month",
          "Month-to-month",
          "Month-to-month",
          "Month-to-month",
          "Month-to-month",
          "Two year",
          "Month-to-month",
          "Month-to-month",
          "Month-to-month",
          "Month-to-month",
          "Month-to-month",
          "Month-to-month",
          "Month-to-month",
          "Two year",
          "Month-to-month",
          "Month-to-month",
          "Month-to-month",
          "Month-to-month",
          "Month-to-month",
          "Month-to-month",
          "Month-to-month",
          "One year",
          "Month-to-month",
          "Month-to-month",
          "Month-to-month",
          "One year",
          "Month-to-month",
          "Month-to-month",
          "Two year",
          "Month-to-month",
          "Month-to-month",
          "Month-to-month",
          "One year",
          "Month-to-month",
          "One year",
          "Month-to-month",
          "Month-to-month",
          "Month-to-month",
          "Two year",
          "Month-to-month",
          "Month-to-month",
          "Month-to-month",
          "Month-to-month",
          "Month-to-month",
          "Month-to-month",
          "Month-to-month",
          "Month-to-month",
          "Month-to-month",
          "Month-to-month",
          "Month-to-month",
          "Month-to-month",
          "Month-to-month",
          "Month-to-month",
          "Month-to-month",
          "Month-to-month",
          "Month-to-month",
          "Month-to-month",
          "Month-to-month",
          "One year",
          "Month-to-month",
          "Month-to-month",
          "Month-to-month",
          "Month-to-month",
          "Month-to-month",
          "Month-to-month",
          "Month-to-month",
          "Month-to-month",
          "Month-to-month",
          "Month-to-month",
          "Month-to-month",
          "Month-to-month",
          "One year",
          "Month-to-month",
          "Month-to-month",
          "Month-to-month",
          "Month-to-month",
          "Month-to-month",
          "Month-to-month",
          "Two year",
          "Month-to-month",
          "Month-to-month",
          "Month-to-month",
          "Month-to-month",
          "Month-to-month",
          "Month-to-month",
          "Month-to-month",
          "Month-to-month",
          "Month-to-month",
          "One year",
          "Month-to-month",
          "Month-to-month",
          "Month-to-month",
          "Month-to-month",
          "One year",
          "Month-to-month",
          "Month-to-month",
          "Month-to-month",
          "Month-to-month",
          "Month-to-month",
          "Month-to-month",
          "Month-to-month",
          "Month-to-month",
          "One year",
          "Month-to-month",
          "Month-to-month",
          "Month-to-month",
          "Month-to-month"
         ],
         "xaxis": "x",
         "yaxis": "y"
        }
       ],
       "layout": {
        "bargap": 0.2,
        "barmode": "group",
        "legend": {
         "title": {
          "text": "Churn"
         },
         "tracegroupgap": 0
        },
        "template": {
         "data": {
          "bar": [
           {
            "error_x": {
             "color": "#2a3f5f"
            },
            "error_y": {
             "color": "#2a3f5f"
            },
            "marker": {
             "line": {
              "color": "#E5ECF6",
              "width": 0.5
             },
             "pattern": {
              "fillmode": "overlay",
              "size": 10,
              "solidity": 0.2
             }
            },
            "type": "bar"
           }
          ],
          "barpolar": [
           {
            "marker": {
             "line": {
              "color": "#E5ECF6",
              "width": 0.5
             },
             "pattern": {
              "fillmode": "overlay",
              "size": 10,
              "solidity": 0.2
             }
            },
            "type": "barpolar"
           }
          ],
          "carpet": [
           {
            "aaxis": {
             "endlinecolor": "#2a3f5f",
             "gridcolor": "white",
             "linecolor": "white",
             "minorgridcolor": "white",
             "startlinecolor": "#2a3f5f"
            },
            "baxis": {
             "endlinecolor": "#2a3f5f",
             "gridcolor": "white",
             "linecolor": "white",
             "minorgridcolor": "white",
             "startlinecolor": "#2a3f5f"
            },
            "type": "carpet"
           }
          ],
          "choropleth": [
           {
            "colorbar": {
             "outlinewidth": 0,
             "ticks": ""
            },
            "type": "choropleth"
           }
          ],
          "contour": [
           {
            "colorbar": {
             "outlinewidth": 0,
             "ticks": ""
            },
            "colorscale": [
             [
              0,
              "#0d0887"
             ],
             [
              0.1111111111111111,
              "#46039f"
             ],
             [
              0.2222222222222222,
              "#7201a8"
             ],
             [
              0.3333333333333333,
              "#9c179e"
             ],
             [
              0.4444444444444444,
              "#bd3786"
             ],
             [
              0.5555555555555556,
              "#d8576b"
             ],
             [
              0.6666666666666666,
              "#ed7953"
             ],
             [
              0.7777777777777778,
              "#fb9f3a"
             ],
             [
              0.8888888888888888,
              "#fdca26"
             ],
             [
              1,
              "#f0f921"
             ]
            ],
            "type": "contour"
           }
          ],
          "contourcarpet": [
           {
            "colorbar": {
             "outlinewidth": 0,
             "ticks": ""
            },
            "type": "contourcarpet"
           }
          ],
          "heatmap": [
           {
            "colorbar": {
             "outlinewidth": 0,
             "ticks": ""
            },
            "colorscale": [
             [
              0,
              "#0d0887"
             ],
             [
              0.1111111111111111,
              "#46039f"
             ],
             [
              0.2222222222222222,
              "#7201a8"
             ],
             [
              0.3333333333333333,
              "#9c179e"
             ],
             [
              0.4444444444444444,
              "#bd3786"
             ],
             [
              0.5555555555555556,
              "#d8576b"
             ],
             [
              0.6666666666666666,
              "#ed7953"
             ],
             [
              0.7777777777777778,
              "#fb9f3a"
             ],
             [
              0.8888888888888888,
              "#fdca26"
             ],
             [
              1,
              "#f0f921"
             ]
            ],
            "type": "heatmap"
           }
          ],
          "histogram": [
           {
            "marker": {
             "pattern": {
              "fillmode": "overlay",
              "size": 10,
              "solidity": 0.2
             }
            },
            "type": "histogram"
           }
          ],
          "histogram2d": [
           {
            "colorbar": {
             "outlinewidth": 0,
             "ticks": ""
            },
            "colorscale": [
             [
              0,
              "#0d0887"
             ],
             [
              0.1111111111111111,
              "#46039f"
             ],
             [
              0.2222222222222222,
              "#7201a8"
             ],
             [
              0.3333333333333333,
              "#9c179e"
             ],
             [
              0.4444444444444444,
              "#bd3786"
             ],
             [
              0.5555555555555556,
              "#d8576b"
             ],
             [
              0.6666666666666666,
              "#ed7953"
             ],
             [
              0.7777777777777778,
              "#fb9f3a"
             ],
             [
              0.8888888888888888,
              "#fdca26"
             ],
             [
              1,
              "#f0f921"
             ]
            ],
            "type": "histogram2d"
           }
          ],
          "histogram2dcontour": [
           {
            "colorbar": {
             "outlinewidth": 0,
             "ticks": ""
            },
            "colorscale": [
             [
              0,
              "#0d0887"
             ],
             [
              0.1111111111111111,
              "#46039f"
             ],
             [
              0.2222222222222222,
              "#7201a8"
             ],
             [
              0.3333333333333333,
              "#9c179e"
             ],
             [
              0.4444444444444444,
              "#bd3786"
             ],
             [
              0.5555555555555556,
              "#d8576b"
             ],
             [
              0.6666666666666666,
              "#ed7953"
             ],
             [
              0.7777777777777778,
              "#fb9f3a"
             ],
             [
              0.8888888888888888,
              "#fdca26"
             ],
             [
              1,
              "#f0f921"
             ]
            ],
            "type": "histogram2dcontour"
           }
          ],
          "mesh3d": [
           {
            "colorbar": {
             "outlinewidth": 0,
             "ticks": ""
            },
            "type": "mesh3d"
           }
          ],
          "parcoords": [
           {
            "line": {
             "colorbar": {
              "outlinewidth": 0,
              "ticks": ""
             }
            },
            "type": "parcoords"
           }
          ],
          "pie": [
           {
            "automargin": true,
            "type": "pie"
           }
          ],
          "scatter": [
           {
            "fillpattern": {
             "fillmode": "overlay",
             "size": 10,
             "solidity": 0.2
            },
            "type": "scatter"
           }
          ],
          "scatter3d": [
           {
            "line": {
             "colorbar": {
              "outlinewidth": 0,
              "ticks": ""
             }
            },
            "marker": {
             "colorbar": {
              "outlinewidth": 0,
              "ticks": ""
             }
            },
            "type": "scatter3d"
           }
          ],
          "scattercarpet": [
           {
            "marker": {
             "colorbar": {
              "outlinewidth": 0,
              "ticks": ""
             }
            },
            "type": "scattercarpet"
           }
          ],
          "scattergeo": [
           {
            "marker": {
             "colorbar": {
              "outlinewidth": 0,
              "ticks": ""
             }
            },
            "type": "scattergeo"
           }
          ],
          "scattergl": [
           {
            "marker": {
             "colorbar": {
              "outlinewidth": 0,
              "ticks": ""
             }
            },
            "type": "scattergl"
           }
          ],
          "scattermap": [
           {
            "marker": {
             "colorbar": {
              "outlinewidth": 0,
              "ticks": ""
             }
            },
            "type": "scattermap"
           }
          ],
          "scattermapbox": [
           {
            "marker": {
             "colorbar": {
              "outlinewidth": 0,
              "ticks": ""
             }
            },
            "type": "scattermapbox"
           }
          ],
          "scatterpolar": [
           {
            "marker": {
             "colorbar": {
              "outlinewidth": 0,
              "ticks": ""
             }
            },
            "type": "scatterpolar"
           }
          ],
          "scatterpolargl": [
           {
            "marker": {
             "colorbar": {
              "outlinewidth": 0,
              "ticks": ""
             }
            },
            "type": "scatterpolargl"
           }
          ],
          "scatterternary": [
           {
            "marker": {
             "colorbar": {
              "outlinewidth": 0,
              "ticks": ""
             }
            },
            "type": "scatterternary"
           }
          ],
          "surface": [
           {
            "colorbar": {
             "outlinewidth": 0,
             "ticks": ""
            },
            "colorscale": [
             [
              0,
              "#0d0887"
             ],
             [
              0.1111111111111111,
              "#46039f"
             ],
             [
              0.2222222222222222,
              "#7201a8"
             ],
             [
              0.3333333333333333,
              "#9c179e"
             ],
             [
              0.4444444444444444,
              "#bd3786"
             ],
             [
              0.5555555555555556,
              "#d8576b"
             ],
             [
              0.6666666666666666,
              "#ed7953"
             ],
             [
              0.7777777777777778,
              "#fb9f3a"
             ],
             [
              0.8888888888888888,
              "#fdca26"
             ],
             [
              1,
              "#f0f921"
             ]
            ],
            "type": "surface"
           }
          ],
          "table": [
           {
            "cells": {
             "fill": {
              "color": "#EBF0F8"
             },
             "line": {
              "color": "white"
             }
            },
            "header": {
             "fill": {
              "color": "#C8D4E3"
             },
             "line": {
              "color": "white"
             }
            },
            "type": "table"
           }
          ]
         },
         "layout": {
          "annotationdefaults": {
           "arrowcolor": "#2a3f5f",
           "arrowhead": 0,
           "arrowwidth": 1
          },
          "autotypenumbers": "strict",
          "coloraxis": {
           "colorbar": {
            "outlinewidth": 0,
            "ticks": ""
           }
          },
          "colorscale": {
           "diverging": [
            [
             0,
             "#8e0152"
            ],
            [
             0.1,
             "#c51b7d"
            ],
            [
             0.2,
             "#de77ae"
            ],
            [
             0.3,
             "#f1b6da"
            ],
            [
             0.4,
             "#fde0ef"
            ],
            [
             0.5,
             "#f7f7f7"
            ],
            [
             0.6,
             "#e6f5d0"
            ],
            [
             0.7,
             "#b8e186"
            ],
            [
             0.8,
             "#7fbc41"
            ],
            [
             0.9,
             "#4d9221"
            ],
            [
             1,
             "#276419"
            ]
           ],
           "sequential": [
            [
             0,
             "#0d0887"
            ],
            [
             0.1111111111111111,
             "#46039f"
            ],
            [
             0.2222222222222222,
             "#7201a8"
            ],
            [
             0.3333333333333333,
             "#9c179e"
            ],
            [
             0.4444444444444444,
             "#bd3786"
            ],
            [
             0.5555555555555556,
             "#d8576b"
            ],
            [
             0.6666666666666666,
             "#ed7953"
            ],
            [
             0.7777777777777778,
             "#fb9f3a"
            ],
            [
             0.8888888888888888,
             "#fdca26"
            ],
            [
             1,
             "#f0f921"
            ]
           ],
           "sequentialminus": [
            [
             0,
             "#0d0887"
            ],
            [
             0.1111111111111111,
             "#46039f"
            ],
            [
             0.2222222222222222,
             "#7201a8"
            ],
            [
             0.3333333333333333,
             "#9c179e"
            ],
            [
             0.4444444444444444,
             "#bd3786"
            ],
            [
             0.5555555555555556,
             "#d8576b"
            ],
            [
             0.6666666666666666,
             "#ed7953"
            ],
            [
             0.7777777777777778,
             "#fb9f3a"
            ],
            [
             0.8888888888888888,
             "#fdca26"
            ],
            [
             1,
             "#f0f921"
            ]
           ]
          },
          "colorway": [
           "#636efa",
           "#EF553B",
           "#00cc96",
           "#ab63fa",
           "#FFA15A",
           "#19d3f3",
           "#FF6692",
           "#B6E880",
           "#FF97FF",
           "#FECB52"
          ],
          "font": {
           "color": "#2a3f5f"
          },
          "geo": {
           "bgcolor": "white",
           "lakecolor": "white",
           "landcolor": "#E5ECF6",
           "showlakes": true,
           "showland": true,
           "subunitcolor": "white"
          },
          "hoverlabel": {
           "align": "left"
          },
          "hovermode": "closest",
          "mapbox": {
           "style": "light"
          },
          "paper_bgcolor": "white",
          "plot_bgcolor": "#E5ECF6",
          "polar": {
           "angularaxis": {
            "gridcolor": "white",
            "linecolor": "white",
            "ticks": ""
           },
           "bgcolor": "#E5ECF6",
           "radialaxis": {
            "gridcolor": "white",
            "linecolor": "white",
            "ticks": ""
           }
          },
          "scene": {
           "xaxis": {
            "backgroundcolor": "#E5ECF6",
            "gridcolor": "white",
            "gridwidth": 2,
            "linecolor": "white",
            "showbackground": true,
            "ticks": "",
            "zerolinecolor": "white"
           },
           "yaxis": {
            "backgroundcolor": "#E5ECF6",
            "gridcolor": "white",
            "gridwidth": 2,
            "linecolor": "white",
            "showbackground": true,
            "ticks": "",
            "zerolinecolor": "white"
           },
           "zaxis": {
            "backgroundcolor": "#E5ECF6",
            "gridcolor": "white",
            "gridwidth": 2,
            "linecolor": "white",
            "showbackground": true,
            "ticks": "",
            "zerolinecolor": "white"
           }
          },
          "shapedefaults": {
           "line": {
            "color": "#2a3f5f"
           }
          },
          "ternary": {
           "aaxis": {
            "gridcolor": "white",
            "linecolor": "white",
            "ticks": ""
           },
           "baxis": {
            "gridcolor": "white",
            "linecolor": "white",
            "ticks": ""
           },
           "bgcolor": "#E5ECF6",
           "caxis": {
            "gridcolor": "white",
            "linecolor": "white",
            "ticks": ""
           }
          },
          "title": {
           "x": 0.05
          },
          "xaxis": {
           "automargin": true,
           "gridcolor": "white",
           "linecolor": "white",
           "ticks": "",
           "title": {
            "standoff": 15
           },
           "zerolinecolor": "white",
           "zerolinewidth": 2
          },
          "yaxis": {
           "automargin": true,
           "gridcolor": "white",
           "linecolor": "white",
           "ticks": "",
           "title": {
            "standoff": 15
           },
           "zerolinecolor": "white",
           "zerolinewidth": 2
          }
         }
        },
        "title": {
         "text": "Count of Customers by Contract Type"
        },
        "xaxis": {
         "anchor": "y",
         "domain": [
          0,
          1
         ],
         "title": {
          "text": "Contract Type"
         }
        },
        "yaxis": {
         "anchor": "x",
         "domain": [
          0,
          1
         ],
         "title": {
          "text": "Number of Customers"
         }
        }
       }
      }
     },
     "metadata": {},
     "output_type": "display_data"
    }
   ],
   "source": [
    "# ------------------------------------------------\n",
    "# 📝 Seaborn/Matplotlib: Countplot for Contract Type vs Churn\n",
    "# ------------------------------------------------\n",
    "\n",
    "# Set figure size for better visualization\n",
    "plt.figure(figsize=(4, 4))\n",
    "\n",
    "# Create a count plot to show the distribution of contract types with churn information\n",
    "ax = sns.countplot(x=\"Contract\", data=df, hue=\"Churn\")\n",
    "\n",
    "# Add data labels on the bars\n",
    "ax.bar_label(ax.containers[0])\n",
    "\n",
    "# Set title for the plot\n",
    "plt.title(\"Count of Customers by Contract\")\n",
    "\n",
    "# Show the plot\n",
    "plt.show()\n",
    "\n",
    "# ------------------------------------------------\n",
    "# 📝 Explanation:\n",
    "# ------------------------------------------------\n",
    "# ✅ `sns.countplot(x=\"Contract\", data=df, hue=\"Churn\")`:\n",
    "#    - **x=\"Contract\"**: Displays different contract types on the x-axis.\n",
    "#    - **hue=\"Churn\"**: Differentiates the bars based on **Churn (Yes/No)**.\n",
    "#    - This helps in understanding which contract type has **higher churn rates**.\n",
    "#\n",
    "# ✅ `ax.bar_label(ax.containers[0])`: \n",
    "#    - Adds **numeric labels** on top of the bars to show exact counts.\n",
    "#\n",
    "# ✅ `plt.figure(figsize=(4,4))`:\n",
    "#    - Adjusts **figure size** for better clarity.\n",
    "#\n",
    "# ✅ `plt.title(\"Count of Customers by Contract\")`: \n",
    "#    - Sets a **descriptive title** for the visualization.\n",
    "\n",
    "# ------------------------------------------------\n",
    "# 🚀 Next Step: Interactive Plotly Version\n",
    "# ------------------------------------------------\n",
    "\n",
    "# ------------------------------------------------\n",
    "# 📝 Plotly: Interactive Countplot for Contract Type vs Churn\n",
    "# ------------------------------------------------\n",
    "fig = px.histogram(\n",
    "    df, \n",
    "    x=\"Contract\", \n",
    "    color=\"Churn\", \n",
    "    title=\"Count of Customers by Contract Type\",\n",
    "    labels={\"Contract\": \"Contract Type\", \"count\": \"Number of Customers\"},\n",
    "    barmode=\"group\",  # Grouped bars for better comparison\n",
    "    text_auto=True,  # Show data labels on bars\n",
    "    color_discrete_map={\"Yes\": \"#FF5733\", \"No\": \"#3498DB\"}  # Define custom colors\n",
    ")\n",
    "\n",
    "# Update layout for better visualization\n",
    "fig.update_layout(\n",
    "    xaxis_title=\"Contract Type\",\n",
    "    yaxis_title=\"Number of Customers\",\n",
    "    legend_title=\"Churn\",\n",
    "    bargap=0.2  # Slight gap between bars for clarity\n",
    ")\n",
    "\n",
    "# Show interactive visualization\n",
    "fig.show()\n",
    "\n",
    "# ------------------------------------------------\n",
    "# 📝 Explanation:\n",
    "# ------------------------------------------------\n",
    "# ✅ `px.histogram(...)`:\n",
    "#    - Creates an **interactive bar chart**.\n",
    "#    - `x=\"Contract\"`: Displays different **contract types** on the x-axis.\n",
    "#    - `color=\"Churn\"`: Differentiates bars based on **Churn (Yes/No)**.\n",
    "#    - `barmode=\"group\"`: Places bars **side by side** for easy comparison.\n",
    "#    - `text_auto=True`: **Displays exact counts** on the bars.\n",
    "#    - `color_discrete_map={\"Yes\": \"#FF5733\", \"No\": \"#3498DB\"}`:\n",
    "#      - **Yes (Churned Customers)** → Orange-Red (#FF5733)\n",
    "#      - **No (Non-Churned Customers)** → Blue (#3498DB)\n",
    "#\n",
    "# ✅ `fig.update_layout(...)`:\n",
    "#    - Adjusts **axis labels, legend, and bar spacing** for better clarity.\n",
    "#\n",
    "# ✅ `fig.show()`: \n",
    "#    - Displays the **interactive Plotly visualization**.\n",
    "\n",
    "# ------------------------------------------------\n",
    "# 🚀 Why Use Plotly?\n",
    "# ------------------------------------------------\n",
    "# ✅ **Hover Tooltips**: See exact values by hovering over bars.\n",
    "# ✅ **Interactive Filtering**: Click legend items to filter churned vs non-churned customers.\n",
    "# ✅ **Better Readability**: Grouped bars help in easy visual comparison.\n"
   ]
  },
  {
   "cell_type": "markdown",
   "id": "f3c86f52",
   "metadata": {},
   "source": [
    "people who have month to month contract are likely to churn then from those who have 1 or 2 years or contract. "
   ]
  },
  {
   "cell_type": "code",
   "execution_count": 31,
   "id": "e99e38c5-0a86-4143-a9da-9e45b3e6c7c3",
   "metadata": {},
   "outputs": [
    {
     "data": {
      "text/plain": [
       "array(['customerID', 'gender', 'SeniorCitizen', 'Partner', 'Dependents',\n",
       "       'tenure', 'PhoneService', 'MultipleLines', 'InternetService',\n",
       "       'OnlineSecurity', 'OnlineBackup', 'DeviceProtection',\n",
       "       'TechSupport', 'StreamingTV', 'StreamingMovies', 'Contract',\n",
       "       'PaperlessBilling', 'PaymentMethod', 'MonthlyCharges',\n",
       "       'TotalCharges', 'Churn'], dtype=object)"
      ]
     },
     "execution_count": 31,
     "metadata": {},
     "output_type": "execute_result"
    }
   ],
   "source": [
    "# Printing the Column Names For Necessary Work\n",
    "df.columns.values"
   ]
  },
  {
   "cell_type": "code",
   "execution_count": 32,
   "id": "bd82f8bf-25a4-4df5-98a0-5736406b107b",
   "metadata": {},
   "outputs": [
    {
     "data": {
      "image/png": "[encoded data removed]",
      "text/plain": [
       "<Figure size 1500x1200 with 9 Axes>"
      ]
     },
     "metadata": {},
     "output_type": "display_data"
    },
    {
     "data": {
      "application/vnd.plotly.v1+json": {
       "config": {
        "plotlyServerURL": "https://plot.ly"
       },
       "data": [
        {
         "marker": {
          "color": "#3498DB"
         },
         "name": "PhoneService - Churn No",
         "type": "bar",
         "x": [
          "No",
          "Yes"
         ],
         "xaxis": "x",
         "y": {
          "bdata": "AAI2Eg==",
          "dtype": "i2"
         },
         "yaxis": "y"
        },
        {
         "marker": {
          "color": "#FF5733"
         },
         "name": "PhoneService - Churn Yes",
         "type": "bar",
         "x": [
          "No",
          "Yes"
         ],
         "xaxis": "x",
         "y": {
          "bdata": "qgCjBg==",
          "dtype": "i2"
         },
         "yaxis": "y"
        },
        {
         "marker": {
          "color": "#3498DB"
         },
         "name": "MultipleLines - Churn No",
         "type": "bar",
         "x": [
          "No",
          "No phone service",
          "Yes"
         ],
         "xaxis": "x2",
         "y": {
          "bdata": "7QkAAkkI",
          "dtype": "i2"
         },
         "yaxis": "y2"
        },
        {
         "marker": {
          "color": "#FF5733"
         },
         "name": "MultipleLines - Churn Yes",
         "type": "bar",
         "x": [
          "No",
          "No phone service",
          "Yes"
         ],
         "xaxis": "x2",
         "y": {
          "bdata": "UQOqAFID",
          "dtype": "i2"
         },
         "yaxis": "y2"
        },
        {
         "marker": {
          "color": "#3498DB"
         },
         "name": "InternetService - Churn No",
         "type": "bar",
         "x": [
          "DSL",
          "Fiber optic",
          "No"
         ],
         "xaxis": "x3",
         "y": {
          "bdata": "qgcHB4UF",
          "dtype": "i2"
         },
         "yaxis": "y3"
        },
        {
         "marker": {
          "color": "#FF5733"
         },
         "name": "InternetService - Churn Yes",
         "type": "bar",
         "x": [
          "DSL",
          "Fiber optic",
          "No"
         ],
         "xaxis": "x3",
         "y": {
          "bdata": "ywERBXEA",
          "dtype": "i2"
         },
         "yaxis": "y3"
        },
        {
         "marker": {
          "color": "#3498DB"
         },
         "name": "OnlineSecurity - Churn No",
         "type": "bar",
         "x": [
          "No",
          "No internet service",
          "Yes"
         ],
         "xaxis": "x4",
         "y": {
          "bdata": "9QeFBbwG",
          "dtype": "i2"
         },
         "yaxis": "y4"
        },
        {
         "marker": {
          "color": "#FF5733"
         },
         "name": "OnlineSecurity - Churn Yes",
         "type": "bar",
         "x": [
          "No",
          "No internet service",
          "Yes"
         ],
         "xaxis": "x4",
         "y": {
          "bdata": "tQVxACcB",
          "dtype": "i2"
         },
         "yaxis": "y4"
        },
        {
         "marker": {
          "color": "#3498DB"
         },
         "name": "OnlineBackup - Churn No",
         "type": "bar",
         "x": [
          "No",
          "No internet service",
          "Yes"
         ],
         "xaxis": "x5",
         "y": {
          "bdata": "PweFBXIH",
          "dtype": "i2"
         },
         "yaxis": "y5"
        },
        {
         "marker": {
          "color": "#FF5733"
         },
         "name": "OnlineBackup - Churn Yes",
         "type": "bar",
         "x": [
          "No",
          "No internet service",
          "Yes"
         ],
         "xaxis": "x5",
         "y": {
          "bdata": "0QRxAAsC",
          "dtype": "i2"
         },
         "yaxis": "y5"
        },
        {
         "marker": {
          "color": "#3498DB"
         },
         "name": "DeviceProtection - Churn No",
         "type": "bar",
         "x": [
          "No",
          "No internet service",
          "Yes"
         ],
         "xaxis": "x6",
         "y": {
          "bdata": "XAeFBVUH",
          "dtype": "i2"
         },
         "yaxis": "y6"
        },
        {
         "marker": {
          "color": "#FF5733"
         },
         "name": "DeviceProtection - Churn Yes",
         "type": "bar",
         "x": [
          "No",
          "No internet service",
          "Yes"
         ],
         "xaxis": "x6",
         "y": {
          "bdata": "uwRxACEC",
          "dtype": "i2"
         },
         "yaxis": "y6"
        },
        {
         "marker": {
          "color": "#3498DB"
         },
         "name": "TechSupport - Churn No",
         "type": "bar",
         "x": [
          "No",
          "No internet service",
          "Yes"
         ],
         "xaxis": "x7",
         "y": {
          "bdata": "6weFBcYG",
          "dtype": "i2"
         },
         "yaxis": "y7"
        },
        {
         "marker": {
          "color": "#FF5733"
         },
         "name": "TechSupport - Churn Yes",
         "type": "bar",
         "x": [
          "No",
          "No internet service",
          "Yes"
         ],
         "xaxis": "x7",
         "y": {
          "bdata": "pgVxADYB",
          "dtype": "i2"
         },
         "yaxis": "y7"
        },
        {
         "marker": {
          "color": "#3498DB"
         },
         "name": "StreamingTV - Churn No",
         "type": "bar",
         "x": [
          "No",
          "No internet service",
          "Yes"
         ],
         "xaxis": "x8",
         "y": {
          "bdata": "TAeFBWUH",
          "dtype": "i2"
         },
         "yaxis": "y8"
        },
        {
         "marker": {
          "color": "#FF5733"
         },
         "name": "StreamingTV - Churn Yes",
         "type": "bar",
         "x": [
          "No",
          "No internet service",
          "Yes"
         ],
         "xaxis": "x8",
         "y": {
          "bdata": "rgNxAC4D",
          "dtype": "i2"
         },
         "yaxis": "y8"
        },
        {
         "marker": {
          "color": "#3498DB"
         },
         "name": "StreamingMovies - Churn No",
         "type": "bar",
         "x": [
          "No",
          "No internet service",
          "Yes"
         ],
         "xaxis": "x9",
         "y": {
          "bdata": "NweFBXoH",
          "dtype": "i2"
         },
         "yaxis": "y9"
        },
        {
         "marker": {
          "color": "#FF5733"
         },
         "name": "StreamingMovies - Churn Yes",
         "type": "bar",
         "x": [
          "No",
          "No internet service",
          "Yes"
         ],
         "xaxis": "x9",
         "y": {
          "bdata": "qgNxADID",
          "dtype": "i2"
         },
         "yaxis": "y9"
        }
       ],
       "layout": {
        "annotations": [
         {
          "font": {
           "size": 16
          },
          "showarrow": false,
          "text": "PhoneService",
          "x": 0.14444444444444446,
          "xanchor": "center",
          "xref": "paper",
          "y": 1,
          "yanchor": "bottom",
          "yref": "paper"
         },
         {
          "font": {
           "size": 16
          },
          "showarrow": false,
          "text": "MultipleLines",
          "x": 0.5,
          "xanchor": "center",
          "xref": "paper",
          "y": 1,
          "yanchor": "bottom",
          "yref": "paper"
         },
         {
          "font": {
           "size": 16
          },
          "showarrow": false,
          "text": "InternetService",
          "x": 0.8555555555555556,
          "xanchor": "center",
          "xref": "paper",
          "y": 1,
          "yanchor": "bottom",
          "yref": "paper"
         },
         {
          "font": {
           "size": 16
          },
          "showarrow": false,
          "text": "OnlineSecurity",
          "x": 0.14444444444444446,
          "xanchor": "center",
          "xref": "paper",
          "y": 0.6111111111111112,
          "yanchor": "bottom",
          "yref": "paper"
         },
         {
          "font": {
           "size": 16
          },
          "showarrow": false,
          "text": "OnlineBackup",
          "x": 0.5,
          "xanchor": "center",
          "xref": "paper",
          "y": 0.6111111111111112,
          "yanchor": "bottom",
          "yref": "paper"
         },
         {
          "font": {
           "size": 16
          },
          "showarrow": false,
          "text": "DeviceProtection",
          "x": 0.8555555555555556,
          "xanchor": "center",
          "xref": "paper",
          "y": 0.6111111111111112,
          "yanchor": "bottom",
          "yref": "paper"
         },
         {
          "font": {
           "size": 16
          },
          "showarrow": false,
          "text": "TechSupport",
          "x": 0.14444444444444446,
          "xanchor": "center",
          "xref": "paper",
          "y": 0.22222222222222224,
          "yanchor": "bottom",
          "yref": "paper"
         },
         {
          "font": {
           "size": 16
          },
          "showarrow": false,
          "text": "StreamingTV",
          "x": 0.5,
          "xanchor": "center",
          "xref": "paper",
          "y": 0.22222222222222224,
          "yanchor": "bottom",
          "yref": "paper"
         },
         {
          "font": {
           "size": 16
          },
          "showarrow": false,
          "text": "StreamingMovies",
          "x": 0.8555555555555556,
          "xanchor": "center",
          "xref": "paper",
          "y": 0.22222222222222224,
          "yanchor": "bottom",
          "yref": "paper"
         }
        ],
        "height": 900,
        "showlegend": false,
        "template": {
         "data": {
          "bar": [
           {
            "error_x": {
             "color": "#2a3f5f"
            },
            "error_y": {
             "color": "#2a3f5f"
            },
            "marker": {
             "line": {
              "color": "#E5ECF6",
              "width": 0.5
             },
             "pattern": {
              "fillmode": "overlay",
              "size": 10,
              "solidity": 0.2
             }
            },
            "type": "bar"
           }
          ],
          "barpolar": [
           {
            "marker": {
             "line": {
              "color": "#E5ECF6",
              "width": 0.5
             },
             "pattern": {
              "fillmode": "overlay",
              "size": 10,
              "solidity": 0.2
             }
            },
            "type": "barpolar"
           }
          ],
          "carpet": [
           {
            "aaxis": {
             "endlinecolor": "#2a3f5f",
             "gridcolor": "white",
             "linecolor": "white",
             "minorgridcolor": "white",
             "startlinecolor": "#2a3f5f"
            },
            "baxis": {
             "endlinecolor": "#2a3f5f",
             "gridcolor": "white",
             "linecolor": "white",
             "minorgridcolor": "white",
             "startlinecolor": "#2a3f5f"
            },
            "type": "carpet"
           }
          ],
          "choropleth": [
           {
            "colorbar": {
             "outlinewidth": 0,
             "ticks": ""
            },
            "type": "choropleth"
           }
          ],
          "contour": [
           {
            "colorbar": {
             "outlinewidth": 0,
             "ticks": ""
            },
            "colorscale": [
             [
              0,
              "#0d0887"
             ],
             [
              0.1111111111111111,
              "#46039f"
             ],
             [
              0.2222222222222222,
              "#7201a8"
             ],
             [
              0.3333333333333333,
              "#9c179e"
             ],
             [
              0.4444444444444444,
              "#bd3786"
             ],
             [
              0.5555555555555556,
              "#d8576b"
             ],
             [
              0.6666666666666666,
              "#ed7953"
             ],
             [
              0.7777777777777778,
              "#fb9f3a"
             ],
             [
              0.8888888888888888,
              "#fdca26"
             ],
             [
              1,
              "#f0f921"
             ]
            ],
            "type": "contour"
           }
          ],
          "contourcarpet": [
           {
            "colorbar": {
             "outlinewidth": 0,
             "ticks": ""
            },
            "type": "contourcarpet"
           }
          ],
          "heatmap": [
           {
            "colorbar": {
             "outlinewidth": 0,
             "ticks": ""
            },
            "colorscale": [
             [
              0,
              "#0d0887"
             ],
             [
              0.1111111111111111,
              "#46039f"
             ],
             [
              0.2222222222222222,
              "#7201a8"
             ],
             [
              0.3333333333333333,
              "#9c179e"
             ],
             [
              0.4444444444444444,
              "#bd3786"
             ],
             [
              0.5555555555555556,
              "#d8576b"
             ],
             [
              0.6666666666666666,
              "#ed7953"
             ],
             [
              0.7777777777777778,
              "#fb9f3a"
             ],
             [
              0.8888888888888888,
              "#fdca26"
             ],
             [
              1,
              "#f0f921"
             ]
            ],
            "type": "heatmap"
           }
          ],
          "histogram": [
           {
            "marker": {
             "pattern": {
              "fillmode": "overlay",
              "size": 10,
              "solidity": 0.2
             }
            },
            "type": "histogram"
           }
          ],
          "histogram2d": [
           {
            "colorbar": {
             "outlinewidth": 0,
             "ticks": ""
            },
            "colorscale": [
             [
              0,
              "#0d0887"
             ],
             [
              0.1111111111111111,
              "#46039f"
             ],
             [
              0.2222222222222222,
              "#7201a8"
             ],
             [
              0.3333333333333333,
              "#9c179e"
             ],
             [
              0.4444444444444444,
              "#bd3786"
             ],
             [
              0.5555555555555556,
              "#d8576b"
             ],
             [
              0.6666666666666666,
              "#ed7953"
             ],
             [
              0.7777777777777778,
              "#fb9f3a"
             ],
             [
              0.8888888888888888,
              "#fdca26"
             ],
             [
              1,
              "#f0f921"
             ]
            ],
            "type": "histogram2d"
           }
          ],
          "histogram2dcontour": [
           {
            "colorbar": {
             "outlinewidth": 0,
             "ticks": ""
            },
            "colorscale": [
             [
              0,
              "#0d0887"
             ],
             [
              0.1111111111111111,
              "#46039f"
             ],
             [
              0.2222222222222222,
              "#7201a8"
             ],
             [
              0.3333333333333333,
              "#9c179e"
             ],
             [
              0.4444444444444444,
              "#bd3786"
             ],
             [
              0.5555555555555556,
              "#d8576b"
             ],
             [
              0.6666666666666666,
              "#ed7953"
             ],
             [
              0.7777777777777778,
              "#fb9f3a"
             ],
             [
              0.8888888888888888,
              "#fdca26"
             ],
             [
              1,
              "#f0f921"
             ]
            ],
            "type": "histogram2dcontour"
           }
          ],
          "mesh3d": [
           {
            "colorbar": {
             "outlinewidth": 0,
             "ticks": ""
            },
            "type": "mesh3d"
           }
          ],
          "parcoords": [
           {
            "line": {
             "colorbar": {
              "outlinewidth": 0,
              "ticks": ""
             }
            },
            "type": "parcoords"
           }
          ],
          "pie": [
           {
            "automargin": true,
            "type": "pie"
           }
          ],
          "scatter": [
           {
            "fillpattern": {
             "fillmode": "overlay",
             "size": 10,
             "solidity": 0.2
            },
            "type": "scatter"
           }
          ],
          "scatter3d": [
           {
            "line": {
             "colorbar": {
              "outlinewidth": 0,
              "ticks": ""
             }
            },
            "marker": {
             "colorbar": {
              "outlinewidth": 0,
              "ticks": ""
             }
            },
            "type": "scatter3d"
           }
          ],
          "scattercarpet": [
           {
            "marker": {
             "colorbar": {
              "outlinewidth": 0,
              "ticks": ""
             }
            },
            "type": "scattercarpet"
           }
          ],
          "scattergeo": [
           {
            "marker": {
             "colorbar": {
              "outlinewidth": 0,
              "ticks": ""
             }
            },
            "type": "scattergeo"
           }
          ],
          "scattergl": [
           {
            "marker": {
             "colorbar": {
              "outlinewidth": 0,
              "ticks": ""
             }
            },
            "type": "scattergl"
           }
          ],
          "scattermap": [
           {
            "marker": {
             "colorbar": {
              "outlinewidth": 0,
              "ticks": ""
             }
            },
            "type": "scattermap"
           }
          ],
          "scattermapbox": [
           {
            "marker": {
             "colorbar": {
              "outlinewidth": 0,
              "ticks": ""
             }
            },
            "type": "scattermapbox"
           }
          ],
          "scatterpolar": [
           {
            "marker": {
             "colorbar": {
              "outlinewidth": 0,
              "ticks": ""
             }
            },
            "type": "scatterpolar"
           }
          ],
          "scatterpolargl": [
           {
            "marker": {
             "colorbar": {
              "outlinewidth": 0,
              "ticks": ""
             }
            },
            "type": "scatterpolargl"
           }
          ],
          "scatterternary": [
           {
            "marker": {
             "colorbar": {
              "outlinewidth": 0,
              "ticks": ""
             }
            },
            "type": "scatterternary"
           }
          ],
          "surface": [
           {
            "colorbar": {
             "outlinewidth": 0,
             "ticks": ""
            },
            "colorscale": [
             [
              0,
              "#0d0887"
             ],
             [
              0.1111111111111111,
              "#46039f"
             ],
             [
              0.2222222222222222,
              "#7201a8"
             ],
             [
              0.3333333333333333,
              "#9c179e"
             ],
             [
              0.4444444444444444,
              "#bd3786"
             ],
             [
              0.5555555555555556,
              "#d8576b"
             ],
             [
              0.6666666666666666,
              "#ed7953"
             ],
             [
              0.7777777777777778,
              "#fb9f3a"
             ],
             [
              0.8888888888888888,
              "#fdca26"
             ],
             [
              1,
              "#f0f921"
             ]
            ],
            "type": "surface"
           }
          ],
          "table": [
           {
            "cells": {
             "fill": {
              "color": "#EBF0F8"
             },
             "line": {
              "color": "white"
             }
            },
            "header": {
             "fill": {
              "color": "#C8D4E3"
             },
             "line": {
              "color": "white"
             }
            },
            "type": "table"
           }
          ]
         },
         "layout": {
          "annotationdefaults": {
           "arrowcolor": "#2a3f5f",
           "arrowhead": 0,
           "arrowwidth": 1
          },
          "autotypenumbers": "strict",
          "coloraxis": {
           "colorbar": {
            "outlinewidth": 0,
            "ticks": ""
           }
          },
          "colorscale": {
           "diverging": [
            [
             0,
             "#8e0152"
            ],
            [
             0.1,
             "#c51b7d"
            ],
            [
             0.2,
             "#de77ae"
            ],
            [
             0.3,
             "#f1b6da"
            ],
            [
             0.4,
             "#fde0ef"
            ],
            [
             0.5,
             "#f7f7f7"
            ],
            [
             0.6,
             "#e6f5d0"
            ],
            [
             0.7,
             "#b8e186"
            ],
            [
             0.8,
             "#7fbc41"
            ],
            [
             0.9,
             "#4d9221"
            ],
            [
             1,
             "#276419"
            ]
           ],
           "sequential": [
            [
             0,
             "#0d0887"
            ],
            [
             0.1111111111111111,
             "#46039f"
            ],
            [
             0.2222222222222222,
             "#7201a8"
            ],
            [
             0.3333333333333333,
             "#9c179e"
            ],
            [
             0.4444444444444444,
             "#bd3786"
            ],
            [
             0.5555555555555556,
             "#d8576b"
            ],
            [
             0.6666666666666666,
             "#ed7953"
            ],
            [
             0.7777777777777778,
             "#fb9f3a"
            ],
            [
             0.8888888888888888,
             "#fdca26"
            ],
            [
             1,
             "#f0f921"
            ]
           ],
           "sequentialminus": [
            [
             0,
             "#0d0887"
            ],
            [
             0.1111111111111111,
             "#46039f"
            ],
            [
             0.2222222222222222,
             "#7201a8"
            ],
            [
             0.3333333333333333,
             "#9c179e"
            ],
            [
             0.4444444444444444,
             "#bd3786"
            ],
            [
             0.5555555555555556,
             "#d8576b"
            ],
            [
             0.6666666666666666,
             "#ed7953"
            ],
            [
             0.7777777777777778,
             "#fb9f3a"
            ],
            [
             0.8888888888888888,
             "#fdca26"
            ],
            [
             1,
             "#f0f921"
            ]
           ]
          },
          "colorway": [
           "#636efa",
           "#EF553B",
           "#00cc96",
           "#ab63fa",
           "#FFA15A",
           "#19d3f3",
           "#FF6692",
           "#B6E880",
           "#FF97FF",
           "#FECB52"
          ],
          "font": {
           "color": "#2a3f5f"
          },
          "geo": {
           "bgcolor": "white",
           "lakecolor": "white",
           "landcolor": "#E5ECF6",
           "showlakes": true,
           "showland": true,
           "subunitcolor": "white"
          },
          "hoverlabel": {
           "align": "left"
          },
          "hovermode": "closest",
          "mapbox": {
           "style": "light"
          },
          "paper_bgcolor": "white",
          "plot_bgcolor": "#E5ECF6",
          "polar": {
           "angularaxis": {
            "gridcolor": "white",
            "linecolor": "white",
            "ticks": ""
           },
           "bgcolor": "#E5ECF6",
           "radialaxis": {
            "gridcolor": "white",
            "linecolor": "white",
            "ticks": ""
           }
          },
          "scene": {
           "xaxis": {
            "backgroundcolor": "#E5ECF6",
            "gridcolor": "white",
            "gridwidth": 2,
            "linecolor": "white",
            "showbackground": true,
            "ticks": "",
            "zerolinecolor": "white"
           },
           "yaxis": {
            "backgroundcolor": "#E5ECF6",
            "gridcolor": "white",
            "gridwidth": 2,
            "linecolor": "white",
            "showbackground": true,
            "ticks": "",
            "zerolinecolor": "white"
           },
           "zaxis": {
            "backgroundcolor": "#E5ECF6",
            "gridcolor": "white",
            "gridwidth": 2,
            "linecolor": "white",
            "showbackground": true,
            "ticks": "",
            "zerolinecolor": "white"
           }
          },
          "shapedefaults": {
           "line": {
            "color": "#2a3f5f"
           }
          },
          "ternary": {
           "aaxis": {
            "gridcolor": "white",
            "linecolor": "white",
            "ticks": ""
           },
           "baxis": {
            "gridcolor": "white",
            "linecolor": "white",
            "ticks": ""
           },
           "bgcolor": "#E5ECF6",
           "caxis": {
            "gridcolor": "white",
            "linecolor": "white",
            "ticks": ""
           }
          },
          "title": {
           "x": 0.05
          },
          "xaxis": {
           "automargin": true,
           "gridcolor": "white",
           "linecolor": "white",
           "ticks": "",
           "title": {
            "standoff": 15
           },
           "zerolinecolor": "white",
           "zerolinewidth": 2
          },
          "yaxis": {
           "automargin": true,
           "gridcolor": "white",
           "linecolor": "white",
           "ticks": "",
           "title": {
            "standoff": 15
           },
           "zerolinecolor": "white",
           "zerolinewidth": 2
          }
         }
        },
        "title": {
         "text": "Service Usage vs Churn (Interactive Subplots)"
        },
        "width": 1000,
        "xaxis": {
         "anchor": "y",
         "domain": [
          0,
          0.2888888888888889
         ]
        },
        "xaxis2": {
         "anchor": "y2",
         "domain": [
          0.35555555555555557,
          0.6444444444444445
         ]
        },
        "xaxis3": {
         "anchor": "y3",
         "domain": [
          0.7111111111111111,
          1
         ]
        },
        "xaxis4": {
         "anchor": "y4",
         "domain": [
          0,
          0.2888888888888889
         ]
        },
        "xaxis5": {
         "anchor": "y5",
         "domain": [
          0.35555555555555557,
          0.6444444444444445
         ]
        },
        "xaxis6": {
         "anchor": "y6",
         "domain": [
          0.7111111111111111,
          1
         ]
        },
        "xaxis7": {
         "anchor": "y7",
         "domain": [
          0,
          0.2888888888888889
         ]
        },
        "xaxis8": {
         "anchor": "y8",
         "domain": [
          0.35555555555555557,
          0.6444444444444445
         ]
        },
        "xaxis9": {
         "anchor": "y9",
         "domain": [
          0.7111111111111111,
          1
         ]
        },
        "yaxis": {
         "anchor": "x",
         "domain": [
          0.7777777777777778,
          1
         ]
        },
        "yaxis2": {
         "anchor": "x2",
         "domain": [
          0.7777777777777778,
          1
         ]
        },
        "yaxis3": {
         "anchor": "x3",
         "domain": [
          0.7777777777777778,
          1
         ]
        },
        "yaxis4": {
         "anchor": "x4",
         "domain": [
          0.3888888888888889,
          0.6111111111111112
         ]
        },
        "yaxis5": {
         "anchor": "x5",
         "domain": [
          0.3888888888888889,
          0.6111111111111112
         ]
        },
        "yaxis6": {
         "anchor": "x6",
         "domain": [
          0.3888888888888889,
          0.6111111111111112
         ]
        },
        "yaxis7": {
         "anchor": "x7",
         "domain": [
          0,
          0.22222222222222224
         ]
        },
        "yaxis8": {
         "anchor": "x8",
         "domain": [
          0,
          0.22222222222222224
         ]
        },
        "yaxis9": {
         "anchor": "x9",
         "domain": [
          0,
          0.22222222222222224
         ]
        }
       }
      }
     },
     "metadata": {},
     "output_type": "display_data"
    }
   ],
   "source": [
    "# ------------------------------------------------\n",
    "# 📝 Seaborn/Matplotlib: Count Plots for Multiple Service-Related Columns vs Churn\n",
    "# ------------------------------------------------\n",
    "\n",
    "# Define the columns to visualize\n",
    "columns = ['PhoneService', 'MultipleLines', 'InternetService', 'OnlineSecurity', \n",
    "           'OnlineBackup', 'DeviceProtection', 'TechSupport', 'StreamingTV', 'StreamingMovies']\n",
    "\n",
    "# Number of columns for the subplot grid\n",
    "n_cols = 3  # 3 columns per row\n",
    "n_rows = (len(columns) + n_cols - 1) // n_cols  # Calculate required rows\n",
    "\n",
    "# Create subplots with dynamic row count\n",
    "fig, axes = plt.subplots(n_rows, n_cols, figsize=(15, n_rows * 4))  # Adjust figure size dynamically\n",
    "\n",
    "# Flatten the axes array for easy iteration\n",
    "axes = axes.flatten()\n",
    "\n",
    "# Iterate over columns and create count plots\n",
    "for i, col in enumerate(columns):\n",
    "    sns.countplot(x=col, data=df, ax=axes[i], hue=df[\"Churn\"])  # Count plot with churn hue\n",
    "    axes[i].set_title(f'Count Plot of {col}')  # Set title for each subplot\n",
    "    axes[i].set_xlabel(col)  # Set x-axis label\n",
    "    axes[i].set_ylabel('Count')  # Set y-axis label\n",
    "\n",
    "# Remove empty subplots (if any)\n",
    "for j in range(i + 1, len(axes)):\n",
    "    fig.delaxes(axes[j])  # Delete extra axes if they exist\n",
    "\n",
    "# Adjust layout for better spacing\n",
    "plt.tight_layout()\n",
    "\n",
    "# Show the plot\n",
    "plt.show()\n",
    "\n",
    "# ------------------------------------------------\n",
    "# 📝 Explanation:\n",
    "# ------------------------------------------------\n",
    "# ✅ `columns`: List of service-related columns to analyze.\n",
    "# ✅ `n_cols = 3`: Creates 3 plots per row for readability.\n",
    "# ✅ `n_rows`: Dynamically calculates the number of rows required based on the number of columns.\n",
    "# ✅ `fig, axes = plt.subplots(n_rows, n_cols, figsize=(15, n_rows * 4))`: \n",
    "#    - Creates a grid of subplots with appropriate figure size.\n",
    "# ✅ `axes = axes.flatten()`: Flattens the subplot array for easy looping.\n",
    "# ✅ `sns.countplot(x=col, data=df, ax=axes[i], hue=df[\"Churn\"])`: \n",
    "#    - Creates a count plot for each service-related column.\n",
    "#    - `hue=\"Churn\"` differentiates churned and non-churned customers.\n",
    "# ✅ `fig.delaxes(axes[j])`: Removes any extra unused subplots.\n",
    "# ✅ `plt.tight_layout()`: Ensures plots do not overlap.\n",
    "\n",
    "# ------------------------------------------------\n",
    "# 🚀 Next Step: Interactive Plotly Version\n",
    "# ------------------------------------------------\n",
    "\n",
    "# ------------------------------------------------\n",
    "# 📝 Plotly: Interactive Subplots for Service-Related Columns vs Churn\n",
    "# ------------------------------------------------\n",
    "from plotly.subplots import make_subplots\n",
    "import plotly.graph_objects as go\n",
    "\n",
    "# Create subplots dynamically\n",
    "fig = make_subplots(rows=n_rows, cols=n_cols, subplot_titles=columns)\n",
    "\n",
    "# Track subplot position\n",
    "row, col = 1, 1\n",
    "\n",
    "# Iterate over service-related columns and add bar charts\n",
    "for i, column in enumerate(columns):\n",
    "    churn_counts = df.groupby([column, \"Churn\"]).size().reset_index(name=\"Count\")\n",
    "    \n",
    "    for churn_value in df[\"Churn\"].unique():\n",
    "        subset = churn_counts[churn_counts[\"Churn\"] == churn_value]\n",
    "        fig.add_trace(\n",
    "            go.Bar(\n",
    "                x=subset[column],\n",
    "                y=subset[\"Count\"],\n",
    "                name=f\"{column} - Churn {churn_value}\",\n",
    "                marker_color=\"#FF5733\" if churn_value == \"Yes\" else \"#3498DB\"\n",
    "            ),\n",
    "            row=row, col=col\n",
    "        )\n",
    "\n",
    "    # Update row & col tracking for next subplot\n",
    "    col += 1\n",
    "    if col > n_cols:\n",
    "        row += 1\n",
    "        col = 1\n",
    "\n",
    "# Update layout for better readability\n",
    "fig.update_layout(\n",
    "    title_text=\"Service Usage vs Churn (Interactive Subplots)\",\n",
    "    showlegend=False,\n",
    "    height=n_rows * 300,  # Adjust height dynamically\n",
    "    width=1000\n",
    ")\n",
    "\n",
    "# Show interactive plot\n",
    "fig.show()\n",
    "\n",
    "# ------------------------------------------------\n",
    "# 📝 Explanation:\n",
    "# ------------------------------------------------\n",
    "# ✅ `make_subplots(rows=n_rows, cols=n_cols, subplot_titles=columns)`: \n",
    "#    - Creates a subplot grid dynamically based on the number of service columns.\n",
    "# ✅ `df.groupby([column, \"Churn\"]).size().reset_index(name=\"Count\")`: \n",
    "#    - Groups data by each service type and churn status.\n",
    "# ✅ `go.Bar(...)`:\n",
    "#    - Creates bar charts for each category.\n",
    "#    - `marker_color`: Colors churned customers **(Orange-Red)** and non-churned customers **(Blue)**.\n",
    "# ✅ `fig.add_trace(...)`: \n",
    "#    - Adds the generated bars to respective subplots.\n",
    "# ✅ `showlegend=False`: \n",
    "#    - Hides redundant legends for a cleaner look.\n",
    "# ✅ `fig.show()`: \n",
    "#    - Displays the interactive Plotly visualization.\n",
    "\n",
    "# ------------------------------------------------\n",
    "# 🚀 Why Use Plotly?\n",
    "# ------------------------------------------------\n",
    "# ✅ **Interactive Hover Tooltips**: Get details on hover.\n",
    "# ✅ **Better Comparisons**: Compare service usage vs churn dynamically.\n",
    "# ✅ **Scalability**: Handles multiple service-related columns efficiently.\n"
   ]
  },
  {
   "cell_type": "markdown",
   "id": "f3b64126-4dca-4a97-88b7-07a120c4f38c",
   "metadata": {},
   "source": [
    "The majority of customers who do not churn tend to have services like PhoneService, InternetService (particularly DSL), and OnlineSecurity enabled. \n",
    "\n",
    "For services like OnlineBackup, TechSupport, and StreamingTV, churn rates are noticeably higher when these services are not used or are unavailable. "
   ]
  },
  {
   "cell_type": "code",
   "execution_count": 33,
   "id": "c5a3a8d4-1866-47b2-bdd2-bb793bc4637d",
   "metadata": {},
   "outputs": [
    {
     "data": {
      "image/png": "[encoded data removed]",
      "text/plain": [
       "<Figure size 600x400 with 1 Axes>"
      ]
     },
     "metadata": {},
     "output_type": "display_data"
    },
    {
     "data": {
      "application/vnd.plotly.v1+json": {
       "config": {
        "plotlyServerURL": "https://plot.ly"
       },
       "data": [
        {
         "alignmentgroup": "True",
         "hovertemplate": "Churn=No<br>PaymentMethod=%{x}<br>Count=%{text}<extra></extra>",
         "legendgroup": "No",
         "marker": {
          "color": "#3498DB",
          "pattern": {
           "shape": ""
          }
         },
         "name": "No",
         "offsetgroup": "No",
         "orientation": "v",
         "showlegend": true,
         "text": {
          "bdata": "AAAAAAAYlEAAAAAAACiUQAAAAAAAOJRAAAAAAABglEA=",
          "dtype": "f8"
         },
         "textposition": "auto",
         "type": "bar",
         "x": [
          "Bank transfer (automatic)",
          "Credit card (automatic)",
          "Electronic check",
          "Mailed check"
         ],
         "xaxis": "x",
         "y": {
          "bdata": "BgUKBQ4FGAU=",
          "dtype": "i2"
         },
         "yaxis": "y"
        },
        {
         "alignmentgroup": "True",
         "hovertemplate": "Churn=Yes<br>PaymentMethod=%{x}<br>Count=%{text}<extra></extra>",
         "legendgroup": "Yes",
         "marker": {
          "color": "#FF5733",
          "pattern": {
           "shape": ""
          }
         },
         "name": "Yes",
         "offsetgroup": "Yes",
         "orientation": "v",
         "showlegend": true,
         "text": {
          "bdata": "AAAAAAAgcEAAAAAAAABtQAAAAAAAvJBAAAAAAABAc0A=",
          "dtype": "f8"
         },
         "textposition": "auto",
         "type": "bar",
         "x": [
          "Bank transfer (automatic)",
          "Credit card (automatic)",
          "Electronic check",
          "Mailed check"
         ],
         "xaxis": "x",
         "y": {
          "bdata": "AgHoAC8ENAE=",
          "dtype": "i2"
         },
         "yaxis": "y"
        }
       ],
       "layout": {
        "barmode": "group",
        "height": 500,
        "legend": {
         "title": {
          "text": "Churn"
         },
         "tracegroupgap": 0
        },
        "margin": {
         "t": 60
        },
        "template": {
         "data": {
          "bar": [
           {
            "error_x": {
             "color": "#2a3f5f"
            },
            "error_y": {
             "color": "#2a3f5f"
            },
            "marker": {
             "line": {
              "color": "#E5ECF6",
              "width": 0.5
             },
             "pattern": {
              "fillmode": "overlay",
              "size": 10,
              "solidity": 0.2
             }
            },
            "type": "bar"
           }
          ],
          "barpolar": [
           {
            "marker": {
             "line": {
              "color": "#E5ECF6",
              "width": 0.5
             },
             "pattern": {
              "fillmode": "overlay",
              "size": 10,
              "solidity": 0.2
             }
            },
            "type": "barpolar"
           }
          ],
          "carpet": [
           {
            "aaxis": {
             "endlinecolor": "#2a3f5f",
             "gridcolor": "white",
             "linecolor": "white",
             "minorgridcolor": "white",
             "startlinecolor": "#2a3f5f"
            },
            "baxis": {
             "endlinecolor": "#2a3f5f",
             "gridcolor": "white",
             "linecolor": "white",
             "minorgridcolor": "white",
             "startlinecolor": "#2a3f5f"
            },
            "type": "carpet"
           }
          ],
          "choropleth": [
           {
            "colorbar": {
             "outlinewidth": 0,
             "ticks": ""
            },
            "type": "choropleth"
           }
          ],
          "contour": [
           {
            "colorbar": {
             "outlinewidth": 0,
             "ticks": ""
            },
            "colorscale": [
             [
              0,
              "#0d0887"
             ],
             [
              0.1111111111111111,
              "#46039f"
             ],
             [
              0.2222222222222222,
              "#7201a8"
             ],
             [
              0.3333333333333333,
              "#9c179e"
             ],
             [
              0.4444444444444444,
              "#bd3786"
             ],
             [
              0.5555555555555556,
              "#d8576b"
             ],
             [
              0.6666666666666666,
              "#ed7953"
             ],
             [
              0.7777777777777778,
              "#fb9f3a"
             ],
             [
              0.8888888888888888,
              "#fdca26"
             ],
             [
              1,
              "#f0f921"
             ]
            ],
            "type": "contour"
           }
          ],
          "contourcarpet": [
           {
            "colorbar": {
             "outlinewidth": 0,
             "ticks": ""
            },
            "type": "contourcarpet"
           }
          ],
          "heatmap": [
           {
            "colorbar": {
             "outlinewidth": 0,
             "ticks": ""
            },
            "colorscale": [
             [
              0,
              "#0d0887"
             ],
             [
              0.1111111111111111,
              "#46039f"
             ],
             [
              0.2222222222222222,
              "#7201a8"
             ],
             [
              0.3333333333333333,
              "#9c179e"
             ],
             [
              0.4444444444444444,
              "#bd3786"
             ],
             [
              0.5555555555555556,
              "#d8576b"
             ],
             [
              0.6666666666666666,
              "#ed7953"
             ],
             [
              0.7777777777777778,
              "#fb9f3a"
             ],
             [
              0.8888888888888888,
              "#fdca26"
             ],
             [
              1,
              "#f0f921"
             ]
            ],
            "type": "heatmap"
           }
          ],
          "histogram": [
           {
            "marker": {
             "pattern": {
              "fillmode": "overlay",
              "size": 10,
              "solidity": 0.2
             }
            },
            "type": "histogram"
           }
          ],
          "histogram2d": [
           {
            "colorbar": {
             "outlinewidth": 0,
             "ticks": ""
            },
            "colorscale": [
             [
              0,
              "#0d0887"
             ],
             [
              0.1111111111111111,
              "#46039f"
             ],
             [
              0.2222222222222222,
              "#7201a8"
             ],
             [
              0.3333333333333333,
              "#9c179e"
             ],
             [
              0.4444444444444444,
              "#bd3786"
             ],
             [
              0.5555555555555556,
              "#d8576b"
             ],
             [
              0.6666666666666666,
              "#ed7953"
             ],
             [
              0.7777777777777778,
              "#fb9f3a"
             ],
             [
              0.8888888888888888,
              "#fdca26"
             ],
             [
              1,
              "#f0f921"
             ]
            ],
            "type": "histogram2d"
           }
          ],
          "histogram2dcontour": [
           {
            "colorbar": {
             "outlinewidth": 0,
             "ticks": ""
            },
            "colorscale": [
             [
              0,
              "#0d0887"
             ],
             [
              0.1111111111111111,
              "#46039f"
             ],
             [
              0.2222222222222222,
              "#7201a8"
             ],
             [
              0.3333333333333333,
              "#9c179e"
             ],
             [
              0.4444444444444444,
              "#bd3786"
             ],
             [
              0.5555555555555556,
              "#d8576b"
             ],
             [
              0.6666666666666666,
              "#ed7953"
             ],
             [
              0.7777777777777778,
              "#fb9f3a"
             ],
             [
              0.8888888888888888,
              "#fdca26"
             ],
             [
              1,
              "#f0f921"
             ]
            ],
            "type": "histogram2dcontour"
           }
          ],
          "mesh3d": [
           {
            "colorbar": {
             "outlinewidth": 0,
             "ticks": ""
            },
            "type": "mesh3d"
           }
          ],
          "parcoords": [
           {
            "line": {
             "colorbar": {
              "outlinewidth": 0,
              "ticks": ""
             }
            },
            "type": "parcoords"
           }
          ],
          "pie": [
           {
            "automargin": true,
            "type": "pie"
           }
          ],
          "scatter": [
           {
            "fillpattern": {
             "fillmode": "overlay",
             "size": 10,
             "solidity": 0.2
            },
            "type": "scatter"
           }
          ],
          "scatter3d": [
           {
            "line": {
             "colorbar": {
              "outlinewidth": 0,
              "ticks": ""
             }
            },
            "marker": {
             "colorbar": {
              "outlinewidth": 0,
              "ticks": ""
             }
            },
            "type": "scatter3d"
           }
          ],
          "scattercarpet": [
           {
            "marker": {
             "colorbar": {
              "outlinewidth": 0,
              "ticks": ""
             }
            },
            "type": "scattercarpet"
           }
          ],
          "scattergeo": [
           {
            "marker": {
             "colorbar": {
              "outlinewidth": 0,
              "ticks": ""
             }
            },
            "type": "scattergeo"
           }
          ],
          "scattergl": [
           {
            "marker": {
             "colorbar": {
              "outlinewidth": 0,
              "ticks": ""
             }
            },
            "type": "scattergl"
           }
          ],
          "scattermap": [
           {
            "marker": {
             "colorbar": {
              "outlinewidth": 0,
              "ticks": ""
             }
            },
            "type": "scattermap"
           }
          ],
          "scattermapbox": [
           {
            "marker": {
             "colorbar": {
              "outlinewidth": 0,
              "ticks": ""
             }
            },
            "type": "scattermapbox"
           }
          ],
          "scatterpolar": [
           {
            "marker": {
             "colorbar": {
              "outlinewidth": 0,
              "ticks": ""
             }
            },
            "type": "scatterpolar"
           }
          ],
          "scatterpolargl": [
           {
            "marker": {
             "colorbar": {
              "outlinewidth": 0,
              "ticks": ""
             }
            },
            "type": "scatterpolargl"
           }
          ],
          "scatterternary": [
           {
            "marker": {
             "colorbar": {
              "outlinewidth": 0,
              "ticks": ""
             }
            },
            "type": "scatterternary"
           }
          ],
          "surface": [
           {
            "colorbar": {
             "outlinewidth": 0,
             "ticks": ""
            },
            "colorscale": [
             [
              0,
              "#0d0887"
             ],
             [
              0.1111111111111111,
              "#46039f"
             ],
             [
              0.2222222222222222,
              "#7201a8"
             ],
             [
              0.3333333333333333,
              "#9c179e"
             ],
             [
              0.4444444444444444,
              "#bd3786"
             ],
             [
              0.5555555555555556,
              "#d8576b"
             ],
             [
              0.6666666666666666,
              "#ed7953"
             ],
             [
              0.7777777777777778,
              "#fb9f3a"
             ],
             [
              0.8888888888888888,
              "#fdca26"
             ],
             [
              1,
              "#f0f921"
             ]
            ],
            "type": "surface"
           }
          ],
          "table": [
           {
            "cells": {
             "fill": {
              "color": "#EBF0F8"
             },
             "line": {
              "color": "white"
             }
            },
            "header": {
             "fill": {
              "color": "#C8D4E3"
             },
             "line": {
              "color": "white"
             }
            },
            "type": "table"
           }
          ]
         },
         "layout": {
          "annotationdefaults": {
           "arrowcolor": "#2a3f5f",
           "arrowhead": 0,
           "arrowwidth": 1
          },
          "autotypenumbers": "strict",
          "coloraxis": {
           "colorbar": {
            "outlinewidth": 0,
            "ticks": ""
           }
          },
          "colorscale": {
           "diverging": [
            [
             0,
             "#8e0152"
            ],
            [
             0.1,
             "#c51b7d"
            ],
            [
             0.2,
             "#de77ae"
            ],
            [
             0.3,
             "#f1b6da"
            ],
            [
             0.4,
             "#fde0ef"
            ],
            [
             0.5,
             "#f7f7f7"
            ],
            [
             0.6,
             "#e6f5d0"
            ],
            [
             0.7,
             "#b8e186"
            ],
            [
             0.8,
             "#7fbc41"
            ],
            [
             0.9,
             "#4d9221"
            ],
            [
             1,
             "#276419"
            ]
           ],
           "sequential": [
            [
             0,
             "#0d0887"
            ],
            [
             0.1111111111111111,
             "#46039f"
            ],
            [
             0.2222222222222222,
             "#7201a8"
            ],
            [
             0.3333333333333333,
             "#9c179e"
            ],
            [
             0.4444444444444444,
             "#bd3786"
            ],
            [
             0.5555555555555556,
             "#d8576b"
            ],
            [
             0.6666666666666666,
             "#ed7953"
            ],
            [
             0.7777777777777778,
             "#fb9f3a"
            ],
            [
             0.8888888888888888,
             "#fdca26"
            ],
            [
             1,
             "#f0f921"
            ]
           ],
           "sequentialminus": [
            [
             0,
             "#0d0887"
            ],
            [
             0.1111111111111111,
             "#46039f"
            ],
            [
             0.2222222222222222,
             "#7201a8"
            ],
            [
             0.3333333333333333,
             "#9c179e"
            ],
            [
             0.4444444444444444,
             "#bd3786"
            ],
            [
             0.5555555555555556,
             "#d8576b"
            ],
            [
             0.6666666666666666,
             "#ed7953"
            ],
            [
             0.7777777777777778,
             "#fb9f3a"
            ],
            [
             0.8888888888888888,
             "#fdca26"
            ],
            [
             1,
             "#f0f921"
            ]
           ]
          },
          "colorway": [
           "#636efa",
           "#EF553B",
           "#00cc96",
           "#ab63fa",
           "#FFA15A",
           "#19d3f3",
           "#FF6692",
           "#B6E880",
           "#FF97FF",
           "#FECB52"
          ],
          "font": {
           "color": "#2a3f5f"
          },
          "geo": {
           "bgcolor": "white",
           "lakecolor": "white",
           "landcolor": "#E5ECF6",
           "showlakes": true,
           "showland": true,
           "subunitcolor": "white"
          },
          "hoverlabel": {
           "align": "left"
          },
          "hovermode": "closest",
          "mapbox": {
           "style": "light"
          },
          "paper_bgcolor": "white",
          "plot_bgcolor": "#E5ECF6",
          "polar": {
           "angularaxis": {
            "gridcolor": "white",
            "linecolor": "white",
            "ticks": ""
           },
           "bgcolor": "#E5ECF6",
           "radialaxis": {
            "gridcolor": "white",
            "linecolor": "white",
            "ticks": ""
           }
          },
          "scene": {
           "xaxis": {
            "backgroundcolor": "#E5ECF6",
            "gridcolor": "white",
            "gridwidth": 2,
            "linecolor": "white",
            "showbackground": true,
            "ticks": "",
            "zerolinecolor": "white"
           },
           "yaxis": {
            "backgroundcolor": "#E5ECF6",
            "gridcolor": "white",
            "gridwidth": 2,
            "linecolor": "white",
            "showbackground": true,
            "ticks": "",
            "zerolinecolor": "white"
           },
           "zaxis": {
            "backgroundcolor": "#E5ECF6",
            "gridcolor": "white",
            "gridwidth": 2,
            "linecolor": "white",
            "showbackground": true,
            "ticks": "",
            "zerolinecolor": "white"
           }
          },
          "shapedefaults": {
           "line": {
            "color": "#2a3f5f"
           }
          },
          "ternary": {
           "aaxis": {
            "gridcolor": "white",
            "linecolor": "white",
            "ticks": ""
           },
           "baxis": {
            "gridcolor": "white",
            "linecolor": "white",
            "ticks": ""
           },
           "bgcolor": "#E5ECF6",
           "caxis": {
            "gridcolor": "white",
            "linecolor": "white",
            "ticks": ""
           }
          },
          "title": {
           "x": 0.05
          },
          "xaxis": {
           "automargin": true,
           "gridcolor": "white",
           "linecolor": "white",
           "ticks": "",
           "title": {
            "standoff": 15
           },
           "zerolinecolor": "white",
           "zerolinewidth": 2
          },
          "yaxis": {
           "automargin": true,
           "gridcolor": "white",
           "linecolor": "white",
           "ticks": "",
           "title": {
            "standoff": 15
           },
           "zerolinecolor": "white",
           "zerolinewidth": 2
          }
         }
        },
        "title": {
         "text": "Churned Customers by Payment Method (Interactive)"
        },
        "width": 700,
        "xaxis": {
         "anchor": "y",
         "domain": [
          0,
          1
         ],
         "tickangle": -45,
         "title": {
          "text": "Payment Method"
         }
        },
        "yaxis": {
         "anchor": "x",
         "domain": [
          0,
          1
         ],
         "title": {
          "text": "Count"
         }
        }
       }
      }
     },
     "metadata": {},
     "output_type": "display_data"
    }
   ],
   "source": [
    "# ------------------------------------------------\n",
    "# 📝 Seaborn/Matplotlib: Churned Customers by Payment Method\n",
    "# ------------------------------------------------\n",
    "\n",
    "# Set figure size\n",
    "plt.figure(figsize=(6,4))\n",
    "\n",
    "# Create a count plot with Churn as hue\n",
    "ax = sns.countplot(x=\"PaymentMethod\", data=df, hue=\"Churn\")\n",
    "\n",
    "# Add bar labels for both churn categories\n",
    "ax.bar_label(ax.containers[0])  # Non-Churned Customers\n",
    "ax.bar_label(ax.containers[1])  # Churned Customers\n",
    "\n",
    "# Set title and rotate x-axis labels for readability\n",
    "plt.title(\"Churned Customers by Payment Method\")\n",
    "plt.xticks(rotation=45)\n",
    "\n",
    "# Show the plot\n",
    "plt.show()\n",
    "\n",
    "# ------------------------------------------------\n",
    "# 📝 Explanation:\n",
    "# ------------------------------------------------\n",
    "# ✅ `plt.figure(figsize=(6,4))`: Sets the figure size for better visualization.\n",
    "# ✅ `sns.countplot(x=\"PaymentMethod\", data=df, hue=\"Churn\")`: \n",
    "#    - Creates a count plot for different payment methods.\n",
    "#    - Uses `hue=\"Churn\"` to differentiate between churned and non-churned customers.\n",
    "# ✅ `ax.bar_label(ax.containers[0]) & ax.bar_label(ax.containers[1])`: \n",
    "#    - Adds labels to bars for better readability.\n",
    "# ✅ `plt.xticks(rotation=45)`: Rotates x-axis labels for better visibility.\n",
    "# ✅ `plt.show()`: Displays the visualization.\n",
    "\n",
    "# ------------------------------------------------\n",
    "# 🚀 Next Step: Interactive Plotly Version\n",
    "# ------------------------------------------------\n",
    "\n",
    "# ------------------------------------------------\n",
    "# 📝 Plotly: Interactive Bar Chart for Churn by Payment Method\n",
    "# ------------------------------------------------\n",
    "import plotly.express as px\n",
    "\n",
    "# Create a grouped bar chart using Plotly\n",
    "fig = px.bar(\n",
    "    df.groupby([\"PaymentMethod\", \"Churn\"]).size().reset_index(name=\"Count\"),\n",
    "    x=\"PaymentMethod\",\n",
    "    y=\"Count\",\n",
    "    color=\"Churn\",\n",
    "    barmode=\"group\",\n",
    "    text=\"Count\",  # Display counts on bars\n",
    "    color_discrete_map={\"Yes\": \"#FF5733\", \"No\": \"#3498DB\"}  # Custom colors\n",
    ")\n",
    "\n",
    "# Update layout for better readability\n",
    "fig.update_layout(\n",
    "    title=\"Churned Customers by Payment Method (Interactive)\",\n",
    "    xaxis_title=\"Payment Method\",\n",
    "    yaxis_title=\"Count\",\n",
    "    xaxis_tickangle=-45,  # Rotate x-axis labels for readability\n",
    "    height=500,\n",
    "    width=700\n",
    ")\n",
    "\n",
    "# Show interactive plot\n",
    "fig.show()\n",
    "\n",
    "# ------------------------------------------------\n",
    "# 📝 Explanation:\n",
    "# ------------------------------------------------\n",
    "# ✅ `df.groupby([\"PaymentMethod\", \"Churn\"]).size().reset_index(name=\"Count\")`: \n",
    "#    - Groups data by payment method and churn status.\n",
    "# ✅ `px.bar(...)`: \n",
    "#    - Creates an interactive bar chart.\n",
    "#    - `barmode=\"group\"` places churned and non-churned customers side by side.\n",
    "# ✅ `color_discrete_map={\"Yes\": \"#FF5733\", \"No\": \"#3498DB\"}`: \n",
    "#    - Assigns colors (Orange-Red for churned, Blue for non-churned).\n",
    "# ✅ `text=\"Count\"`: \n",
    "#    - Displays count values directly on the bars.\n",
    "# ✅ `fig.update_layout(...)`: \n",
    "#    - Adjusts title, labels, and layout for better readability.\n",
    "# ✅ `fig.show()`: \n",
    "#    - Displays the interactive visualization.\n",
    "\n",
    "# ------------------------------------------------\n",
    "# 🚀 Why Use Plotly?\n",
    "# ------------------------------------------------\n",
    "# ✅ **Interactive Hover Tooltips**: Get details on hover.\n",
    "# ✅ **Better Comparison**: Easier to differentiate churned customers across payment methods.\n",
    "# ✅ **Scalability**: Handles more data points without clutter.\n"
   ]
  },
  {
   "cell_type": "markdown",
   "id": "c90cfc2c-12cf-4b0e-87ef-dbd967ea1ebc",
   "metadata": {},
   "source": [
    "# CONCLUSION\n",
    "\n",
    "## *Customer is likely to churn when he is using electronic check as a payment method.* "
   ]
  }
 ],
 "metadata": {
  "kernelspec": {
   "display_name": "Python 3",
   "language": "python",
   "name": "python3"
  },
  "language_info": {
   "codemirror_mode": {
    "name": "ipython",
    "version": 3
   },
   "file_extension": ".py",
   "mimetype": "text/x-python",
   "name": "python",
   "nbconvert_exporter": "python",
   "pygments_lexer": "ipython3",
   "version": "3.9.0"
  }
 },
 "nbformat": 4,
 "nbformat_minor": 5
}
