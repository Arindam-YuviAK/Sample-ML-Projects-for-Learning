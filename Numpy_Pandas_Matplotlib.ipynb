{
 "cells": [
  {
   "cell_type": "markdown",
   "id": "7fb7f241",
   "metadata": {},
   "source": [
    "# **`Numpy` - Library**"
   ]
  },
  {
   "cell_type": "code",
   "execution_count": 83,
   "id": "5f7a453e",
   "metadata": {},
   "outputs": [],
   "source": [
    "import numpy as np # importing numpy library as 'np'"
   ]
  },
  {
   "cell_type": "code",
   "execution_count": 84,
   "id": "d05b0620",
   "metadata": {},
   "outputs": [
    {
     "data": {
      "text/plain": [
       "array([1, 2, 3])"
      ]
     },
     "execution_count": 84,
     "metadata": {},
     "output_type": "execute_result"
    }
   ],
   "source": [
    "np.array([1,2,3]) # creating numpy array"
   ]
  },
  {
   "cell_type": "code",
   "execution_count": 85,
   "id": "6c0b03fb",
   "metadata": {},
   "outputs": [
    {
     "data": {
      "text/plain": [
       "array([0, 1, 2, 3, 4, 5, 6, 7, 8, 9])"
      ]
     },
     "execution_count": 85,
     "metadata": {},
     "output_type": "execute_result"
    }
   ],
   "source": [
    "np.arange(10) # numpy array : 0 to 10"
   ]
  },
  {
   "cell_type": "code",
   "execution_count": 86,
   "id": "ce99a38f",
   "metadata": {},
   "outputs": [
    {
     "data": {
      "text/plain": [
       "array([10, 15, 20, 25, 30, 35, 40, 45, 50, 55, 60, 65, 70, 75, 80, 85, 90,\n",
       "       95])"
      ]
     },
     "execution_count": 86,
     "metadata": {},
     "output_type": "execute_result"
    }
   ],
   "source": [
    "np.arange(10,100,5) # numpy array : 10 to 100 skipping 5"
   ]
  },
  {
   "cell_type": "code",
   "execution_count": 87,
   "id": "b64f1cac",
   "metadata": {},
   "outputs": [
    {
     "data": {
      "text/plain": [
       "array([2000, 1997, 1994, 1991, 1988, 1985, 1982, 1979, 1976, 1973, 1970,\n",
       "       1967, 1964, 1961, 1958, 1955, 1952, 1949, 1946, 1943, 1940, 1937,\n",
       "       1934, 1931, 1928, 1925, 1922, 1919, 1916, 1913, 1910, 1907, 1904,\n",
       "       1901, 1898, 1895, 1892, 1889, 1886, 1883, 1880, 1877, 1874, 1871,\n",
       "       1868, 1865, 1862, 1859, 1856, 1853, 1850, 1847, 1844, 1841, 1838,\n",
       "       1835, 1832, 1829, 1826, 1823, 1820, 1817, 1814, 1811, 1808, 1805,\n",
       "       1802, 1799, 1796, 1793, 1790, 1787, 1784, 1781, 1778, 1775, 1772,\n",
       "       1769, 1766, 1763, 1760, 1757, 1754, 1751, 1748, 1745, 1742, 1739,\n",
       "       1736, 1733, 1730, 1727, 1724, 1721, 1718, 1715, 1712, 1709, 1706,\n",
       "       1703, 1700, 1697, 1694, 1691, 1688, 1685, 1682, 1679, 1676, 1673,\n",
       "       1670, 1667, 1664, 1661, 1658, 1655, 1652, 1649, 1646, 1643, 1640,\n",
       "       1637, 1634, 1631, 1628, 1625, 1622, 1619, 1616, 1613, 1610, 1607,\n",
       "       1604, 1601, 1598, 1595, 1592, 1589, 1586, 1583, 1580, 1577, 1574,\n",
       "       1571, 1568, 1565, 1562, 1559, 1556, 1553, 1550, 1547, 1544, 1541,\n",
       "       1538, 1535, 1532, 1529, 1526, 1523, 1520, 1517, 1514, 1511, 1508,\n",
       "       1505, 1502])"
      ]
     },
     "execution_count": 87,
     "metadata": {},
     "output_type": "execute_result"
    }
   ],
   "source": [
    "np.arange(2000,1500,-3) # numpy array : 2000 to 1500 skipping -3(backward)"
   ]
  },
  {
   "cell_type": "code",
   "execution_count": 88,
   "id": "78b6c91d",
   "metadata": {},
   "outputs": [
    {
     "data": {
      "text/plain": [
       "array([0., 0., 0., 0., 0., 0., 0., 0., 0., 0.])"
      ]
     },
     "execution_count": 88,
     "metadata": {},
     "output_type": "execute_result"
    }
   ],
   "source": [
    "np.zeros(10) # numpy array 10 zeros"
   ]
  },
  {
   "cell_type": "code",
   "execution_count": 89,
   "id": "0bb28479",
   "metadata": {},
   "outputs": [
    {
     "data": {
      "text/plain": [
       "array([0, 0, 0, 0, 0, 0, 0, 0, 0, 0])"
      ]
     },
     "execution_count": 89,
     "metadata": {},
     "output_type": "execute_result"
    }
   ],
   "source": [
    "np.zeros(10,dtype=int) # numpy array 10 zeros, tycasted to int"
   ]
  },
  {
   "cell_type": "code",
   "execution_count": 90,
   "id": "85b59190",
   "metadata": {},
   "outputs": [
    {
     "data": {
      "text/plain": [
       "array([[0., 0., 0.],\n",
       "       [0., 0., 0.]])"
      ]
     },
     "execution_count": 90,
     "metadata": {},
     "output_type": "execute_result"
    }
   ],
   "source": [
    "np.zeros((2,3)) # numpy array : 6 zeros in 2 rows 3 columns"
   ]
  },
  {
   "cell_type": "code",
   "execution_count": 91,
   "id": "a1600822",
   "metadata": {},
   "outputs": [
    {
     "data": {
      "text/plain": [
       "array([1., 1., 1., 1., 1., 1., 1., 1., 1., 1.])"
      ]
     },
     "execution_count": 91,
     "metadata": {},
     "output_type": "execute_result"
    }
   ],
   "source": [
    "np.ones(10) # numpy array 10 ones"
   ]
  },
  {
   "cell_type": "code",
   "execution_count": 92,
   "id": "9213e642",
   "metadata": {},
   "outputs": [
    {
     "data": {
      "text/plain": [
       "array([10.        , 10.04081633, 10.08163265, 10.12244898, 10.16326531,\n",
       "       10.20408163, 10.24489796, 10.28571429, 10.32653061, 10.36734694,\n",
       "       10.40816327, 10.44897959, 10.48979592, 10.53061224, 10.57142857,\n",
       "       10.6122449 , 10.65306122, 10.69387755, 10.73469388, 10.7755102 ,\n",
       "       10.81632653, 10.85714286, 10.89795918, 10.93877551, 10.97959184,\n",
       "       11.02040816, 11.06122449, 11.10204082, 11.14285714, 11.18367347,\n",
       "       11.2244898 , 11.26530612, 11.30612245, 11.34693878, 11.3877551 ,\n",
       "       11.42857143, 11.46938776, 11.51020408, 11.55102041, 11.59183673,\n",
       "       11.63265306, 11.67346939, 11.71428571, 11.75510204, 11.79591837,\n",
       "       11.83673469, 11.87755102, 11.91836735, 11.95918367, 12.        ])"
      ]
     },
     "execution_count": 92,
     "metadata": {},
     "output_type": "execute_result"
    }
   ],
   "source": [
    "np.linspace(10,12) # Returns evenly spaced samples, calculated over the interval [start, stop]"
   ]
  },
  {
   "cell_type": "code",
   "execution_count": 93,
   "id": "9d4dc5ce",
   "metadata": {},
   "outputs": [
    {
     "data": {
      "text/plain": [
       "array([10. , 12.5, 15. , 17.5, 20. ])"
      ]
     },
     "execution_count": 93,
     "metadata": {},
     "output_type": "execute_result"
    }
   ],
   "source": [
    "np.linspace(10,20,5) # Returns evenly spaced samples : 5 numbers evenly spaced between 10 and 20"
   ]
  },
  {
   "cell_type": "code",
   "execution_count": 94,
   "id": "a06fd73f",
   "metadata": {},
   "outputs": [
    {
     "data": {
      "text/plain": [
       "array([[1., 0., 0., 0., 0.],\n",
       "       [0., 1., 0., 0., 0.],\n",
       "       [0., 0., 1., 0., 0.],\n",
       "       [0., 0., 0., 1., 0.],\n",
       "       [0., 0., 0., 0., 1.]])"
      ]
     },
     "execution_count": 94,
     "metadata": {},
     "output_type": "execute_result"
    }
   ],
   "source": [
    "np.eye(5) # The eye tool returns a 2-D array with 1's as the diagonal and 0's elsewhere"
   ]
  },
  {
   "cell_type": "code",
   "execution_count": 95,
   "id": "56939686",
   "metadata": {},
   "outputs": [
    {
     "data": {
      "text/plain": [
       "array([0.81764155, 0.35027804, 0.15709232, 0.27129696, 0.21090866,\n",
       "       0.08076103, 0.39014955, 0.11059891, 0.89303715, 0.02144762])"
      ]
     },
     "execution_count": 95,
     "metadata": {},
     "output_type": "execute_result"
    }
   ],
   "source": [
    "np.random.rand(10) # 10 random numbers (between 0 and 1)"
   ]
  },
  {
   "cell_type": "code",
   "execution_count": 96,
   "id": "dc163df0",
   "metadata": {},
   "outputs": [
    {
     "data": {
      "text/plain": [
       "array([[0.34957868, 0.02804838],\n",
       "       [0.33700926, 0.23227559],\n",
       "       [0.54942802, 0.89422031],\n",
       "       [0.98880505, 0.47058921],\n",
       "       [0.2741374 , 0.14905185]])"
      ]
     },
     "execution_count": 96,
     "metadata": {},
     "output_type": "execute_result"
    }
   ],
   "source": [
    "np.random.rand(5,2) # 10 random numbers (between 0 and 1) in 5x2 matrix form"
   ]
  },
  {
   "cell_type": "code",
   "execution_count": 97,
   "id": "a3eb192d",
   "metadata": {},
   "outputs": [
    {
     "data": {
      "text/plain": [
       "8"
      ]
     },
     "execution_count": 97,
     "metadata": {},
     "output_type": "execute_result"
    }
   ],
   "source": [
    "np.random.randint(0,10) # random integer between 0 and 10"
   ]
  },
  {
   "cell_type": "code",
   "execution_count": 98,
   "id": "8b0bfb45",
   "metadata": {},
   "outputs": [
    {
     "data": {
      "text/plain": [
       "array([[4, 2, 1, 8, 9],\n",
       "       [8, 4, 4, 3, 6]])"
      ]
     },
     "execution_count": 98,
     "metadata": {},
     "output_type": "execute_result"
    }
   ],
   "source": [
    "np.random.randint(0,10,(2,5)) # set of random integers between 0 and 10 in 2x5 matrix form"
   ]
  },
  {
   "cell_type": "code",
   "execution_count": 99,
   "id": "845c4b55",
   "metadata": {},
   "outputs": [
    {
     "data": {
      "text/plain": [
       "array([2, 7, 2, 7])"
      ]
     },
     "execution_count": 99,
     "metadata": {},
     "output_type": "execute_result"
    }
   ],
   "source": [
    "np.random.randint(0,10,4) # set of 4 random integers between 0 and 10"
   ]
  },
  {
   "cell_type": "code",
   "execution_count": 100,
   "id": "199b7b4f",
   "metadata": {},
   "outputs": [
    {
     "data": {
      "text/plain": [
       "array([-1.31810286,  1.58984616,  0.48310953,  2.18022089])"
      ]
     },
     "execution_count": 100,
     "metadata": {},
     "output_type": "execute_result"
    }
   ],
   "source": [
    "np.random.randn(4) # return random values from the normal distribution in a specified shape"
   ]
  },
  {
   "cell_type": "code",
   "execution_count": 101,
   "id": "80387f22",
   "metadata": {},
   "outputs": [
    {
     "data": {
      "text/plain": [
       "array([[ 0.95426024,  1.10235739, -1.23673261,  0.55556529,  0.11523983],\n",
       "       [ 1.03224759,  0.21289211, -0.575775  , -0.46268398, -0.93103209]])"
      ]
     },
     "execution_count": 101,
     "metadata": {},
     "output_type": "execute_result"
    }
   ],
   "source": [
    "np.random.randn(2,5) # return random values in 2x5 matrix"
   ]
  },
  {
   "cell_type": "code",
   "execution_count": 102,
   "id": "238c3e1c",
   "metadata": {},
   "outputs": [
    {
     "name": "stdout",
     "output_type": "stream",
     "text": [
      "[-0.28302822 -1.88668868  0.82028404  0.48609252 -0.78092982 -0.35145936\n",
      "  0.54033371 -0.37713959 -1.28600482 -0.87465876]\n",
      "(10,)\n",
      "____________\n",
      "\n",
      "[[-0.28302822 -1.88668868  0.82028404  0.48609252 -0.78092982]\n",
      " [-0.35145936  0.54033371 -0.37713959 -1.28600482 -0.87465876]]\n",
      "(2, 5)\n"
     ]
    }
   ],
   "source": [
    "arr = np.random.randn(10)\n",
    "\n",
    "# Shape of a numpy array\n",
    "print(arr)\n",
    "print(arr.shape)\n",
    "\n",
    "print(\"____________\\n\")\n",
    "\n",
    "# Reshaping a numpy array\n",
    "arr2 = arr.reshape(2,5)\n",
    "print(arr2)\n",
    "print(arr2.shape)\n"
   ]
  },
  {
   "cell_type": "code",
   "execution_count": 103,
   "id": "e9fe686a",
   "metadata": {},
   "outputs": [
    {
     "data": {
      "text/plain": [
       "0.8202840446859914"
      ]
     },
     "execution_count": 103,
     "metadata": {},
     "output_type": "execute_result"
    }
   ],
   "source": [
    "arr.max() # max value in a numpy array"
   ]
  },
  {
   "cell_type": "code",
   "execution_count": 104,
   "id": "8d1f91d7",
   "metadata": {},
   "outputs": [
    {
     "data": {
      "text/plain": [
       "2"
      ]
     },
     "execution_count": 104,
     "metadata": {},
     "output_type": "execute_result"
    }
   ],
   "source": [
    "arr.argmax() # returns indices of the max element of the array in a particular axis"
   ]
  },
  {
   "cell_type": "code",
   "execution_count": 105,
   "id": "dfd1ffde",
   "metadata": {},
   "outputs": [
    {
     "name": "stdout",
     "output_type": "stream",
     "text": [
      "[[3 3 1 8 8]\n",
      " [1 6 1 0 6]\n",
      " [3 5 6 0 9]\n",
      " [5 4 4 6 0]\n",
      " [9 2 1 9 7]]\n",
      "____________\n",
      "\n",
      "6\n",
      "____________\n",
      "\n",
      "[[1 6 1 0]\n",
      " [3 5 6 0]]\n"
     ]
    }
   ],
   "source": [
    "# Slicing of numpy array\n",
    "\n",
    "arr = np.random.randint(0,10,(5,5))\n",
    "print(arr)\n",
    "\n",
    "print(\"____________\\n\")\n",
    "print(arr[2,2])\n",
    "\n",
    "print(\"____________\\n\")\n",
    "print(arr[1:3,0:4])\n"
   ]
  },
  {
   "cell_type": "code",
   "execution_count": 106,
   "id": "bcd21cca",
   "metadata": {},
   "outputs": [
    {
     "name": "stdout",
     "output_type": "stream",
     "text": [
      "[[ 3  3  1  8  8]\n",
      " [ 1 10 10 10  6]\n",
      " [ 3 10 10 10  9]\n",
      " [ 5 10 10 10  0]\n",
      " [ 9  2  1  9  7]]\n"
     ]
    }
   ],
   "source": [
    "arr[1:4,1:4]=10 # updating values\n",
    "print(arr)"
   ]
  },
  {
   "cell_type": "code",
   "execution_count": 107,
   "id": "59d2f501",
   "metadata": {},
   "outputs": [
    {
     "name": "stdout",
     "output_type": "stream",
     "text": [
      "[9 3 6 6]\n",
      "[3 8 8 2]\n",
      "____________\n",
      "\n",
      "[12 11 14  8]\n",
      "____________\n",
      "\n",
      "[27 24 48 12]\n",
      "____________\n",
      "\n",
      "[3.    0.375 0.75  3.   ]\n",
      "____________\n",
      "\n",
      "[3.         1.73205081 2.44948974 2.44948974]\n",
      "[ 0.41211849  0.14112001 -0.2794155  -0.2794155 ]\n"
     ]
    }
   ],
   "source": [
    "# some concepts of numpy array functions\n",
    "\n",
    "arr1 = np.random.randint(2,10,4)\n",
    "arr2 = np.random.randint(2,10,4)\n",
    "\n",
    "print(arr1)\n",
    "print(arr2)\n",
    "\n",
    "print(\"____________\\n\")\n",
    "print(arr1+arr2)\n",
    "\n",
    "print(\"____________\\n\")\n",
    "print(arr1*arr2)\n",
    "\n",
    "print(\"____________\\n\")\n",
    "print(arr1/arr2)\n",
    "\n",
    "print(\"____________\\n\")\n",
    "print(np.sqrt(arr1))\n",
    "print(np.sin(arr1))"
   ]
  },
  {
   "cell_type": "markdown",
   "id": "886b1084",
   "metadata": {},
   "source": [
    "___________________\n",
    "___________________\n",
    "\n",
    "# **`Pandas` - Library**"
   ]
  },
  {
   "cell_type": "code",
   "execution_count": 108,
   "id": "ee8dcfbd",
   "metadata": {},
   "outputs": [],
   "source": [
    "import numpy as np # importing numpy as np\n",
    "import pandas as pd # importing pandas as pd"
   ]
  },
  {
   "cell_type": "code",
   "execution_count": 109,
   "id": "9485e0dc",
   "metadata": {},
   "outputs": [
    {
     "data": {
      "text/plain": [
       "A    1\n",
       "B    2\n",
       "C    3\n",
       "D    4\n",
       "E    5\n",
       "dtype: int64"
      ]
     },
     "execution_count": 109,
     "metadata": {},
     "output_type": "execute_result"
    }
   ],
   "source": [
    "pd.Series([1,2,3,4,5],['A','B','C','D','E']) # pandas series "
   ]
  },
  {
   "cell_type": "code",
   "execution_count": 110,
   "id": "516a8f39",
   "metadata": {},
   "outputs": [
    {
     "data": {
      "text/plain": [
       "A    4\n",
       "B    7\n",
       "C    0\n",
       "D    9\n",
       "E    6\n",
       "F    8\n",
       "G    7\n",
       "H    5\n",
       "I    0\n",
       "J    7\n",
       "dtype: int32"
      ]
     },
     "execution_count": 110,
     "metadata": {},
     "output_type": "execute_result"
    }
   ],
   "source": [
    "s2 = pd.Series(np.random.randint(0,10,10),'A B C D E F G H I J'.split()) # pandas series random integers\n",
    "s2"
   ]
  },
  {
   "cell_type": "code",
   "execution_count": 111,
   "id": "2372acfe",
   "metadata": {},
   "outputs": [
    {
     "name": "stdout",
     "output_type": "stream",
     "text": [
      "A    NaN\n",
      "B    3.0\n",
      "C    5.0\n",
      "D    7.0\n",
      "E    9.0\n",
      "F    NaN\n",
      "dtype: float64\n",
      "____________\n",
      "\n",
      "A     2.000\n",
      "B     4.505\n",
      "C     6.000\n",
      "D     8.700\n",
      "E    10.000\n",
      "dtype: float64\n"
     ]
    }
   ],
   "source": [
    "# Sum of Pandas Series\n",
    "\n",
    "s1 = pd.Series([1,2,3,4,5],'A B C D E'.split())\n",
    "s2 = pd.Series([1,2,3,4,5],'B C D E F'.split())\n",
    "s3 = s1+s2\n",
    "\n",
    "print(s1+s2)\n",
    "\n",
    "print(\"____________\\n\")\n",
    "\n",
    "s4 = pd.Series([1,2.5,3,4,5],'A B C D E'.split())\n",
    "s5 = pd.Series([1,2.005,3,4.7,5],'A B C D E'.split())\n",
    "\n",
    "\n",
    "print(s4+s5)"
   ]
  },
  {
   "cell_type": "code",
   "execution_count": 112,
   "id": "94a53dc9",
   "metadata": {},
   "outputs": [
    {
     "data": {
      "text/plain": [
       "B    3.0\n",
       "C    5.0\n",
       "D    7.0\n",
       "E    9.0\n",
       "dtype: float64"
      ]
     },
     "execution_count": 112,
     "metadata": {},
     "output_type": "execute_result"
    }
   ],
   "source": [
    "s3.dropna(inplace=True) # drops null values\n",
    "s3"
   ]
  },
  {
   "cell_type": "code",
   "execution_count": 113,
   "id": "4dd89ebb",
   "metadata": {},
   "outputs": [
    {
     "data": {
      "text/html": [
       "<div>\n",
       "<style scoped>\n",
       "    .dataframe tbody tr th:only-of-type {\n",
       "        vertical-align: middle;\n",
       "    }\n",
       "\n",
       "    .dataframe tbody tr th {\n",
       "        vertical-align: top;\n",
       "    }\n",
       "\n",
       "    .dataframe thead th {\n",
       "        text-align: right;\n",
       "    }\n",
       "</style>\n",
       "<table border=\"1\" class=\"dataframe\">\n",
       "  <thead>\n",
       "    <tr style=\"text-align: right;\">\n",
       "      <th></th>\n",
       "      <th>0</th>\n",
       "      <th>1</th>\n",
       "      <th>2</th>\n",
       "      <th>3</th>\n",
       "    </tr>\n",
       "  </thead>\n",
       "  <tbody>\n",
       "    <tr>\n",
       "      <th>0</th>\n",
       "      <td>0.963343</td>\n",
       "      <td>-1.691651</td>\n",
       "      <td>-0.957232</td>\n",
       "      <td>1.301000</td>\n",
       "    </tr>\n",
       "    <tr>\n",
       "      <th>1</th>\n",
       "      <td>0.673773</td>\n",
       "      <td>0.164043</td>\n",
       "      <td>-0.071322</td>\n",
       "      <td>-1.298484</td>\n",
       "    </tr>\n",
       "    <tr>\n",
       "      <th>2</th>\n",
       "      <td>-0.862691</td>\n",
       "      <td>-0.621877</td>\n",
       "      <td>-0.805260</td>\n",
       "      <td>-1.436991</td>\n",
       "    </tr>\n",
       "    <tr>\n",
       "      <th>3</th>\n",
       "      <td>-0.957294</td>\n",
       "      <td>-0.126779</td>\n",
       "      <td>-1.031028</td>\n",
       "      <td>0.203139</td>\n",
       "    </tr>\n",
       "    <tr>\n",
       "      <th>4</th>\n",
       "      <td>-0.073344</td>\n",
       "      <td>-0.287259</td>\n",
       "      <td>0.988581</td>\n",
       "      <td>-0.122885</td>\n",
       "    </tr>\n",
       "  </tbody>\n",
       "</table>\n",
       "</div>"
      ],
      "text/plain": [
       "          0         1         2         3\n",
       "0  0.963343 -1.691651 -0.957232  1.301000\n",
       "1  0.673773  0.164043 -0.071322 -1.298484\n",
       "2 -0.862691 -0.621877 -0.805260 -1.436991\n",
       "3 -0.957294 -0.126779 -1.031028  0.203139\n",
       "4 -0.073344 -0.287259  0.988581 -0.122885"
      ]
     },
     "execution_count": 113,
     "metadata": {},
     "output_type": "execute_result"
    }
   ],
   "source": [
    "# Creating a 5x4 DataFrame with random numbers drawn from a standard normal distribution using pandas\n",
    "\n",
    "\n",
    "pd.DataFrame(np.random.randn(5,4)) # pandas DATAFRAME"
   ]
  },
  {
   "cell_type": "code",
   "execution_count": 114,
   "id": "cbecfecb",
   "metadata": {},
   "outputs": [
    {
     "data": {
      "text/html": [
       "<div>\n",
       "<style scoped>\n",
       "    .dataframe tbody tr th:only-of-type {\n",
       "        vertical-align: middle;\n",
       "    }\n",
       "\n",
       "    .dataframe tbody tr th {\n",
       "        vertical-align: top;\n",
       "    }\n",
       "\n",
       "    .dataframe thead th {\n",
       "        text-align: right;\n",
       "    }\n",
       "</style>\n",
       "<table border=\"1\" class=\"dataframe\">\n",
       "  <thead>\n",
       "    <tr style=\"text-align: right;\">\n",
       "      <th></th>\n",
       "      <th>W</th>\n",
       "      <th>X</th>\n",
       "      <th>Y</th>\n",
       "      <th>Z</th>\n",
       "    </tr>\n",
       "  </thead>\n",
       "  <tbody>\n",
       "    <tr>\n",
       "      <th>A</th>\n",
       "      <td>0.187067</td>\n",
       "      <td>-0.067841</td>\n",
       "      <td>0.503478</td>\n",
       "      <td>-1.583472</td>\n",
       "    </tr>\n",
       "    <tr>\n",
       "      <th>B</th>\n",
       "      <td>-0.187060</td>\n",
       "      <td>0.749863</td>\n",
       "      <td>-0.229471</td>\n",
       "      <td>0.555150</td>\n",
       "    </tr>\n",
       "    <tr>\n",
       "      <th>C</th>\n",
       "      <td>-2.007883</td>\n",
       "      <td>0.257715</td>\n",
       "      <td>0.531858</td>\n",
       "      <td>1.054405</td>\n",
       "    </tr>\n",
       "    <tr>\n",
       "      <th>D</th>\n",
       "      <td>-0.807428</td>\n",
       "      <td>0.166749</td>\n",
       "      <td>0.652907</td>\n",
       "      <td>1.019761</td>\n",
       "    </tr>\n",
       "    <tr>\n",
       "      <th>E</th>\n",
       "      <td>-1.015848</td>\n",
       "      <td>1.837297</td>\n",
       "      <td>0.805718</td>\n",
       "      <td>1.043534</td>\n",
       "    </tr>\n",
       "  </tbody>\n",
       "</table>\n",
       "</div>"
      ],
      "text/plain": [
       "          W         X         Y         Z\n",
       "A  0.187067 -0.067841  0.503478 -1.583472\n",
       "B -0.187060  0.749863 -0.229471  0.555150\n",
       "C -2.007883  0.257715  0.531858  1.054405\n",
       "D -0.807428  0.166749  0.652907  1.019761\n",
       "E -1.015848  1.837297  0.805718  1.043534"
      ]
     },
     "execution_count": 114,
     "metadata": {},
     "output_type": "execute_result"
    }
   ],
   "source": [
    "# Creating a DataFrame with random numbers:\n",
    "# np.random.randn(5,4) generates a 5x4 array with random numbers from the normal distribution\n",
    "# 'index' assigns row labels using a list created by splitting the string 'A B C D E'\n",
    "# 'columns' assigns column labels using a list created by splitting the string 'W X Y Z'\n",
    "\n",
    "df = pd.DataFrame(np.random.randn(5,4),index='A B C D E'.split(),columns='W X Y Z'.split())\n",
    "df"
   ]
  },
  {
   "cell_type": "code",
   "execution_count": 115,
   "id": "fcdfd670",
   "metadata": {},
   "outputs": [
    {
     "data": {
      "text/html": [
       "<div>\n",
       "<style scoped>\n",
       "    .dataframe tbody tr th:only-of-type {\n",
       "        vertical-align: middle;\n",
       "    }\n",
       "\n",
       "    .dataframe tbody tr th {\n",
       "        vertical-align: top;\n",
       "    }\n",
       "\n",
       "    .dataframe thead th {\n",
       "        text-align: right;\n",
       "    }\n",
       "</style>\n",
       "<table border=\"1\" class=\"dataframe\">\n",
       "  <thead>\n",
       "    <tr style=\"text-align: right;\">\n",
       "      <th></th>\n",
       "      <th>W</th>\n",
       "      <th>Z</th>\n",
       "    </tr>\n",
       "  </thead>\n",
       "  <tbody>\n",
       "    <tr>\n",
       "      <th>A</th>\n",
       "      <td>0.187067</td>\n",
       "      <td>-1.583472</td>\n",
       "    </tr>\n",
       "    <tr>\n",
       "      <th>B</th>\n",
       "      <td>-0.187060</td>\n",
       "      <td>0.555150</td>\n",
       "    </tr>\n",
       "    <tr>\n",
       "      <th>C</th>\n",
       "      <td>-2.007883</td>\n",
       "      <td>1.054405</td>\n",
       "    </tr>\n",
       "    <tr>\n",
       "      <th>D</th>\n",
       "      <td>-0.807428</td>\n",
       "      <td>1.019761</td>\n",
       "    </tr>\n",
       "    <tr>\n",
       "      <th>E</th>\n",
       "      <td>-1.015848</td>\n",
       "      <td>1.043534</td>\n",
       "    </tr>\n",
       "  </tbody>\n",
       "</table>\n",
       "</div>"
      ],
      "text/plain": [
       "          W         Z\n",
       "A  0.187067 -1.583472\n",
       "B -0.187060  0.555150\n",
       "C -2.007883  1.054405\n",
       "D -0.807428  1.019761\n",
       "E -1.015848  1.043534"
      ]
     },
     "execution_count": 115,
     "metadata": {},
     "output_type": "execute_result"
    }
   ],
   "source": [
    "# Selecting and retrieving only the columns 'W' and 'Z' from the DataFrame df\n",
    "\n",
    "\n",
    "df[['W','Z']]"
   ]
  },
  {
   "cell_type": "code",
   "execution_count": 116,
   "id": "fdbabd99",
   "metadata": {},
   "outputs": [
    {
     "data": {
      "text/html": [
       "<div>\n",
       "<style scoped>\n",
       "    .dataframe tbody tr th:only-of-type {\n",
       "        vertical-align: middle;\n",
       "    }\n",
       "\n",
       "    .dataframe tbody tr th {\n",
       "        vertical-align: top;\n",
       "    }\n",
       "\n",
       "    .dataframe thead th {\n",
       "        text-align: right;\n",
       "    }\n",
       "</style>\n",
       "<table border=\"1\" class=\"dataframe\">\n",
       "  <thead>\n",
       "    <tr style=\"text-align: right;\">\n",
       "      <th></th>\n",
       "      <th>W</th>\n",
       "      <th>X</th>\n",
       "      <th>Y</th>\n",
       "      <th>Z</th>\n",
       "      <th>New</th>\n",
       "    </tr>\n",
       "  </thead>\n",
       "  <tbody>\n",
       "    <tr>\n",
       "      <th>A</th>\n",
       "      <td>0.187067</td>\n",
       "      <td>-0.067841</td>\n",
       "      <td>0.503478</td>\n",
       "      <td>-1.583472</td>\n",
       "      <td>0.690545</td>\n",
       "    </tr>\n",
       "    <tr>\n",
       "      <th>B</th>\n",
       "      <td>-0.187060</td>\n",
       "      <td>0.749863</td>\n",
       "      <td>-0.229471</td>\n",
       "      <td>0.555150</td>\n",
       "      <td>-0.416530</td>\n",
       "    </tr>\n",
       "    <tr>\n",
       "      <th>C</th>\n",
       "      <td>-2.007883</td>\n",
       "      <td>0.257715</td>\n",
       "      <td>0.531858</td>\n",
       "      <td>1.054405</td>\n",
       "      <td>-1.476025</td>\n",
       "    </tr>\n",
       "    <tr>\n",
       "      <th>D</th>\n",
       "      <td>-0.807428</td>\n",
       "      <td>0.166749</td>\n",
       "      <td>0.652907</td>\n",
       "      <td>1.019761</td>\n",
       "      <td>-0.154521</td>\n",
       "    </tr>\n",
       "    <tr>\n",
       "      <th>E</th>\n",
       "      <td>-1.015848</td>\n",
       "      <td>1.837297</td>\n",
       "      <td>0.805718</td>\n",
       "      <td>1.043534</td>\n",
       "      <td>-0.210129</td>\n",
       "    </tr>\n",
       "  </tbody>\n",
       "</table>\n",
       "</div>"
      ],
      "text/plain": [
       "          W         X         Y         Z       New\n",
       "A  0.187067 -0.067841  0.503478 -1.583472  0.690545\n",
       "B -0.187060  0.749863 -0.229471  0.555150 -0.416530\n",
       "C -2.007883  0.257715  0.531858  1.054405 -1.476025\n",
       "D -0.807428  0.166749  0.652907  1.019761 -0.154521\n",
       "E -1.015848  1.837297  0.805718  1.043534 -0.210129"
      ]
     },
     "execution_count": 116,
     "metadata": {},
     "output_type": "execute_result"
    }
   ],
   "source": [
    "# Adding a new column named 'New' to the DataFrame df\n",
    "# The values in the new column are the sum of values in columns 'W' and 'Y'\n",
    "df['New'] = df['W'] + df['Y']\n",
    "\n",
    "# Displaying the DataFrame after adding the new column\n",
    "df\n"
   ]
  },
  {
   "cell_type": "code",
   "execution_count": 117,
   "id": "98e70605",
   "metadata": {},
   "outputs": [
    {
     "data": {
      "text/html": [
       "<div>\n",
       "<style scoped>\n",
       "    .dataframe tbody tr th:only-of-type {\n",
       "        vertical-align: middle;\n",
       "    }\n",
       "\n",
       "    .dataframe tbody tr th {\n",
       "        vertical-align: top;\n",
       "    }\n",
       "\n",
       "    .dataframe thead th {\n",
       "        text-align: right;\n",
       "    }\n",
       "</style>\n",
       "<table border=\"1\" class=\"dataframe\">\n",
       "  <thead>\n",
       "    <tr style=\"text-align: right;\">\n",
       "      <th></th>\n",
       "      <th>W</th>\n",
       "      <th>X</th>\n",
       "      <th>Y</th>\n",
       "      <th>Z</th>\n",
       "    </tr>\n",
       "  </thead>\n",
       "  <tbody>\n",
       "    <tr>\n",
       "      <th>A</th>\n",
       "      <td>0.187067</td>\n",
       "      <td>-0.067841</td>\n",
       "      <td>0.503478</td>\n",
       "      <td>-1.583472</td>\n",
       "    </tr>\n",
       "    <tr>\n",
       "      <th>B</th>\n",
       "      <td>-0.187060</td>\n",
       "      <td>0.749863</td>\n",
       "      <td>-0.229471</td>\n",
       "      <td>0.555150</td>\n",
       "    </tr>\n",
       "    <tr>\n",
       "      <th>C</th>\n",
       "      <td>-2.007883</td>\n",
       "      <td>0.257715</td>\n",
       "      <td>0.531858</td>\n",
       "      <td>1.054405</td>\n",
       "    </tr>\n",
       "    <tr>\n",
       "      <th>D</th>\n",
       "      <td>-0.807428</td>\n",
       "      <td>0.166749</td>\n",
       "      <td>0.652907</td>\n",
       "      <td>1.019761</td>\n",
       "    </tr>\n",
       "    <tr>\n",
       "      <th>E</th>\n",
       "      <td>-1.015848</td>\n",
       "      <td>1.837297</td>\n",
       "      <td>0.805718</td>\n",
       "      <td>1.043534</td>\n",
       "    </tr>\n",
       "  </tbody>\n",
       "</table>\n",
       "</div>"
      ],
      "text/plain": [
       "          W         X         Y         Z\n",
       "A  0.187067 -0.067841  0.503478 -1.583472\n",
       "B -0.187060  0.749863 -0.229471  0.555150\n",
       "C -2.007883  0.257715  0.531858  1.054405\n",
       "D -0.807428  0.166749  0.652907  1.019761\n",
       "E -1.015848  1.837297  0.805718  1.043534"
      ]
     },
     "execution_count": 117,
     "metadata": {},
     "output_type": "execute_result"
    }
   ],
   "source": [
    "df.drop('New',axis=1) # removing (without deletion) column 'New'"
   ]
  },
  {
   "cell_type": "code",
   "execution_count": 118,
   "id": "49f229b0",
   "metadata": {},
   "outputs": [
    {
     "data": {
      "text/html": [
       "<div>\n",
       "<style scoped>\n",
       "    .dataframe tbody tr th:only-of-type {\n",
       "        vertical-align: middle;\n",
       "    }\n",
       "\n",
       "    .dataframe tbody tr th {\n",
       "        vertical-align: top;\n",
       "    }\n",
       "\n",
       "    .dataframe thead th {\n",
       "        text-align: right;\n",
       "    }\n",
       "</style>\n",
       "<table border=\"1\" class=\"dataframe\">\n",
       "  <thead>\n",
       "    <tr style=\"text-align: right;\">\n",
       "      <th></th>\n",
       "      <th>W</th>\n",
       "      <th>X</th>\n",
       "      <th>Y</th>\n",
       "      <th>Z</th>\n",
       "      <th>New</th>\n",
       "    </tr>\n",
       "  </thead>\n",
       "  <tbody>\n",
       "    <tr>\n",
       "      <th>A</th>\n",
       "      <td>0.187067</td>\n",
       "      <td>-0.067841</td>\n",
       "      <td>0.503478</td>\n",
       "      <td>-1.583472</td>\n",
       "      <td>0.690545</td>\n",
       "    </tr>\n",
       "    <tr>\n",
       "      <th>B</th>\n",
       "      <td>-0.187060</td>\n",
       "      <td>0.749863</td>\n",
       "      <td>-0.229471</td>\n",
       "      <td>0.555150</td>\n",
       "      <td>-0.416530</td>\n",
       "    </tr>\n",
       "    <tr>\n",
       "      <th>C</th>\n",
       "      <td>-2.007883</td>\n",
       "      <td>0.257715</td>\n",
       "      <td>0.531858</td>\n",
       "      <td>1.054405</td>\n",
       "      <td>-1.476025</td>\n",
       "    </tr>\n",
       "    <tr>\n",
       "      <th>D</th>\n",
       "      <td>-0.807428</td>\n",
       "      <td>0.166749</td>\n",
       "      <td>0.652907</td>\n",
       "      <td>1.019761</td>\n",
       "      <td>-0.154521</td>\n",
       "    </tr>\n",
       "    <tr>\n",
       "      <th>E</th>\n",
       "      <td>-1.015848</td>\n",
       "      <td>1.837297</td>\n",
       "      <td>0.805718</td>\n",
       "      <td>1.043534</td>\n",
       "      <td>-0.210129</td>\n",
       "    </tr>\n",
       "  </tbody>\n",
       "</table>\n",
       "</div>"
      ],
      "text/plain": [
       "          W         X         Y         Z       New\n",
       "A  0.187067 -0.067841  0.503478 -1.583472  0.690545\n",
       "B -0.187060  0.749863 -0.229471  0.555150 -0.416530\n",
       "C -2.007883  0.257715  0.531858  1.054405 -1.476025\n",
       "D -0.807428  0.166749  0.652907  1.019761 -0.154521\n",
       "E -1.015848  1.837297  0.805718  1.043534 -0.210129"
      ]
     },
     "execution_count": 118,
     "metadata": {},
     "output_type": "execute_result"
    }
   ],
   "source": [
    "df"
   ]
  },
  {
   "cell_type": "code",
   "execution_count": 119,
   "id": "edbb95a7",
   "metadata": {},
   "outputs": [],
   "source": [
    "df.drop('New',axis=1,inplace=True) # removing (with deletion) column 'New'"
   ]
  },
  {
   "cell_type": "code",
   "execution_count": 120,
   "id": "caf3f251",
   "metadata": {},
   "outputs": [
    {
     "data": {
      "text/html": [
       "<div>\n",
       "<style scoped>\n",
       "    .dataframe tbody tr th:only-of-type {\n",
       "        vertical-align: middle;\n",
       "    }\n",
       "\n",
       "    .dataframe tbody tr th {\n",
       "        vertical-align: top;\n",
       "    }\n",
       "\n",
       "    .dataframe thead th {\n",
       "        text-align: right;\n",
       "    }\n",
       "</style>\n",
       "<table border=\"1\" class=\"dataframe\">\n",
       "  <thead>\n",
       "    <tr style=\"text-align: right;\">\n",
       "      <th></th>\n",
       "      <th>W</th>\n",
       "      <th>X</th>\n",
       "      <th>Y</th>\n",
       "      <th>Z</th>\n",
       "    </tr>\n",
       "  </thead>\n",
       "  <tbody>\n",
       "    <tr>\n",
       "      <th>A</th>\n",
       "      <td>0.187067</td>\n",
       "      <td>-0.067841</td>\n",
       "      <td>0.503478</td>\n",
       "      <td>-1.583472</td>\n",
       "    </tr>\n",
       "    <tr>\n",
       "      <th>B</th>\n",
       "      <td>-0.187060</td>\n",
       "      <td>0.749863</td>\n",
       "      <td>-0.229471</td>\n",
       "      <td>0.555150</td>\n",
       "    </tr>\n",
       "    <tr>\n",
       "      <th>C</th>\n",
       "      <td>-2.007883</td>\n",
       "      <td>0.257715</td>\n",
       "      <td>0.531858</td>\n",
       "      <td>1.054405</td>\n",
       "    </tr>\n",
       "    <tr>\n",
       "      <th>D</th>\n",
       "      <td>-0.807428</td>\n",
       "      <td>0.166749</td>\n",
       "      <td>0.652907</td>\n",
       "      <td>1.019761</td>\n",
       "    </tr>\n",
       "    <tr>\n",
       "      <th>E</th>\n",
       "      <td>-1.015848</td>\n",
       "      <td>1.837297</td>\n",
       "      <td>0.805718</td>\n",
       "      <td>1.043534</td>\n",
       "    </tr>\n",
       "  </tbody>\n",
       "</table>\n",
       "</div>"
      ],
      "text/plain": [
       "          W         X         Y         Z\n",
       "A  0.187067 -0.067841  0.503478 -1.583472\n",
       "B -0.187060  0.749863 -0.229471  0.555150\n",
       "C -2.007883  0.257715  0.531858  1.054405\n",
       "D -0.807428  0.166749  0.652907  1.019761\n",
       "E -1.015848  1.837297  0.805718  1.043534"
      ]
     },
     "execution_count": 120,
     "metadata": {},
     "output_type": "execute_result"
    }
   ],
   "source": [
    "df"
   ]
  },
  {
   "cell_type": "code",
   "execution_count": 121,
   "id": "1d726807",
   "metadata": {},
   "outputs": [
    {
     "data": {
      "text/plain": [
       "W    0.187067\n",
       "X   -0.067841\n",
       "Y    0.503478\n",
       "Z   -1.583472\n",
       "Name: A, dtype: float64"
      ]
     },
     "execution_count": 121,
     "metadata": {},
     "output_type": "execute_result"
    }
   ],
   "source": [
    "df.loc['A'] # contents of Row 'A'"
   ]
  },
  {
   "cell_type": "code",
   "execution_count": 122,
   "id": "9383177b",
   "metadata": {},
   "outputs": [
    {
     "data": {
      "text/plain": [
       "W   -1.015848\n",
       "X    1.837297\n",
       "Y    0.805718\n",
       "Z    1.043534\n",
       "Name: E, dtype: float64"
      ]
     },
     "execution_count": 122,
     "metadata": {},
     "output_type": "execute_result"
    }
   ],
   "source": [
    "df.iloc[4] # contents of Row (index = 4) "
   ]
  },
  {
   "cell_type": "code",
   "execution_count": 123,
   "id": "15691931",
   "metadata": {},
   "outputs": [
    {
     "data": {
      "text/html": [
       "<div>\n",
       "<style scoped>\n",
       "    .dataframe tbody tr th:only-of-type {\n",
       "        vertical-align: middle;\n",
       "    }\n",
       "\n",
       "    .dataframe tbody tr th {\n",
       "        vertical-align: top;\n",
       "    }\n",
       "\n",
       "    .dataframe thead th {\n",
       "        text-align: right;\n",
       "    }\n",
       "</style>\n",
       "<table border=\"1\" class=\"dataframe\">\n",
       "  <thead>\n",
       "    <tr style=\"text-align: right;\">\n",
       "      <th></th>\n",
       "      <th>W</th>\n",
       "      <th>X</th>\n",
       "      <th>Y</th>\n",
       "      <th>Z</th>\n",
       "    </tr>\n",
       "  </thead>\n",
       "  <tbody>\n",
       "    <tr>\n",
       "      <th>A</th>\n",
       "      <td>0.187067</td>\n",
       "      <td>-0.067841</td>\n",
       "      <td>0.503478</td>\n",
       "      <td>-1.583472</td>\n",
       "    </tr>\n",
       "    <tr>\n",
       "      <th>B</th>\n",
       "      <td>-0.187060</td>\n",
       "      <td>0.749863</td>\n",
       "      <td>-0.229471</td>\n",
       "      <td>0.555150</td>\n",
       "    </tr>\n",
       "    <tr>\n",
       "      <th>C</th>\n",
       "      <td>-2.007883</td>\n",
       "      <td>0.257715</td>\n",
       "      <td>0.531858</td>\n",
       "      <td>1.054405</td>\n",
       "    </tr>\n",
       "    <tr>\n",
       "      <th>D</th>\n",
       "      <td>-0.807428</td>\n",
       "      <td>0.166749</td>\n",
       "      <td>0.652907</td>\n",
       "      <td>1.019761</td>\n",
       "    </tr>\n",
       "    <tr>\n",
       "      <th>E</th>\n",
       "      <td>-1.015848</td>\n",
       "      <td>1.837297</td>\n",
       "      <td>0.805718</td>\n",
       "      <td>1.043534</td>\n",
       "    </tr>\n",
       "    <tr>\n",
       "      <th>F</th>\n",
       "      <td>0.000007</td>\n",
       "      <td>0.682022</td>\n",
       "      <td>0.274008</td>\n",
       "      <td>-1.028322</td>\n",
       "    </tr>\n",
       "  </tbody>\n",
       "</table>\n",
       "</div>"
      ],
      "text/plain": [
       "          W         X         Y         Z\n",
       "A  0.187067 -0.067841  0.503478 -1.583472\n",
       "B -0.187060  0.749863 -0.229471  0.555150\n",
       "C -2.007883  0.257715  0.531858  1.054405\n",
       "D -0.807428  0.166749  0.652907  1.019761\n",
       "E -1.015848  1.837297  0.805718  1.043534\n",
       "F  0.000007  0.682022  0.274008 -1.028322"
      ]
     },
     "execution_count": 123,
     "metadata": {},
     "output_type": "execute_result"
    }
   ],
   "source": [
    "df.loc['F']=df.loc['A']+df.loc['B'] # adding a new Row 'F'\n",
    "df"
   ]
  },
  {
   "cell_type": "code",
   "execution_count": 124,
   "id": "ef081ff3",
   "metadata": {},
   "outputs": [
    {
     "data": {
      "text/html": [
       "<div>\n",
       "<style scoped>\n",
       "    .dataframe tbody tr th:only-of-type {\n",
       "        vertical-align: middle;\n",
       "    }\n",
       "\n",
       "    .dataframe tbody tr th {\n",
       "        vertical-align: top;\n",
       "    }\n",
       "\n",
       "    .dataframe thead th {\n",
       "        text-align: right;\n",
       "    }\n",
       "</style>\n",
       "<table border=\"1\" class=\"dataframe\">\n",
       "  <thead>\n",
       "    <tr style=\"text-align: right;\">\n",
       "      <th></th>\n",
       "      <th>W</th>\n",
       "      <th>X</th>\n",
       "      <th>Y</th>\n",
       "      <th>Z</th>\n",
       "    </tr>\n",
       "  </thead>\n",
       "  <tbody>\n",
       "    <tr>\n",
       "      <th>A</th>\n",
       "      <td>0.187067</td>\n",
       "      <td>-0.067841</td>\n",
       "      <td>0.503478</td>\n",
       "      <td>-1.583472</td>\n",
       "    </tr>\n",
       "    <tr>\n",
       "      <th>B</th>\n",
       "      <td>-0.187060</td>\n",
       "      <td>0.749863</td>\n",
       "      <td>-0.229471</td>\n",
       "      <td>0.555150</td>\n",
       "    </tr>\n",
       "    <tr>\n",
       "      <th>C</th>\n",
       "      <td>-2.007883</td>\n",
       "      <td>0.257715</td>\n",
       "      <td>0.531858</td>\n",
       "      <td>1.054405</td>\n",
       "    </tr>\n",
       "    <tr>\n",
       "      <th>D</th>\n",
       "      <td>-0.807428</td>\n",
       "      <td>0.166749</td>\n",
       "      <td>0.652907</td>\n",
       "      <td>1.019761</td>\n",
       "    </tr>\n",
       "    <tr>\n",
       "      <th>E</th>\n",
       "      <td>-1.015848</td>\n",
       "      <td>1.837297</td>\n",
       "      <td>0.805718</td>\n",
       "      <td>1.043534</td>\n",
       "    </tr>\n",
       "  </tbody>\n",
       "</table>\n",
       "</div>"
      ],
      "text/plain": [
       "          W         X         Y         Z\n",
       "A  0.187067 -0.067841  0.503478 -1.583472\n",
       "B -0.187060  0.749863 -0.229471  0.555150\n",
       "C -2.007883  0.257715  0.531858  1.054405\n",
       "D -0.807428  0.166749  0.652907  1.019761\n",
       "E -1.015848  1.837297  0.805718  1.043534"
      ]
     },
     "execution_count": 124,
     "metadata": {},
     "output_type": "execute_result"
    }
   ],
   "source": [
    "df.drop('F',inplace=True) # deleting Row 'F'\n",
    "df"
   ]
  },
  {
   "cell_type": "code",
   "execution_count": 125,
   "id": "98b0c953",
   "metadata": {},
   "outputs": [
    {
     "data": {
      "text/html": [
       "<div>\n",
       "<style scoped>\n",
       "    .dataframe tbody tr th:only-of-type {\n",
       "        vertical-align: middle;\n",
       "    }\n",
       "\n",
       "    .dataframe tbody tr th {\n",
       "        vertical-align: top;\n",
       "    }\n",
       "\n",
       "    .dataframe thead th {\n",
       "        text-align: right;\n",
       "    }\n",
       "</style>\n",
       "<table border=\"1\" class=\"dataframe\">\n",
       "  <thead>\n",
       "    <tr style=\"text-align: right;\">\n",
       "      <th></th>\n",
       "      <th>W</th>\n",
       "      <th>Y</th>\n",
       "    </tr>\n",
       "  </thead>\n",
       "  <tbody>\n",
       "    <tr>\n",
       "      <th>A</th>\n",
       "      <td>0.187067</td>\n",
       "      <td>0.503478</td>\n",
       "    </tr>\n",
       "    <tr>\n",
       "      <th>C</th>\n",
       "      <td>-2.007883</td>\n",
       "      <td>0.531858</td>\n",
       "    </tr>\n",
       "    <tr>\n",
       "      <th>E</th>\n",
       "      <td>-1.015848</td>\n",
       "      <td>0.805718</td>\n",
       "    </tr>\n",
       "  </tbody>\n",
       "</table>\n",
       "</div>"
      ],
      "text/plain": [
       "          W         Y\n",
       "A  0.187067  0.503478\n",
       "C -2.007883  0.531858\n",
       "E -1.015848  0.805718"
      ]
     },
     "execution_count": 125,
     "metadata": {},
     "output_type": "execute_result"
    }
   ],
   "source": [
    "# Selecting specific rows ('A', 'C', and 'E') and columns ('W' and 'Y') from the DataFrame df\n",
    "# The .loc indexer is used to select rows and columns by labels\n",
    "\n",
    "df.loc[['A','C','E'],['W','Y']]"
   ]
  },
  {
   "cell_type": "code",
   "execution_count": 126,
   "id": "f9128cd8",
   "metadata": {},
   "outputs": [
    {
     "data": {
      "text/html": [
       "<div>\n",
       "<style scoped>\n",
       "    .dataframe tbody tr th:only-of-type {\n",
       "        vertical-align: middle;\n",
       "    }\n",
       "\n",
       "    .dataframe tbody tr th {\n",
       "        vertical-align: top;\n",
       "    }\n",
       "\n",
       "    .dataframe thead th {\n",
       "        text-align: right;\n",
       "    }\n",
       "</style>\n",
       "<table border=\"1\" class=\"dataframe\">\n",
       "  <thead>\n",
       "    <tr style=\"text-align: right;\">\n",
       "      <th></th>\n",
       "      <th>W</th>\n",
       "      <th>X</th>\n",
       "      <th>Y</th>\n",
       "      <th>Z</th>\n",
       "    </tr>\n",
       "  </thead>\n",
       "  <tbody>\n",
       "    <tr>\n",
       "      <th>A</th>\n",
       "      <td>True</td>\n",
       "      <td>False</td>\n",
       "      <td>True</td>\n",
       "      <td>False</td>\n",
       "    </tr>\n",
       "    <tr>\n",
       "      <th>B</th>\n",
       "      <td>False</td>\n",
       "      <td>True</td>\n",
       "      <td>False</td>\n",
       "      <td>True</td>\n",
       "    </tr>\n",
       "    <tr>\n",
       "      <th>C</th>\n",
       "      <td>False</td>\n",
       "      <td>True</td>\n",
       "      <td>True</td>\n",
       "      <td>True</td>\n",
       "    </tr>\n",
       "    <tr>\n",
       "      <th>D</th>\n",
       "      <td>False</td>\n",
       "      <td>True</td>\n",
       "      <td>True</td>\n",
       "      <td>True</td>\n",
       "    </tr>\n",
       "    <tr>\n",
       "      <th>E</th>\n",
       "      <td>False</td>\n",
       "      <td>True</td>\n",
       "      <td>True</td>\n",
       "      <td>True</td>\n",
       "    </tr>\n",
       "  </tbody>\n",
       "</table>\n",
       "</div>"
      ],
      "text/plain": [
       "       W      X      Y      Z\n",
       "A   True  False   True  False\n",
       "B  False   True  False   True\n",
       "C  False   True   True   True\n",
       "D  False   True   True   True\n",
       "E  False   True   True   True"
      ]
     },
     "execution_count": 126,
     "metadata": {},
     "output_type": "execute_result"
    }
   ],
   "source": [
    "# Checking a condition against all elements in the DataFrame df\n",
    "# Returns a DataFrame of boolean values where True indicates the corresponding element in df is greater than 0, \n",
    "# and False otherwise\n",
    "\n",
    "df > 0"
   ]
  },
  {
   "cell_type": "code",
   "execution_count": 127,
   "id": "bde34772",
   "metadata": {},
   "outputs": [
    {
     "data": {
      "text/html": [
       "<div>\n",
       "<style scoped>\n",
       "    .dataframe tbody tr th:only-of-type {\n",
       "        vertical-align: middle;\n",
       "    }\n",
       "\n",
       "    .dataframe tbody tr th {\n",
       "        vertical-align: top;\n",
       "    }\n",
       "\n",
       "    .dataframe thead th {\n",
       "        text-align: right;\n",
       "    }\n",
       "</style>\n",
       "<table border=\"1\" class=\"dataframe\">\n",
       "  <thead>\n",
       "    <tr style=\"text-align: right;\">\n",
       "      <th></th>\n",
       "      <th>W</th>\n",
       "      <th>X</th>\n",
       "      <th>Y</th>\n",
       "      <th>Z</th>\n",
       "    </tr>\n",
       "  </thead>\n",
       "  <tbody>\n",
       "    <tr>\n",
       "      <th>A</th>\n",
       "      <td>0.187067</td>\n",
       "      <td>NaN</td>\n",
       "      <td>0.503478</td>\n",
       "      <td>NaN</td>\n",
       "    </tr>\n",
       "    <tr>\n",
       "      <th>B</th>\n",
       "      <td>NaN</td>\n",
       "      <td>0.749863</td>\n",
       "      <td>NaN</td>\n",
       "      <td>0.555150</td>\n",
       "    </tr>\n",
       "    <tr>\n",
       "      <th>C</th>\n",
       "      <td>NaN</td>\n",
       "      <td>0.257715</td>\n",
       "      <td>0.531858</td>\n",
       "      <td>1.054405</td>\n",
       "    </tr>\n",
       "    <tr>\n",
       "      <th>D</th>\n",
       "      <td>NaN</td>\n",
       "      <td>0.166749</td>\n",
       "      <td>0.652907</td>\n",
       "      <td>1.019761</td>\n",
       "    </tr>\n",
       "    <tr>\n",
       "      <th>E</th>\n",
       "      <td>NaN</td>\n",
       "      <td>1.837297</td>\n",
       "      <td>0.805718</td>\n",
       "      <td>1.043534</td>\n",
       "    </tr>\n",
       "  </tbody>\n",
       "</table>\n",
       "</div>"
      ],
      "text/plain": [
       "          W         X         Y         Z\n",
       "A  0.187067       NaN  0.503478       NaN\n",
       "B       NaN  0.749863       NaN  0.555150\n",
       "C       NaN  0.257715  0.531858  1.054405\n",
       "D       NaN  0.166749  0.652907  1.019761\n",
       "E       NaN  1.837297  0.805718  1.043534"
      ]
     },
     "execution_count": 127,
     "metadata": {},
     "output_type": "execute_result"
    }
   ],
   "source": [
    "# Filtering the DataFrame df based on a condition (greater than 0)\n",
    "# Returns a DataFrame where each element satisfies the condition is retained, otherwise replaced with NaN\n",
    "\n",
    "df[df > 0]"
   ]
  },
  {
   "cell_type": "code",
   "execution_count": 128,
   "id": "eb475c24",
   "metadata": {},
   "outputs": [
    {
     "data": {
      "text/plain": [
       "A     True\n",
       "B    False\n",
       "C    False\n",
       "D    False\n",
       "E    False\n",
       "Name: W, dtype: bool"
      ]
     },
     "execution_count": 128,
     "metadata": {},
     "output_type": "execute_result"
    }
   ],
   "source": [
    "# Checking a condition against values in column 'W' of the DataFrame df\n",
    "# Returns a pandas Series of boolean values where True indicates the corresponding value in column 'W' \n",
    "# is greater than 0, and False otherwise\n",
    "\n",
    "df['W'] > 0"
   ]
  },
  {
   "cell_type": "code",
   "execution_count": 129,
   "id": "afacf297",
   "metadata": {},
   "outputs": [
    {
     "data": {
      "text/html": [
       "<div>\n",
       "<style scoped>\n",
       "    .dataframe tbody tr th:only-of-type {\n",
       "        vertical-align: middle;\n",
       "    }\n",
       "\n",
       "    .dataframe tbody tr th {\n",
       "        vertical-align: top;\n",
       "    }\n",
       "\n",
       "    .dataframe thead th {\n",
       "        text-align: right;\n",
       "    }\n",
       "</style>\n",
       "<table border=\"1\" class=\"dataframe\">\n",
       "  <thead>\n",
       "    <tr style=\"text-align: right;\">\n",
       "      <th></th>\n",
       "      <th>W</th>\n",
       "      <th>X</th>\n",
       "      <th>Y</th>\n",
       "      <th>Z</th>\n",
       "    </tr>\n",
       "  </thead>\n",
       "  <tbody>\n",
       "    <tr>\n",
       "      <th>A</th>\n",
       "      <td>0.187067</td>\n",
       "      <td>-0.067841</td>\n",
       "      <td>0.503478</td>\n",
       "      <td>-1.583472</td>\n",
       "    </tr>\n",
       "  </tbody>\n",
       "</table>\n",
       "</div>"
      ],
      "text/plain": [
       "          W         X         Y         Z\n",
       "A  0.187067 -0.067841  0.503478 -1.583472"
      ]
     },
     "execution_count": 129,
     "metadata": {},
     "output_type": "execute_result"
    }
   ],
   "source": [
    "# Filtering the DataFrame df based on a condition applied to values in column 'W'\n",
    "# Returns a new DataFrame containing only the rows where the value in column 'W' is greater than 0\n",
    "\n",
    "df[df['W'] > 0]"
   ]
  },
  {
   "cell_type": "code",
   "execution_count": 130,
   "id": "1efff928",
   "metadata": {},
   "outputs": [
    {
     "data": {
      "text/html": [
       "<div>\n",
       "<style scoped>\n",
       "    .dataframe tbody tr th:only-of-type {\n",
       "        vertical-align: middle;\n",
       "    }\n",
       "\n",
       "    .dataframe tbody tr th {\n",
       "        vertical-align: top;\n",
       "    }\n",
       "\n",
       "    .dataframe thead th {\n",
       "        text-align: right;\n",
       "    }\n",
       "</style>\n",
       "<table border=\"1\" class=\"dataframe\">\n",
       "  <thead>\n",
       "    <tr style=\"text-align: right;\">\n",
       "      <th></th>\n",
       "      <th>W</th>\n",
       "      <th>X</th>\n",
       "      <th>Y</th>\n",
       "      <th>Z</th>\n",
       "    </tr>\n",
       "  </thead>\n",
       "  <tbody>\n",
       "  </tbody>\n",
       "</table>\n",
       "</div>"
      ],
      "text/plain": [
       "Empty DataFrame\n",
       "Columns: [W, X, Y, Z]\n",
       "Index: []"
      ]
     },
     "execution_count": 130,
     "metadata": {},
     "output_type": "execute_result"
    }
   ],
   "source": [
    "# Filtering the DataFrame df based on two conditions:\n",
    "# 1. Values in column 'W' are greater than 0\n",
    "# 2. Values in column 'X' are greater than 0\n",
    "# Returns a new DataFrame containing only the rows where both conditions are true\n",
    "\n",
    "df[(df['W'] > 0) & (df['X'] > 0)]"
   ]
  },
  {
   "cell_type": "code",
   "execution_count": 131,
   "id": "078f86a7",
   "metadata": {},
   "outputs": [
    {
     "data": {
      "text/html": [
       "<div>\n",
       "<style scoped>\n",
       "    .dataframe tbody tr th:only-of-type {\n",
       "        vertical-align: middle;\n",
       "    }\n",
       "\n",
       "    .dataframe tbody tr th {\n",
       "        vertical-align: top;\n",
       "    }\n",
       "\n",
       "    .dataframe thead th {\n",
       "        text-align: right;\n",
       "    }\n",
       "</style>\n",
       "<table border=\"1\" class=\"dataframe\">\n",
       "  <thead>\n",
       "    <tr style=\"text-align: right;\">\n",
       "      <th></th>\n",
       "      <th>W</th>\n",
       "      <th>X</th>\n",
       "      <th>Y</th>\n",
       "      <th>Z</th>\n",
       "    </tr>\n",
       "  </thead>\n",
       "  <tbody>\n",
       "    <tr>\n",
       "      <th>A</th>\n",
       "      <td>0.187067</td>\n",
       "      <td>-0.067841</td>\n",
       "      <td>0.503478</td>\n",
       "      <td>-1.583472</td>\n",
       "    </tr>\n",
       "  </tbody>\n",
       "</table>\n",
       "</div>"
      ],
      "text/plain": [
       "          W         X         Y         Z\n",
       "A  0.187067 -0.067841  0.503478 -1.583472"
      ]
     },
     "execution_count": 131,
     "metadata": {},
     "output_type": "execute_result"
    }
   ],
   "source": [
    "# Filtering the DataFrame df based on two conditions:\n",
    "# 1. Values in column 'W' are greater than 0\n",
    "# 2. Values in column 'X' are less than 0\n",
    "# Returns a new DataFrame containing only the rows where at least one of the conditions is true\n",
    "\n",
    "df[(df['W'] > 0) | (df['X'] < 0)]"
   ]
  },
  {
   "cell_type": "code",
   "execution_count": 132,
   "id": "081b144a",
   "metadata": {},
   "outputs": [
    {
     "data": {
      "text/html": [
       "<div>\n",
       "<style scoped>\n",
       "    .dataframe tbody tr th:only-of-type {\n",
       "        vertical-align: middle;\n",
       "    }\n",
       "\n",
       "    .dataframe tbody tr th {\n",
       "        vertical-align: top;\n",
       "    }\n",
       "\n",
       "    .dataframe thead th {\n",
       "        text-align: right;\n",
       "    }\n",
       "</style>\n",
       "<table border=\"1\" class=\"dataframe\">\n",
       "  <thead>\n",
       "    <tr style=\"text-align: right;\">\n",
       "      <th></th>\n",
       "      <th>index</th>\n",
       "      <th>W</th>\n",
       "      <th>X</th>\n",
       "      <th>Y</th>\n",
       "      <th>Z</th>\n",
       "    </tr>\n",
       "  </thead>\n",
       "  <tbody>\n",
       "    <tr>\n",
       "      <th>0</th>\n",
       "      <td>A</td>\n",
       "      <td>0.187067</td>\n",
       "      <td>-0.067841</td>\n",
       "      <td>0.503478</td>\n",
       "      <td>-1.583472</td>\n",
       "    </tr>\n",
       "    <tr>\n",
       "      <th>1</th>\n",
       "      <td>B</td>\n",
       "      <td>-0.187060</td>\n",
       "      <td>0.749863</td>\n",
       "      <td>-0.229471</td>\n",
       "      <td>0.555150</td>\n",
       "    </tr>\n",
       "    <tr>\n",
       "      <th>2</th>\n",
       "      <td>C</td>\n",
       "      <td>-2.007883</td>\n",
       "      <td>0.257715</td>\n",
       "      <td>0.531858</td>\n",
       "      <td>1.054405</td>\n",
       "    </tr>\n",
       "    <tr>\n",
       "      <th>3</th>\n",
       "      <td>D</td>\n",
       "      <td>-0.807428</td>\n",
       "      <td>0.166749</td>\n",
       "      <td>0.652907</td>\n",
       "      <td>1.019761</td>\n",
       "    </tr>\n",
       "    <tr>\n",
       "      <th>4</th>\n",
       "      <td>E</td>\n",
       "      <td>-1.015848</td>\n",
       "      <td>1.837297</td>\n",
       "      <td>0.805718</td>\n",
       "      <td>1.043534</td>\n",
       "    </tr>\n",
       "  </tbody>\n",
       "</table>\n",
       "</div>"
      ],
      "text/plain": [
       "  index         W         X         Y         Z\n",
       "0     A  0.187067 -0.067841  0.503478 -1.583472\n",
       "1     B -0.187060  0.749863 -0.229471  0.555150\n",
       "2     C -2.007883  0.257715  0.531858  1.054405\n",
       "3     D -0.807428  0.166749  0.652907  1.019761\n",
       "4     E -1.015848  1.837297  0.805718  1.043534"
      ]
     },
     "execution_count": 132,
     "metadata": {},
     "output_type": "execute_result"
    }
   ],
   "source": [
    "# Resetting the index of the DataFrame df\n",
    "# Returns a new DataFrame with the index reset to a list of integers ranging from 0 to the length of the DataFrame minus one\n",
    "\n",
    "df.reset_index()"
   ]
  },
  {
   "cell_type": "code",
   "execution_count": 133,
   "id": "5decbc9a",
   "metadata": {},
   "outputs": [
    {
     "data": {
      "text/html": [
       "<div>\n",
       "<style scoped>\n",
       "    .dataframe tbody tr th:only-of-type {\n",
       "        vertical-align: middle;\n",
       "    }\n",
       "\n",
       "    .dataframe tbody tr th {\n",
       "        vertical-align: top;\n",
       "    }\n",
       "\n",
       "    .dataframe thead th {\n",
       "        text-align: right;\n",
       "    }\n",
       "</style>\n",
       "<table border=\"1\" class=\"dataframe\">\n",
       "  <thead>\n",
       "    <tr style=\"text-align: right;\">\n",
       "      <th></th>\n",
       "      <th>W</th>\n",
       "      <th>X</th>\n",
       "      <th>Y</th>\n",
       "      <th>Z</th>\n",
       "      <th>States</th>\n",
       "    </tr>\n",
       "  </thead>\n",
       "  <tbody>\n",
       "    <tr>\n",
       "      <th>A</th>\n",
       "      <td>0.187067</td>\n",
       "      <td>-0.067841</td>\n",
       "      <td>0.503478</td>\n",
       "      <td>-1.583472</td>\n",
       "      <td>1</td>\n",
       "    </tr>\n",
       "    <tr>\n",
       "      <th>B</th>\n",
       "      <td>-0.187060</td>\n",
       "      <td>0.749863</td>\n",
       "      <td>-0.229471</td>\n",
       "      <td>0.555150</td>\n",
       "      <td>2</td>\n",
       "    </tr>\n",
       "    <tr>\n",
       "      <th>C</th>\n",
       "      <td>-2.007883</td>\n",
       "      <td>0.257715</td>\n",
       "      <td>0.531858</td>\n",
       "      <td>1.054405</td>\n",
       "      <td>3</td>\n",
       "    </tr>\n",
       "    <tr>\n",
       "      <th>D</th>\n",
       "      <td>-0.807428</td>\n",
       "      <td>0.166749</td>\n",
       "      <td>0.652907</td>\n",
       "      <td>1.019761</td>\n",
       "      <td>4</td>\n",
       "    </tr>\n",
       "    <tr>\n",
       "      <th>E</th>\n",
       "      <td>-1.015848</td>\n",
       "      <td>1.837297</td>\n",
       "      <td>0.805718</td>\n",
       "      <td>1.043534</td>\n",
       "      <td>5</td>\n",
       "    </tr>\n",
       "  </tbody>\n",
       "</table>\n",
       "</div>"
      ],
      "text/plain": [
       "          W         X         Y         Z States\n",
       "A  0.187067 -0.067841  0.503478 -1.583472      1\n",
       "B -0.187060  0.749863 -0.229471  0.555150      2\n",
       "C -2.007883  0.257715  0.531858  1.054405      3\n",
       "D -0.807428  0.166749  0.652907  1.019761      4\n",
       "E -1.015848  1.837297  0.805718  1.043534      5"
      ]
     },
     "execution_count": 133,
     "metadata": {},
     "output_type": "execute_result"
    }
   ],
   "source": [
    "# Adding a new column named 'States' to the DataFrame df\n",
    "# The values in the new column are assigned from the list ['1', '2', '3', '4', '5']\n",
    "\n",
    "df['States'] = ['1', '2', '3', '4', '5']\n",
    "\n",
    "# Displaying the DataFrame after adding the new column\n",
    "df"
   ]
  },
  {
   "cell_type": "code",
   "execution_count": 134,
   "id": "703accec",
   "metadata": {},
   "outputs": [
    {
     "data": {
      "text/html": [
       "<div>\n",
       "<style scoped>\n",
       "    .dataframe tbody tr th:only-of-type {\n",
       "        vertical-align: middle;\n",
       "    }\n",
       "\n",
       "    .dataframe tbody tr th {\n",
       "        vertical-align: top;\n",
       "    }\n",
       "\n",
       "    .dataframe thead th {\n",
       "        text-align: right;\n",
       "    }\n",
       "</style>\n",
       "<table border=\"1\" class=\"dataframe\">\n",
       "  <thead>\n",
       "    <tr style=\"text-align: right;\">\n",
       "      <th></th>\n",
       "      <th>W</th>\n",
       "      <th>X</th>\n",
       "      <th>Y</th>\n",
       "      <th>Z</th>\n",
       "    </tr>\n",
       "    <tr>\n",
       "      <th>States</th>\n",
       "      <th></th>\n",
       "      <th></th>\n",
       "      <th></th>\n",
       "      <th></th>\n",
       "    </tr>\n",
       "  </thead>\n",
       "  <tbody>\n",
       "    <tr>\n",
       "      <th>1</th>\n",
       "      <td>0.187067</td>\n",
       "      <td>-0.067841</td>\n",
       "      <td>0.503478</td>\n",
       "      <td>-1.583472</td>\n",
       "    </tr>\n",
       "    <tr>\n",
       "      <th>2</th>\n",
       "      <td>-0.187060</td>\n",
       "      <td>0.749863</td>\n",
       "      <td>-0.229471</td>\n",
       "      <td>0.555150</td>\n",
       "    </tr>\n",
       "    <tr>\n",
       "      <th>3</th>\n",
       "      <td>-2.007883</td>\n",
       "      <td>0.257715</td>\n",
       "      <td>0.531858</td>\n",
       "      <td>1.054405</td>\n",
       "    </tr>\n",
       "    <tr>\n",
       "      <th>4</th>\n",
       "      <td>-0.807428</td>\n",
       "      <td>0.166749</td>\n",
       "      <td>0.652907</td>\n",
       "      <td>1.019761</td>\n",
       "    </tr>\n",
       "    <tr>\n",
       "      <th>5</th>\n",
       "      <td>-1.015848</td>\n",
       "      <td>1.837297</td>\n",
       "      <td>0.805718</td>\n",
       "      <td>1.043534</td>\n",
       "    </tr>\n",
       "  </tbody>\n",
       "</table>\n",
       "</div>"
      ],
      "text/plain": [
       "               W         X         Y         Z\n",
       "States                                        \n",
       "1       0.187067 -0.067841  0.503478 -1.583472\n",
       "2      -0.187060  0.749863 -0.229471  0.555150\n",
       "3      -2.007883  0.257715  0.531858  1.054405\n",
       "4      -0.807428  0.166749  0.652907  1.019761\n",
       "5      -1.015848  1.837297  0.805718  1.043534"
      ]
     },
     "execution_count": 134,
     "metadata": {},
     "output_type": "execute_result"
    }
   ],
   "source": [
    "# Setting the column 'States' as the new index of the DataFrame df\n",
    "# Returns a new DataFrame with the index set to the values in the 'States' column\n",
    "\n",
    "df.set_index('States')"
   ]
  },
  {
   "cell_type": "code",
   "execution_count": 135,
   "id": "05b7e7dc",
   "metadata": {},
   "outputs": [
    {
     "data": {
      "text/plain": [
       "MultiIndex([('G1', 1),\n",
       "            ('G1', 2),\n",
       "            ('G1', 3),\n",
       "            ('G2', 1),\n",
       "            ('G2', 2),\n",
       "            ('G2', 3)],\n",
       "           )"
      ]
     },
     "execution_count": 135,
     "metadata": {},
     "output_type": "execute_result"
    }
   ],
   "source": [
    "# Define two lists that represent different levels of indexing:\n",
    "outside = ['G1', 'G1', 'G1', 'G2', 'G2', 'G2']  # Top-level index labels\n",
    "inside = [1, 2, 3, 1, 2, 3]  # Sub-level index labels\n",
    "\n",
    "# Zip the two lists into a list of tuples, pairing corresponding elements from both lists:\n",
    "ind = list(zip(outside, inside))  # [('G1', 1), ('G1', 2), ('G1', 3), ('G2', 1), ('G2', 2), ('G2', 3)]\n",
    "\n",
    "# Convert the list of tuples to a pandas MultiIndex object:\n",
    "ind = pd.MultiIndex.from_tuples(ind)\n",
    "\n",
    "# Display the MultiIndex:\n",
    "ind"
   ]
  },
  {
   "cell_type": "code",
   "execution_count": 136,
   "id": "df6fbbbb",
   "metadata": {},
   "outputs": [
    {
     "data": {
      "text/html": [
       "<div>\n",
       "<style scoped>\n",
       "    .dataframe tbody tr th:only-of-type {\n",
       "        vertical-align: middle;\n",
       "    }\n",
       "\n",
       "    .dataframe tbody tr th {\n",
       "        vertical-align: top;\n",
       "    }\n",
       "\n",
       "    .dataframe thead th {\n",
       "        text-align: right;\n",
       "    }\n",
       "</style>\n",
       "<table border=\"1\" class=\"dataframe\">\n",
       "  <thead>\n",
       "    <tr style=\"text-align: right;\">\n",
       "      <th></th>\n",
       "      <th></th>\n",
       "      <th>A</th>\n",
       "      <th>B</th>\n",
       "      <th>C</th>\n",
       "      <th>D</th>\n",
       "      <th>E</th>\n",
       "    </tr>\n",
       "  </thead>\n",
       "  <tbody>\n",
       "    <tr>\n",
       "      <th rowspan=\"3\" valign=\"top\">G1</th>\n",
       "      <th>1</th>\n",
       "      <td>9</td>\n",
       "      <td>3</td>\n",
       "      <td>4</td>\n",
       "      <td>0</td>\n",
       "      <td>3</td>\n",
       "    </tr>\n",
       "    <tr>\n",
       "      <th>2</th>\n",
       "      <td>3</td>\n",
       "      <td>8</td>\n",
       "      <td>7</td>\n",
       "      <td>5</td>\n",
       "      <td>8</td>\n",
       "    </tr>\n",
       "    <tr>\n",
       "      <th>3</th>\n",
       "      <td>8</td>\n",
       "      <td>0</td>\n",
       "      <td>9</td>\n",
       "      <td>0</td>\n",
       "      <td>5</td>\n",
       "    </tr>\n",
       "    <tr>\n",
       "      <th rowspan=\"3\" valign=\"top\">G2</th>\n",
       "      <th>1</th>\n",
       "      <td>2</td>\n",
       "      <td>1</td>\n",
       "      <td>9</td>\n",
       "      <td>4</td>\n",
       "      <td>7</td>\n",
       "    </tr>\n",
       "    <tr>\n",
       "      <th>2</th>\n",
       "      <td>8</td>\n",
       "      <td>8</td>\n",
       "      <td>7</td>\n",
       "      <td>4</td>\n",
       "      <td>1</td>\n",
       "    </tr>\n",
       "    <tr>\n",
       "      <th>3</th>\n",
       "      <td>9</td>\n",
       "      <td>3</td>\n",
       "      <td>9</td>\n",
       "      <td>2</td>\n",
       "      <td>1</td>\n",
       "    </tr>\n",
       "  </tbody>\n",
       "</table>\n",
       "</div>"
      ],
      "text/plain": [
       "      A  B  C  D  E\n",
       "G1 1  9  3  4  0  3\n",
       "   2  3  8  7  5  8\n",
       "   3  8  0  9  0  5\n",
       "G2 1  2  1  9  4  7\n",
       "   2  8  8  7  4  1\n",
       "   3  9  3  9  2  1"
      ]
     },
     "execution_count": 136,
     "metadata": {},
     "output_type": "execute_result"
    }
   ],
   "source": [
    "# Creating a DataFrame with random integers:\n",
    "# np.random.randint(0,10,(6,5)) generates a 6x5 array of random integers between 0 and 9.\n",
    "# 'index=ind' sets the row labels of the DataFrame using the 'ind' variable, which should be defined elsewhere.\n",
    "# 'columns='A B C D E'.split()' creates a list of column names ['A', 'B', 'C', 'D', 'E'].\n",
    "\n",
    "df = pd.DataFrame(np.random.randint(0,10,(6,5)), index=ind, columns='A B C D E'.split())\n",
    "\n",
    "# Displaying the DataFrame\n",
    "df"
   ]
  },
  {
   "cell_type": "code",
   "execution_count": 137,
   "id": "3168adfc",
   "metadata": {},
   "outputs": [
    {
     "data": {
      "text/plain": [
       "FrozenList([None, None])"
      ]
     },
     "execution_count": 137,
     "metadata": {},
     "output_type": "execute_result"
    }
   ],
   "source": [
    "# The code 'df.index.names' is used to retrieve the names of the levels of the index in a pandas DataFrame.\n",
    "\n",
    "df.index.names"
   ]
  },
  {
   "cell_type": "code",
   "execution_count": 139,
   "id": "72249a71",
   "metadata": {},
   "outputs": [
    {
     "data": {
      "text/html": [
       "<div>\n",
       "<style scoped>\n",
       "    .dataframe tbody tr th:only-of-type {\n",
       "        vertical-align: middle;\n",
       "    }\n",
       "\n",
       "    .dataframe tbody tr th {\n",
       "        vertical-align: top;\n",
       "    }\n",
       "\n",
       "    .dataframe thead th {\n",
       "        text-align: right;\n",
       "    }\n",
       "</style>\n",
       "<table border=\"1\" class=\"dataframe\">\n",
       "  <thead>\n",
       "    <tr style=\"text-align: right;\">\n",
       "      <th></th>\n",
       "      <th></th>\n",
       "      <th>A</th>\n",
       "      <th>B</th>\n",
       "      <th>C</th>\n",
       "      <th>D</th>\n",
       "      <th>E</th>\n",
       "    </tr>\n",
       "    <tr>\n",
       "      <th>Group</th>\n",
       "      <th>Num</th>\n",
       "      <th></th>\n",
       "      <th></th>\n",
       "      <th></th>\n",
       "      <th></th>\n",
       "      <th></th>\n",
       "    </tr>\n",
       "  </thead>\n",
       "  <tbody>\n",
       "    <tr>\n",
       "      <th rowspan=\"3\" valign=\"top\">G1</th>\n",
       "      <th>1</th>\n",
       "      <td>9</td>\n",
       "      <td>3</td>\n",
       "      <td>4</td>\n",
       "      <td>0</td>\n",
       "      <td>3</td>\n",
       "    </tr>\n",
       "    <tr>\n",
       "      <th>2</th>\n",
       "      <td>3</td>\n",
       "      <td>8</td>\n",
       "      <td>7</td>\n",
       "      <td>5</td>\n",
       "      <td>8</td>\n",
       "    </tr>\n",
       "    <tr>\n",
       "      <th>3</th>\n",
       "      <td>8</td>\n",
       "      <td>0</td>\n",
       "      <td>9</td>\n",
       "      <td>0</td>\n",
       "      <td>5</td>\n",
       "    </tr>\n",
       "    <tr>\n",
       "      <th rowspan=\"3\" valign=\"top\">G2</th>\n",
       "      <th>1</th>\n",
       "      <td>2</td>\n",
       "      <td>1</td>\n",
       "      <td>9</td>\n",
       "      <td>4</td>\n",
       "      <td>7</td>\n",
       "    </tr>\n",
       "    <tr>\n",
       "      <th>2</th>\n",
       "      <td>8</td>\n",
       "      <td>8</td>\n",
       "      <td>7</td>\n",
       "      <td>4</td>\n",
       "      <td>1</td>\n",
       "    </tr>\n",
       "    <tr>\n",
       "      <th>3</th>\n",
       "      <td>9</td>\n",
       "      <td>3</td>\n",
       "      <td>9</td>\n",
       "      <td>2</td>\n",
       "      <td>1</td>\n",
       "    </tr>\n",
       "  </tbody>\n",
       "</table>\n",
       "</div>"
      ],
      "text/plain": [
       "           A  B  C  D  E\n",
       "Group Num               \n",
       "G1    1    9  3  4  0  3\n",
       "      2    3  8  7  5  8\n",
       "      3    8  0  9  0  5\n",
       "G2    1    2  1  9  4  7\n",
       "      2    8  8  7  4  1\n",
       "      3    9  3  9  2  1"
      ]
     },
     "execution_count": 139,
     "metadata": {},
     "output_type": "execute_result"
    }
   ],
   "source": [
    "# Assigning names to the levels of the index\n",
    "df.index.names = ['Group', 'Num']\n",
    "\n",
    "# Displaying the DataFrame\n",
    "df"
   ]
  },
  {
   "cell_type": "code",
   "execution_count": 140,
   "id": "b8acf249",
   "metadata": {},
   "outputs": [
    {
     "data": {
      "text/html": [
       "<div>\n",
       "<style scoped>\n",
       "    .dataframe tbody tr th:only-of-type {\n",
       "        vertical-align: middle;\n",
       "    }\n",
       "\n",
       "    .dataframe tbody tr th {\n",
       "        vertical-align: top;\n",
       "    }\n",
       "\n",
       "    .dataframe thead th {\n",
       "        text-align: right;\n",
       "    }\n",
       "</style>\n",
       "<table border=\"1\" class=\"dataframe\">\n",
       "  <thead>\n",
       "    <tr style=\"text-align: right;\">\n",
       "      <th></th>\n",
       "      <th>A</th>\n",
       "      <th>B</th>\n",
       "      <th>C</th>\n",
       "      <th>D</th>\n",
       "      <th>E</th>\n",
       "    </tr>\n",
       "    <tr>\n",
       "      <th>Group</th>\n",
       "      <th></th>\n",
       "      <th></th>\n",
       "      <th></th>\n",
       "      <th></th>\n",
       "      <th></th>\n",
       "    </tr>\n",
       "  </thead>\n",
       "  <tbody>\n",
       "    <tr>\n",
       "      <th>G1</th>\n",
       "      <td>9</td>\n",
       "      <td>3</td>\n",
       "      <td>4</td>\n",
       "      <td>0</td>\n",
       "      <td>3</td>\n",
       "    </tr>\n",
       "    <tr>\n",
       "      <th>G2</th>\n",
       "      <td>2</td>\n",
       "      <td>1</td>\n",
       "      <td>9</td>\n",
       "      <td>4</td>\n",
       "      <td>7</td>\n",
       "    </tr>\n",
       "  </tbody>\n",
       "</table>\n",
       "</div>"
      ],
      "text/plain": [
       "       A  B  C  D  E\n",
       "Group               \n",
       "G1     9  3  4  0  3\n",
       "G2     2  1  9  4  7"
      ]
     },
     "execution_count": 140,
     "metadata": {},
     "output_type": "execute_result"
    }
   ],
   "source": [
    "# The code df.xs(1, level='Num') is using the xs method \n",
    "# in pandas to select rows from a DataFrame based on a specific value of a level in a MultiIndex.\n",
    "\n",
    "df.xs(1,level='Num')"
   ]
  },
  {
   "cell_type": "code",
   "execution_count": 143,
   "id": "d2c3dcfd",
   "metadata": {},
   "outputs": [
    {
     "data": {
      "text/html": [
       "<div>\n",
       "<style scoped>\n",
       "    .dataframe tbody tr th:only-of-type {\n",
       "        vertical-align: middle;\n",
       "    }\n",
       "\n",
       "    .dataframe tbody tr th {\n",
       "        vertical-align: top;\n",
       "    }\n",
       "\n",
       "    .dataframe thead th {\n",
       "        text-align: right;\n",
       "    }\n",
       "</style>\n",
       "<table border=\"1\" class=\"dataframe\">\n",
       "  <thead>\n",
       "    <tr style=\"text-align: right;\">\n",
       "      <th></th>\n",
       "      <th>A</th>\n",
       "      <th>B</th>\n",
       "      <th>C</th>\n",
       "    </tr>\n",
       "  </thead>\n",
       "  <tbody>\n",
       "    <tr>\n",
       "      <th>X</th>\n",
       "      <td>1.0</td>\n",
       "      <td>1.0</td>\n",
       "      <td>1</td>\n",
       "    </tr>\n",
       "    <tr>\n",
       "      <th>Y</th>\n",
       "      <td>2.0</td>\n",
       "      <td>NaN</td>\n",
       "      <td>2</td>\n",
       "    </tr>\n",
       "    <tr>\n",
       "      <th>Z</th>\n",
       "      <td>NaN</td>\n",
       "      <td>NaN</td>\n",
       "      <td>3</td>\n",
       "    </tr>\n",
       "  </tbody>\n",
       "</table>\n",
       "</div>"
      ],
      "text/plain": [
       "     A    B  C\n",
       "X  1.0  1.0  1\n",
       "Y  2.0  NaN  2\n",
       "Z  NaN  NaN  3"
      ]
     },
     "execution_count": 143,
     "metadata": {},
     "output_type": "execute_result"
    }
   ],
   "source": [
    "# Dictionary containing column data\n",
    "d = {\n",
    "    'A': [1, 2, np.nan],    # Values for column 'A'\n",
    "    'B': [1, np.nan, np.nan],  # Values for column 'B'\n",
    "    'C': [1, 2, 3]           # Values for column 'C'\n",
    "}\n",
    "\n",
    "# Creating a DataFrame with custom row indices 'X', 'Y', 'Z' using the dictionary 'd' as data\n",
    "df = pd.DataFrame(d, ['X', 'Y', 'Z'])\n",
    "\n",
    "# Displaying the DataFrame\n",
    "df\n"
   ]
  },
  {
   "cell_type": "code",
   "execution_count": 144,
   "id": "e044d301",
   "metadata": {},
   "outputs": [
    {
     "data": {
      "text/html": [
       "<div>\n",
       "<style scoped>\n",
       "    .dataframe tbody tr th:only-of-type {\n",
       "        vertical-align: middle;\n",
       "    }\n",
       "\n",
       "    .dataframe tbody tr th {\n",
       "        vertical-align: top;\n",
       "    }\n",
       "\n",
       "    .dataframe thead th {\n",
       "        text-align: right;\n",
       "    }\n",
       "</style>\n",
       "<table border=\"1\" class=\"dataframe\">\n",
       "  <thead>\n",
       "    <tr style=\"text-align: right;\">\n",
       "      <th></th>\n",
       "      <th>A</th>\n",
       "      <th>B</th>\n",
       "      <th>C</th>\n",
       "    </tr>\n",
       "  </thead>\n",
       "  <tbody>\n",
       "    <tr>\n",
       "      <th>X</th>\n",
       "      <td>1.0</td>\n",
       "      <td>1.0</td>\n",
       "      <td>1</td>\n",
       "    </tr>\n",
       "  </tbody>\n",
       "</table>\n",
       "</div>"
      ],
      "text/plain": [
       "     A    B  C\n",
       "X  1.0  1.0  1"
      ]
     },
     "execution_count": 144,
     "metadata": {},
     "output_type": "execute_result"
    }
   ],
   "source": [
    "df.dropna() # it removes rows where any of the values are missing (NaN) in any column."
   ]
  },
  {
   "cell_type": "code",
   "execution_count": 145,
   "id": "2c512955",
   "metadata": {},
   "outputs": [
    {
     "data": {
      "text/html": [
       "<div>\n",
       "<style scoped>\n",
       "    .dataframe tbody tr th:only-of-type {\n",
       "        vertical-align: middle;\n",
       "    }\n",
       "\n",
       "    .dataframe tbody tr th {\n",
       "        vertical-align: top;\n",
       "    }\n",
       "\n",
       "    .dataframe thead th {\n",
       "        text-align: right;\n",
       "    }\n",
       "</style>\n",
       "<table border=\"1\" class=\"dataframe\">\n",
       "  <thead>\n",
       "    <tr style=\"text-align: right;\">\n",
       "      <th></th>\n",
       "      <th>C</th>\n",
       "    </tr>\n",
       "  </thead>\n",
       "  <tbody>\n",
       "    <tr>\n",
       "      <th>X</th>\n",
       "      <td>1</td>\n",
       "    </tr>\n",
       "    <tr>\n",
       "      <th>Y</th>\n",
       "      <td>2</td>\n",
       "    </tr>\n",
       "    <tr>\n",
       "      <th>Z</th>\n",
       "      <td>3</td>\n",
       "    </tr>\n",
       "  </tbody>\n",
       "</table>\n",
       "</div>"
      ],
      "text/plain": [
       "   C\n",
       "X  1\n",
       "Y  2\n",
       "Z  3"
      ]
     },
     "execution_count": 145,
     "metadata": {},
     "output_type": "execute_result"
    }
   ],
   "source": [
    "# Removing columns with any missing values (NaN) from the DataFrame df\n",
    "# The axis=1 parameter specifies that columns should be considered for removal\n",
    "# Returns a new DataFrame with columns containing missing values removed\n",
    "\n",
    "df.dropna(axis=1)"
   ]
  },
  {
   "cell_type": "code",
   "execution_count": 146,
   "id": "01d16586",
   "metadata": {},
   "outputs": [
    {
     "data": {
      "text/html": [
       "<div>\n",
       "<style scoped>\n",
       "    .dataframe tbody tr th:only-of-type {\n",
       "        vertical-align: middle;\n",
       "    }\n",
       "\n",
       "    .dataframe tbody tr th {\n",
       "        vertical-align: top;\n",
       "    }\n",
       "\n",
       "    .dataframe thead th {\n",
       "        text-align: right;\n",
       "    }\n",
       "</style>\n",
       "<table border=\"1\" class=\"dataframe\">\n",
       "  <thead>\n",
       "    <tr style=\"text-align: right;\">\n",
       "      <th></th>\n",
       "      <th>A</th>\n",
       "      <th>B</th>\n",
       "      <th>C</th>\n",
       "    </tr>\n",
       "  </thead>\n",
       "  <tbody>\n",
       "    <tr>\n",
       "      <th>X</th>\n",
       "      <td>1.0</td>\n",
       "      <td>1.0</td>\n",
       "      <td>1</td>\n",
       "    </tr>\n",
       "    <tr>\n",
       "      <th>Y</th>\n",
       "      <td>2.0</td>\n",
       "      <td>NaN</td>\n",
       "      <td>2</td>\n",
       "    </tr>\n",
       "  </tbody>\n",
       "</table>\n",
       "</div>"
      ],
      "text/plain": [
       "     A    B  C\n",
       "X  1.0  1.0  1\n",
       "Y  2.0  NaN  2"
      ]
     },
     "execution_count": 146,
     "metadata": {},
     "output_type": "execute_result"
    }
   ],
   "source": [
    "# Removing rows from DataFrame df that have fewer than 2 non-NA values\n",
    "# thresh=2 specifies the minimum number of non-NA values a row must have to avoid being dropped\n",
    "\n",
    "df.dropna(thresh=2)"
   ]
  },
  {
   "cell_type": "code",
   "execution_count": 147,
   "id": "72426701",
   "metadata": {},
   "outputs": [
    {
     "data": {
      "text/html": [
       "<div>\n",
       "<style scoped>\n",
       "    .dataframe tbody tr th:only-of-type {\n",
       "        vertical-align: middle;\n",
       "    }\n",
       "\n",
       "    .dataframe tbody tr th {\n",
       "        vertical-align: top;\n",
       "    }\n",
       "\n",
       "    .dataframe thead th {\n",
       "        text-align: right;\n",
       "    }\n",
       "</style>\n",
       "<table border=\"1\" class=\"dataframe\">\n",
       "  <thead>\n",
       "    <tr style=\"text-align: right;\">\n",
       "      <th></th>\n",
       "      <th>A</th>\n",
       "      <th>C</th>\n",
       "    </tr>\n",
       "  </thead>\n",
       "  <tbody>\n",
       "    <tr>\n",
       "      <th>X</th>\n",
       "      <td>1.0</td>\n",
       "      <td>1</td>\n",
       "    </tr>\n",
       "    <tr>\n",
       "      <th>Y</th>\n",
       "      <td>2.0</td>\n",
       "      <td>2</td>\n",
       "    </tr>\n",
       "    <tr>\n",
       "      <th>Z</th>\n",
       "      <td>NaN</td>\n",
       "      <td>3</td>\n",
       "    </tr>\n",
       "  </tbody>\n",
       "</table>\n",
       "</div>"
      ],
      "text/plain": [
       "     A  C\n",
       "X  1.0  1\n",
       "Y  2.0  2\n",
       "Z  NaN  3"
      ]
     },
     "execution_count": 147,
     "metadata": {},
     "output_type": "execute_result"
    }
   ],
   "source": [
    "# Removing columns from DataFrame df that have fewer than 2 non-NA values\n",
    "# axis=1 specifies that columns (not rows) are to be considered\n",
    "# thresh=2 sets the minimum number of non-NA values a column must have to avoid being dropped\n",
    "\n",
    "df.dropna(axis=1, thresh=2)"
   ]
  },
  {
   "cell_type": "code",
   "execution_count": 148,
   "id": "d2476554",
   "metadata": {},
   "outputs": [
    {
     "data": {
      "text/html": [
       "<div>\n",
       "<style scoped>\n",
       "    .dataframe tbody tr th:only-of-type {\n",
       "        vertical-align: middle;\n",
       "    }\n",
       "\n",
       "    .dataframe tbody tr th {\n",
       "        vertical-align: top;\n",
       "    }\n",
       "\n",
       "    .dataframe thead th {\n",
       "        text-align: right;\n",
       "    }\n",
       "</style>\n",
       "<table border=\"1\" class=\"dataframe\">\n",
       "  <thead>\n",
       "    <tr style=\"text-align: right;\">\n",
       "      <th></th>\n",
       "      <th>A</th>\n",
       "      <th>B</th>\n",
       "      <th>C</th>\n",
       "    </tr>\n",
       "  </thead>\n",
       "  <tbody>\n",
       "    <tr>\n",
       "      <th>X</th>\n",
       "      <td>1.0</td>\n",
       "      <td>1.0</td>\n",
       "      <td>1</td>\n",
       "    </tr>\n",
       "    <tr>\n",
       "      <th>Y</th>\n",
       "      <td>2.0</td>\n",
       "      <td>0.0</td>\n",
       "      <td>2</td>\n",
       "    </tr>\n",
       "    <tr>\n",
       "      <th>Z</th>\n",
       "      <td>0.0</td>\n",
       "      <td>0.0</td>\n",
       "      <td>3</td>\n",
       "    </tr>\n",
       "  </tbody>\n",
       "</table>\n",
       "</div>"
      ],
      "text/plain": [
       "     A    B  C\n",
       "X  1.0  1.0  1\n",
       "Y  2.0  0.0  2\n",
       "Z  0.0  0.0  3"
      ]
     },
     "execution_count": 148,
     "metadata": {},
     "output_type": "execute_result"
    }
   ],
   "source": [
    "# Replacing all missing values (NaNs) in DataFrame df with 0\n",
    "# value=0 specifies the fill value for NaN entries in the DataFrame\n",
    "\n",
    "df.fillna(value=0)"
   ]
  },
  {
   "cell_type": "code",
   "execution_count": 149,
   "id": "ad58d9f0",
   "metadata": {},
   "outputs": [
    {
     "data": {
      "text/html": [
       "<div>\n",
       "<style scoped>\n",
       "    .dataframe tbody tr th:only-of-type {\n",
       "        vertical-align: middle;\n",
       "    }\n",
       "\n",
       "    .dataframe tbody tr th {\n",
       "        vertical-align: top;\n",
       "    }\n",
       "\n",
       "    .dataframe thead th {\n",
       "        text-align: right;\n",
       "    }\n",
       "</style>\n",
       "<table border=\"1\" class=\"dataframe\">\n",
       "  <thead>\n",
       "    <tr style=\"text-align: right;\">\n",
       "      <th></th>\n",
       "      <th>A</th>\n",
       "      <th>B</th>\n",
       "      <th>C</th>\n",
       "    </tr>\n",
       "  </thead>\n",
       "  <tbody>\n",
       "    <tr>\n",
       "      <th>X</th>\n",
       "      <td>1.0</td>\n",
       "      <td>1.0</td>\n",
       "      <td>1</td>\n",
       "    </tr>\n",
       "    <tr>\n",
       "      <th>Y</th>\n",
       "      <td>2.0</td>\n",
       "      <td>1.0</td>\n",
       "      <td>2</td>\n",
       "    </tr>\n",
       "    <tr>\n",
       "      <th>Z</th>\n",
       "      <td>1.5</td>\n",
       "      <td>1.0</td>\n",
       "      <td>3</td>\n",
       "    </tr>\n",
       "  </tbody>\n",
       "</table>\n",
       "</div>"
      ],
      "text/plain": [
       "     A    B  C\n",
       "X  1.0  1.0  1\n",
       "Y  2.0  1.0  2\n",
       "Z  1.5  1.0  3"
      ]
     },
     "execution_count": 149,
     "metadata": {},
     "output_type": "execute_result"
    }
   ],
   "source": [
    "# Replacing all missing values in DataFrame df with the mean of their respective columns\n",
    "# df.mean() calculates the mean of each column, ignoring NaNs\n",
    "# value=df.mean() uses these means as the fill values for NaNs in their corresponding columns\n",
    "\n",
    "df.fillna(value=df.mean())"
   ]
  },
  {
   "cell_type": "code",
   "execution_count": 155,
   "id": "64294143",
   "metadata": {},
   "outputs": [
    {
     "data": {
      "text/html": [
       "<div>\n",
       "<style scoped>\n",
       "    .dataframe tbody tr th:only-of-type {\n",
       "        vertical-align: middle;\n",
       "    }\n",
       "\n",
       "    .dataframe tbody tr th {\n",
       "        vertical-align: top;\n",
       "    }\n",
       "\n",
       "    .dataframe thead th {\n",
       "        text-align: right;\n",
       "    }\n",
       "</style>\n",
       "<table border=\"1\" class=\"dataframe\">\n",
       "  <thead>\n",
       "    <tr style=\"text-align: right;\">\n",
       "      <th></th>\n",
       "      <th>a</th>\n",
       "      <th>b</th>\n",
       "      <th>c</th>\n",
       "      <th>d</th>\n",
       "    </tr>\n",
       "  </thead>\n",
       "  <tbody>\n",
       "    <tr>\n",
       "      <th>0</th>\n",
       "      <td>0</td>\n",
       "      <td>1</td>\n",
       "      <td>2</td>\n",
       "      <td>3</td>\n",
       "    </tr>\n",
       "    <tr>\n",
       "      <th>1</th>\n",
       "      <td>4</td>\n",
       "      <td>5</td>\n",
       "      <td>6</td>\n",
       "      <td>7</td>\n",
       "    </tr>\n",
       "    <tr>\n",
       "      <th>2</th>\n",
       "      <td>8</td>\n",
       "      <td>9</td>\n",
       "      <td>10</td>\n",
       "      <td>11</td>\n",
       "    </tr>\n",
       "    <tr>\n",
       "      <th>3</th>\n",
       "      <td>12</td>\n",
       "      <td>13</td>\n",
       "      <td>14</td>\n",
       "      <td>15</td>\n",
       "    </tr>\n",
       "  </tbody>\n",
       "</table>\n",
       "</div>"
      ],
      "text/plain": [
       "    a   b   c   d\n",
       "0   0   1   2   3\n",
       "1   4   5   6   7\n",
       "2   8   9  10  11\n",
       "3  12  13  14  15"
      ]
     },
     "execution_count": 155,
     "metadata": {},
     "output_type": "execute_result"
    }
   ],
   "source": [
    "# Reading CSV file to pandas DataFrame \n",
    "# (Prefer saving the CSV file to the same directory as notebook, else mention the full path)\n",
    "\n",
    "df = pd.read_csv('example')\n",
    "\n",
    "df"
   ]
  },
  {
   "cell_type": "code",
   "execution_count": 156,
   "id": "13e9d9b1",
   "metadata": {},
   "outputs": [
    {
     "data": {
      "text/html": [
       "<div>\n",
       "<style scoped>\n",
       "    .dataframe tbody tr th:only-of-type {\n",
       "        vertical-align: middle;\n",
       "    }\n",
       "\n",
       "    .dataframe tbody tr th {\n",
       "        vertical-align: top;\n",
       "    }\n",
       "\n",
       "    .dataframe thead th {\n",
       "        text-align: right;\n",
       "    }\n",
       "</style>\n",
       "<table border=\"1\" class=\"dataframe\">\n",
       "  <thead>\n",
       "    <tr style=\"text-align: right;\">\n",
       "      <th></th>\n",
       "      <th>a</th>\n",
       "      <th>b</th>\n",
       "      <th>c</th>\n",
       "      <th>d</th>\n",
       "    </tr>\n",
       "  </thead>\n",
       "  <tbody>\n",
       "    <tr>\n",
       "      <th>0</th>\n",
       "      <td>0</td>\n",
       "      <td>1</td>\n",
       "      <td>2</td>\n",
       "      <td>3</td>\n",
       "    </tr>\n",
       "    <tr>\n",
       "      <th>1</th>\n",
       "      <td>4</td>\n",
       "      <td>5</td>\n",
       "      <td>6</td>\n",
       "      <td>7</td>\n",
       "    </tr>\n",
       "    <tr>\n",
       "      <th>2</th>\n",
       "      <td>8</td>\n",
       "      <td>9</td>\n",
       "      <td>10</td>\n",
       "      <td>11</td>\n",
       "    </tr>\n",
       "    <tr>\n",
       "      <th>3</th>\n",
       "      <td>12</td>\n",
       "      <td>13</td>\n",
       "      <td>14</td>\n",
       "      <td>15</td>\n",
       "    </tr>\n",
       "  </tbody>\n",
       "</table>\n",
       "</div>"
      ],
      "text/plain": [
       "    a   b   c   d\n",
       "0   0   1   2   3\n",
       "1   4   5   6   7\n",
       "2   8   9  10  11\n",
       "3  12  13  14  15"
      ]
     },
     "execution_count": 156,
     "metadata": {},
     "output_type": "execute_result"
    }
   ],
   "source": [
    "df.to_csv('example_test.csv',index=False) # Converting pandas DataFrame to CSV file\n",
    "\n",
    "df"
   ]
  },
  {
   "cell_type": "code",
   "execution_count": 157,
   "id": "0f593994",
   "metadata": {},
   "outputs": [
    {
     "data": {
      "text/html": [
       "<div>\n",
       "<style scoped>\n",
       "    .dataframe tbody tr th:only-of-type {\n",
       "        vertical-align: middle;\n",
       "    }\n",
       "\n",
       "    .dataframe tbody tr th {\n",
       "        vertical-align: top;\n",
       "    }\n",
       "\n",
       "    .dataframe thead th {\n",
       "        text-align: right;\n",
       "    }\n",
       "</style>\n",
       "<table border=\"1\" class=\"dataframe\">\n",
       "  <thead>\n",
       "    <tr style=\"text-align: right;\">\n",
       "      <th></th>\n",
       "      <th>A</th>\n",
       "      <th>B</th>\n",
       "      <th>C</th>\n",
       "      <th>D</th>\n",
       "      <th>E</th>\n",
       "      <th>F</th>\n",
       "      <th>G</th>\n",
       "      <th>H</th>\n",
       "      <th>I</th>\n",
       "      <th>J</th>\n",
       "    </tr>\n",
       "  </thead>\n",
       "  <tbody>\n",
       "    <tr>\n",
       "      <th>0</th>\n",
       "      <td>3</td>\n",
       "      <td>1</td>\n",
       "      <td>2</td>\n",
       "      <td>0</td>\n",
       "      <td>1</td>\n",
       "      <td>1</td>\n",
       "      <td>2</td>\n",
       "      <td>2</td>\n",
       "      <td>1</td>\n",
       "      <td>0</td>\n",
       "    </tr>\n",
       "    <tr>\n",
       "      <th>1</th>\n",
       "      <td>1</td>\n",
       "      <td>1</td>\n",
       "      <td>1</td>\n",
       "      <td>1</td>\n",
       "      <td>3</td>\n",
       "      <td>3</td>\n",
       "      <td>1</td>\n",
       "      <td>0</td>\n",
       "      <td>1</td>\n",
       "      <td>0</td>\n",
       "    </tr>\n",
       "    <tr>\n",
       "      <th>2</th>\n",
       "      <td>0</td>\n",
       "      <td>1</td>\n",
       "      <td>4</td>\n",
       "      <td>0</td>\n",
       "      <td>4</td>\n",
       "      <td>3</td>\n",
       "      <td>2</td>\n",
       "      <td>4</td>\n",
       "      <td>1</td>\n",
       "      <td>4</td>\n",
       "    </tr>\n",
       "    <tr>\n",
       "      <th>3</th>\n",
       "      <td>0</td>\n",
       "      <td>4</td>\n",
       "      <td>2</td>\n",
       "      <td>3</td>\n",
       "      <td>4</td>\n",
       "      <td>2</td>\n",
       "      <td>2</td>\n",
       "      <td>0</td>\n",
       "      <td>4</td>\n",
       "      <td>1</td>\n",
       "    </tr>\n",
       "    <tr>\n",
       "      <th>4</th>\n",
       "      <td>0</td>\n",
       "      <td>2</td>\n",
       "      <td>3</td>\n",
       "      <td>2</td>\n",
       "      <td>2</td>\n",
       "      <td>0</td>\n",
       "      <td>0</td>\n",
       "      <td>4</td>\n",
       "      <td>1</td>\n",
       "      <td>1</td>\n",
       "    </tr>\n",
       "    <tr>\n",
       "      <th>5</th>\n",
       "      <td>1</td>\n",
       "      <td>0</td>\n",
       "      <td>2</td>\n",
       "      <td>4</td>\n",
       "      <td>0</td>\n",
       "      <td>1</td>\n",
       "      <td>1</td>\n",
       "      <td>4</td>\n",
       "      <td>2</td>\n",
       "      <td>1</td>\n",
       "    </tr>\n",
       "    <tr>\n",
       "      <th>6</th>\n",
       "      <td>4</td>\n",
       "      <td>3</td>\n",
       "      <td>1</td>\n",
       "      <td>0</td>\n",
       "      <td>4</td>\n",
       "      <td>4</td>\n",
       "      <td>2</td>\n",
       "      <td>0</td>\n",
       "      <td>4</td>\n",
       "      <td>3</td>\n",
       "    </tr>\n",
       "    <tr>\n",
       "      <th>7</th>\n",
       "      <td>2</td>\n",
       "      <td>4</td>\n",
       "      <td>1</td>\n",
       "      <td>0</td>\n",
       "      <td>3</td>\n",
       "      <td>3</td>\n",
       "      <td>2</td>\n",
       "      <td>1</td>\n",
       "      <td>2</td>\n",
       "      <td>1</td>\n",
       "    </tr>\n",
       "    <tr>\n",
       "      <th>8</th>\n",
       "      <td>3</td>\n",
       "      <td>3</td>\n",
       "      <td>3</td>\n",
       "      <td>3</td>\n",
       "      <td>3</td>\n",
       "      <td>2</td>\n",
       "      <td>2</td>\n",
       "      <td>4</td>\n",
       "      <td>0</td>\n",
       "      <td>0</td>\n",
       "    </tr>\n",
       "    <tr>\n",
       "      <th>9</th>\n",
       "      <td>2</td>\n",
       "      <td>4</td>\n",
       "      <td>1</td>\n",
       "      <td>3</td>\n",
       "      <td>2</td>\n",
       "      <td>1</td>\n",
       "      <td>2</td>\n",
       "      <td>3</td>\n",
       "      <td>1</td>\n",
       "      <td>4</td>\n",
       "    </tr>\n",
       "  </tbody>\n",
       "</table>\n",
       "</div>"
      ],
      "text/plain": [
       "   A  B  C  D  E  F  G  H  I  J\n",
       "0  3  1  2  0  1  1  2  2  1  0\n",
       "1  1  1  1  1  3  3  1  0  1  0\n",
       "2  0  1  4  0  4  3  2  4  1  4\n",
       "3  0  4  2  3  4  2  2  0  4  1\n",
       "4  0  2  3  2  2  0  0  4  1  1\n",
       "5  1  0  2  4  0  1  1  4  2  1\n",
       "6  4  3  1  0  4  4  2  0  4  3\n",
       "7  2  4  1  0  3  3  2  1  2  1\n",
       "8  3  3  3  3  3  2  2  4  0  0\n",
       "9  2  4  1  3  2  1  2  3  1  4"
      ]
     },
     "execution_count": 157,
     "metadata": {},
     "output_type": "execute_result"
    }
   ],
   "source": [
    "# Creating a DataFrame 'df' with random integers:\n",
    "# np.random.randint(0,5,(10,10)) generates a 10x10 array of random integers between 0 and 4.\n",
    "# 'index=[0,1,2,3,4,5,6,7,8,9]' assigns integer indices from 0 to 9 to the rows.\n",
    "# 'columns='A B C D E F G H I J'.split()' creates a list of column names ['A', 'B', 'C', 'D', 'E', 'F', 'G', 'H', 'I', 'J'].\n",
    "\n",
    "df = pd.DataFrame(np.random.randint(0,5,(10,10)), index=[0,1,2,3,4,5,6,7,8,9], columns='A B C D E F G H I J'.split())\n",
    "\n",
    "df  # Display the DataFrame"
   ]
  },
  {
   "cell_type": "code",
   "execution_count": 158,
   "id": "de6101b8",
   "metadata": {},
   "outputs": [
    {
     "data": {
      "text/html": [
       "<div>\n",
       "<style scoped>\n",
       "    .dataframe tbody tr th:only-of-type {\n",
       "        vertical-align: middle;\n",
       "    }\n",
       "\n",
       "    .dataframe tbody tr th {\n",
       "        vertical-align: top;\n",
       "    }\n",
       "\n",
       "    .dataframe thead th {\n",
       "        text-align: right;\n",
       "    }\n",
       "</style>\n",
       "<table border=\"1\" class=\"dataframe\">\n",
       "  <thead>\n",
       "    <tr style=\"text-align: right;\">\n",
       "      <th></th>\n",
       "      <th>A</th>\n",
       "      <th>B</th>\n",
       "      <th>C</th>\n",
       "      <th>D</th>\n",
       "      <th>E</th>\n",
       "      <th>F</th>\n",
       "      <th>G</th>\n",
       "      <th>H</th>\n",
       "      <th>I</th>\n",
       "      <th>J</th>\n",
       "    </tr>\n",
       "  </thead>\n",
       "  <tbody>\n",
       "    <tr>\n",
       "      <th>0</th>\n",
       "      <td>3</td>\n",
       "      <td>1</td>\n",
       "      <td>2</td>\n",
       "      <td>0</td>\n",
       "      <td>1</td>\n",
       "      <td>1</td>\n",
       "      <td>2</td>\n",
       "      <td>2</td>\n",
       "      <td>1</td>\n",
       "      <td>0</td>\n",
       "    </tr>\n",
       "    <tr>\n",
       "      <th>1</th>\n",
       "      <td>1</td>\n",
       "      <td>1</td>\n",
       "      <td>1</td>\n",
       "      <td>1</td>\n",
       "      <td>3</td>\n",
       "      <td>3</td>\n",
       "      <td>1</td>\n",
       "      <td>0</td>\n",
       "      <td>1</td>\n",
       "      <td>0</td>\n",
       "    </tr>\n",
       "    <tr>\n",
       "      <th>2</th>\n",
       "      <td>0</td>\n",
       "      <td>1</td>\n",
       "      <td>4</td>\n",
       "      <td>0</td>\n",
       "      <td>4</td>\n",
       "      <td>3</td>\n",
       "      <td>2</td>\n",
       "      <td>4</td>\n",
       "      <td>1</td>\n",
       "      <td>4</td>\n",
       "    </tr>\n",
       "    <tr>\n",
       "      <th>3</th>\n",
       "      <td>0</td>\n",
       "      <td>4</td>\n",
       "      <td>2</td>\n",
       "      <td>3</td>\n",
       "      <td>4</td>\n",
       "      <td>2</td>\n",
       "      <td>2</td>\n",
       "      <td>0</td>\n",
       "      <td>4</td>\n",
       "      <td>1</td>\n",
       "    </tr>\n",
       "    <tr>\n",
       "      <th>4</th>\n",
       "      <td>0</td>\n",
       "      <td>2</td>\n",
       "      <td>3</td>\n",
       "      <td>2</td>\n",
       "      <td>2</td>\n",
       "      <td>0</td>\n",
       "      <td>0</td>\n",
       "      <td>4</td>\n",
       "      <td>1</td>\n",
       "      <td>1</td>\n",
       "    </tr>\n",
       "  </tbody>\n",
       "</table>\n",
       "</div>"
      ],
      "text/plain": [
       "   A  B  C  D  E  F  G  H  I  J\n",
       "0  3  1  2  0  1  1  2  2  1  0\n",
       "1  1  1  1  1  3  3  1  0  1  0\n",
       "2  0  1  4  0  4  3  2  4  1  4\n",
       "3  0  4  2  3  4  2  2  0  4  1\n",
       "4  0  2  3  2  2  0  0  4  1  1"
      ]
     },
     "execution_count": 158,
     "metadata": {},
     "output_type": "execute_result"
    }
   ],
   "source": [
    "df.head() # First 5 rows"
   ]
  },
  {
   "cell_type": "code",
   "execution_count": 160,
   "id": "8dc37341",
   "metadata": {},
   "outputs": [
    {
     "data": {
      "text/html": [
       "<div>\n",
       "<style scoped>\n",
       "    .dataframe tbody tr th:only-of-type {\n",
       "        vertical-align: middle;\n",
       "    }\n",
       "\n",
       "    .dataframe tbody tr th {\n",
       "        vertical-align: top;\n",
       "    }\n",
       "\n",
       "    .dataframe thead th {\n",
       "        text-align: right;\n",
       "    }\n",
       "</style>\n",
       "<table border=\"1\" class=\"dataframe\">\n",
       "  <thead>\n",
       "    <tr style=\"text-align: right;\">\n",
       "      <th></th>\n",
       "      <th>A</th>\n",
       "      <th>B</th>\n",
       "      <th>C</th>\n",
       "      <th>D</th>\n",
       "      <th>E</th>\n",
       "      <th>F</th>\n",
       "      <th>G</th>\n",
       "      <th>H</th>\n",
       "      <th>I</th>\n",
       "      <th>J</th>\n",
       "    </tr>\n",
       "  </thead>\n",
       "  <tbody>\n",
       "    <tr>\n",
       "      <th>0</th>\n",
       "      <td>3</td>\n",
       "      <td>1</td>\n",
       "      <td>2</td>\n",
       "      <td>0</td>\n",
       "      <td>1</td>\n",
       "      <td>1</td>\n",
       "      <td>2</td>\n",
       "      <td>2</td>\n",
       "      <td>1</td>\n",
       "      <td>0</td>\n",
       "    </tr>\n",
       "    <tr>\n",
       "      <th>1</th>\n",
       "      <td>1</td>\n",
       "      <td>1</td>\n",
       "      <td>1</td>\n",
       "      <td>1</td>\n",
       "      <td>3</td>\n",
       "      <td>3</td>\n",
       "      <td>1</td>\n",
       "      <td>0</td>\n",
       "      <td>1</td>\n",
       "      <td>0</td>\n",
       "    </tr>\n",
       "    <tr>\n",
       "      <th>2</th>\n",
       "      <td>0</td>\n",
       "      <td>1</td>\n",
       "      <td>4</td>\n",
       "      <td>0</td>\n",
       "      <td>4</td>\n",
       "      <td>3</td>\n",
       "      <td>2</td>\n",
       "      <td>4</td>\n",
       "      <td>1</td>\n",
       "      <td>4</td>\n",
       "    </tr>\n",
       "    <tr>\n",
       "      <th>3</th>\n",
       "      <td>0</td>\n",
       "      <td>4</td>\n",
       "      <td>2</td>\n",
       "      <td>3</td>\n",
       "      <td>4</td>\n",
       "      <td>2</td>\n",
       "      <td>2</td>\n",
       "      <td>0</td>\n",
       "      <td>4</td>\n",
       "      <td>1</td>\n",
       "    </tr>\n",
       "    <tr>\n",
       "      <th>4</th>\n",
       "      <td>0</td>\n",
       "      <td>2</td>\n",
       "      <td>3</td>\n",
       "      <td>2</td>\n",
       "      <td>2</td>\n",
       "      <td>0</td>\n",
       "      <td>0</td>\n",
       "      <td>4</td>\n",
       "      <td>1</td>\n",
       "      <td>1</td>\n",
       "    </tr>\n",
       "    <tr>\n",
       "      <th>5</th>\n",
       "      <td>1</td>\n",
       "      <td>0</td>\n",
       "      <td>2</td>\n",
       "      <td>4</td>\n",
       "      <td>0</td>\n",
       "      <td>1</td>\n",
       "      <td>1</td>\n",
       "      <td>4</td>\n",
       "      <td>2</td>\n",
       "      <td>1</td>\n",
       "    </tr>\n",
       "    <tr>\n",
       "      <th>6</th>\n",
       "      <td>4</td>\n",
       "      <td>3</td>\n",
       "      <td>1</td>\n",
       "      <td>0</td>\n",
       "      <td>4</td>\n",
       "      <td>4</td>\n",
       "      <td>2</td>\n",
       "      <td>0</td>\n",
       "      <td>4</td>\n",
       "      <td>3</td>\n",
       "    </tr>\n",
       "  </tbody>\n",
       "</table>\n",
       "</div>"
      ],
      "text/plain": [
       "   A  B  C  D  E  F  G  H  I  J\n",
       "0  3  1  2  0  1  1  2  2  1  0\n",
       "1  1  1  1  1  3  3  1  0  1  0\n",
       "2  0  1  4  0  4  3  2  4  1  4\n",
       "3  0  4  2  3  4  2  2  0  4  1\n",
       "4  0  2  3  2  2  0  0  4  1  1\n",
       "5  1  0  2  4  0  1  1  4  2  1\n",
       "6  4  3  1  0  4  4  2  0  4  3"
      ]
     },
     "execution_count": 160,
     "metadata": {},
     "output_type": "execute_result"
    }
   ],
   "source": [
    "df.head(-3) # All except the last 3"
   ]
  },
  {
   "cell_type": "code",
   "execution_count": 161,
   "id": "ec91102a",
   "metadata": {},
   "outputs": [
    {
     "data": {
      "text/html": [
       "<div>\n",
       "<style scoped>\n",
       "    .dataframe tbody tr th:only-of-type {\n",
       "        vertical-align: middle;\n",
       "    }\n",
       "\n",
       "    .dataframe tbody tr th {\n",
       "        vertical-align: top;\n",
       "    }\n",
       "\n",
       "    .dataframe thead th {\n",
       "        text-align: right;\n",
       "    }\n",
       "</style>\n",
       "<table border=\"1\" class=\"dataframe\">\n",
       "  <thead>\n",
       "    <tr style=\"text-align: right;\">\n",
       "      <th></th>\n",
       "      <th>A</th>\n",
       "      <th>B</th>\n",
       "      <th>C</th>\n",
       "      <th>D</th>\n",
       "      <th>E</th>\n",
       "      <th>F</th>\n",
       "      <th>G</th>\n",
       "      <th>H</th>\n",
       "      <th>I</th>\n",
       "      <th>J</th>\n",
       "    </tr>\n",
       "  </thead>\n",
       "  <tbody>\n",
       "    <tr>\n",
       "      <th>5</th>\n",
       "      <td>1</td>\n",
       "      <td>0</td>\n",
       "      <td>2</td>\n",
       "      <td>4</td>\n",
       "      <td>0</td>\n",
       "      <td>1</td>\n",
       "      <td>1</td>\n",
       "      <td>4</td>\n",
       "      <td>2</td>\n",
       "      <td>1</td>\n",
       "    </tr>\n",
       "    <tr>\n",
       "      <th>6</th>\n",
       "      <td>4</td>\n",
       "      <td>3</td>\n",
       "      <td>1</td>\n",
       "      <td>0</td>\n",
       "      <td>4</td>\n",
       "      <td>4</td>\n",
       "      <td>2</td>\n",
       "      <td>0</td>\n",
       "      <td>4</td>\n",
       "      <td>3</td>\n",
       "    </tr>\n",
       "    <tr>\n",
       "      <th>7</th>\n",
       "      <td>2</td>\n",
       "      <td>4</td>\n",
       "      <td>1</td>\n",
       "      <td>0</td>\n",
       "      <td>3</td>\n",
       "      <td>3</td>\n",
       "      <td>2</td>\n",
       "      <td>1</td>\n",
       "      <td>2</td>\n",
       "      <td>1</td>\n",
       "    </tr>\n",
       "    <tr>\n",
       "      <th>8</th>\n",
       "      <td>3</td>\n",
       "      <td>3</td>\n",
       "      <td>3</td>\n",
       "      <td>3</td>\n",
       "      <td>3</td>\n",
       "      <td>2</td>\n",
       "      <td>2</td>\n",
       "      <td>4</td>\n",
       "      <td>0</td>\n",
       "      <td>0</td>\n",
       "    </tr>\n",
       "    <tr>\n",
       "      <th>9</th>\n",
       "      <td>2</td>\n",
       "      <td>4</td>\n",
       "      <td>1</td>\n",
       "      <td>3</td>\n",
       "      <td>2</td>\n",
       "      <td>1</td>\n",
       "      <td>2</td>\n",
       "      <td>3</td>\n",
       "      <td>1</td>\n",
       "      <td>4</td>\n",
       "    </tr>\n",
       "  </tbody>\n",
       "</table>\n",
       "</div>"
      ],
      "text/plain": [
       "   A  B  C  D  E  F  G  H  I  J\n",
       "5  1  0  2  4  0  1  1  4  2  1\n",
       "6  4  3  1  0  4  4  2  0  4  3\n",
       "7  2  4  1  0  3  3  2  1  2  1\n",
       "8  3  3  3  3  3  2  2  4  0  0\n",
       "9  2  4  1  3  2  1  2  3  1  4"
      ]
     },
     "execution_count": 161,
     "metadata": {},
     "output_type": "execute_result"
    }
   ],
   "source": [
    "df.tail() # Last 5 rows"
   ]
  },
  {
   "cell_type": "code",
   "execution_count": 162,
   "id": "2fa9295a",
   "metadata": {},
   "outputs": [
    {
     "data": {
      "text/html": [
       "<div>\n",
       "<style scoped>\n",
       "    .dataframe tbody tr th:only-of-type {\n",
       "        vertical-align: middle;\n",
       "    }\n",
       "\n",
       "    .dataframe tbody tr th {\n",
       "        vertical-align: top;\n",
       "    }\n",
       "\n",
       "    .dataframe thead th {\n",
       "        text-align: right;\n",
       "    }\n",
       "</style>\n",
       "<table border=\"1\" class=\"dataframe\">\n",
       "  <thead>\n",
       "    <tr style=\"text-align: right;\">\n",
       "      <th></th>\n",
       "      <th>A</th>\n",
       "      <th>B</th>\n",
       "      <th>C</th>\n",
       "      <th>D</th>\n",
       "      <th>E</th>\n",
       "      <th>F</th>\n",
       "      <th>G</th>\n",
       "      <th>H</th>\n",
       "      <th>I</th>\n",
       "      <th>J</th>\n",
       "    </tr>\n",
       "  </thead>\n",
       "  <tbody>\n",
       "    <tr>\n",
       "      <th>2</th>\n",
       "      <td>0</td>\n",
       "      <td>1</td>\n",
       "      <td>4</td>\n",
       "      <td>0</td>\n",
       "      <td>4</td>\n",
       "      <td>3</td>\n",
       "      <td>2</td>\n",
       "      <td>4</td>\n",
       "      <td>1</td>\n",
       "      <td>4</td>\n",
       "    </tr>\n",
       "    <tr>\n",
       "      <th>3</th>\n",
       "      <td>0</td>\n",
       "      <td>4</td>\n",
       "      <td>2</td>\n",
       "      <td>3</td>\n",
       "      <td>4</td>\n",
       "      <td>2</td>\n",
       "      <td>2</td>\n",
       "      <td>0</td>\n",
       "      <td>4</td>\n",
       "      <td>1</td>\n",
       "    </tr>\n",
       "    <tr>\n",
       "      <th>4</th>\n",
       "      <td>0</td>\n",
       "      <td>2</td>\n",
       "      <td>3</td>\n",
       "      <td>2</td>\n",
       "      <td>2</td>\n",
       "      <td>0</td>\n",
       "      <td>0</td>\n",
       "      <td>4</td>\n",
       "      <td>1</td>\n",
       "      <td>1</td>\n",
       "    </tr>\n",
       "    <tr>\n",
       "      <th>5</th>\n",
       "      <td>1</td>\n",
       "      <td>0</td>\n",
       "      <td>2</td>\n",
       "      <td>4</td>\n",
       "      <td>0</td>\n",
       "      <td>1</td>\n",
       "      <td>1</td>\n",
       "      <td>4</td>\n",
       "      <td>2</td>\n",
       "      <td>1</td>\n",
       "    </tr>\n",
       "    <tr>\n",
       "      <th>6</th>\n",
       "      <td>4</td>\n",
       "      <td>3</td>\n",
       "      <td>1</td>\n",
       "      <td>0</td>\n",
       "      <td>4</td>\n",
       "      <td>4</td>\n",
       "      <td>2</td>\n",
       "      <td>0</td>\n",
       "      <td>4</td>\n",
       "      <td>3</td>\n",
       "    </tr>\n",
       "    <tr>\n",
       "      <th>7</th>\n",
       "      <td>2</td>\n",
       "      <td>4</td>\n",
       "      <td>1</td>\n",
       "      <td>0</td>\n",
       "      <td>3</td>\n",
       "      <td>3</td>\n",
       "      <td>2</td>\n",
       "      <td>1</td>\n",
       "      <td>2</td>\n",
       "      <td>1</td>\n",
       "    </tr>\n",
       "    <tr>\n",
       "      <th>8</th>\n",
       "      <td>3</td>\n",
       "      <td>3</td>\n",
       "      <td>3</td>\n",
       "      <td>3</td>\n",
       "      <td>3</td>\n",
       "      <td>2</td>\n",
       "      <td>2</td>\n",
       "      <td>4</td>\n",
       "      <td>0</td>\n",
       "      <td>0</td>\n",
       "    </tr>\n",
       "    <tr>\n",
       "      <th>9</th>\n",
       "      <td>2</td>\n",
       "      <td>4</td>\n",
       "      <td>1</td>\n",
       "      <td>3</td>\n",
       "      <td>2</td>\n",
       "      <td>1</td>\n",
       "      <td>2</td>\n",
       "      <td>3</td>\n",
       "      <td>1</td>\n",
       "      <td>4</td>\n",
       "    </tr>\n",
       "  </tbody>\n",
       "</table>\n",
       "</div>"
      ],
      "text/plain": [
       "   A  B  C  D  E  F  G  H  I  J\n",
       "2  0  1  4  0  4  3  2  4  1  4\n",
       "3  0  4  2  3  4  2  2  0  4  1\n",
       "4  0  2  3  2  2  0  0  4  1  1\n",
       "5  1  0  2  4  0  1  1  4  2  1\n",
       "6  4  3  1  0  4  4  2  0  4  3\n",
       "7  2  4  1  0  3  3  2  1  2  1\n",
       "8  3  3  3  3  3  2  2  4  0  0\n",
       "9  2  4  1  3  2  1  2  3  1  4"
      ]
     },
     "execution_count": 162,
     "metadata": {},
     "output_type": "execute_result"
    }
   ],
   "source": [
    "df.tail(-2) # All except first 2 "
   ]
  },
  {
   "cell_type": "code",
   "execution_count": 164,
   "id": "870f3ffe",
   "metadata": {},
   "outputs": [
    {
     "name": "stdout",
     "output_type": "stream",
     "text": [
      "<class 'pandas.core.frame.DataFrame'>\n",
      "Int64Index: 10 entries, 0 to 9\n",
      "Data columns (total 10 columns):\n",
      " #   Column  Non-Null Count  Dtype\n",
      "---  ------  --------------  -----\n",
      " 0   A       10 non-null     int32\n",
      " 1   B       10 non-null     int32\n",
      " 2   C       10 non-null     int32\n",
      " 3   D       10 non-null     int32\n",
      " 4   E       10 non-null     int32\n",
      " 5   F       10 non-null     int32\n",
      " 6   G       10 non-null     int32\n",
      " 7   H       10 non-null     int32\n",
      " 8   I       10 non-null     int32\n",
      " 9   J       10 non-null     int32\n",
      "dtypes: int32(10)\n",
      "memory usage: 480.0 bytes\n"
     ]
    }
   ],
   "source": [
    "# Displays information about the DataFrame including the number of entries, the data type and memory usage:\n",
    "# It shows:\n",
    "# - The class type, which is DataFrame.\n",
    "# - The index type, showing the range from 0 to the number of rows minus one.\n",
    "# - The column count and each column's name along with its non-null count and data type.\n",
    "# - The datatypes (dtypes) of the columns.\n",
    "# - Memory usage of the DataFrame, which helps in understanding how much space the DataFrame is taking in memory.\n",
    "\n",
    "df.info()"
   ]
  },
  {
   "cell_type": "code",
   "execution_count": 165,
   "id": "40ffb135",
   "metadata": {},
   "outputs": [
    {
     "data": {
      "text/html": [
       "<div>\n",
       "<style scoped>\n",
       "    .dataframe tbody tr th:only-of-type {\n",
       "        vertical-align: middle;\n",
       "    }\n",
       "\n",
       "    .dataframe tbody tr th {\n",
       "        vertical-align: top;\n",
       "    }\n",
       "\n",
       "    .dataframe thead th {\n",
       "        text-align: right;\n",
       "    }\n",
       "</style>\n",
       "<table border=\"1\" class=\"dataframe\">\n",
       "  <thead>\n",
       "    <tr style=\"text-align: right;\">\n",
       "      <th></th>\n",
       "      <th>A</th>\n",
       "      <th>B</th>\n",
       "      <th>C</th>\n",
       "      <th>D</th>\n",
       "      <th>E</th>\n",
       "      <th>F</th>\n",
       "      <th>G</th>\n",
       "      <th>H</th>\n",
       "      <th>I</th>\n",
       "      <th>J</th>\n",
       "    </tr>\n",
       "  </thead>\n",
       "  <tbody>\n",
       "    <tr>\n",
       "      <th>count</th>\n",
       "      <td>10.000000</td>\n",
       "      <td>10.000000</td>\n",
       "      <td>10.000000</td>\n",
       "      <td>10.000000</td>\n",
       "      <td>10.000000</td>\n",
       "      <td>10.000000</td>\n",
       "      <td>10.000000</td>\n",
       "      <td>10.000000</td>\n",
       "      <td>10.000000</td>\n",
       "      <td>10.000000</td>\n",
       "    </tr>\n",
       "    <tr>\n",
       "      <th>mean</th>\n",
       "      <td>1.600000</td>\n",
       "      <td>2.300000</td>\n",
       "      <td>2.000000</td>\n",
       "      <td>1.600000</td>\n",
       "      <td>2.600000</td>\n",
       "      <td>2.000000</td>\n",
       "      <td>1.600000</td>\n",
       "      <td>2.200000</td>\n",
       "      <td>1.700000</td>\n",
       "      <td>1.500000</td>\n",
       "    </tr>\n",
       "    <tr>\n",
       "      <th>std</th>\n",
       "      <td>1.429841</td>\n",
       "      <td>1.494434</td>\n",
       "      <td>1.054093</td>\n",
       "      <td>1.577621</td>\n",
       "      <td>1.349897</td>\n",
       "      <td>1.247219</td>\n",
       "      <td>0.699206</td>\n",
       "      <td>1.813529</td>\n",
       "      <td>1.337494</td>\n",
       "      <td>1.581139</td>\n",
       "    </tr>\n",
       "    <tr>\n",
       "      <th>min</th>\n",
       "      <td>0.000000</td>\n",
       "      <td>0.000000</td>\n",
       "      <td>1.000000</td>\n",
       "      <td>0.000000</td>\n",
       "      <td>0.000000</td>\n",
       "      <td>0.000000</td>\n",
       "      <td>0.000000</td>\n",
       "      <td>0.000000</td>\n",
       "      <td>0.000000</td>\n",
       "      <td>0.000000</td>\n",
       "    </tr>\n",
       "    <tr>\n",
       "      <th>25%</th>\n",
       "      <td>0.250000</td>\n",
       "      <td>1.000000</td>\n",
       "      <td>1.000000</td>\n",
       "      <td>0.000000</td>\n",
       "      <td>2.000000</td>\n",
       "      <td>1.000000</td>\n",
       "      <td>1.250000</td>\n",
       "      <td>0.250000</td>\n",
       "      <td>1.000000</td>\n",
       "      <td>0.250000</td>\n",
       "    </tr>\n",
       "    <tr>\n",
       "      <th>50%</th>\n",
       "      <td>1.500000</td>\n",
       "      <td>2.500000</td>\n",
       "      <td>2.000000</td>\n",
       "      <td>1.500000</td>\n",
       "      <td>3.000000</td>\n",
       "      <td>2.000000</td>\n",
       "      <td>2.000000</td>\n",
       "      <td>2.500000</td>\n",
       "      <td>1.000000</td>\n",
       "      <td>1.000000</td>\n",
       "    </tr>\n",
       "    <tr>\n",
       "      <th>75%</th>\n",
       "      <td>2.750000</td>\n",
       "      <td>3.750000</td>\n",
       "      <td>2.750000</td>\n",
       "      <td>3.000000</td>\n",
       "      <td>3.750000</td>\n",
       "      <td>3.000000</td>\n",
       "      <td>2.000000</td>\n",
       "      <td>4.000000</td>\n",
       "      <td>2.000000</td>\n",
       "      <td>2.500000</td>\n",
       "    </tr>\n",
       "    <tr>\n",
       "      <th>max</th>\n",
       "      <td>4.000000</td>\n",
       "      <td>4.000000</td>\n",
       "      <td>4.000000</td>\n",
       "      <td>4.000000</td>\n",
       "      <td>4.000000</td>\n",
       "      <td>4.000000</td>\n",
       "      <td>2.000000</td>\n",
       "      <td>4.000000</td>\n",
       "      <td>4.000000</td>\n",
       "      <td>4.000000</td>\n",
       "    </tr>\n",
       "  </tbody>\n",
       "</table>\n",
       "</div>"
      ],
      "text/plain": [
       "               A          B          C          D          E          F  \\\n",
       "count  10.000000  10.000000  10.000000  10.000000  10.000000  10.000000   \n",
       "mean    1.600000   2.300000   2.000000   1.600000   2.600000   2.000000   \n",
       "std     1.429841   1.494434   1.054093   1.577621   1.349897   1.247219   \n",
       "min     0.000000   0.000000   1.000000   0.000000   0.000000   0.000000   \n",
       "25%     0.250000   1.000000   1.000000   0.000000   2.000000   1.000000   \n",
       "50%     1.500000   2.500000   2.000000   1.500000   3.000000   2.000000   \n",
       "75%     2.750000   3.750000   2.750000   3.000000   3.750000   3.000000   \n",
       "max     4.000000   4.000000   4.000000   4.000000   4.000000   4.000000   \n",
       "\n",
       "               G          H          I          J  \n",
       "count  10.000000  10.000000  10.000000  10.000000  \n",
       "mean    1.600000   2.200000   1.700000   1.500000  \n",
       "std     0.699206   1.813529   1.337494   1.581139  \n",
       "min     0.000000   0.000000   0.000000   0.000000  \n",
       "25%     1.250000   0.250000   1.000000   0.250000  \n",
       "50%     2.000000   2.500000   1.000000   1.000000  \n",
       "75%     2.000000   4.000000   2.000000   2.500000  \n",
       "max     2.000000   4.000000   4.000000   4.000000  "
      ]
     },
     "execution_count": 165,
     "metadata": {},
     "output_type": "execute_result"
    }
   ],
   "source": [
    "# Generates descriptive statistics:\n",
    "# - It provides count, which is the number of non-NaN entries in each column.\n",
    "# - mean: The average value of each column.\n",
    "# - std: Standard deviation of the column, measuring how spread out the values are.\n",
    "# - min: The smallest value in each column.\n",
    "# - 25% (first quartile), 50% (median), 75% (third quartile): These are the percentile values indicating the distribution of the data.\n",
    "# - max: The largest value in each column.\n",
    "# This method is particularly useful for providing a quick overview of the numerical data within a DataFrame.\n",
    "\n",
    "df.describe()"
   ]
  },
  {
   "cell_type": "code",
   "execution_count": 166,
   "id": "f013e4d2",
   "metadata": {},
   "outputs": [
    {
     "data": {
      "text/plain": [
       "<bound method Series.unique of 0    3\n",
       "1    1\n",
       "2    0\n",
       "3    0\n",
       "4    0\n",
       "5    1\n",
       "6    4\n",
       "7    2\n",
       "8    3\n",
       "9    2\n",
       "Name: A, dtype: int32>"
      ]
     },
     "execution_count": 166,
     "metadata": {},
     "output_type": "execute_result"
    }
   ],
   "source": [
    "df['A'].unique # unique set of values in column 'A'"
   ]
  },
  {
   "cell_type": "code",
   "execution_count": 167,
   "id": "a580f5be",
   "metadata": {},
   "outputs": [
    {
     "data": {
      "text/plain": [
       "5"
      ]
     },
     "execution_count": 167,
     "metadata": {},
     "output_type": "execute_result"
    }
   ],
   "source": [
    "df['A'].nunique() # number of unique set of values in column 'A'"
   ]
  },
  {
   "cell_type": "code",
   "execution_count": 169,
   "id": "3d75213e",
   "metadata": {},
   "outputs": [
    {
     "data": {
      "text/plain": [
       "0    3\n",
       "3    2\n",
       "1    2\n",
       "2    2\n",
       "4    1\n",
       "Name: A, dtype: int64"
      ]
     },
     "execution_count": 169,
     "metadata": {},
     "output_type": "execute_result"
    }
   ],
   "source": [
    "# Computes the frequency count of unique values in column 'A' of the DataFrame df:\n",
    "# - It counts how many times each unique value occurs in the specified column.\n",
    "# - Returns a Series where the unique values in column 'A' are the index labels, and the corresponding values are their respective counts.\n",
    "\n",
    "df['A'].value_counts()"
   ]
  },
  {
   "cell_type": "code",
   "execution_count": 170,
   "id": "da22411c",
   "metadata": {},
   "outputs": [
    {
     "data": {
      "text/plain": [
       "A    False\n",
       "B    False\n",
       "C    False\n",
       "D    False\n",
       "E    False\n",
       "F    False\n",
       "G    False\n",
       "H    False\n",
       "I    False\n",
       "J    False\n",
       "dtype: bool"
      ]
     },
     "execution_count": 170,
     "metadata": {},
     "output_type": "execute_result"
    }
   ],
   "source": [
    "df.sum().isnull() # checks for any NULL values in the DataFrame"
   ]
  },
  {
   "cell_type": "markdown",
   "id": "263e4a98",
   "metadata": {},
   "source": [
    "_______________________\n",
    "_______________________\n",
    "\n",
    "# `Matplotlib` - Library"
   ]
  },
  {
   "cell_type": "code",
   "execution_count": 171,
   "id": "df90f9cc",
   "metadata": {},
   "outputs": [],
   "source": [
    "from matplotlib import pyplot as plt # importing matplotlib\n",
    "%matplotlib inline"
   ]
  },
  {
   "cell_type": "code",
   "execution_count": 172,
   "id": "a6b7f2c3",
   "metadata": {},
   "outputs": [
    {
     "data": {
      "image/png": "[encoded data removed]",
      "text/plain": [
       "<Figure size 432x288 with 1 Axes>"
      ]
     },
     "metadata": {
      "needs_background": "light"
     },
     "output_type": "display_data"
    }
   ],
   "source": [
    "import matplotlib.pyplot as plt  # Importing the pyplot module from the matplotlib library\n",
    "\n",
    "# Creating a line plot:\n",
    "# - The first list [1,2,3,4,5] represents the x-coordinates of the points to plot.\n",
    "# - The second list [1,2,3,4,5] represents the y-coordinates of the points to plot.\n",
    "# - The plot connects these points with lines in the order provided.\n",
    "plt.plot([1,2,3,4,5], [1,2,3,4,5])\n",
    "\n",
    "# Displaying the plot\n",
    "plt.show()\n"
   ]
  },
  {
   "cell_type": "code",
   "execution_count": 174,
   "id": "5fb1e4cd",
   "metadata": {},
   "outputs": [
    {
     "data": {
      "image/png": "[encoded data removed]",
      "text/plain": [
       "<Figure size 432x288 with 1 Axes>"
      ]
     },
     "metadata": {
      "needs_background": "light"
     },
     "output_type": "display_data"
    },
    {
     "data": {
      "text/plain": [
       "[<matplotlib.lines.Line2D at 0x235f846a460>]"
      ]
     },
     "execution_count": 174,
     "metadata": {},
     "output_type": "execute_result"
    },
    {
     "data": {
      "image/png": "[encoded data removed]",
      "text/plain": [
       "<Figure size 432x288 with 1 Axes>"
      ]
     },
     "metadata": {
      "needs_background": "light"
     },
     "output_type": "display_data"
    }
   ],
   "source": [
    "# Generate arrays of equally spaced numbers:\n",
    "# - np.linspace(start, stop, num) generates 'num' equally spaced numbers between 'start' and 'stop', inclusive.\n",
    "# - Here, x contains 10 equally spaced numbers between 1 and 30.\n",
    "# - Similarly, y contains 10 equally spaced numbers between 1 and 20.\n",
    "x = np.linspace(1, 30, 10)\n",
    "y = np.linspace(1, 20, 10)\n",
    "\n",
    "# Create a line plot:\n",
    "# - The plot connects the points defined by the x and y arrays with lines.\n",
    "plt.plot(x, y)\n",
    "\n",
    "# Display the plot\n",
    "plt.show()\n",
    "\n",
    "# Display the plot with marking points (x,y)\n",
    "plt.plot(x,y,marker='*')\n"
   ]
  },
  {
   "cell_type": "code",
   "execution_count": 182,
   "id": "be2cca21",
   "metadata": {},
   "outputs": [
    {
     "data": {
      "image/png": "[encoded data removed]",
      "text/plain": [
       "<Figure size 432x288 with 1 Axes>"
      ]
     },
     "metadata": {
      "needs_background": "light"
     },
     "output_type": "display_data"
    }
   ],
   "source": [
    "# Plotting the data with markers:\n",
    "# - plt.plot(x, y, marker='o') creates a line plot with markers at each data point.\n",
    "#   - The 'o' marker specifies that circles should be used as markers.\n",
    "plt.plot(x, y, marker='o')\n",
    "\n",
    "# Adding title and axis labels:\n",
    "# - plt.title('This is the Title') sets the title of the plot.\n",
    "plt.title('This is the Title')\n",
    "\n",
    "# - plt.xlabel('This is X-Axis') sets the label for the x-axis.\n",
    "plt.xlabel('This is X-Axis')\n",
    "\n",
    "# - plt.ylabel('This is Y-Axis') sets the label for the y-axis.\n",
    "plt.ylabel('This is Y-Axis')\n",
    "\n",
    "# Displaying the plot\n",
    "plt.show()\n"
   ]
  },
  {
   "cell_type": "code",
   "execution_count": 185,
   "id": "c1513e53",
   "metadata": {},
   "outputs": [
    {
     "data": {
      "image/png": "[encoded data removed]",
      "text/plain": [
       "<Figure size 576x432 with 1 Axes>"
      ]
     },
     "metadata": {
      "needs_background": "light"
     },
     "output_type": "display_data"
    }
   ],
   "source": [
    "# Setting the size of the figure:\n",
    "# - plt.figure(figsize=(8, 6)) creates a new figure with a specified width and height.\n",
    "#   - The width is set to 8 inches and the height is set to 6 inches.\n",
    "plt.figure(figsize=(8, 6))\n",
    "\n",
    "# Plotting the data with markers:\n",
    "# - plt.plot(x, y, marker='.') creates a line plot with markers at each data point.\n",
    "#   - The '.' marker specifies that points should be used as markers.\n",
    "plt.plot(x, y, marker='.')\n",
    "\n",
    "# Adding title and axis labels:\n",
    "# - plt.title('This is the Title') sets the title of the plot.\n",
    "plt.title('This is the Title')\n",
    "\n",
    "# - plt.xlabel('This is X-Axis') sets the label for the x-axis.\n",
    "plt.xlabel('This is X-Axis')\n",
    "\n",
    "# - plt.ylabel('This is Y-Axis') sets the label for the y-axis.\n",
    "plt.ylabel('This is Y-Axis')\n",
    "\n",
    "# Displaying the plot\n",
    "plt.show()\n"
   ]
  },
  {
   "cell_type": "code",
   "execution_count": 186,
   "id": "4e885d22",
   "metadata": {},
   "outputs": [
    {
     "data": {
      "image/png": "[encoded data removed]",
      "text/plain": [
       "<Figure size 720x720 with 1 Axes>"
      ]
     },
     "metadata": {
      "needs_background": "light"
     },
     "output_type": "display_data"
    }
   ],
   "source": [
    "# Importing necessary libraries\n",
    "import numpy as np\n",
    "import matplotlib.pyplot as plt\n",
    "\n",
    "# Generating data for the first line\n",
    "x1 = np.linspace(0, 10, 10)\n",
    "y1 = np.linspace(0, 20, 10)\n",
    "\n",
    "# Generating data for the second line\n",
    "x2 = np.linspace(15, 25, 5)\n",
    "y2 = np.linspace(10, 25, 5)\n",
    "\n",
    "# Setting the size of the figure\n",
    "plt.figure(figsize=(10, 10))\n",
    "\n",
    "# Plotting the first line\n",
    "plt.plot(x1, y1, marker='.', label='Line 1', color='red', linestyle='--', linewidth=2)\n",
    "\n",
    "# Plotting the second line\n",
    "plt.plot(x2, y2, marker='^', label='Line 2', color='green', linestyle='-.', linewidth=0.5)\n",
    "\n",
    "# Adding title and axis labels\n",
    "plt.title(\"Plotting the Graph\")\n",
    "plt.xlabel('X')\n",
    "plt.ylabel('Y')\n",
    "\n",
    "# Displaying the legend\n",
    "plt.legend()\n",
    "\n",
    "# Displaying the plot\n",
    "plt.show()\n"
   ]
  },
  {
   "cell_type": "code",
   "execution_count": 187,
   "id": "fde0315b",
   "metadata": {},
   "outputs": [
    {
     "data": {
      "image/png": "[encoded data removed]",
      "text/plain": [
       "<Figure size 432x288 with 1 Axes>"
      ]
     },
     "metadata": {
      "needs_background": "light"
     },
     "output_type": "display_data"
    }
   ],
   "source": [
    "# Define the years and generate random sales data for two products (Pencil and Pen)\n",
    "year = [2008, 2009, 2010, 2011, 2012, 2013, 2014, 2015, 2016, 2017]\n",
    "sales1 = np.random.randint(50000, 100000, 10)\n",
    "sales2 = np.random.randint(50000, 100000, 10)\n",
    "\n",
    "# Create a bar plot for sales1\n",
    "plt.bar(year, sales1, color='r', alpha=0.5, label='Pencil')\n",
    "\n",
    "# Create a bar plot for sales2, stacked on top of sales1\n",
    "# This will effectively overlay the bars for sales2 on top of the bars for sales1\n",
    "plt.bar(year, sales2, color='b', alpha=0.5, label='Pen')\n",
    "\n",
    "# Add a legend to the plot to distinguish between the two products\n",
    "plt.legend()\n",
    "\n",
    "# Display the plot\n",
    "plt.show()\n"
   ]
  },
  {
   "cell_type": "code",
   "execution_count": 188,
   "id": "34ad8e33",
   "metadata": {},
   "outputs": [
    {
     "data": {
      "image/png": "[encoded data removed]",
      "text/plain": [
       "<Figure size 432x288 with 1 Axes>"
      ]
     },
     "metadata": {},
     "output_type": "display_data"
    }
   ],
   "source": [
    "# Define the data: scores and corresponding subject names\n",
    "x = [22, 18, 13, 10]  # Scores\n",
    "y = ['maths', 'chem', 'phy', 'bio']  # Subject names\n",
    "\n",
    "# Create a pie chart:\n",
    "# - plt.pie(x, labels=y, colors=['r', 'g', 'b', 'y']) creates a pie chart with the specified data.\n",
    "#   - x: The data values (scores)\n",
    "#   - labels=y: The labels for each pie slice (subject names)\n",
    "#   - colors=['r', 'g', 'b', 'y']: The colors for each pie slice\n",
    "plt.pie(x, labels=y, colors=['r', 'g', 'b', 'y'])\n",
    "\n",
    "# Add a legend to the plot\n",
    "plt.legend()\n",
    "\n",
    "# Display the plot\n",
    "plt.show()\n"
   ]
  }
 ],
 "metadata": {
  "kernelspec": {
   "display_name": "Python 3 (ipykernel)",
   "language": "python",
   "name": "python3"
  },
  "language_info": {
   "codemirror_mode": {
    "name": "ipython",
    "version": 3
   },
   "file_extension": ".py",
   "mimetype": "text/x-python",
   "name": "python",
   "nbconvert_exporter": "python",
   "pygments_lexer": "ipython3",
   "version": "3.9.7"
  }
 },
 "nbformat": 4,
 "nbformat_minor": 5
}
